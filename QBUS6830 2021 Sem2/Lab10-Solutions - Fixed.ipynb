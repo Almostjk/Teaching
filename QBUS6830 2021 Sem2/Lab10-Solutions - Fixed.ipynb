{
 "cells": [
  {
   "cell_type": "markdown",
   "metadata": {},
   "source": [
    "# QBUS6830 Tutorial Lab 10: GARCH and Asymetric Models (ctd)\n",
    "## Data\n",
    "In this lab session we will use daily data on BHP returns, from Jan, 2000 to July, 2021. The data can be found in the files `bhp_yf_2000_2021.csv`."
   ]
  },
  {
   "cell_type": "code",
   "execution_count": 1,
   "metadata": {},
   "outputs": [],
   "source": [
    "import pandas as pd\n",
    "import numpy as np\n",
    "import matplotlib.pyplot as plt\n",
    "import statsmodels.api as sm\n",
    "from scipy import stats\n",
    "from datetime import datetime\n",
    "import yfinance as yf\n",
    "import os\n",
    "from scipy.stats import kurtosis\n",
    "from statsmodels.tsa.arima.model import ARIMA\n",
    "from tqdm.notebook import tqdm\n",
    "from statsmodels.stats.stattools import jarque_bera\n",
    "from arch import arch_model\n",
    "from statsmodels.stats.diagnostic import acorr_ljungbox\n",
    "from statsmodels.stats.diagnostic import het_arch\n",
    "from arch import univariate"
   ]
  },
  {
   "cell_type": "code",
   "execution_count": 2,
   "metadata": {},
   "outputs": [],
   "source": [
    "# Download data automatically if file not present\n",
    "name_bhp = 'bhp_yf_2000_2021.csv'\n",
    "\n",
    "# BHP\n",
    "if not os.path.isfile(name_bhp):\n",
    "    data_bhp = yf.download(\"BHP.AX\", start='2000-01-01', end='2021-07-20')\n",
    "    data_bhp.to_csv(name_bhp)"
   ]
  },
  {
   "cell_type": "code",
   "execution_count": 3,
   "metadata": {},
   "outputs": [
    {
     "data": {
      "text/html": [
       "<div>\n",
       "<style scoped>\n",
       "    .dataframe tbody tr th:only-of-type {\n",
       "        vertical-align: middle;\n",
       "    }\n",
       "\n",
       "    .dataframe tbody tr th {\n",
       "        vertical-align: top;\n",
       "    }\n",
       "\n",
       "    .dataframe thead th {\n",
       "        text-align: right;\n",
       "    }\n",
       "</style>\n",
       "<table border=\"1\" class=\"dataframe\">\n",
       "  <thead>\n",
       "    <tr style=\"text-align: right;\">\n",
       "      <th></th>\n",
       "      <th>Open</th>\n",
       "      <th>High</th>\n",
       "      <th>Low</th>\n",
       "      <th>Close</th>\n",
       "      <th>Adj Close</th>\n",
       "      <th>Volume</th>\n",
       "    </tr>\n",
       "    <tr>\n",
       "      <th>Date</th>\n",
       "      <th></th>\n",
       "      <th></th>\n",
       "      <th></th>\n",
       "      <th></th>\n",
       "      <th></th>\n",
       "      <th></th>\n",
       "    </tr>\n",
       "  </thead>\n",
       "  <tbody>\n",
       "    <tr>\n",
       "      <th>2000-01-03</th>\n",
       "      <td>8.317775</td>\n",
       "      <td>8.317775</td>\n",
       "      <td>8.317775</td>\n",
       "      <td>8.317775</td>\n",
       "      <td>3.761003</td>\n",
       "      <td>0</td>\n",
       "    </tr>\n",
       "    <tr>\n",
       "      <th>2000-01-04</th>\n",
       "      <td>8.317359</td>\n",
       "      <td>8.620943</td>\n",
       "      <td>8.317359</td>\n",
       "      <td>8.608466</td>\n",
       "      <td>3.892442</td>\n",
       "      <td>9525499</td>\n",
       "    </tr>\n",
       "    <tr>\n",
       "      <th>2000-01-05</th>\n",
       "      <td>8.404691</td>\n",
       "      <td>8.462913</td>\n",
       "      <td>8.300724</td>\n",
       "      <td>8.408018</td>\n",
       "      <td>3.801807</td>\n",
       "      <td>8727404</td>\n",
       "    </tr>\n",
       "    <tr>\n",
       "      <th>2000-01-06</th>\n",
       "      <td>8.425485</td>\n",
       "      <td>8.566880</td>\n",
       "      <td>8.425485</td>\n",
       "      <td>8.462913</td>\n",
       "      <td>3.826628</td>\n",
       "      <td>7274950</td>\n",
       "    </tr>\n",
       "    <tr>\n",
       "      <th>2000-01-07</th>\n",
       "      <td>8.487449</td>\n",
       "      <td>8.941161</td>\n",
       "      <td>8.483706</td>\n",
       "      <td>8.880860</td>\n",
       "      <td>4.015611</td>\n",
       "      <td>15832421</td>\n",
       "    </tr>\n",
       "  </tbody>\n",
       "</table>\n",
       "</div>"
      ],
      "text/plain": [
       "                Open      High       Low     Close  Adj Close    Volume\n",
       "Date                                                                   \n",
       "2000-01-03  8.317775  8.317775  8.317775  8.317775   3.761003         0\n",
       "2000-01-04  8.317359  8.620943  8.317359  8.608466   3.892442   9525499\n",
       "2000-01-05  8.404691  8.462913  8.300724  8.408018   3.801807   8727404\n",
       "2000-01-06  8.425485  8.566880  8.425485  8.462913   3.826628   7274950\n",
       "2000-01-07  8.487449  8.941161  8.483706  8.880860   4.015611  15832421"
      ]
     },
     "execution_count": 3,
     "metadata": {},
     "output_type": "execute_result"
    }
   ],
   "source": [
    "data = pd.read_csv(name_bhp, index_col='Date', parse_dates=True, dayfirst=True)\n",
    "data.head()"
   ]
  },
  {
   "cell_type": "markdown",
   "metadata": {},
   "source": [
    "#### (a) Choose an AR-GARCH model with AR lags 0 or 1, GARCH lags p,q in [1,...,5] and distribution either Gaussian or Student-t, all chosen by AIC/SIC."
   ]
  },
  {
   "cell_type": "code",
   "execution_count": 4,
   "metadata": {},
   "outputs": [],
   "source": [
    "p = data['Adj Close']\n",
    "r = 100 * np.log(p).diff().dropna()"
   ]
  },
  {
   "cell_type": "code",
   "execution_count": 5,
   "metadata": {},
   "outputs": [],
   "source": [
    "# constant mean GARCH(p,q)-N\n",
    "aic = np.empty((5,5))\n",
    "bic = np.empty((5,5))\n",
    "for i in range(5):\n",
    "    for j in range(5):\n",
    "        arch = arch_model(r, mean='Constant', vol='GARCH', p=(i+1), q=(j+1), dist='normal')\n",
    "        fit = arch.fit( disp= 'off' )\n",
    "        aic[i,j] = fit.aic\n",
    "        bic[i,j] = fit.bic\n",
    "    \n",
    "    \n",
    "# AR(1)-GARCH(p,q)-N\n",
    "aic_ar = np.empty((5,5))\n",
    "bic_ar = np.empty((5,5))\n",
    "for i in range(5):\n",
    "    for j in range(5):\n",
    "        arch = arch_model(r, mean='AR', lags=1, vol='GARCH', p=(i+1), q=(j+1), dist='normal')\n",
    "        fit = arch.fit( disp= 'off' )\n",
    "        aic_ar[i,j] = fit.aic\n",
    "        bic_ar[i,j] = fit.bic\n",
    "        \n",
    "\n",
    "# constant mean GARCH(p,q)-t\n",
    "aic_t = np.empty((5,5))\n",
    "bic_t = np.empty((5,5))\n",
    "for i in range(5):\n",
    "    for j in range(5):\n",
    "        arch = arch_model(r, mean='Constant', vol='GARCH', p=(i+1), q=(j+1), dist='StudentsT')\n",
    "        fit = arch.fit( disp= 'off' )\n",
    "        aic_t[i,j] = fit.aic\n",
    "        bic_t[i,j] = fit.bic\n",
    "        \n",
    "        \n",
    "# AR(1)-GARCH(p,q)-t\n",
    "aic_at = np.empty((5,5))\n",
    "bic_at = np.empty((5,5))\n",
    "for i in range(5):\n",
    "    for j in range(5):\n",
    "        arch = arch_model(r, mean='AR', lags = 1, vol='GARCH', p=(i+1), q=(j+1), dist='StudentsT')\n",
    "        fit = arch.fit( disp= 'off' )\n",
    "        aic_at[i,j] = fit.aic\n",
    "        bic_at[i,j] = fit.bic"
   ]
  },
  {
   "cell_type": "code",
   "execution_count": 6,
   "metadata": {},
   "outputs": [
    {
     "data": {
      "text/html": [
       "<div>\n",
       "<style scoped>\n",
       "    .dataframe tbody tr th:only-of-type {\n",
       "        vertical-align: middle;\n",
       "    }\n",
       "\n",
       "    .dataframe tbody tr th {\n",
       "        vertical-align: top;\n",
       "    }\n",
       "\n",
       "    .dataframe thead th {\n",
       "        text-align: right;\n",
       "    }\n",
       "</style>\n",
       "<table border=\"1\" class=\"dataframe\">\n",
       "  <thead>\n",
       "    <tr style=\"text-align: right;\">\n",
       "      <th></th>\n",
       "      <th>q=1</th>\n",
       "      <th>q=2</th>\n",
       "      <th>q=3</th>\n",
       "      <th>q=4</th>\n",
       "      <th>q=5</th>\n",
       "    </tr>\n",
       "  </thead>\n",
       "  <tbody>\n",
       "    <tr>\n",
       "      <th>p=1</th>\n",
       "      <td>21265.2</td>\n",
       "      <td>21263.6</td>\n",
       "      <td>21265.6</td>\n",
       "      <td>21267.6</td>\n",
       "      <td>21269.5</td>\n",
       "    </tr>\n",
       "    <tr>\n",
       "      <th>p=2</th>\n",
       "      <td>21267.2</td>\n",
       "      <td>21265.6</td>\n",
       "      <td>21267.4</td>\n",
       "      <td>21269.4</td>\n",
       "      <td>21270.7</td>\n",
       "    </tr>\n",
       "    <tr>\n",
       "      <th>p=3</th>\n",
       "      <td>21269.2</td>\n",
       "      <td>21267.3</td>\n",
       "      <td>21267.0</td>\n",
       "      <td>21268.6</td>\n",
       "      <td>21269.6</td>\n",
       "    </tr>\n",
       "    <tr>\n",
       "      <th>p=4</th>\n",
       "      <td>21271.2</td>\n",
       "      <td>21269.3</td>\n",
       "      <td>21269.0</td>\n",
       "      <td>21270.6</td>\n",
       "      <td>21271.2</td>\n",
       "    </tr>\n",
       "    <tr>\n",
       "      <th>p=5</th>\n",
       "      <td>21273.2</td>\n",
       "      <td>21271.3</td>\n",
       "      <td>21271.0</td>\n",
       "      <td>21272.6</td>\n",
       "      <td>21272.1</td>\n",
       "    </tr>\n",
       "  </tbody>\n",
       "</table>\n",
       "</div>"
      ],
      "text/plain": [
       "         q=1      q=2      q=3      q=4      q=5\n",
       "p=1  21265.2  21263.6  21265.6  21267.6  21269.5\n",
       "p=2  21267.2  21265.6  21267.4  21269.4  21270.7\n",
       "p=3  21269.2  21267.3  21267.0  21268.6  21269.6\n",
       "p=4  21271.2  21269.3  21269.0  21270.6  21271.2\n",
       "p=5  21273.2  21271.3  21271.0  21272.6  21272.1"
      ]
     },
     "execution_count": 6,
     "metadata": {},
     "output_type": "execute_result"
    }
   ],
   "source": [
    "# AIC: constant mean, normal error  # order 1,2 favoured\n",
    "i = np.arange(1, 6)\n",
    "idx = pd.Series(i).apply(lambda i: 'p=' + str(i))\n",
    "col = pd.Series(i).apply(lambda i: 'q=' + str(i))\n",
    "tbl_aic_n = pd.DataFrame(aic.round(1), index=idx, columns=col)\n",
    "tbl_aic_n"
   ]
  },
  {
   "cell_type": "code",
   "execution_count": 7,
   "metadata": {},
   "outputs": [
    {
     "name": "stdout",
     "output_type": "stream",
     "text": [
      "p=1\n",
      "q=2\n",
      "21263.6\n"
     ]
    }
   ],
   "source": [
    "p_min = tbl_aic_n.min(axis=1).idxmin()\n",
    "q_min = tbl_aic_n.idxmin(axis=1)[p_min]\n",
    "aic_min = tbl_aic_n.min().min()\n",
    "print(p_min)\n",
    "print(q_min)\n",
    "print(aic_min)"
   ]
  },
  {
   "cell_type": "code",
   "execution_count": 8,
   "metadata": {},
   "outputs": [
    {
     "data": {
      "text/html": [
       "<div>\n",
       "<style scoped>\n",
       "    .dataframe tbody tr th:only-of-type {\n",
       "        vertical-align: middle;\n",
       "    }\n",
       "\n",
       "    .dataframe tbody tr th {\n",
       "        vertical-align: top;\n",
       "    }\n",
       "\n",
       "    .dataframe thead th {\n",
       "        text-align: right;\n",
       "    }\n",
       "</style>\n",
       "<table border=\"1\" class=\"dataframe\">\n",
       "  <thead>\n",
       "    <tr style=\"text-align: right;\">\n",
       "      <th></th>\n",
       "      <th>q=1</th>\n",
       "      <th>q=2</th>\n",
       "      <th>q=3</th>\n",
       "      <th>q=4</th>\n",
       "      <th>q=5</th>\n",
       "    </tr>\n",
       "  </thead>\n",
       "  <tbody>\n",
       "    <tr>\n",
       "      <th>p=1</th>\n",
       "      <td>21184.3</td>\n",
       "      <td>21185.0</td>\n",
       "      <td>21187.0</td>\n",
       "      <td>21189.0</td>\n",
       "      <td>21191.0</td>\n",
       "    </tr>\n",
       "    <tr>\n",
       "      <th>p=2</th>\n",
       "      <td>21186.3</td>\n",
       "      <td>21186.4</td>\n",
       "      <td>21188.4</td>\n",
       "      <td>21190.4</td>\n",
       "      <td>21192.4</td>\n",
       "    </tr>\n",
       "    <tr>\n",
       "      <th>p=3</th>\n",
       "      <td>21188.1</td>\n",
       "      <td>21187.3</td>\n",
       "      <td>21188.0</td>\n",
       "      <td>21190.0</td>\n",
       "      <td>21191.5</td>\n",
       "    </tr>\n",
       "    <tr>\n",
       "      <th>p=4</th>\n",
       "      <td>21190.1</td>\n",
       "      <td>21189.3</td>\n",
       "      <td>21190.0</td>\n",
       "      <td>21192.0</td>\n",
       "      <td>21193.4</td>\n",
       "    </tr>\n",
       "    <tr>\n",
       "      <th>p=5</th>\n",
       "      <td>21192.1</td>\n",
       "      <td>21191.3</td>\n",
       "      <td>21192.0</td>\n",
       "      <td>21194.0</td>\n",
       "      <td>21194.3</td>\n",
       "    </tr>\n",
       "  </tbody>\n",
       "</table>\n",
       "</div>"
      ],
      "text/plain": [
       "         q=1      q=2      q=3      q=4      q=5\n",
       "p=1  21184.3  21185.0  21187.0  21189.0  21191.0\n",
       "p=2  21186.3  21186.4  21188.4  21190.4  21192.4\n",
       "p=3  21188.1  21187.3  21188.0  21190.0  21191.5\n",
       "p=4  21190.1  21189.3  21190.0  21192.0  21193.4\n",
       "p=5  21192.1  21191.3  21192.0  21194.0  21194.3"
      ]
     },
     "execution_count": 8,
     "metadata": {},
     "output_type": "execute_result"
    }
   ],
   "source": [
    "# AIC: constant mean, t error    # order 1,1 favoured\n",
    "tbl_aic_t = pd.DataFrame(aic_t.round(1), index=idx, columns=col)\n",
    "tbl_aic_t"
   ]
  },
  {
   "cell_type": "code",
   "execution_count": 9,
   "metadata": {},
   "outputs": [
    {
     "name": "stdout",
     "output_type": "stream",
     "text": [
      "p=1\n",
      "q=1\n",
      "21184.3\n"
     ]
    }
   ],
   "source": [
    "p_min = tbl_aic_t.min(axis=1).idxmin()\n",
    "q_min = tbl_aic_t.idxmin(axis=1)[p_min]\n",
    "aic_min = tbl_aic_t.min().min()\n",
    "print(p_min)\n",
    "print(q_min)\n",
    "print(aic_min)"
   ]
  },
  {
   "cell_type": "code",
   "execution_count": 10,
   "metadata": {},
   "outputs": [
    {
     "data": {
      "text/html": [
       "<div>\n",
       "<style scoped>\n",
       "    .dataframe tbody tr th:only-of-type {\n",
       "        vertical-align: middle;\n",
       "    }\n",
       "\n",
       "    .dataframe tbody tr th {\n",
       "        vertical-align: top;\n",
       "    }\n",
       "\n",
       "    .dataframe thead th {\n",
       "        text-align: right;\n",
       "    }\n",
       "</style>\n",
       "<table border=\"1\" class=\"dataframe\">\n",
       "  <thead>\n",
       "    <tr style=\"text-align: right;\">\n",
       "      <th></th>\n",
       "      <th>q=1</th>\n",
       "      <th>q=2</th>\n",
       "      <th>q=3</th>\n",
       "      <th>q=4</th>\n",
       "      <th>q=5</th>\n",
       "    </tr>\n",
       "  </thead>\n",
       "  <tbody>\n",
       "    <tr>\n",
       "      <th>p=1</th>\n",
       "      <td>21178.9</td>\n",
       "      <td>21179.8</td>\n",
       "      <td>21181.8</td>\n",
       "      <td>21183.8</td>\n",
       "      <td>21185.8</td>\n",
       "    </tr>\n",
       "    <tr>\n",
       "      <th>p=2</th>\n",
       "      <td>21180.9</td>\n",
       "      <td>21181.2</td>\n",
       "      <td>21183.2</td>\n",
       "      <td>21185.2</td>\n",
       "      <td>21187.2</td>\n",
       "    </tr>\n",
       "    <tr>\n",
       "      <th>p=3</th>\n",
       "      <td>21182.7</td>\n",
       "      <td>21182.0</td>\n",
       "      <td>21182.7</td>\n",
       "      <td>21184.7</td>\n",
       "      <td>21186.2</td>\n",
       "    </tr>\n",
       "    <tr>\n",
       "      <th>p=4</th>\n",
       "      <td>21184.7</td>\n",
       "      <td>21184.0</td>\n",
       "      <td>21184.7</td>\n",
       "      <td>21186.7</td>\n",
       "      <td>21188.2</td>\n",
       "    </tr>\n",
       "    <tr>\n",
       "      <th>p=5</th>\n",
       "      <td>21186.7</td>\n",
       "      <td>21186.0</td>\n",
       "      <td>21186.7</td>\n",
       "      <td>21188.7</td>\n",
       "      <td>21188.8</td>\n",
       "    </tr>\n",
       "  </tbody>\n",
       "</table>\n",
       "</div>"
      ],
      "text/plain": [
       "         q=1      q=2      q=3      q=4      q=5\n",
       "p=1  21178.9  21179.8  21181.8  21183.8  21185.8\n",
       "p=2  21180.9  21181.2  21183.2  21185.2  21187.2\n",
       "p=3  21182.7  21182.0  21182.7  21184.7  21186.2\n",
       "p=4  21184.7  21184.0  21184.7  21186.7  21188.2\n",
       "p=5  21186.7  21186.0  21186.7  21188.7  21188.8"
      ]
     },
     "execution_count": 10,
     "metadata": {},
     "output_type": "execute_result"
    }
   ],
   "source": [
    "# AIC: AR(1) mean, t error  # order 1,1 favoured\n",
    "tbl_aic_at = pd.DataFrame(aic_at.round(1), index=idx, columns=col)\n",
    "tbl_aic_at"
   ]
  },
  {
   "cell_type": "code",
   "execution_count": 11,
   "metadata": {},
   "outputs": [
    {
     "name": "stdout",
     "output_type": "stream",
     "text": [
      "p=1\n",
      "q=1\n",
      "21178.9\n"
     ]
    }
   ],
   "source": [
    "p_min = tbl_aic_at.min(axis=1).idxmin()\n",
    "q_min = tbl_aic_at.idxmin(axis=1)[p_min]\n",
    "aic_min = tbl_aic_at.min().min()\n",
    "print(p_min)\n",
    "print(q_min)\n",
    "print(aic_min)"
   ]
  },
  {
   "cell_type": "code",
   "execution_count": 12,
   "metadata": {},
   "outputs": [
    {
     "data": {
      "text/html": [
       "<div>\n",
       "<style scoped>\n",
       "    .dataframe tbody tr th:only-of-type {\n",
       "        vertical-align: middle;\n",
       "    }\n",
       "\n",
       "    .dataframe tbody tr th {\n",
       "        vertical-align: top;\n",
       "    }\n",
       "\n",
       "    .dataframe thead th {\n",
       "        text-align: right;\n",
       "    }\n",
       "</style>\n",
       "<table border=\"1\" class=\"dataframe\">\n",
       "  <thead>\n",
       "    <tr style=\"text-align: right;\">\n",
       "      <th></th>\n",
       "      <th>q=1</th>\n",
       "      <th>q=2</th>\n",
       "      <th>q=3</th>\n",
       "      <th>q=4</th>\n",
       "      <th>q=5</th>\n",
       "    </tr>\n",
       "  </thead>\n",
       "  <tbody>\n",
       "    <tr>\n",
       "      <th>p=1</th>\n",
       "      <td>21261.2</td>\n",
       "      <td>21259.7</td>\n",
       "      <td>21261.7</td>\n",
       "      <td>21263.7</td>\n",
       "      <td>21265.6</td>\n",
       "    </tr>\n",
       "    <tr>\n",
       "      <th>p=2</th>\n",
       "      <td>21263.2</td>\n",
       "      <td>21261.7</td>\n",
       "      <td>21263.5</td>\n",
       "      <td>21265.5</td>\n",
       "      <td>21266.8</td>\n",
       "    </tr>\n",
       "    <tr>\n",
       "      <th>p=3</th>\n",
       "      <td>21265.2</td>\n",
       "      <td>21263.4</td>\n",
       "      <td>21263.1</td>\n",
       "      <td>21264.7</td>\n",
       "      <td>21265.7</td>\n",
       "    </tr>\n",
       "    <tr>\n",
       "      <th>p=4</th>\n",
       "      <td>21267.2</td>\n",
       "      <td>21265.4</td>\n",
       "      <td>21265.1</td>\n",
       "      <td>21266.7</td>\n",
       "      <td>21267.2</td>\n",
       "    </tr>\n",
       "    <tr>\n",
       "      <th>p=5</th>\n",
       "      <td>21269.2</td>\n",
       "      <td>21267.4</td>\n",
       "      <td>21267.1</td>\n",
       "      <td>21268.7</td>\n",
       "      <td>21268.0</td>\n",
       "    </tr>\n",
       "  </tbody>\n",
       "</table>\n",
       "</div>"
      ],
      "text/plain": [
       "         q=1      q=2      q=3      q=4      q=5\n",
       "p=1  21261.2  21259.7  21261.7  21263.7  21265.6\n",
       "p=2  21263.2  21261.7  21263.5  21265.5  21266.8\n",
       "p=3  21265.2  21263.4  21263.1  21264.7  21265.7\n",
       "p=4  21267.2  21265.4  21265.1  21266.7  21267.2\n",
       "p=5  21269.2  21267.4  21267.1  21268.7  21268.0"
      ]
     },
     "execution_count": 12,
     "metadata": {},
     "output_type": "execute_result"
    }
   ],
   "source": [
    "# AIC: AR(1) mean, N error   # order 1,2 favoured\n",
    "tbl_aic_a = pd.DataFrame(aic_ar.round(1), index=idx, columns=col)\n",
    "tbl_aic_a"
   ]
  },
  {
   "cell_type": "code",
   "execution_count": 13,
   "metadata": {},
   "outputs": [
    {
     "name": "stdout",
     "output_type": "stream",
     "text": [
      "p=1\n",
      "q=2\n",
      "21259.7\n"
     ]
    }
   ],
   "source": [
    "p_min = tbl_aic_a.min(axis=1).idxmin()\n",
    "q_min = tbl_aic_a.idxmin(axis=1)[p_min]\n",
    "aic_min = tbl_aic_a.min().min()\n",
    "print(p_min)\n",
    "print(q_min)\n",
    "print(aic_min)"
   ]
  },
  {
   "cell_type": "code",
   "execution_count": 14,
   "metadata": {},
   "outputs": [
    {
     "data": {
      "text/html": [
       "<div>\n",
       "<style scoped>\n",
       "    .dataframe tbody tr th:only-of-type {\n",
       "        vertical-align: middle;\n",
       "    }\n",
       "\n",
       "    .dataframe tbody tr th {\n",
       "        vertical-align: top;\n",
       "    }\n",
       "\n",
       "    .dataframe thead th {\n",
       "        text-align: right;\n",
       "    }\n",
       "</style>\n",
       "<table border=\"1\" class=\"dataframe\">\n",
       "  <thead>\n",
       "    <tr style=\"text-align: right;\">\n",
       "      <th></th>\n",
       "      <th>q=1</th>\n",
       "      <th>q=2</th>\n",
       "      <th>q=3</th>\n",
       "      <th>q=4</th>\n",
       "      <th>q=5</th>\n",
       "    </tr>\n",
       "  </thead>\n",
       "  <tbody>\n",
       "    <tr>\n",
       "      <th>p=1</th>\n",
       "      <td>21291.6</td>\n",
       "      <td>21296.6</td>\n",
       "      <td>21305.2</td>\n",
       "      <td>21313.8</td>\n",
       "      <td>21322.3</td>\n",
       "    </tr>\n",
       "    <tr>\n",
       "      <th>p=2</th>\n",
       "      <td>21300.2</td>\n",
       "      <td>21305.2</td>\n",
       "      <td>21313.6</td>\n",
       "      <td>21322.2</td>\n",
       "      <td>21330.2</td>\n",
       "    </tr>\n",
       "    <tr>\n",
       "      <th>p=3</th>\n",
       "      <td>21308.8</td>\n",
       "      <td>21313.5</td>\n",
       "      <td>21319.8</td>\n",
       "      <td>21328.1</td>\n",
       "      <td>21335.7</td>\n",
       "    </tr>\n",
       "    <tr>\n",
       "      <th>p=4</th>\n",
       "      <td>21317.4</td>\n",
       "      <td>21322.1</td>\n",
       "      <td>21328.4</td>\n",
       "      <td>21336.7</td>\n",
       "      <td>21343.9</td>\n",
       "    </tr>\n",
       "    <tr>\n",
       "      <th>p=5</th>\n",
       "      <td>21326.0</td>\n",
       "      <td>21330.7</td>\n",
       "      <td>21337.0</td>\n",
       "      <td>21345.3</td>\n",
       "      <td>21351.4</td>\n",
       "    </tr>\n",
       "  </tbody>\n",
       "</table>\n",
       "</div>"
      ],
      "text/plain": [
       "         q=1      q=2      q=3      q=4      q=5\n",
       "p=1  21291.6  21296.6  21305.2  21313.8  21322.3\n",
       "p=2  21300.2  21305.2  21313.6  21322.2  21330.2\n",
       "p=3  21308.8  21313.5  21319.8  21328.1  21335.7\n",
       "p=4  21317.4  21322.1  21328.4  21336.7  21343.9\n",
       "p=5  21326.0  21330.7  21337.0  21345.3  21351.4"
      ]
     },
     "execution_count": 14,
     "metadata": {},
     "output_type": "execute_result"
    }
   ],
   "source": [
    "# SIC: constant mean, normal error  # order 1,1 favoured\n",
    "i = np.arange(1, 6)\n",
    "idx = pd.Series(i).apply(lambda i: 'p=' + str(i))\n",
    "col = pd.Series(i).apply(lambda i: 'q=' + str(i))\n",
    "tbl_sic_n = pd.DataFrame(bic.round(1), index=idx, columns=col)\n",
    "tbl_sic_n"
   ]
  },
  {
   "cell_type": "code",
   "execution_count": 15,
   "metadata": {},
   "outputs": [
    {
     "name": "stdout",
     "output_type": "stream",
     "text": [
      "p=1\n",
      "q=1\n",
      "21291.6\n"
     ]
    }
   ],
   "source": [
    "p_min = tbl_sic_n.min(axis=1).idxmin()\n",
    "q_min = tbl_sic_n.idxmin(axis=1)[p_min]\n",
    "sic_min = tbl_sic_n.min().min()\n",
    "print(p_min)\n",
    "print(q_min)\n",
    "print(sic_min)"
   ]
  },
  {
   "cell_type": "code",
   "execution_count": 16,
   "metadata": {},
   "outputs": [
    {
     "data": {
      "text/html": [
       "<div>\n",
       "<style scoped>\n",
       "    .dataframe tbody tr th:only-of-type {\n",
       "        vertical-align: middle;\n",
       "    }\n",
       "\n",
       "    .dataframe tbody tr th {\n",
       "        vertical-align: top;\n",
       "    }\n",
       "\n",
       "    .dataframe thead th {\n",
       "        text-align: right;\n",
       "    }\n",
       "</style>\n",
       "<table border=\"1\" class=\"dataframe\">\n",
       "  <thead>\n",
       "    <tr style=\"text-align: right;\">\n",
       "      <th></th>\n",
       "      <th>q=1</th>\n",
       "      <th>q=2</th>\n",
       "      <th>q=3</th>\n",
       "      <th>q=4</th>\n",
       "      <th>q=5</th>\n",
       "    </tr>\n",
       "  </thead>\n",
       "  <tbody>\n",
       "    <tr>\n",
       "      <th>p=1</th>\n",
       "      <td>21294.2</td>\n",
       "      <td>21299.3</td>\n",
       "      <td>21307.9</td>\n",
       "      <td>21316.5</td>\n",
       "      <td>21325.0</td>\n",
       "    </tr>\n",
       "    <tr>\n",
       "      <th>p=2</th>\n",
       "      <td>21302.8</td>\n",
       "      <td>21307.9</td>\n",
       "      <td>21316.3</td>\n",
       "      <td>21324.9</td>\n",
       "      <td>21332.8</td>\n",
       "    </tr>\n",
       "    <tr>\n",
       "      <th>p=3</th>\n",
       "      <td>21311.4</td>\n",
       "      <td>21316.2</td>\n",
       "      <td>21322.5</td>\n",
       "      <td>21330.7</td>\n",
       "      <td>21338.3</td>\n",
       "    </tr>\n",
       "    <tr>\n",
       "      <th>p=4</th>\n",
       "      <td>21320.0</td>\n",
       "      <td>21324.8</td>\n",
       "      <td>21331.1</td>\n",
       "      <td>21339.4</td>\n",
       "      <td>21346.5</td>\n",
       "    </tr>\n",
       "    <tr>\n",
       "      <th>p=5</th>\n",
       "      <td>21328.6</td>\n",
       "      <td>21333.4</td>\n",
       "      <td>21339.7</td>\n",
       "      <td>21348.0</td>\n",
       "      <td>21353.9</td>\n",
       "    </tr>\n",
       "  </tbody>\n",
       "</table>\n",
       "</div>"
      ],
      "text/plain": [
       "         q=1      q=2      q=3      q=4      q=5\n",
       "p=1  21294.2  21299.3  21307.9  21316.5  21325.0\n",
       "p=2  21302.8  21307.9  21316.3  21324.9  21332.8\n",
       "p=3  21311.4  21316.2  21322.5  21330.7  21338.3\n",
       "p=4  21320.0  21324.8  21331.1  21339.4  21346.5\n",
       "p=5  21328.6  21333.4  21339.7  21348.0  21353.9"
      ]
     },
     "execution_count": 16,
     "metadata": {},
     "output_type": "execute_result"
    }
   ],
   "source": [
    "# SIC: AR(1) mean, normal error  # order 1,1 favoured\n",
    "i = np.arange(1, 6)\n",
    "idx = pd.Series(i).apply(lambda i: 'p=' + str(i))\n",
    "col = pd.Series(i).apply(lambda i: 'q=' + str(i))\n",
    "tbl_sic_an = pd.DataFrame(bic_ar.round(1), index=idx, columns=col)\n",
    "tbl_sic_an"
   ]
  },
  {
   "cell_type": "code",
   "execution_count": 17,
   "metadata": {},
   "outputs": [
    {
     "name": "stdout",
     "output_type": "stream",
     "text": [
      "p=1\n",
      "q=1\n",
      "21294.2\n"
     ]
    }
   ],
   "source": [
    "p_min = tbl_sic_an.min(axis=1).idxmin()\n",
    "q_min = tbl_sic_an.idxmin(axis=1)[p_min]\n",
    "sic_min = tbl_sic_an.min().min()\n",
    "print(p_min)\n",
    "print(q_min)\n",
    "print(sic_min)"
   ]
  },
  {
   "cell_type": "code",
   "execution_count": 18,
   "metadata": {},
   "outputs": [
    {
     "data": {
      "text/html": [
       "<div>\n",
       "<style scoped>\n",
       "    .dataframe tbody tr th:only-of-type {\n",
       "        vertical-align: middle;\n",
       "    }\n",
       "\n",
       "    .dataframe tbody tr th {\n",
       "        vertical-align: top;\n",
       "    }\n",
       "\n",
       "    .dataframe thead th {\n",
       "        text-align: right;\n",
       "    }\n",
       "</style>\n",
       "<table border=\"1\" class=\"dataframe\">\n",
       "  <thead>\n",
       "    <tr style=\"text-align: right;\">\n",
       "      <th></th>\n",
       "      <th>q=1</th>\n",
       "      <th>q=2</th>\n",
       "      <th>q=3</th>\n",
       "      <th>q=4</th>\n",
       "      <th>q=5</th>\n",
       "    </tr>\n",
       "  </thead>\n",
       "  <tbody>\n",
       "    <tr>\n",
       "      <th>p=1</th>\n",
       "      <td>21217.3</td>\n",
       "      <td>21224.6</td>\n",
       "      <td>21233.2</td>\n",
       "      <td>21241.8</td>\n",
       "      <td>21250.4</td>\n",
       "    </tr>\n",
       "    <tr>\n",
       "      <th>p=2</th>\n",
       "      <td>21225.9</td>\n",
       "      <td>21232.6</td>\n",
       "      <td>21241.2</td>\n",
       "      <td>21249.8</td>\n",
       "      <td>21258.4</td>\n",
       "    </tr>\n",
       "    <tr>\n",
       "      <th>p=3</th>\n",
       "      <td>21234.4</td>\n",
       "      <td>21240.1</td>\n",
       "      <td>21247.4</td>\n",
       "      <td>21256.0</td>\n",
       "      <td>21264.1</td>\n",
       "    </tr>\n",
       "    <tr>\n",
       "      <th>p=4</th>\n",
       "      <td>21243.0</td>\n",
       "      <td>21248.7</td>\n",
       "      <td>21256.0</td>\n",
       "      <td>21264.6</td>\n",
       "      <td>21272.7</td>\n",
       "    </tr>\n",
       "    <tr>\n",
       "      <th>p=5</th>\n",
       "      <td>21251.6</td>\n",
       "      <td>21257.3</td>\n",
       "      <td>21264.6</td>\n",
       "      <td>21273.2</td>\n",
       "      <td>21280.1</td>\n",
       "    </tr>\n",
       "  </tbody>\n",
       "</table>\n",
       "</div>"
      ],
      "text/plain": [
       "         q=1      q=2      q=3      q=4      q=5\n",
       "p=1  21217.3  21224.6  21233.2  21241.8  21250.4\n",
       "p=2  21225.9  21232.6  21241.2  21249.8  21258.4\n",
       "p=3  21234.4  21240.1  21247.4  21256.0  21264.1\n",
       "p=4  21243.0  21248.7  21256.0  21264.6  21272.7\n",
       "p=5  21251.6  21257.3  21264.6  21273.2  21280.1"
      ]
     },
     "execution_count": 18,
     "metadata": {},
     "output_type": "execute_result"
    }
   ],
   "source": [
    "# SIC: constant mean, t error  # order 1,1 favoured\n",
    "i = np.arange(1, 6)\n",
    "idx = pd.Series(i).apply(lambda i: 'p=' + str(i))\n",
    "col = pd.Series(i).apply(lambda i: 'q=' + str(i))\n",
    "tbl_sic_t = pd.DataFrame(bic_t.round(1), index=idx, columns=col)\n",
    "tbl_sic_t"
   ]
  },
  {
   "cell_type": "code",
   "execution_count": 19,
   "metadata": {},
   "outputs": [
    {
     "name": "stdout",
     "output_type": "stream",
     "text": [
      "p=1\n",
      "q=1\n",
      "21217.3\n"
     ]
    }
   ],
   "source": [
    "p_min = tbl_sic_t.min(axis=1).idxmin()\n",
    "q_min = tbl_sic_t.idxmin(axis=1)[p_min]\n",
    "sic_min = tbl_sic_t.min().min()\n",
    "print(p_min)\n",
    "print(q_min)\n",
    "print(sic_min)"
   ]
  },
  {
   "cell_type": "code",
   "execution_count": 20,
   "metadata": {},
   "outputs": [
    {
     "data": {
      "text/html": [
       "<div>\n",
       "<style scoped>\n",
       "    .dataframe tbody tr th:only-of-type {\n",
       "        vertical-align: middle;\n",
       "    }\n",
       "\n",
       "    .dataframe tbody tr th {\n",
       "        vertical-align: top;\n",
       "    }\n",
       "\n",
       "    .dataframe thead th {\n",
       "        text-align: right;\n",
       "    }\n",
       "</style>\n",
       "<table border=\"1\" class=\"dataframe\">\n",
       "  <thead>\n",
       "    <tr style=\"text-align: right;\">\n",
       "      <th></th>\n",
       "      <th>q=1</th>\n",
       "      <th>q=2</th>\n",
       "      <th>q=3</th>\n",
       "      <th>q=4</th>\n",
       "      <th>q=5</th>\n",
       "    </tr>\n",
       "  </thead>\n",
       "  <tbody>\n",
       "    <tr>\n",
       "      <th>p=1</th>\n",
       "      <td>21218.6</td>\n",
       "      <td>21226.0</td>\n",
       "      <td>21234.6</td>\n",
       "      <td>21243.2</td>\n",
       "      <td>21251.8</td>\n",
       "    </tr>\n",
       "    <tr>\n",
       "      <th>p=2</th>\n",
       "      <td>21227.2</td>\n",
       "      <td>21234.0</td>\n",
       "      <td>21242.6</td>\n",
       "      <td>21251.2</td>\n",
       "      <td>21259.8</td>\n",
       "    </tr>\n",
       "    <tr>\n",
       "      <th>p=3</th>\n",
       "      <td>21235.6</td>\n",
       "      <td>21241.5</td>\n",
       "      <td>21248.7</td>\n",
       "      <td>21257.3</td>\n",
       "      <td>21265.4</td>\n",
       "    </tr>\n",
       "    <tr>\n",
       "      <th>p=4</th>\n",
       "      <td>21244.2</td>\n",
       "      <td>21250.1</td>\n",
       "      <td>21257.3</td>\n",
       "      <td>21265.9</td>\n",
       "      <td>21274.0</td>\n",
       "    </tr>\n",
       "    <tr>\n",
       "      <th>p=5</th>\n",
       "      <td>21252.8</td>\n",
       "      <td>21258.7</td>\n",
       "      <td>21265.9</td>\n",
       "      <td>21274.5</td>\n",
       "      <td>21281.3</td>\n",
       "    </tr>\n",
       "  </tbody>\n",
       "</table>\n",
       "</div>"
      ],
      "text/plain": [
       "         q=1      q=2      q=3      q=4      q=5\n",
       "p=1  21218.6  21226.0  21234.6  21243.2  21251.8\n",
       "p=2  21227.2  21234.0  21242.6  21251.2  21259.8\n",
       "p=3  21235.6  21241.5  21248.7  21257.3  21265.4\n",
       "p=4  21244.2  21250.1  21257.3  21265.9  21274.0\n",
       "p=5  21252.8  21258.7  21265.9  21274.5  21281.3"
      ]
     },
     "execution_count": 20,
     "metadata": {},
     "output_type": "execute_result"
    }
   ],
   "source": [
    "# SIC: AR(1) mean, t error  # order 1,1 favoured\n",
    "i = np.arange(1, 6)\n",
    "idx = pd.Series(i).apply(lambda i: 'p=' + str(i))\n",
    "col = pd.Series(i).apply(lambda i: 'q=' + str(i))\n",
    "tbl_sic_at = pd.DataFrame(bic_at.round(1), index=idx, columns=col)\n",
    "tbl_sic_at"
   ]
  },
  {
   "cell_type": "code",
   "execution_count": 21,
   "metadata": {},
   "outputs": [
    {
     "name": "stdout",
     "output_type": "stream",
     "text": [
      "p=1\n",
      "q=1\n",
      "21218.6\n"
     ]
    }
   ],
   "source": [
    "p_min = tbl_sic_at.min(axis=1).idxmin()\n",
    "q_min = tbl_sic_at.idxmin(axis=1)[p_min]\n",
    "sic_min = tbl_sic_at.min().min()\n",
    "print(p_min)\n",
    "print(q_min)\n",
    "print(sic_min)"
   ]
  },
  {
   "cell_type": "markdown",
   "metadata": {},
   "source": [
    "### Answer guide\n",
    "When using AIC, either the GARCH order 1,1 or 1,2 are favoured; overall AIC favours the AR(1)-GARCH(1,1)-t model.  \n",
    "When using SIC, only the GARCH order 1,1 is favoured in all cases; overall AIC favours the constant mean GARCH(1,1)-t model.\n",
    "\n",
    "It is nice when SIC and AIC nearly agree: here they agree on choosing the GARCH(1,1)-t model. We already fit the AR(1) version of this model in week 9 tutorial. I choose the constant mean model to fit now."
   ]
  },
  {
   "cell_type": "markdown",
   "metadata": {},
   "source": [
    "#### (b) Fit the GARCH model as chosen by AIC or SIC to the percentage log returns. What is the fitted model? Are all chosen GARCH lags significant?"
   ]
  },
  {
   "cell_type": "code",
   "execution_count": 22,
   "metadata": {},
   "outputs": [
    {
     "name": "stdout",
     "output_type": "stream",
     "text": [
      "                        Constant Mean - GARCH Model Results                         \n",
      "====================================================================================\n",
      "Dep. Variable:                    Adj Close   R-squared:                       0.000\n",
      "Mean Model:                   Constant Mean   Adj. R-squared:                  0.000\n",
      "Vol Model:                            GARCH   Log-Likelihood:               -10587.2\n",
      "Distribution:      Standardized Student's t   AIC:                           21184.3\n",
      "Method:                  Maximum Likelihood   BIC:                           21217.3\n",
      "                                              No. Observations:                 5450\n",
      "Date:                      Fri, Oct 22 2021   Df Residuals:                     5449\n",
      "Time:                              11:57:41   Df Model:                            1\n",
      "                                Mean Model                                \n",
      "==========================================================================\n",
      "                 coef    std err          t      P>|t|    95.0% Conf. Int.\n",
      "--------------------------------------------------------------------------\n",
      "mu             0.0748  2.042e-02      3.663  2.490e-04 [3.479e-02,  0.115]\n",
      "                              Volatility Model                              \n",
      "============================================================================\n",
      "                 coef    std err          t      P>|t|      95.0% Conf. Int.\n",
      "----------------------------------------------------------------------------\n",
      "omega          0.0306  8.757e-03      3.498  4.687e-04 [1.347e-02,4.779e-02]\n",
      "alpha[1]       0.0553  6.990e-03      7.904  2.693e-15 [4.155e-02,6.896e-02]\n",
      "beta[1]        0.9357  8.125e-03    115.157      0.000     [  0.920,  0.952]\n",
      "                              Distribution                              \n",
      "========================================================================\n",
      "                 coef    std err          t      P>|t|  95.0% Conf. Int.\n",
      "------------------------------------------------------------------------\n",
      "nu            12.0472      1.921      6.272  3.555e-10 [  8.283, 15.812]\n",
      "========================================================================\n",
      "\n",
      "Covariance estimator: robust\n"
     ]
    }
   ],
   "source": [
    "garch11_t = arch_model(r, mean='Constant', vol='GARCH', p=1, q=1, dist='StudentsT')\n",
    "garch11_t_fit = garch11_t.fit( disp=\"off\" )  #last_obs='2017-10-17'\n",
    "print(garch11_t_fit.summary())"
   ]
  },
  {
   "cell_type": "markdown",
   "metadata": {},
   "source": [
    "### Answer guide\n",
    "The fitted model is $r_t = 0.075 + a_t$ (mean equation), $\\sigma_t^2 = 0.031 + 0.055 a_{t-1}^2 + 0.94 \\sigma_{t-1}^2$ (volatility equation)\n",
    "\n",
    "Both GARCH lag parameters ($\\alpha_1, \\beta_1$) are highly significant, and at a 5% level, with both p-values $ << 0.05$ and $\\approx 0$."
   ]
  },
  {
   "cell_type": "markdown",
   "metadata": {},
   "source": [
    "#### (c) Assess the fit of the GARCH model using ACF plots, Ljung-Box and ARCH tests and a histogram/qqplot together with the Jarque-Bera test."
   ]
  },
  {
   "cell_type": "code",
   "execution_count": 23,
   "metadata": {
    "code_folding": []
   },
   "outputs": [],
   "source": [
    "## Statistical diagnostics for G/ARCH models.\n",
    "def assess_fit_stats( e, df ):\n",
    "    ## Ljung-Box tests on standardised (transformed if t error) residuals\n",
    "    from statsmodels.stats.diagnostic import acorr_ljungbox\n",
    "    print( \"Ljung-Box Q-statistic on standardised residuals:\" )\n",
    "    for p in [ df + 5, df + 10 ]:\n",
    "        Qstat, pValue = acorr_ljungbox( e, lags = [p], model_df = df, return_df = False )\n",
    "        print('maxlag: {0:d}. Q-stat: {1:f}. P-value: {2:f}'.format( p, Qstat[0], pValue[0] ) )\n",
    "    print()\n",
    "\n",
    "    ## Ljung-Box tests on squared standardised (transformed if t error) residuals\n",
    "    print( \"Ljung-Box Q-statistic on squared standardised residuals:\" )\n",
    "    for p in [ df + 5, df + 10 ]:\n",
    "        Qstat, pValue = acorr_ljungbox( e*e, lags = [p], model_df = df, return_df = False )\n",
    "        print('maxlag: {0:d}. Q-stat: {1:f}. P-value: {2:f}'.format( p, Qstat[0], pValue[0] ) )\n",
    "    print()\n",
    "\n",
    "    ## ARCH test on mean-corrected returns\n",
    "    ## The null hypothesis is no ARCH errors.\n",
    "    from statsmodels.stats.diagnostic import het_arch\n",
    "    print( \"Engle ARCH statistic:\")\n",
    "    for p in [ 5, 10 ]:\n",
    "        Teststat, pValue, _, _ = het_arch( resid=e, nlags=p )\n",
    "        print('maxlag: {0:d}. ARCH test statistic: {1:f}. P-value: {2:f}'.format( p, Teststat, pValue) )\n",
    "    print()\n",
    "\n",
    "    ## Jarque-Bera tests (transformed errors if t error)\n",
    "    from statsmodels.stats.stattools import jarque_bera\n",
    "    print( 'Skewness: {0:f}'.format( stats.skew( e ) ) )\n",
    "    print( 'Kurtosis: {0:f}'.format( stats.kurtosis( e ) + 3 ) )\n",
    "    JB_test_stat, JB_pvalue, _, _ = jarque_bera( e )\n",
    "    print( 'JB test statistic: {0:f}. P-value {1:f}'.format( JB_test_stat, JB_pvalue ) )\n",
    "    print()\n"
   ]
  },
  {
   "cell_type": "code",
   "execution_count": 24,
   "metadata": {},
   "outputs": [],
   "source": [
    "## Plot diagnostics for G/ARCH models.\n",
    "def assess_fit_plots( e, name ):\n",
    "    #Plot standardised residuals.\n",
    "    plt.plot( e )\n",
    "    plt.title( '{0} Standardised Residuals'.format( name ) )\n",
    "    plt.show()\n",
    "\n",
    "    ## Plot the ACF of standardised residuals.\n",
    "    sm.graphics.tsa.plot_acf( e, lags=20 )\n",
    "    plt.title( 'ACF of {0} Standardised Residuals'.format( name ) )\n",
    "    plt.show()\n",
    "\n",
    "    ## Plot the histogram of standardised residuals.\n",
    "    plt.hist( e, bins = 25 )\n",
    "    plt.title( 'Histogram of {0} Standardised Residuals'.format( name ) )\n",
    "    plt.show()\n",
    "\n",
    "    ## QQ plot of standardised residuals against the normal distribution.\n",
    "    sm.qqplot( e, line = 'r')\n",
    "    plt.title( 'QQ Plot of {0} Standardised Residuals'.format( name ) )\n",
    "    plt.show()\n",
    "\n",
    "    ## Plot the ACF of squared standardised residuals.\n",
    "    sm.graphics.tsa.plot_acf( e*e, lags=20 )\n",
    "    plt.title( 'ACF of {0} Squared Standardised Residuals'.format( name ) )\n",
    "    plt.show()\n",
    "    "
   ]
  },
  {
   "cell_type": "code",
   "execution_count": 25,
   "metadata": {},
   "outputs": [],
   "source": [
    "dfg = garch11_t_fit.params['nu']\n",
    "\n",
    "eg_t = garch11_t_fit.std_resid\n",
    "\n",
    "ug = stats.t.cdf(np.sqrt(dfg / (dfg - 2)) * eg_t, dfg)\n",
    "eg = stats.norm.ppf(ug)"
   ]
  },
  {
   "cell_type": "code",
   "execution_count": 26,
   "metadata": {
    "scrolled": true
   },
   "outputs": [
    {
     "data": {
      "image/png": "[encoded data removed]",
      "text/plain": [
       "<Figure size 432x288 with 1 Axes>"
      ]
     },
     "metadata": {
      "needs_background": "light"
     },
     "output_type": "display_data"
    },
    {
     "data": {
      "image/png": "[encoded data removed]",
      "text/plain": [
       "<Figure size 432x288 with 1 Axes>"
      ]
     },
     "metadata": {
      "needs_background": "light"
     },
     "output_type": "display_data"
    },
    {
     "data": {
      "image/png": "[encoded data removed]",
      "text/plain": [
       "<Figure size 432x288 with 1 Axes>"
      ]
     },
     "metadata": {
      "needs_background": "light"
     },
     "output_type": "display_data"
    },
    {
     "data": {
      "image/png": "[encoded data removed]",
      "text/plain": [
       "<Figure size 432x288 with 1 Axes>"
      ]
     },
     "metadata": {
      "needs_background": "light"
     },
     "output_type": "display_data"
    },
    {
     "data": {
      "image/png": "[encoded data removed]",
      "text/plain": [
       "<Figure size 432x288 with 1 Axes>"
      ]
     },
     "metadata": {
      "needs_background": "light"
     },
     "output_type": "display_data"
    }
   ],
   "source": [
    "assess_fit_plots( eg, 'GARCH(1,1)-t' )"
   ]
  },
  {
   "cell_type": "code",
   "execution_count": 27,
   "metadata": {
    "scrolled": true
   },
   "outputs": [
    {
     "name": "stdout",
     "output_type": "stream",
     "text": [
      "Ljung-Box Q-statistic on standardised residuals:\n",
      "maxlag: 8. Q-stat: 5.432365. P-value: 0.365419\n",
      "maxlag: 13. Q-stat: 10.742514. P-value: 0.377927\n",
      "\n",
      "Ljung-Box Q-statistic on squared standardised residuals:\n",
      "maxlag: 8. Q-stat: 13.033062. P-value: 0.023071\n",
      "maxlag: 13. Q-stat: 14.962955. P-value: 0.133418\n",
      "\n",
      "Engle ARCH statistic:\n",
      "maxlag: 5. ARCH test statistic: 5.648063. P-value: 0.341983\n",
      "maxlag: 10. ARCH test statistic: 13.899478. P-value: 0.177626\n",
      "\n",
      "Skewness: -0.110840\n",
      "Kurtosis: 3.014730\n",
      "JB test statistic: 11.208575. P-value 0.003682\n",
      "\n"
     ]
    }
   ],
   "source": [
    "assess_fit_stats(eg, 3)    #   3 is the model dof, 2 for GARCH equation and 1 for Student-t dof.  "
   ]
  },
  {
   "cell_type": "markdown",
   "metadata": {},
   "source": [
    "### Answer guide\n",
    "The ACF of the transformed residuals from the GARCH-t model shows a general lack of autocorrelation in the residuals at all lags. This is confirmed by the Ljung-Box (LB) tests, using 8 and 13 lags, i.e. 5 and 10 degrees of freedom; i.e. 3 dof is from  the 2 GARCH(1,1) effects plus the dof from the Student-t. Both LB tests have p-val $>0.05$, indicating that no significant autocrrelation exists in the first 8 or 13 lags of the residuals. Thus, the constant mean equation fits the data well and cannot be rejected. \n",
    "\n",
    "The ACF of the squared transformed residuals shows a couple of moderate ARCH effects in the residuals, only at lags 3 and 6.  The Ljung-Box (LB) tests, using 8 and 13 lags, i.e. 5 and 10 degrees of freedom, disagree with each other here. The test using 8 lags has p-value $=0.023 <0.05$, indicating statistically significant ARCH effects remain in the first 8 lags of the transformed residuals from the GARCH-t model. However, the test using 13 lags has p-value $=0.133 > 0.05$, indicating no statistically significant ARCH effects remain in the first 13 lags of the transformed residuals from the GARCH-t model. Thus, it is unclear what the tests suggest about the volatility equation of the GARCH-t model. Engle's ARCH tests fails to reject the hypothesis of no ARCH effects in the residuals. It seems as though the GARCH equation is very nearly adequate for this data. \n",
    "\n",
    "Finally, the Histogram and QQ-plot for the transformed residuals show an apparent distribution close to normality or Gaussian, except for a single negative outlier in the QQ-plot. Whilst the sample skewness and kurtosis are very close to 0 and 3 respectively, again the JB test does not confirm this, with p-value $= 0.004 <0.05$, indicating that we can reject normality for the transformed residuals and hence reject the standardised Student-t which does not fit the conditional BH return distribution well. Again this result seems driven by the skewness of $-0.11$ being significantly below 0, which seems mostly affected by the single negative outlier apparent in the QQ-plot.  \n",
    "\n",
    "Upon inspection, this large outlier occurs at the start of the covid outbreak in early 2020. Since this large negative return did actually occur and was experienced by investors in BHP, this data point is not a mistake and so cannot simply be deleted from our analysis validly. It is simply an unpredictable event that our model cannot explain or cater for, mianly in the error distribution specification. These sorts of large negative outliers make error distribiution specification very, very challenging and help motivate the choice of semi-parametric methods that avoid that choice; as we shall see in module 4 of this unit.  "
   ]
  },
  {
   "cell_type": "markdown",
   "metadata": {},
   "source": [
    "#### (d) Using the GARCH parameter estimates, find the weights on the previous 20 lagged squared shocks in the GARCH equation for $\\sigma_t^2$. How do these weights compare to the ARCH(13) model from lab tutorial 9?"
   ]
  },
  {
   "cell_type": "code",
   "execution_count": 28,
   "metadata": {},
   "outputs": [
    {
     "data": {
      "text/plain": [
       "array([ 0.07793455,  0.0504307 ,  0.08793152,  0.0465962 ,  0.07735239,\n",
       "        0.07867587,  0.06496952,  0.05053849,  0.03357021,  0.04495648,\n",
       "        0.0433371 ,  0.05300495,  0.05592401, 11.5097755 ])"
      ]
     },
     "execution_count": 28,
     "metadata": {},
     "output_type": "execute_result"
    }
   ],
   "source": [
    "# Re-fit ARCH(13) model\n",
    "arch13 = arch_model(r, mean='Constant', vol='ARCH', dist='StudentsT', p=13)\n",
    "arch13_fit = arch13.fit(disp=\"off\")\n",
    "arch13_fit.params[2:].values"
   ]
  },
  {
   "cell_type": "code",
   "execution_count": 29,
   "metadata": {},
   "outputs": [
    {
     "name": "stdout",
     "output_type": "stream",
     "text": [
      "                         Constant Mean - ARCH Model Results                         \n",
      "====================================================================================\n",
      "Dep. Variable:                    Adj Close   R-squared:                       0.000\n",
      "Mean Model:                   Constant Mean   Adj. R-squared:                  0.000\n",
      "Vol Model:                             ARCH   Log-Likelihood:               -10615.3\n",
      "Distribution:      Standardized Student's t   AIC:                           21262.6\n",
      "Method:                  Maximum Likelihood   BIC:                           21368.3\n",
      "                                              No. Observations:                 5450\n",
      "Date:                      Fri, Oct 22 2021   Df Residuals:                     5449\n",
      "Time:                              11:57:43   Df Model:                            1\n",
      "                                Mean Model                                \n",
      "==========================================================================\n",
      "                 coef    std err          t      P>|t|    95.0% Conf. Int.\n",
      "--------------------------------------------------------------------------\n",
      "mu             0.0805  2.050e-02      3.925  8.655e-05 [4.029e-02,  0.121]\n",
      "                              Volatility Model                              \n",
      "============================================================================\n",
      "                 coef    std err          t      P>|t|      95.0% Conf. Int.\n",
      "----------------------------------------------------------------------------\n",
      "omega          0.8380  8.593e-02      9.752  1.809e-22     [  0.670,  1.006]\n",
      "alpha[1]       0.0779  1.817e-02      4.289  1.798e-05   [4.232e-02,  0.114]\n",
      "alpha[2]       0.0504  1.961e-02      2.572  1.011e-02 [1.200e-02,8.886e-02]\n",
      "alpha[3]       0.0879  1.884e-02      4.667  3.061e-06   [5.100e-02,  0.125]\n",
      "alpha[4]       0.0466  1.744e-02      2.672  7.545e-03 [1.241e-02,8.078e-02]\n",
      "alpha[5]       0.0774  1.799e-02      4.299  1.717e-05   [4.208e-02,  0.113]\n",
      "alpha[6]       0.0787  1.968e-02      3.998  6.377e-05   [4.011e-02,  0.117]\n",
      "alpha[7]       0.0650  1.908e-02      3.405  6.626e-04   [2.757e-02,  0.102]\n",
      "alpha[8]       0.0505  1.591e-02      3.176  1.491e-03 [1.936e-02,8.172e-02]\n",
      "alpha[9]       0.0336  1.594e-02      2.106  3.519e-02 [2.330e-03,6.481e-02]\n",
      "alpha[10]      0.0450  1.582e-02      2.842  4.485e-03 [1.395e-02,7.596e-02]\n",
      "alpha[11]      0.0433  1.483e-02      2.922  3.478e-03 [1.427e-02,7.241e-02]\n",
      "alpha[12]      0.0530  1.604e-02      3.304  9.523e-04 [2.156e-02,8.445e-02]\n",
      "alpha[13]      0.0559  1.851e-02      3.022  2.514e-03 [1.965e-02,9.220e-02]\n",
      "                              Distribution                              \n",
      "========================================================================\n",
      "                 coef    std err          t      P>|t|  95.0% Conf. Int.\n",
      "------------------------------------------------------------------------\n",
      "nu            11.5098      1.664      6.916  4.640e-12 [  8.248, 14.772]\n",
      "========================================================================\n",
      "\n",
      "Covariance estimator: robust\n"
     ]
    }
   ],
   "source": [
    "print(arch13_fit.summary())"
   ]
  },
  {
   "cell_type": "code",
   "execution_count": 30,
   "metadata": {},
   "outputs": [],
   "source": [
    "a1 = garch11_t_fit.params['alpha[1]']\n",
    "b1 = garch11_t_fit.params['beta[1]']\n",
    "w_garch = a1 * b1 ** np.arange(20)\n",
    "w_arch13 = np.zeros(20)\n",
    "w_arch13[:13] = arch13_fit.params[2:-1].values\n",
    "l = np.arange(1, 21)"
   ]
  },
  {
   "cell_type": "code",
   "execution_count": 31,
   "metadata": {},
   "outputs": [
    {
     "data": {
      "image/png": "[encoded data removed]",
      "text/plain": [
       "<Figure size 648x432 with 1 Axes>"
      ]
     },
     "metadata": {
      "needs_background": "light"
     },
     "output_type": "display_data"
    }
   ],
   "source": [
    "plt.figure(figsize=(9, 6))\n",
    "plt.plot(l, w_garch, '-+', label='GARCH')\n",
    "plt.plot(l, w_arch13, '-^', label='ARCH(13)')\n",
    "plt.legend()\n",
    "plt.xticks(np.arange(1, 20, 1), np.arange(1, 20, 1))\n",
    "plt.show()"
   ]
  },
  {
   "cell_type": "markdown",
   "metadata": {},
   "source": [
    "### Answer guide\n",
    "Clearly the GARCH weights and the ARCH weights are only vaguely similar to each other. In fact, 12 of the 13 ARCH lag effect estimates are higher than the corresponding ones for the GARCH model; recall that in a GARCH model the weight on $a_{t-i}^2$ is given by $\\alpha_1 \\beta_1^{i-1}$ for $i=1,\\ldots,t-1$. The GARCH weights are designed to smoothly decrease down to 0 at a rate determined by $\\beta_1$, starting from $\\alpha_1$; the ARCH weights cut-off after $p$ in a ARCH($p$) model. \n",
    "\n",
    "As we saw in Tutorial 9, in this case the GARCH weights seem to be more accurate, according to the tests for remaining ARCH effects in the residuals from those two models. "
   ]
  },
  {
   "cell_type": "markdown",
   "metadata": {},
   "source": [
    "#### (d) Add a GJR lag 1 term to the GARCH equation in the chosen model above. Fit the model."
   ]
  },
  {
   "cell_type": "code",
   "execution_count": 32,
   "metadata": {},
   "outputs": [
    {
     "name": "stdout",
     "output_type": "stream",
     "text": [
      "                      Constant Mean - GJR-GARCH Model Results                       \n",
      "====================================================================================\n",
      "Dep. Variable:                    Adj Close   R-squared:                       0.000\n",
      "Mean Model:                   Constant Mean   Adj. R-squared:                  0.000\n",
      "Vol Model:                        GJR-GARCH   Log-Likelihood:               -10579.3\n",
      "Distribution:      Standardized Student's t   AIC:                           21170.6\n",
      "Method:                  Maximum Likelihood   BIC:                           21210.3\n",
      "                                              No. Observations:                 5450\n",
      "Date:                      Fri, Oct 22 2021   Df Residuals:                     5449\n",
      "Time:                              11:57:43   Df Model:                            1\n",
      "                                Mean Model                                \n",
      "==========================================================================\n",
      "                 coef    std err          t      P>|t|    95.0% Conf. Int.\n",
      "--------------------------------------------------------------------------\n",
      "mu             0.0591  2.092e-02      2.825  4.726e-03 [1.810e-02,  0.100]\n",
      "                              Volatility Model                              \n",
      "============================================================================\n",
      "                 coef    std err          t      P>|t|      95.0% Conf. Int.\n",
      "----------------------------------------------------------------------------\n",
      "omega          0.0320  9.039e-03      3.544  3.944e-04 [1.432e-02,4.975e-02]\n",
      "alpha[1]       0.0332  6.909e-03      4.810  1.507e-06 [1.969e-02,4.677e-02]\n",
      "gamma[1]       0.0367  9.890e-03      3.715  2.029e-04 [1.736e-02,5.613e-02]\n",
      "beta[1]        0.9381  8.159e-03    114.971      0.000     [  0.922,  0.954]\n",
      "                              Distribution                              \n",
      "========================================================================\n",
      "                 coef    std err          t      P>|t|  95.0% Conf. Int.\n",
      "------------------------------------------------------------------------\n",
      "nu            12.4301      1.994      6.235  4.524e-10 [  8.523, 16.338]\n",
      "========================================================================\n",
      "\n",
      "Covariance estimator: robust\n"
     ]
    }
   ],
   "source": [
    "gjr11_t = arch_model(r, mean='Constant', vol='GARCH', p=1, o=1, q=1, dist='StudentsT')\n",
    "gjr11_t_fit = gjr11_t.fit( disp=\"off\" )\n",
    "print(gjr11_t_fit.summary())\n",
    "\n",
    "dfgj = gjr11_t_fit.params['nu']\n",
    "agj_t = gjr11_t_fit.resid\n",
    "egj_t = gjr11_t_fit.std_resid\n",
    "ugj = stats.t.cdf(np.sqrt(dfgj / (dfgj - 2)) * egj_t, dfgj)\n",
    "egj = stats.norm.ppf(ugj)"
   ]
  },
  {
   "cell_type": "markdown",
   "metadata": {},
   "source": [
    "### Answer guide\n",
    "The fitted model is $r_t = 0.059 + a_t$ (mean equation), $\\sigma_t^2 = 0.032 + (0.033 + 0.037 I_{t-1}) a_{t-1}^2 + 0.94 \\sigma_{t-1}^2$ (volatility equation)\n",
    "\n",
    "Both GARCH lag parameters ($\\alpha_1, \\beta_1$) are highly significant, and at a 5% level, with both p-values $ << 0.05$ and $\\approx 0$. The asymmetry parameter $\\gamma$ is also highly significant, and at a 5% level, with p-value $ << 0.05$. The data seems to support the leverage effect hypothesis, as we reject $\\gamma=0$ in favour of $\\gamma>0$ here, i.e. volatility increases more following same size negative shocks, compared to positive."
   ]
  },
  {
   "cell_type": "markdown",
   "metadata": {},
   "source": [
    "### Q1(c) Draw and discuss the two news impact curves from this model.\n",
    "\n",
    "$$\\frac{a_t}{\\sigma_t}$$"
   ]
  },
  {
   "cell_type": "code",
   "execution_count": 33,
   "metadata": {},
   "outputs": [
    {
     "data": {
      "image/png": "[encoded data removed]",
      "text/plain": [
       "<Figure size 648x432 with 1 Axes>"
      ]
     },
     "metadata": {
      "needs_background": "light"
     },
     "output_type": "display_data"
    }
   ],
   "source": [
    "alpha0 = gjr11_t_fit.params['omega']\n",
    "alpha1 = gjr11_t_fit.params['alpha[1]']\n",
    "gamma = gjr11_t_fit.params['gamma[1]']\n",
    "beta = gjr11_t_fit.params['beta[1]']\n",
    "\n",
    "e = gjr11_t_fit.std_resid\n",
    "a = e * gjr11_t_fit.conditional_volatility\n",
    "sig2 = a.var()\n",
    "\n",
    "x = np.linspace(a.min(), a.max(), num=100)\n",
    "s2 = lambda x: alpha0 + (alpha1 + gamma * (x < 0)) * (x ** 2) + beta * sig2\n",
    "s2_sym = lambda a: alpha0 + (alpha1 + gamma / 2) * (a ** 2) + beta * sig2\n",
    "\n",
    "plt.figure(figsize=(9, 6))\n",
    "plt.plot(x, s2(x), label='GJR-News Curve')\n",
    "plt.plot(x, s2_sym(x), ':r', label='Symmetric GJR Curve')\n",
    "plt.axis([x[0], x[-1], s2(0), max(s2(x[0]), s2(x[-1]), s2_sym(x[0]), s2_sym(x[-1]))])\n",
    "plt.title('GJR-t NIC Curve for a(t-1)')\n",
    "plt.tight_layout()\n",
    "plt.legend()\n",
    "plt.show()"
   ]
  },
  {
   "cell_type": "code",
   "execution_count": 34,
   "metadata": {
    "scrolled": false
   },
   "outputs": [
    {
     "data": {
      "image/png": "[encoded data removed]",
      "text/plain": [
       "<Figure size 648x432 with 1 Axes>"
      ]
     },
     "metadata": {
      "needs_background": "light"
     },
     "output_type": "display_data"
    }
   ],
   "source": [
    "# Over e(t-1)\n",
    "alpha0 = gjr11_t_fit.params['omega']\n",
    "alpha1 = gjr11_t_fit.params['alpha[1]']\n",
    "gamma = gjr11_t_fit.params['gamma[1]']\n",
    "beta = gjr11_t_fit.params['beta[1]']\n",
    "\n",
    "e = gjr11_t_fit.std_resid\n",
    "a = e * gjr11_t_fit.conditional_volatility\n",
    "sig2 = a.var()\n",
    "sig = np.sqrt(sig2)\n",
    "\n",
    "x = np.linspace(e.min(), e.max(), num=100)\n",
    "s2 = lambda e: alpha0 + (alpha1 + gamma * ((sig * e) < 0)) * ((sig * e) ** 2) + beta * sig2\n",
    "s2_sym = lambda e: alpha0 + (alpha1 + gamma / 2) * ((sig * e) ** 2) + beta * sig2\n",
    "plt.figure(figsize=(9, 6))\n",
    "plt.plot(x, s2(x))\n",
    "plt.plot(x, s2_sym(x), ':r')\n",
    "plt.axis([x[0], x[-1], s2(0), max(s2(x[0]), s2(x[-1]), s2_sym(x[0]), s2_sym(x[-1]))])\n",
    "plt.title('GJR-t NIC Curve for e(t-1)')\n",
    "plt.tight_layout()\n",
    "plt.show()"
   ]
  },
  {
   "cell_type": "markdown",
   "metadata": {},
   "source": [
    "### Answer guide\n",
    "The level of asymmetry is clearly illustrated in the two NICs, with volatility following negative return shocks being higher than that following positive return shocks of the same size. This is illustrated by the blue line being above the symmetric line for negative shocks and below it for positive shocks. \n",
    "\n",
    "There is not much difference between the 2 plots visually; qualitatively they tell the same story. "
   ]
  },
  {
   "cell_type": "markdown",
   "metadata": {},
   "source": [
    "#### (e) Assess the level of volatility asymmetry in the BHP returns."
   ]
  },
  {
   "cell_type": "code",
   "execution_count": 35,
   "metadata": {},
   "outputs": [
    {
     "name": "stdout",
     "output_type": "stream",
     "text": [
      "                      Constant Mean - GJR-GARCH Model Results                       \n",
      "====================================================================================\n",
      "Dep. Variable:                    Adj Close   R-squared:                       0.000\n",
      "Mean Model:                   Constant Mean   Adj. R-squared:                  0.000\n",
      "Vol Model:                        GJR-GARCH   Log-Likelihood:               -10579.3\n",
      "Distribution:      Standardized Student's t   AIC:                           21170.6\n",
      "Method:                  Maximum Likelihood   BIC:                           21210.3\n",
      "                                              No. Observations:                 5450\n",
      "Date:                      Fri, Oct 22 2021   Df Residuals:                     5449\n",
      "Time:                              11:57:43   Df Model:                            1\n",
      "                                Mean Model                                \n",
      "==========================================================================\n",
      "                 coef    std err          t      P>|t|    95.0% Conf. Int.\n",
      "--------------------------------------------------------------------------\n",
      "mu             0.0591  2.092e-02      2.825  4.726e-03 [1.810e-02,  0.100]\n",
      "                              Volatility Model                              \n",
      "============================================================================\n",
      "                 coef    std err          t      P>|t|      95.0% Conf. Int.\n",
      "----------------------------------------------------------------------------\n",
      "omega          0.0320  9.039e-03      3.544  3.944e-04 [1.432e-02,4.975e-02]\n",
      "alpha[1]       0.0332  6.909e-03      4.810  1.507e-06 [1.969e-02,4.677e-02]\n",
      "gamma[1]       0.0367  9.890e-03      3.715  2.029e-04 [1.736e-02,5.613e-02]\n",
      "beta[1]        0.9381  8.159e-03    114.971      0.000     [  0.922,  0.954]\n",
      "                              Distribution                              \n",
      "========================================================================\n",
      "                 coef    std err          t      P>|t|  95.0% Conf. Int.\n",
      "------------------------------------------------------------------------\n",
      "nu            12.4301      1.994      6.235  4.524e-10 [  8.523, 16.338]\n",
      "========================================================================\n",
      "\n",
      "Covariance estimator: robust\n"
     ]
    }
   ],
   "source": [
    "print(gjr11_t_fit.summary())"
   ]
  },
  {
   "cell_type": "markdown",
   "metadata": {},
   "source": [
    "$$\\sigma_t^2 = \\alpha_0 + (\\alpha_1 + \\gamma_1 I_{t-1})\\alpha_{t-1}^2 + \\beta_1\\sigma_{t-1}^2$$\n",
    "\n",
    "$$\\sigma_t^2 = 0.032 + (0.0332 + 0.0367I_{t-1})\\alpha_{t-1}^2 + 0.9381\\sigma_{t-1}^2$$"
   ]
  },
  {
   "cell_type": "code",
   "execution_count": 36,
   "metadata": {},
   "outputs": [],
   "source": [
    "a0GJt = gjr11_t_fit.params['omega']\n",
    "\n",
    "a1GJt = gjr11_t_fit.params['alpha[1]']\n",
    "g1GJt = gjr11_t_fit.params['gamma[1]']\n",
    "b1GJt = gjr11_t_fit.params['beta[1]']"
   ]
  },
  {
   "cell_type": "code",
   "execution_count": 37,
   "metadata": {},
   "outputs": [
    {
     "data": {
      "text/plain": [
       "Date\n",
       "2000-01-04    2.287157\n",
       "2000-01-05    2.306055\n",
       "2000-01-06    2.329963\n",
       "2000-01-07    2.266310\n",
       "2000-01-10    2.367168\n",
       "                ...   \n",
       "2021-07-13    1.436455\n",
       "2021-07-14    1.416577\n",
       "2021-07-15    1.386087\n",
       "2021-07-16    1.367896\n",
       "2021-07-19    1.341337\n",
       "Name: cond_vol, Length: 5450, dtype: float64"
      ]
     },
     "execution_count": 37,
     "metadata": {},
     "output_type": "execute_result"
    }
   ],
   "source": [
    "gjr11_t_fit.conditional_volatility"
   ]
  },
  {
   "cell_type": "code",
   "execution_count": 38,
   "metadata": {},
   "outputs": [],
   "source": [
    "# conditional_volatility = σ_{t-1}\n",
    "std = gjr11_t_fit.conditional_volatility.values[-1]\n",
    "sg = std ** 2"
   ]
  },
  {
   "cell_type": "code",
   "execution_count": 39,
   "metadata": {},
   "outputs": [
    {
     "name": "stdout",
     "output_type": "stream",
     "text": [
      "\n",
      "predicted conditional variance values following positive and negative shocks of size 2 and ratio: 1.9997, 1.8527, 1.0793\n",
      "0.033232047205535915 0.0699782210866241\n",
      "0.9712957389656216 1.0080419128467097\n"
     ]
    }
   ],
   "source": [
    "#compare predicted conditional standard deviation values following positive and negative shocks of size 2\n",
    "a = -2;\n",
    "sigtm2 = alpha0 + ((alpha1 + gamma) * a**2) + (beta * sg)\n",
    "\n",
    "a = 2\n",
    "sigta2 = alpha0 + (alpha1 * a**2) + (beta * sg)\n",
    "print('\\npredicted conditional variance values following positive and negative shocks of size 2 and ratio: {}, {}, {}'.format(round(sigtm2,4), round(sigta2,4), round(sigtm2/sigta2,4)))\n",
    "\n",
    "print(a1GJt, a1GJt+g1GJt)\n",
    "print(a1GJt+b1GJt, a1GJt+g1GJt+b1GJt)"
   ]
  },
  {
   "cell_type": "code",
   "execution_count": 40,
   "metadata": {},
   "outputs": [
    {
     "data": {
      "text/plain": [
       "1.0793348849682687"
      ]
     },
     "execution_count": 40,
     "metadata": {},
     "output_type": "execute_result"
    }
   ],
   "source": [
    "sigtm2 / sigta2"
   ]
  },
  {
   "cell_type": "code",
   "execution_count": null,
   "metadata": {},
   "outputs": [],
   "source": []
  },
  {
   "cell_type": "markdown",
   "metadata": {},
   "source": [
    "### Answer guide\n",
    "We can measure the amount of volatility asymmetry in several ways. First, the conventional measure is to take the ratio of estimated volatility at $a_{t-1} = -2$ and compare it to that for $a_{t-1}=2$. Doing so, at the average variance level for $\\sigma_{t-1}^2$, yields a ratio of 1.041, i.e. variance rises by 4.1% more when yesterday's return shock is $-2$%, compared to when it is $+2$%. \n",
    "\n",
    "The ARCH effect, the effect of $a_{t-1}^2$ of variance, is 0.033 when $a_{t-1}>0$ and $0.07$ when $a_{t-1}<0$; i.e the effect of yesterday's squared return shock more than doubles when yesterday's return is negative. \n",
    "\n",
    "Volatility persistence is 0.97 when $a_{t-1}>0$ but is explosive at 1.01 > 1 when $a_{t-1}<0$; i.e. the volatility process is explosive, non-stationary and has no long-run average volatility and no mean reversion following negative return shocks. \n",
    "\n",
    "In summary, even though at the average level of variance, the 4.1% increase for negative over positive 2% shocks seems small, the volatility process is quite different follwoing negative shocks, being estimated as non-stationary in that case, compared to positive return shocks. "
   ]
  },
  {
   "cell_type": "markdown",
   "metadata": {},
   "source": [
    "### (f) Assess the fit of the GJR-GARCH model"
   ]
  },
  {
   "cell_type": "code",
   "execution_count": 41,
   "metadata": {},
   "outputs": [
    {
     "data": {
      "image/png": "[encoded data removed]",
      "text/plain": [
       "<Figure size 432x288 with 1 Axes>"
      ]
     },
     "metadata": {
      "needs_background": "light"
     },
     "output_type": "display_data"
    },
    {
     "data": {
      "image/png": "[encoded data removed]",
      "text/plain": [
       "<Figure size 432x288 with 1 Axes>"
      ]
     },
     "metadata": {
      "needs_background": "light"
     },
     "output_type": "display_data"
    },
    {
     "data": {
      "image/png": "[encoded data removed]",
      "text/plain": [
       "<Figure size 432x288 with 1 Axes>"
      ]
     },
     "metadata": {
      "needs_background": "light"
     },
     "output_type": "display_data"
    },
    {
     "data": {
      "image/png": "[encoded data removed]",
      "text/plain": [
       "<Figure size 432x288 with 1 Axes>"
      ]
     },
     "metadata": {
      "needs_background": "light"
     },
     "output_type": "display_data"
    },
    {
     "data": {
      "image/png": "[encoded data removed]",
      "text/plain": [
       "<Figure size 432x288 with 1 Axes>"
      ]
     },
     "metadata": {
      "needs_background": "light"
     },
     "output_type": "display_data"
    }
   ],
   "source": [
    "assess_fit_plots( egj, 'GJR-GARCH-t' )"
   ]
  },
  {
   "cell_type": "code",
   "execution_count": 42,
   "metadata": {},
   "outputs": [
    {
     "name": "stdout",
     "output_type": "stream",
     "text": [
      "Ljung-Box Q-statistic on standardised residuals:\n",
      "maxlag: 9. Q-stat: 8.312463. P-value: 0.139835\n",
      "maxlag: 14. Q-stat: 10.673773. P-value: 0.383492\n",
      "\n",
      "Ljung-Box Q-statistic on squared standardised residuals:\n",
      "maxlag: 9. Q-stat: 11.083557. P-value: 0.049748\n",
      "maxlag: 14. Q-stat: 12.379689. P-value: 0.260449\n",
      "\n",
      "Engle ARCH statistic:\n",
      "maxlag: 5. ARCH test statistic: 4.741248. P-value: 0.448267\n",
      "maxlag: 10. ARCH test statistic: 11.217800. P-value: 0.340803\n",
      "\n",
      "Skewness: -0.113505\n",
      "Kurtosis: 3.017239\n",
      "JB test statistic: 11.769965. P-value 0.002781\n",
      "\n"
     ]
    }
   ],
   "source": [
    "assess_fit_stats( egj, 4 )   "
   ]
  },
  {
   "cell_type": "markdown",
   "metadata": {},
   "source": [
    "### Answer guide\n",
    "The ACF of the transformed residuals from the GJR-GARCH-t model shows a general lack of autocorrelation in the residuals at all lags. This is confirmed by the Ljung-Box (LB) tests, using 9 and 14 lags, i.e. 5 and 10 degrees of freedom; i.e. 4 dof is from  the 2 GARCH(1,1) effects plus GJR(1) effect, plus the dof from the Student-t. Both LB tests have p-val $>0.05$, indicating that no significant autocrrelation exists in the first 9 or 14 lags of the residuals. Thus, the constant mean equation fits the data well and cannot be rejected. \n",
    "\n",
    "The ACF of the squared transformed residuals shows a general lack of ARCH effects in the residuals, no clear significant lags.  The Ljung-Box (LB) tests, using 9 and 14 lags, i.e. 5 and 10 degrees of freedom, somewhat disagree with each other here. The test using 9 lags has p-value $=0.0498 <0.05$, indicating very weak statistically significant ARCH effects remain in the first 9 lags of the transformed residuals from the GJR-GARCH-t model; this is a very marginal result. However, the test using 14 lags has p-value $=0.261 > 0.05$, indicating no statistically significant ARCH effects remain in the first 14 lags of the transformed residuals from the GJR-GARCH-t model. Engle's ARCH tests fails to reject the hypothesis of no ARCH effects in the residuals. Thus, the tests suggest that the volatility equation of the GJR-GARCH-t model is very close to, and mostly, adequate for this data; it is the best so far re these tests. \n",
    "\n",
    "Finally, the Histogram and QQ-plot for the transformed residuals show an apparent distribution close to normality or Gaussian, except for a single negative outlier in the QQ-plot. Whilst the sample skewness and kurtosis are very close to 0 and 3 respectively, again the JB test does not confirm this, with p-value $= 0.003 <0.05$, indicating that we can reject normality for the transformed residuals and hence reject the standardised Student-t which does not fit the conditional BH return distribution well. Again this result seems driven by the skewness of $-0.11$ being significantly below 0, which seems mostly affected by the single negative outlier apparent in the QQ-plot.  \n",
    "\n",
    "This is the same large outlier that occurs at the start of the covid outbreak in early 2020. Since this large negative return did actually occur and was experienced by investors in BHP, this data point is not a mistake and so cannot simply be deleted from our analysis validly. "
   ]
  },
  {
   "cell_type": "markdown",
   "metadata": {},
   "source": [
    "### (f) Compare the estimated volatility series of the GJR-GARCH to the GARCH model"
   ]
  },
  {
   "cell_type": "code",
   "execution_count": 43,
   "metadata": {},
   "outputs": [
    {
     "data": {
      "image/png": "[encoded data removed]",
      "text/plain": [
       "<Figure size 648x432 with 1 Axes>"
      ]
     },
     "metadata": {
      "needs_background": "light"
     },
     "output_type": "display_data"
    }
   ],
   "source": [
    "s_gjr = gjr11_t_fit.conditional_volatility\n",
    "s_g = garch11_t_fit.conditional_volatility\n",
    "plt.figure(figsize=(9, 6))\n",
    "plt.plot(s_g, 'ro-.', label='GARCH-t')\n",
    "plt.plot(s_gjr, 'b', label='GJR-t')\n",
    "plt.legend(fontsize=13)\n",
    "plt.tight_layout()\n",
    "plt.show()"
   ]
  },
  {
   "cell_type": "markdown",
   "metadata": {},
   "source": [
    "### Answer guide\n",
    "Surprisingly there seems to be few clear differences in the symmetric GARCH and asymmetric GJR estimated volatility series. We would expect to see the red circles higher than the blue line following negative shocks, but this behavior is not clear (to me)."
   ]
  },
  {
   "cell_type": "markdown",
   "metadata": {},
   "source": [
    "#### (g) Fit two constant mean EGARCH(1,0) models, one with Gaussian and one with Student-t errors. What are the fitted models? Draw the NIC from these two models."
   ]
  },
  {
   "cell_type": "code",
   "execution_count": 44,
   "metadata": {},
   "outputs": [
    {
     "name": "stdout",
     "output_type": "stream",
     "text": [
      "                     Constant Mean - EGARCH Model Results                     \n",
      "==============================================================================\n",
      "Dep. Variable:              Adj Close   R-squared:                       0.000\n",
      "Mean Model:             Constant Mean   Adj. R-squared:                  0.000\n",
      "Vol Model:                     EGARCH   Log-Likelihood:               -10617.7\n",
      "Distribution:                  Normal   AIC:                           21245.4\n",
      "Method:            Maximum Likelihood   BIC:                           21278.5\n",
      "                                        No. Observations:                 5450\n",
      "Date:                Fri, Oct 22 2021   Df Residuals:                     5449\n",
      "Time:                        11:57:45   Df Model:                            1\n",
      "                                 Mean Model                                 \n",
      "============================================================================\n",
      "                 coef    std err          t      P>|t|      95.0% Conf. Int.\n",
      "----------------------------------------------------------------------------\n",
      "mu             0.0472  2.120e-02      2.226  2.602e-02 [5.639e-03,8.875e-02]\n",
      "                               Volatility Model                               \n",
      "==============================================================================\n",
      "                 coef    std err          t      P>|t|        95.0% Conf. Int.\n",
      "------------------------------------------------------------------------------\n",
      "omega          0.0173  4.924e-03      3.506  4.554e-04   [7.611e-03,2.691e-02]\n",
      "alpha[1]       0.1316  1.911e-02      6.889  5.630e-12     [9.417e-02,  0.169]\n",
      "gamma[1]      -0.0428  9.596e-03     -4.457  8.301e-06 [-6.158e-02,-2.396e-02]\n",
      "beta[1]        0.9856  3.832e-03    257.218      0.000       [  0.978,  0.993]\n",
      "==============================================================================\n",
      "\n",
      "Covariance estimator: robust\n"
     ]
    }
   ],
   "source": [
    "egarch = arch_model(r, mean='Constant', vol='EGARCH', p=1, o=1, q=1, dist='Normal')\n",
    "egarch_fit = egarch.fit( disp=\"off\" )\n",
    "print(egarch_fit.summary())"
   ]
  },
  {
   "cell_type": "code",
   "execution_count": 45,
   "metadata": {},
   "outputs": [
    {
     "data": {
      "image/png": "[encoded data removed]",
      "text/plain": [
       "<Figure size 576x432 with 1 Axes>"
      ]
     },
     "metadata": {
      "needs_background": "light"
     },
     "output_type": "display_data"
    }
   ],
   "source": [
    "e_egarch = egarch_fit.std_resid\n",
    "s_egarch = egarch_fit.conditional_volatility\n",
    "\n",
    "alpha0 = egarch_fit.params['omega']\n",
    "alpha1 = egarch_fit.params['alpha[1]']\n",
    "gamma = egarch_fit.params['gamma[1]']\n",
    "beta = egarch_fit.params['beta[1]']\n",
    "e = egarch_fit.std_resid\n",
    "a = e * egarch_fit.conditional_volatility\n",
    "sig2 = a.var()\n",
    "x = np.linspace(e.min(), e.max(), num=100)\n",
    "s2 = lambda e: np.exp(alpha0 + alpha1 * (np.abs(e) - np.sqrt(2 / np.pi)) +\n",
    "                      beta * np.log(sig2) + gamma * e)\n",
    "s2_sym = lambda e: np.exp(alpha0 + alpha1 * (np.abs(e) - np.sqrt(2 / np.pi)) +\n",
    "                          beta * np.log(sig2))\n",
    "plt.figure(figsize=(8, 6))\n",
    "plt.plot(x, s2(x))\n",
    "plt.plot(x, s2_sym(x), ':r')\n",
    "plt.axis([x[0], x[-1], s2(0), max(s2(x[0]), s2(x[-1]), s2_sym(x[0]), s2_sym(x[-1]))])\n",
    "plt.title('EGARCH-N NIC curve for e(t-1)')\n",
    "plt.tight_layout()\n",
    "plt.show()"
   ]
  },
  {
   "cell_type": "code",
   "execution_count": 46,
   "metadata": {},
   "outputs": [
    {
     "name": "stdout",
     "output_type": "stream",
     "text": [
      "                        Constant Mean - EGARCH Model Results                        \n",
      "====================================================================================\n",
      "Dep. Variable:                    Adj Close   R-squared:                       0.000\n",
      "Mean Model:                   Constant Mean   Adj. R-squared:                  0.000\n",
      "Vol Model:                           EGARCH   Log-Likelihood:               -10578.3\n",
      "Distribution:      Standardized Student's t   AIC:                           21168.7\n",
      "Method:                  Maximum Likelihood   BIC:                           21208.3\n",
      "                                              No. Observations:                 5450\n",
      "Date:                      Fri, Oct 22 2021   Df Residuals:                     5449\n",
      "Time:                              11:57:46   Df Model:                            1\n",
      "                                 Mean Model                                 \n",
      "============================================================================\n",
      "                 coef    std err          t      P>|t|      95.0% Conf. Int.\n",
      "----------------------------------------------------------------------------\n",
      "mu             0.0579  2.089e-02      2.773  5.550e-03 [1.699e-02,9.888e-02]\n",
      "                               Volatility Model                               \n",
      "==============================================================================\n",
      "                 coef    std err          t      P>|t|        95.0% Conf. Int.\n",
      "------------------------------------------------------------------------------\n",
      "omega          0.0129  3.431e-03      3.759  1.704e-04   [6.173e-03,1.962e-02]\n",
      "alpha[1]       0.1129  1.289e-02      8.755  2.047e-18     [8.760e-02,  0.138]\n",
      "gamma[1]      -0.0400  7.396e-03     -5.407  6.417e-08 [-5.448e-02,-2.549e-02]\n",
      "beta[1]        0.9891  2.745e-03    360.372      0.000       [  0.984,  0.994]\n",
      "                              Distribution                              \n",
      "========================================================================\n",
      "                 coef    std err          t      P>|t|  95.0% Conf. Int.\n",
      "------------------------------------------------------------------------\n",
      "nu            12.1955      1.886      6.467  9.973e-11 [  8.500, 15.891]\n",
      "========================================================================\n",
      "\n",
      "Covariance estimator: robust\n"
     ]
    }
   ],
   "source": [
    "# EGARCH-t\n",
    "egarch_t = arch_model(r, mean='Constant', vol='EGARCH', p=1, o=1, q=1, dist='StudentsT')\n",
    "egarch_t_fit = egarch_t.fit( disp=\"off\" )\n",
    "print(egarch_t_fit.summary())"
   ]
  },
  {
   "cell_type": "code",
   "execution_count": 47,
   "metadata": {},
   "outputs": [
    {
     "data": {
      "image/png": "[encoded data removed]",
      "text/plain": [
       "<Figure size 648x432 with 1 Axes>"
      ]
     },
     "metadata": {
      "needs_background": "light"
     },
     "output_type": "display_data"
    }
   ],
   "source": [
    "e_egarch_t = egarch_t_fit.std_resid\n",
    "s_egarch_t = egarch_t_fit.conditional_volatility\n",
    "alpha0 = egarch_t_fit.params['omega']\n",
    "alpha1 = egarch_t_fit.params['alpha[1]']\n",
    "gamma = egarch_t_fit.params['gamma[1]']\n",
    "beta = egarch_t_fit.params['beta[1]']\n",
    "e = egarch_t_fit.std_resid\n",
    "a = e * egarch_t_fit.conditional_volatility\n",
    "sig2 = a.var()\n",
    "x = np.linspace(e.min(), e.max(), num=100)\n",
    "s2 = lambda e: np.exp(alpha0 + alpha1 * (np.abs(e) - np.sqrt(2 / np.pi)) +\n",
    "                      beta * np.log(sig2) + gamma * e)\n",
    "s2_sym = lambda e: np.exp(alpha0 + alpha1 * (np.abs(e) - np.sqrt(2 / np.pi)) +\n",
    "                          beta * np.log(sig2))\n",
    "plt.figure(figsize=(9, 6))\n",
    "plt.plot(x, s2(x))\n",
    "plt.plot(x, s2_sym(x), ':r')\n",
    "plt.axis([x[0], x[-1], s2(0), max(s2(x[0]), s2(x[-1]), s2_sym(x[0]), s2_sym(x[-1]))])\n",
    "plt.title('EGARCH-t NIC curve for e(t-1)')\n",
    "plt.tight_layout()\n",
    "plt.show()"
   ]
  },
  {
   "cell_type": "markdown",
   "metadata": {},
   "source": [
    "### Answer guide\n",
    "The level of asymmetry is clearly illustrated in the two NICs, with volatility following negative return shocks higher than that following positive return shocks of the same size. This is illustrated by the blue line being above the symmetric line for negative shocks and below it for positive shocks. \n",
    "\n",
    "There is not much difference between the 2 plots visually; qualitatively they tell the same story. "
   ]
  },
  {
   "cell_type": "markdown",
   "metadata": {},
   "source": [
    "#### (h) Assess the level of volatility asymmetry in the BHP returns from the EGARCH models. Do they agree: (i) with the GJR model; (b) with each other?"
   ]
  },
  {
   "cell_type": "code",
   "execution_count": 48,
   "metadata": {},
   "outputs": [
    {
     "name": "stdout",
     "output_type": "stream",
     "text": [
      "0.1710926233715401 1.1866006508848492\n",
      "0.15995359297388506 1.173456413105798\n"
     ]
    }
   ],
   "source": [
    "# level of asymmetry\n",
    "\n",
    "gm_n = egarch_fit.params['gamma[1]']\n",
    "gm_t = egarch_t_fit.params['gamma[1]']\n",
    "\n",
    "print((-4 * gm_n), np.exp(-4 * gm_n))\n",
    "print((-4 * gm_t), np.exp(-4 * gm_t))"
   ]
  },
  {
   "cell_type": "markdown",
   "metadata": {},
   "source": [
    "### Answer guide\n",
    "The level of asymmetry, in response to $\\varepsilon_{t-1}$ being -2 or 2 standard deviations, in an EGARCH is measured by $\\exp{-2c \\gamma}$. In both cases above, the estimate is close to $\\approx 18$%. Thus, variance of BHP returns is estimated to increase by 18% following return shocks of -2 standard deviations, compared to those of $+2$ standard deviations. \n",
    "\n",
    "This is much higher than the 4% increase esimated for the GJR model."
   ]
  },
  {
   "cell_type": "markdown",
   "metadata": {},
   "source": [
    "#### (i) Compare the volatility estimates from all the models above."
   ]
  },
  {
   "cell_type": "code",
   "execution_count": 49,
   "metadata": {},
   "outputs": [
    {
     "data": {
      "image/png": "[encoded data removed]",
      "text/plain": [
       "<Figure size 648x432 with 1 Axes>"
      ]
     },
     "metadata": {
      "needs_background": "light"
     },
     "output_type": "display_data"
    }
   ],
   "source": [
    "s_egarch = egarch_fit.conditional_volatility\n",
    "s_egarch_t = egarch_t_fit.conditional_volatility\n",
    "plt.figure(figsize=(9, 6))\n",
    "plt.plot(s_g, label='GARCH-t')\n",
    "plt.plot(s_gjr, label='GJR-t')\n",
    "plt.plot(s_egarch, label='EGARCH')\n",
    "plt.plot(s_egarch_t, label='EGARCH-t')\n",
    "plt.title('Conditional Standard Deviations')\n",
    "plt.legend(fontsize=10)\n",
    "plt.tight_layout()\n",
    "plt.show()"
   ]
  },
  {
   "cell_type": "markdown",
   "metadata": {},
   "source": [
    "### Answer guide\n",
    "Once again, surprisingly there seems to be few clear differences in the symmetric GARCH and asymmetric GJR or EGARCH estimated volatility series. We would expect to see the GJR and EGARCH volatility estimates higher than the GARCH ones following negative shocks, but this behavior is not clear (to me); mostly the 4 series seem quite close together on almost all days."
   ]
  },
  {
   "cell_type": "markdown",
   "metadata": {},
   "source": [
    "#### (h) Find 1-step ahead predictions of VaR and ES at $\\alpha$ = 0.025, 0.01 for BHP on 20/07/2021 under all the models above. Which risk level forecasts do you think are more accurate and/or believable?"
   ]
  },
  {
   "cell_type": "code",
   "execution_count": 50,
   "metadata": {},
   "outputs": [
    {
     "data": {
      "text/plain": [
       "Date\n",
       "2000-01-04    3.435129\n",
       "2000-01-05   -2.356032\n",
       "2000-01-06    0.650759\n",
       "2000-01-07    4.820532\n",
       "2000-01-10    0.769651\n",
       "                ...   \n",
       "2021-07-13   -0.687956\n",
       "2021-07-14    0.511505\n",
       "2021-07-15    1.112315\n",
       "2021-07-16    0.657646\n",
       "2021-07-19   -2.676728\n",
       "Name: Adj Close, Length: 5450, dtype: float64"
      ]
     },
     "execution_count": 50,
     "metadata": {},
     "output_type": "execute_result"
    }
   ],
   "source": [
    "r"
   ]
  },
  {
   "cell_type": "code",
   "execution_count": 51,
   "metadata": {},
   "outputs": [
    {
     "name": "stdout",
     "output_type": "stream",
     "text": [
      "1.5238371848175472 1.515469995549275 1.6005443888427535 1.5106673096778258 1.4978507773069343 1.5109253449294753\n"
     ]
    },
    {
     "name": "stderr",
     "output_type": "stream",
     "text": [
      "/Users/jameschok/anaconda3/lib/python3.7/site-packages/arch/__future__/_utility.py:21: FutureWarning: \n",
      "The default for reindex is True. After September 2021 this will change to\n",
      "False. Set reindex to True or False to silence this message. Alternatively,\n",
      "you can use the import comment\n",
      "\n",
      "from arch.__future__ import reindexing\n",
      "\n",
      "to globally set reindex to True and silence this warning.\n",
      "\n",
      "  FutureWarning,\n"
     ]
    }
   ],
   "source": [
    "# 1 step ahead VaR, ES \n",
    "\n",
    "# Fit GARCH-N\n",
    "garch_n = arch_model(r, mean='Constant', vol='GARCH', p=1, q=1, dist='normal')\n",
    "garch_n_fit = garch_n.fit( disp= 'off' )\n",
    "\n",
    "SFgt = np.sqrt( garch11_t_fit.forecast( horizon = 1 ).variance.values[-1, 0] ) \n",
    "SFegn = np.sqrt( egarch_fit.forecast(horizon = 1).variance.values[-1, 0 ] ) \n",
    "SFgn = np.sqrt( garch_n_fit.forecast(horizon = 1).variance.values[-1, 0 ] ) \n",
    "SFat = np.sqrt( arch13_fit.forecast(horizon = 1).variance.values[-1, 0 ] ) \n",
    "SFegt = np.sqrt( egarch_t_fit.forecast(horizon = 1).variance.values[-1, 0 ] ) \n",
    "SFgjt = np.sqrt( gjr11_t_fit.forecast( horizon = 1 ).variance.values[-1, 0] ) \n",
    "print(SFgn, SFegn, SFat, SFgt, SFgjt, SFegt)"
   ]
  },
  {
   "cell_type": "code",
   "execution_count": 52,
   "metadata": {},
   "outputs": [
    {
     "data": {
      "text/plain": [
       "(2.561742340656023, 2.561742340656023)"
      ]
     },
     "execution_count": 52,
     "metadata": {},
     "output_type": "execute_result"
    }
   ],
   "source": [
    "# Manually check if we are doing the right thing above\n",
    "a = r[-13:] - arch13_fit.params.mu\n",
    "h = arch13_fit.params.omega + np.dot(arch13_fit.params[-2:-15:-1], a**2)\n",
    "arch13_fit.forecast(horizon = 1).variance.values[-1, 0 ], h"
   ]
  },
  {
   "cell_type": "code",
   "execution_count": 53,
   "metadata": {},
   "outputs": [],
   "source": [
    "def VaR_n( p ):\n",
    "    return stats.norm.ppf( p )\n",
    "        \n",
    "def ES_n( p ):\n",
    "    return -stats.norm.pdf( stats.norm.ppf( p ) ) / p\n",
    "\n",
    "def VaR_t( p, df ):\n",
    "    return stats.t.ppf( p, df ) * np.sqrt( ( df - 2 ) / df )\n",
    "\n",
    "def ES_t( p, df ):\n",
    "    return -stats.t.pdf( stats.t.ppf( p, df ), df ) / p * ( df + stats.t.ppf( p, df )**2 ) / ( df - 1 ) * np.sqrt( ( df - 2 ) / df )\n"
   ]
  },
  {
   "cell_type": "code",
   "execution_count": 54,
   "metadata": {},
   "outputs": [],
   "source": [
    "## Estimated degrees of freedom\n",
    "dfat = arch13_fit.params['nu']\n",
    "dfgt = garch11_t_fit.params['nu']\n",
    "dfgjt = gjr11_t_fit.params['nu']\n",
    "dfegt = egarch_t_fit.params['nu']\n",
    "\n",
    "# Equal weighted \n",
    "#1-day ahead VaR forecasts alpha = 0.025, 0.01\n",
    "VaR1gn = garch_n_fit.params['mu'] + VaR_n(0.01) * SFgn\n",
    "VaR25gn = garch_n_fit.params['mu'] + VaR_n(0.025) * SFgn\n",
    "\n",
    "VaR1at = arch13_fit.forecast(horizon = 1).mean.values[-1, 0 ] + VaR_n(0.01) * SFat\n",
    "VaR25at = arch13_fit.forecast(horizon = 1).mean.values[-1, 0 ] + VaR_n(0.025) * SFat\n",
    "\n",
    "VaR1gt = garch11_t_fit.params['mu'] + VaR_t(0.01, dfgt ) * SFgt\n",
    "VaR25gt = garch11_t_fit.params['mu'] + VaR_t(0.025, dfgt ) * SFgt\n",
    "VaR1egn = egarch_fit.forecast(horizon = 1).mean.values[-1, 0 ] + VaR_n(0.01) * SFegn\n",
    "VaR25egn = egarch_fit.forecast(horizon = 1).mean.values[-1, 0 ] + VaR_n(0.025) * SFegn\n",
    "VaR1gjt = gjr11_t_fit.forecast(horizon = 1).mean.values[-1, 0 ] + VaR_t(0.01, dfgjt ) * SFgjt\n",
    "VaR25gjt = gjr11_t_fit.forecast(horizon = 1).mean.values[-1, 0 ] + VaR_t(0.025, dfgjt ) * SFgjt\n",
    "VaR1egt = egarch_t_fit.forecast(horizon = 1).mean.values[-1, 0 ] + VaR_t(0.01, dfegt ) * SFegt\n",
    "VaR25egt = egarch_t_fit.forecast(horizon = 1).mean.values[-1, 0 ] + VaR_t(0.025, dfegt ) * SFegt\n",
    "\n",
    "#1-day ahead ES forecasts for GARCH-type models\n",
    "ES1gn = garch_n_fit.params['mu'] + ES_n(0.01) * SFgn\n",
    "ES25gn = garch_n_fit.params['mu'] + ES_n(0.025) * SFgn\n",
    "ES1at = arch13_fit.forecast(horizon = 1).mean.values[-1, 0 ] + ES_n(0.01) * SFat\n",
    "ES25at = arch13_fit.forecast(horizon = 1).mean.values[-1, 0 ] + ES_n(0.025) * SFat\n",
    "ES1gt = garch11_t_fit.params['mu'] + ES_t(0.01, dfgt ) * SFgt\n",
    "ES25gt = garch11_t_fit.params['mu'] + ES_t(0.025, dfgt ) * SFgt\n",
    "ES1egn = egarch_fit.forecast(horizon = 1).mean.values[-1, 0 ] + ES_n(0.01) * SFegn\n",
    "ES25egn = egarch_fit.forecast(horizon = 1).mean.values[-1, 0 ] + ES_n(0.025) * SFegn\n",
    "ES1gjt = gjr11_t_fit.forecast(horizon = 1).mean.values[-1, 0 ] + ES_t(0.01, dfgjt ) * SFgjt\n",
    "ES25gjt = gjr11_t_fit.forecast(horizon = 1).mean.values[-1, 0 ] + ES_t(0.025, dfgjt ) * SFgjt\n",
    "ES1egt = egarch_t_fit.forecast(horizon = 1).mean.values[-1, 0 ] + ES_t(0.01, dfegt ) * SFegt\n",
    "ES25egt = egarch_t_fit.forecast(horizon = 1).mean.values[-1, 0 ] + ES_t(0.025, dfegt ) * SFegt"
   ]
  },
  {
   "cell_type": "code",
   "execution_count": 66,
   "metadata": {
    "scrolled": true
   },
   "outputs": [
    {
     "name": "stdout",
     "output_type": "stream",
     "text": [
      "                         Constant Mean - ARCH Model Results                         \n",
      "====================================================================================\n",
      "Dep. Variable:                    Adj Close   R-squared:                       0.000\n",
      "Mean Model:                   Constant Mean   Adj. R-squared:                  0.000\n",
      "Vol Model:                             ARCH   Log-Likelihood:               -10615.3\n",
      "Distribution:      Standardized Student's t   AIC:                           21262.6\n",
      "Method:                  Maximum Likelihood   BIC:                           21368.3\n",
      "                                              No. Observations:                 5450\n",
      "Date:                      Fri, Oct 22 2021   Df Residuals:                     5449\n",
      "Time:                              11:57:43   Df Model:                            1\n",
      "                                Mean Model                                \n",
      "==========================================================================\n",
      "                 coef    std err          t      P>|t|    95.0% Conf. Int.\n",
      "--------------------------------------------------------------------------\n",
      "mu             0.0805  2.050e-02      3.925  8.655e-05 [4.029e-02,  0.121]\n",
      "                              Volatility Model                              \n",
      "============================================================================\n",
      "                 coef    std err          t      P>|t|      95.0% Conf. Int.\n",
      "----------------------------------------------------------------------------\n",
      "omega          0.8380  8.593e-02      9.752  1.809e-22     [  0.670,  1.006]\n",
      "alpha[1]       0.0779  1.817e-02      4.289  1.798e-05   [4.232e-02,  0.114]\n",
      "alpha[2]       0.0504  1.961e-02      2.572  1.011e-02 [1.200e-02,8.886e-02]\n",
      "alpha[3]       0.0879  1.884e-02      4.667  3.061e-06   [5.100e-02,  0.125]\n",
      "alpha[4]       0.0466  1.744e-02      2.672  7.545e-03 [1.241e-02,8.078e-02]\n",
      "alpha[5]       0.0774  1.799e-02      4.299  1.717e-05   [4.208e-02,  0.113]\n",
      "alpha[6]       0.0787  1.968e-02      3.998  6.377e-05   [4.011e-02,  0.117]\n",
      "alpha[7]       0.0650  1.908e-02      3.405  6.626e-04   [2.757e-02,  0.102]\n",
      "alpha[8]       0.0505  1.591e-02      3.176  1.491e-03 [1.936e-02,8.172e-02]\n",
      "alpha[9]       0.0336  1.594e-02      2.106  3.519e-02 [2.330e-03,6.481e-02]\n",
      "alpha[10]      0.0450  1.582e-02      2.842  4.485e-03 [1.395e-02,7.596e-02]\n",
      "alpha[11]      0.0433  1.483e-02      2.922  3.478e-03 [1.427e-02,7.241e-02]\n",
      "alpha[12]      0.0530  1.604e-02      3.304  9.523e-04 [2.156e-02,8.445e-02]\n",
      "alpha[13]      0.0559  1.851e-02      3.022  2.514e-03 [1.965e-02,9.220e-02]\n",
      "                              Distribution                              \n",
      "========================================================================\n",
      "                 coef    std err          t      P>|t|  95.0% Conf. Int.\n",
      "------------------------------------------------------------------------\n",
      "nu            11.5098      1.664      6.916  4.640e-12 [  8.248, 14.772]\n",
      "========================================================================\n",
      "\n",
      "Covariance estimator: robust\n"
     ]
    }
   ],
   "source": [
    "print(arch13_fit.summary())"
   ]
  },
  {
   "cell_type": "code",
   "execution_count": 65,
   "metadata": {
    "scrolled": true
   },
   "outputs": [
    {
     "data": {
      "text/plain": [
       "0.0804742338764602"
      ]
     },
     "execution_count": 65,
     "metadata": {},
     "output_type": "execute_result"
    }
   ],
   "source": [
    "arch13_fit.params['mu']"
   ]
  },
  {
   "cell_type": "code",
   "execution_count": 68,
   "metadata": {},
   "outputs": [
    {
     "data": {
      "text/plain": [
       "0.0804742338764602"
      ]
     },
     "execution_count": 68,
     "metadata": {},
     "output_type": "execute_result"
    }
   ],
   "source": [
    "arch13_fit.forecast(horizon = 1).mean.values[-1, 0 ] "
   ]
  },
  {
   "cell_type": "code",
   "execution_count": 55,
   "metadata": {},
   "outputs": [
    {
     "name": "stdout",
     "output_type": "stream",
     "text": [
      "-2.916948505960286 -2.923073562680104 -3.0565351239130094 -2.929727259915883 -2.918937869371627 -2.946730751996732\n",
      "-3.475257900699668 -3.4783173540711863 -3.6429488024158765 -3.621662321641555 -3.6003561859800937 -3.6369303937088677\n"
     ]
    }
   ],
   "source": [
    "print(VaR25gn, VaR25egn, VaR25at, VaR25gt, VaR25gjt, VaR25egt)\n",
    "print(VaR1gn, VaR1egn, VaR1at, VaR1gt, VaR1gjt, VaR1egt)"
   ]
  },
  {
   "cell_type": "code",
   "execution_count": 56,
   "metadata": {},
   "outputs": [
    {
     "name": "stdout",
     "output_type": "stream",
     "text": [
      "-3.4927133309417893 -3.4956769388450057 -3.661282907402433 -3.683546340199736 -3.65993492824987 -3.6981122862040077\n",
      "-3.9916350398824374 -3.9918591343977745 -4.185319431561937 -4.370696420249549 -4.33433695873021 -4.382615802381318\n"
     ]
    }
   ],
   "source": [
    "print(ES25gn, ES25egn, ES25at, ES25gt, ES25gjt, ES25egt)\n",
    "print(ES1gn, ES1egn, ES1at, ES1gt, ES1gjt, ES1egt)"
   ]
  },
  {
   "cell_type": "markdown",
   "metadata": {},
   "source": [
    "### Answer guide\n",
    "Under all models, the value at risk (VaR) at the 2.5% level forecast for 20 July, 2021 is $-2.9$% - $-3$%. In other words, to protect against a drop of 2.5% by BHP on that day, we should have at least 3% of our capital invested set aside, so as to protect our investment from this magnitude loss; that is capital allocation.\n",
    "\n",
    "At the 1% level, models with Gaussian errors suggest that the VaR $\\approx -3.5$%, models with Student-t errors forecast it as $\\approx -3.6$%.  In general, the VaR estimates are quite consistent across the models, only differing due to error distribution and only at 1% risk level.\n",
    "\n",
    "For ES forecasting at 2.5% risk level, the expected shortfall is forecast for 20 July, 2021 to be $-3.5$% - $-3.65$%; again more extreme for Student-t models. In other words, to protect against a drop of 2.5% by BHP on that day, we should have at least 3.5-3.65% of our capital invested set aside, so as to protect our investment from this estimated average loss for a returns less than the 2.5% quantile of the return distribution; that is capital allocation.\n",
    "\n",
    "For ES forecasting at 2.5% risk level, the expected shortfall is forecast for 20 July, 2021 to be $-4$% for Gaussian error models and $-4.2$% - $-4.4$% for Student-t error models. Again the differences are mainly due to error distribution. \n",
    "\n",
    "The asymmetric GJR and EGARCH models do not lead to large differences in VaR or ES forecasts, on 20 July, 2021 at least, over the symmetric ARCH/GARCH models. This is surprising since the return on 19/7/2021 was $-2.67$%, i.e. large and negative.  \n"
   ]
  },
  {
   "cell_type": "code",
   "execution_count": null,
   "metadata": {},
   "outputs": [],
   "source": []
  }
 ],
 "metadata": {
  "kernelspec": {
   "display_name": "Python 3",
   "language": "python",
   "name": "python3"
  },
  "language_info": {
   "codemirror_mode": {
    "name": "ipython",
    "version": 3
   },
   "file_extension": ".py",
   "mimetype": "text/x-python",
   "name": "python",
   "nbconvert_exporter": "python",
   "pygments_lexer": "ipython3",
   "version": "3.7.6"
  }
 },
 "nbformat": 4,
 "nbformat_minor": 5
}

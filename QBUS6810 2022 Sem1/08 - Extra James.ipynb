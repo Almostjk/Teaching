{
 "cells": [
  {
   "cell_type": "markdown",
   "metadata": {},
   "source": [
    "# Cubic Spline vs Natural Cubic Spline\n",
    "\n",
    "A cubic spline and natural cubic spline are both a $C^2$ function, meaning that they both have a continouos 2nd derivative. However, a natural cubic spline differes from a cubic spline by how it treates the boundaries. It is best explained by an example.\n",
    "\n",
    "Suppose we wanted to create a cubic spline with 2 knots, on a variable $0 < x < 3$. What this means is that we are going to create the function\n",
    "\n",
    "$$F(x)=\\begin{cases} \n",
    "C_1(x) = a_1 + b_1x +c_1x^2+d_1x^3\\quad &\\textrm{for }\\ 0 < x < 1\\\\\n",
    "C_2(x) = a_2 + b_2x +c_2x^2+d_2x^3\\quad &\\textrm{for }\\ 1 < x < 2\\\\\n",
    "C_3(x) = a_3 + b_3x +c_3x^2+d_3x^3\\quad &\\textrm{for }\\ 2 < x < 3\\\\\n",
    "\\end{cases}\n",
    "$$\n",
    "\n",
    "In otherwords, using a cubic spline with 2 knots, we are going to fit a cubic polynomial in 3 different regions. \n",
    "\n",
    "BUT, a cubic spline requires 3 things to be met\n",
    "\n",
    "1. Continuity at boundaries: $C_1(1) = C_2(1)$; $C_2(2) = C_3(2)$ \n",
    "2. Continuity of 1st derivative at boundaries: $C_1^{'}(1) = C_2^{'}(1)$; $C_2^{'}(2) = C_3^{'}(2)$ \n",
    "3. Continuity of 2nd derivative at boundaries: $C_1^{''}(1) = C_2^{''}(1)$; $C_2^{''}(2) = C_3^{''}(2)$ \n",
    "\n",
    "In otherwords, \n",
    "1. A cubic spline requires the functions and their 1st and 2nd derivatives to be equal at the boundaries. Or\n",
    "2. We require that the value, 1st derivative, and 2nd derivative at the end of $C_1$ to equal the value, 1st derivative and 2nd derivative at the beginning of $C_2$\n",
    "\n",
    "\n",
    "A **natural cubic spline** is then a cubic spline with the added assumption that $C_1^{''}(0) = 0$ and $C_3^{''}(3)=0$. That is it requires the second derivative at the boundaries of $x$ ($0 < x < 3$) to be equal to zero.\n"
   ]
  },
  {
   "cell_type": "markdown",
   "metadata": {},
   "source": [
    "### General Cubic Spline\n",
    "More generally then, assuming the boundary is $a < x < b$ (note the boundaries is usaully the minimum and maximum of the dataset), then a cubic spline of degree $K$ is\n",
    "\n",
    "$$F(x)=\\begin{cases} \n",
    "C_1(x) = a_1 + b_1x +c_1x^2+d_1x^3\\quad &\\textrm{for }\\ a < x < \\xi_1\\\\\n",
    "C_2(x) = a_2 + b_2x +c_2x^2+d_2x^3\\quad &\\textrm{for }\\ \\xi_1 < x < \\xi_2\\\\\n",
    "C_3(x) = a_3 + b_3x +c_3x^2+d_3x^3\\quad &\\textrm{for }\\ \\xi_2 < x < \\xi_3\\\\\n",
    "\\cdots \\\\\n",
    "C_K(x) = a_k + b_kx + c_kx^2+d_kx^3\\quad &\\textrm{for }\\ \\xi_{K-1} < x < b\\\\\n",
    "\\end{cases}\n",
    "$$\n",
    "\n",
    "with \n",
    "1. Continuity at boundaries: $C_i(\\xi_i)=C_{i+1}(\\xi_i)$. Note that $x_i$ is the end for the $C_i$ function, but the beginning of the $C_{i+1}$ function.\n",
    "2. Continuity of 1st derivatives at boundaries: $C_i^{'}(\\xi_i)=C_{i+1}^{'}(\\xi_i)$\n",
    "2. Continuity of 2nd derivatives at boundaries: $C_i^{''}(\\xi_i)=C_{i+1}^{''}(\\xi_i)$\n",
    "\n",
    "### General Natural Cubic Spline\n",
    "A natural cubic spline will then assume everything above, with the new assumption that\n",
    "\n",
    "$$C_1^{''}(a)=0\\qquad C_K^{''}(b)=0$$"
   ]
  },
  {
   "cell_type": "markdown",
   "metadata": {},
   "source": [
    "### GAMs!\n",
    "\n",
    "So GAMs are very simple in idea. \n",
    "\n",
    "If we think back to linear regression, we make the model be \n",
    "$$\\large Y = \\beta_0 + \\beta_1x_1 + \\beta_2x_2 + \\cdots + \\beta_px_p$$\n",
    "\n",
    "But, in GAMs, instead of each predictor having their own coefficient, we instead assume that each predictor has their own function\n",
    "$$\\large Y = \\alpha_0 + f_1(x_1) + f_2(x_2) + \\cdots + f_p(x_p)$$\n",
    "\n",
    "### How To Fit a GAM\n",
    "Of course, the question now is how do you choose and fit the functions $f_1, f_2, f_3, ...$\n",
    "\n",
    "### GAM & BackFitting\n",
    "Suppose we had $n$ datapoints and 3 predictors, $X_1,X_2,X_3$. The aim of backfitting is to find the corresponding functions $\\hat{f}_1,\\hat{f}_2,\\hat{f}_3$.\n",
    "\n",
    "To do that, we start of with a random guess of these functions. Doesn't really matter what you guess them as, but we'll just start of with $\\hat{f}_1 = 0,\\hat{f}_2 = 0,\\hat{f}_3 = 0$. Note that one could of just as easily started of with these functions a linear regression functions.\n",
    "\n",
    "First, we will fix $\\hat{\\alpha}$ as the mean of the data,\n",
    "$$\\hat{\\alpha} = \\frac{1}{n}\\sum_{i=1}^nY_i$$\n",
    "\n",
    "Now to find $\\hat{f}_1$, we actually fit $\\hat{f}_1$ according to the partial-residuals\n",
    "$$e_1 = Y - \\left[\\hat{\\alpha} + \\hat{f}_2(X_2) + \\hat{f}_3(X_3)\\right]$$\n",
    "Then $\\hat{f}_2$ is fitted according to the new partial-residuals\n",
    "$$e_2 = Y - \\left[\\hat{\\alpha} + \\hat{f}_1(X_1) + \\hat{f}_3(X_3)\\right]$$\n",
    "Finally $\\hat{f}_3$ is fitted according to the new partial-residuals\n",
    "$$e_3 = Y - \\left[\\hat{\\alpha} + \\hat{f}_1(X_1) + \\hat{f}_2(X_2)\\right]$$\n",
    "\n",
    "The total residual is then calculated\n",
    "$$\\mathcal{E} = Y - \\left[\\hat{\\alpha} + \\hat{f}_1(X_1) + \\hat{f}_2(X_2)+ \\hat{f}_3(X_3)\\right]$$\n",
    "We continue this process until the total residual, $\\mathcal{E}$, fits some stopping criteron.\n",
    "\n",
    "https://en.wikipedia.org/wiki/Backfitting_algorithm\n"
   ]
  },
  {
   "cell_type": "code",
   "execution_count": null,
   "metadata": {},
   "outputs": [],
   "source": []
  }
 ],
 "metadata": {
  "kernelspec": {
   "display_name": "Python 3",
   "language": "python",
   "name": "python3"
  },
  "language_info": {
   "codemirror_mode": {
    "name": "ipython",
    "version": 3
   },
   "file_extension": ".py",
   "mimetype": "text/x-python",
   "name": "python",
   "nbconvert_exporter": "python",
   "pygments_lexer": "ipython3",
   "version": "3.7.6"
  }
 },
 "nbformat": 4,
 "nbformat_minor": 4
}

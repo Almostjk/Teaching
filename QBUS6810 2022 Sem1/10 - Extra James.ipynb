{
 "cells": [
  {
   "cell_type": "markdown",
   "metadata": {},
   "source": [
    "### Boosting\n",
    "\n",
    "https://medium.com/greyatom/a-quick-guide-to-boosting-in-ml-acf7c1585cb5\n",
    "\n",
    "https://towardsdatascience.com/https-medium-com-vishalmorde-xgboost-algorithm-long-she-may-rein-edd9f99be63d\n",
    "\n",
    "------------------------\n",
    "\n",
    "<center><img src=\"https://i.redd.it/igc0n2r7svu61.png\" width=\"400\"></center>\n",
    "\n",
    "Answer: https://old.reddit.com/r/learnmachinelearning/comments/mwqgut/data_science_interview_question_asked_by_apple/gvkr5a9/"
   ]
  },
  {
   "cell_type": "markdown",
   "metadata": {},
   "source": [
    "# Book\n",
    "Neural Networks: Tricks of the trade page 54 (61)"
   ]
  }
 ],
 "metadata": {
  "kernelspec": {
   "display_name": "Python 3",
   "language": "python",
   "name": "python3"
  },
  "language_info": {
   "codemirror_mode": {
    "name": "ipython",
    "version": 3
   },
   "file_extension": ".py",
   "mimetype": "text/x-python",
   "name": "python",
   "nbconvert_exporter": "python",
   "pygments_lexer": "ipython3",
   "version": "3.7.6"
  }
 },
 "nbformat": 4,
 "nbformat_minor": 4
}

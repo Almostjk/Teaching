{
 "cells": [
  {
   "cell_type": "code",
   "execution_count": 1,
   "metadata": {},
   "outputs": [],
   "source": [
    "# General Imports\n",
    "import numpy as np\n",
    "import matplotlib.pyplot as plt\n",
    "import warnings\n",
    "\n",
    "# Imports for data mangling\n",
    "import pandas as pd\n",
    "from sklearn.model_selection import train_test_split\n",
    "from sklearn.model_selection import cross_val_score\n",
    "from sklearn.neighbors import KNeighborsRegressor\n",
    "from sklearn.model_selection import RepeatedKFold\n",
    "\n",
    "# Imports for GP Regressor\n",
    "from sklearn.gaussian_process import GaussianProcessRegressor\n",
    "from sklearn.gaussian_process.kernels import RBF, Matern"
   ]
  },
  {
   "cell_type": "code",
   "execution_count": 2,
   "metadata": {},
   "outputs": [
    {
     "data": {
      "text/html": [
       "<div>\n",
       "<style scoped>\n",
       "    .dataframe tbody tr th:only-of-type {\n",
       "        vertical-align: middle;\n",
       "    }\n",
       "\n",
       "    .dataframe tbody tr th {\n",
       "        vertical-align: top;\n",
       "    }\n",
       "\n",
       "    .dataframe thead th {\n",
       "        text-align: right;\n",
       "    }\n",
       "</style>\n",
       "<table border=\"1\" class=\"dataframe\">\n",
       "  <thead>\n",
       "    <tr style=\"text-align: right;\">\n",
       "      <th></th>\n",
       "      <th>Income</th>\n",
       "      <th>Limit</th>\n",
       "      <th>Rating</th>\n",
       "      <th>Cards</th>\n",
       "      <th>Age</th>\n",
       "      <th>Education</th>\n",
       "      <th>Gender</th>\n",
       "      <th>Student</th>\n",
       "      <th>Married</th>\n",
       "      <th>Ethnicity</th>\n",
       "      <th>Balance</th>\n",
       "    </tr>\n",
       "    <tr>\n",
       "      <th>Obs</th>\n",
       "      <th></th>\n",
       "      <th></th>\n",
       "      <th></th>\n",
       "      <th></th>\n",
       "      <th></th>\n",
       "      <th></th>\n",
       "      <th></th>\n",
       "      <th></th>\n",
       "      <th></th>\n",
       "      <th></th>\n",
       "      <th></th>\n",
       "    </tr>\n",
       "  </thead>\n",
       "  <tbody>\n",
       "    <tr>\n",
       "      <th>1</th>\n",
       "      <td>14.891</td>\n",
       "      <td>3606</td>\n",
       "      <td>283</td>\n",
       "      <td>2</td>\n",
       "      <td>34</td>\n",
       "      <td>11</td>\n",
       "      <td>Male</td>\n",
       "      <td>No</td>\n",
       "      <td>Yes</td>\n",
       "      <td>Caucasian</td>\n",
       "      <td>333</td>\n",
       "    </tr>\n",
       "    <tr>\n",
       "      <th>2</th>\n",
       "      <td>106.025</td>\n",
       "      <td>6645</td>\n",
       "      <td>483</td>\n",
       "      <td>3</td>\n",
       "      <td>82</td>\n",
       "      <td>15</td>\n",
       "      <td>Female</td>\n",
       "      <td>Yes</td>\n",
       "      <td>Yes</td>\n",
       "      <td>Asian</td>\n",
       "      <td>903</td>\n",
       "    </tr>\n",
       "    <tr>\n",
       "      <th>3</th>\n",
       "      <td>104.593</td>\n",
       "      <td>7075</td>\n",
       "      <td>514</td>\n",
       "      <td>4</td>\n",
       "      <td>71</td>\n",
       "      <td>11</td>\n",
       "      <td>Male</td>\n",
       "      <td>No</td>\n",
       "      <td>No</td>\n",
       "      <td>Asian</td>\n",
       "      <td>580</td>\n",
       "    </tr>\n",
       "    <tr>\n",
       "      <th>4</th>\n",
       "      <td>148.924</td>\n",
       "      <td>9504</td>\n",
       "      <td>681</td>\n",
       "      <td>3</td>\n",
       "      <td>36</td>\n",
       "      <td>11</td>\n",
       "      <td>Female</td>\n",
       "      <td>No</td>\n",
       "      <td>No</td>\n",
       "      <td>Asian</td>\n",
       "      <td>964</td>\n",
       "    </tr>\n",
       "    <tr>\n",
       "      <th>5</th>\n",
       "      <td>55.882</td>\n",
       "      <td>4897</td>\n",
       "      <td>357</td>\n",
       "      <td>2</td>\n",
       "      <td>68</td>\n",
       "      <td>16</td>\n",
       "      <td>Male</td>\n",
       "      <td>No</td>\n",
       "      <td>Yes</td>\n",
       "      <td>Caucasian</td>\n",
       "      <td>331</td>\n",
       "    </tr>\n",
       "  </tbody>\n",
       "</table>\n",
       "</div>"
      ],
      "text/plain": [
       "      Income  Limit  Rating  Cards  Age  Education  Gender Student Married  \\\n",
       "Obs                                                                          \n",
       "1     14.891   3606     283      2   34         11    Male      No     Yes   \n",
       "2    106.025   6645     483      3   82         15  Female     Yes     Yes   \n",
       "3    104.593   7075     514      4   71         11    Male      No      No   \n",
       "4    148.924   9504     681      3   36         11  Female      No      No   \n",
       "5     55.882   4897     357      2   68         16    Male      No     Yes   \n",
       "\n",
       "     Ethnicity  Balance  \n",
       "Obs                      \n",
       "1    Caucasian      333  \n",
       "2        Asian      903  \n",
       "3        Asian      580  \n",
       "4        Asian      964  \n",
       "5    Caucasian      331  "
      ]
     },
     "execution_count": 2,
     "metadata": {},
     "output_type": "execute_result"
    }
   ],
   "source": [
    "data = pd.read_csv('Credit.csv', index_col='Obs')\n",
    "data.head()"
   ]
  },
  {
   "cell_type": "code",
   "execution_count": 3,
   "metadata": {},
   "outputs": [
    {
     "data": {
      "text/html": [
       "<div>\n",
       "<style scoped>\n",
       "    .dataframe tbody tr th:only-of-type {\n",
       "        vertical-align: middle;\n",
       "    }\n",
       "\n",
       "    .dataframe tbody tr th {\n",
       "        vertical-align: top;\n",
       "    }\n",
       "\n",
       "    .dataframe thead th {\n",
       "        text-align: right;\n",
       "    }\n",
       "</style>\n",
       "<table border=\"1\" class=\"dataframe\">\n",
       "  <thead>\n",
       "    <tr style=\"text-align: right;\">\n",
       "      <th></th>\n",
       "      <th>Income</th>\n",
       "      <th>Limit</th>\n",
       "      <th>Rating</th>\n",
       "      <th>Cards</th>\n",
       "      <th>Age</th>\n",
       "      <th>Education</th>\n",
       "      <th>Gender</th>\n",
       "      <th>Student</th>\n",
       "      <th>Married</th>\n",
       "      <th>Ethnicity</th>\n",
       "      <th>Balance</th>\n",
       "    </tr>\n",
       "    <tr>\n",
       "      <th>Obs</th>\n",
       "      <th></th>\n",
       "      <th></th>\n",
       "      <th></th>\n",
       "      <th></th>\n",
       "      <th></th>\n",
       "      <th></th>\n",
       "      <th></th>\n",
       "      <th></th>\n",
       "      <th></th>\n",
       "      <th></th>\n",
       "      <th></th>\n",
       "    </tr>\n",
       "  </thead>\n",
       "  <tbody>\n",
       "    <tr>\n",
       "      <th>400</th>\n",
       "      <td>18.701</td>\n",
       "      <td>5524</td>\n",
       "      <td>415</td>\n",
       "      <td>5</td>\n",
       "      <td>64</td>\n",
       "      <td>7</td>\n",
       "      <td>Female</td>\n",
       "      <td>No</td>\n",
       "      <td>No</td>\n",
       "      <td>Asian</td>\n",
       "      <td>966</td>\n",
       "    </tr>\n",
       "    <tr>\n",
       "      <th>26</th>\n",
       "      <td>14.090</td>\n",
       "      <td>4323</td>\n",
       "      <td>326</td>\n",
       "      <td>5</td>\n",
       "      <td>25</td>\n",
       "      <td>16</td>\n",
       "      <td>Female</td>\n",
       "      <td>No</td>\n",
       "      <td>Yes</td>\n",
       "      <td>African American</td>\n",
       "      <td>671</td>\n",
       "    </tr>\n",
       "    <tr>\n",
       "      <th>280</th>\n",
       "      <td>54.319</td>\n",
       "      <td>3063</td>\n",
       "      <td>248</td>\n",
       "      <td>3</td>\n",
       "      <td>59</td>\n",
       "      <td>8</td>\n",
       "      <td>Female</td>\n",
       "      <td>Yes</td>\n",
       "      <td>No</td>\n",
       "      <td>Caucasian</td>\n",
       "      <td>269</td>\n",
       "    </tr>\n",
       "    <tr>\n",
       "      <th>261</th>\n",
       "      <td>67.937</td>\n",
       "      <td>5184</td>\n",
       "      <td>383</td>\n",
       "      <td>4</td>\n",
       "      <td>63</td>\n",
       "      <td>12</td>\n",
       "      <td>Male</td>\n",
       "      <td>No</td>\n",
       "      <td>Yes</td>\n",
       "      <td>Asian</td>\n",
       "      <td>345</td>\n",
       "    </tr>\n",
       "    <tr>\n",
       "      <th>131</th>\n",
       "      <td>23.793</td>\n",
       "      <td>3821</td>\n",
       "      <td>281</td>\n",
       "      <td>4</td>\n",
       "      <td>56</td>\n",
       "      <td>12</td>\n",
       "      <td>Female</td>\n",
       "      <td>Yes</td>\n",
       "      <td>Yes</td>\n",
       "      <td>African American</td>\n",
       "      <td>868</td>\n",
       "    </tr>\n",
       "  </tbody>\n",
       "</table>\n",
       "</div>"
      ],
      "text/plain": [
       "     Income  Limit  Rating  Cards  Age  Education  Gender Student Married  \\\n",
       "Obs                                                                         \n",
       "400  18.701   5524     415      5   64          7  Female      No      No   \n",
       "26   14.090   4323     326      5   25         16  Female      No     Yes   \n",
       "280  54.319   3063     248      3   59          8  Female     Yes      No   \n",
       "261  67.937   5184     383      4   63         12    Male      No     Yes   \n",
       "131  23.793   3821     281      4   56         12  Female     Yes     Yes   \n",
       "\n",
       "            Ethnicity  Balance  \n",
       "Obs                             \n",
       "400             Asian      966  \n",
       "26   African American      671  \n",
       "280         Caucasian      269  \n",
       "261             Asian      345  \n",
       "131  African American      868  "
      ]
     },
     "execution_count": 3,
     "metadata": {},
     "output_type": "execute_result"
    }
   ],
   "source": [
    "index_train, index_valid  = train_test_split(data.index, train_size=0.7, random_state=10)\n",
    "\n",
    "# Write training and validation sets \n",
    "train = data.loc[index_train, :].copy() \n",
    "valid =  data.loc[index_valid, :].copy()\n",
    "\n",
    "# Response label\n",
    "response = 'Balance'\n",
    "\n",
    "# Response vectors \n",
    "y_train = train[response]\n",
    "y_valid = valid[response]\n",
    "\n",
    "train.head()"
   ]
  },
  {
   "cell_type": "code",
   "execution_count": 4,
   "metadata": {},
   "outputs": [],
   "source": [
    "predictors = ['Limit', 'Income'] \n",
    "X_train = train[predictors] "
   ]
  },
  {
   "cell_type": "markdown",
   "metadata": {},
   "source": [
    "https://planspace.org/20181226-gaussian_processes_are_not_so_fancy/\n",
    "\n",
    "https://arxiv.org/pdf/1012.2599.pdf\n",
    "\n",
    "https://machinelearningmastery.com/what-is-bayesian-optimization/"
   ]
  },
  {
   "cell_type": "markdown",
   "metadata": {},
   "source": [
    "# KNN"
   ]
  },
  {
   "cell_type": "code",
   "execution_count": 5,
   "metadata": {
    "code_folding": [
     0
    ]
   },
   "outputs": [],
   "source": [
    "class GaussianProcessV2:\n",
    "    def __init__(self, x=None, y=None, length_scale=1, stretch=1, kernel=RBF()):\n",
    "        self.x = x\n",
    "        self.y = y\n",
    "        self.model = GaussianProcessRegressor(kernel=kernel)\n",
    "        \n",
    "        self._fit_model()\n",
    "        \n",
    "    def _fit_model(self):\n",
    "        if self.x is None or self.y is None:\n",
    "            return\n",
    "        \n",
    "        self.model.fit(self.x, self.y)\n",
    "    \n",
    "    def mean(self, x1):\n",
    "        if len(x1.shape) == 1:\n",
    "            x1 = x1.reshape(-1, 1)\n",
    "        \n",
    "        return self.model.predict(x1, return_std=False)\n",
    "    \n",
    "    def std(self, x1):\n",
    "        if len(x1.shape) == 1:\n",
    "            x1 = x1.reshape(-1, 1)\n",
    "        \n",
    "        _, std = self.model.predict(x1, return_std=True)\n",
    "        return std\n",
    "    \n",
    "    def update_prior(self, x1, y1):\n",
    "        assert isinstance(x1, (int, float)), \"x1 only accepts integer or float values\"\n",
    "        assert isinstance(y1, (int, float)), \"y1 only accepts integer or float values\"\n",
    "        \n",
    "        if self.x is not None:\n",
    "            self._check_if_in_prior(x1, e=1e-7)\n",
    "        \n",
    "            self.x = np.concatenate([self.x, np.array([[x1]])])\n",
    "            self.y = np.concatenate([self.y, np.array([y1])])\n",
    "        else:\n",
    "            self.x = np.array([[x1]])\n",
    "            self.y = np.array([y1])\n",
    "            \n",
    "        self._fit_model()\n",
    "            \n",
    "    def _check_if_in_prior(self, x1, e=1e-7):\n",
    "        if np.any(abs(self.x - x1) < e):\n",
    "            raise ValueError(f\"The given datapoint, {x1} is already in the priors and will not be added.\")"
   ]
  },
  {
   "cell_type": "code",
   "execution_count": 6,
   "metadata": {},
   "outputs": [],
   "source": [
    "def get_knn_error(n_neighbours):\n",
    "    knn = KNeighborsRegressor(n_neighbors=n_neighbours, \n",
    "                              metric='mahalanobis', metric_params={'V': X_train.cov()})\n",
    "    \n",
    "    rkf = RepeatedKFold(n_splits=5, n_repeats=5, random_state=100)\n",
    "    scores = cross_val_score(knn, X_train, y_train, \n",
    "                             cv=rkf, scoring='neg_mean_squared_error')\n",
    "    \n",
    "    rmse = np.sqrt(-1*np.mean(scores))\n",
    "    return rmse\n",
    "\n",
    "cv_error_for_knn = [get_knn_error(k) for k in np.arange(1, 21)]"
   ]
  },
  {
   "cell_type": "code",
   "execution_count": 7,
   "metadata": {},
   "outputs": [
    {
     "data": {
      "image/png": "[encoded data removed]",
      "text/plain": [
       "<Figure size 936x432 with 1 Axes>"
      ]
     },
     "metadata": {
      "needs_background": "light"
     },
     "output_type": "display_data"
    }
   ],
   "source": [
    "plt.figure(figsize=(13, 6))\n",
    "\n",
    "plt.plot(np.arange(1, 21), cv_error_for_knn, label='True CV Error')\n",
    "\n",
    "plt.legend();"
   ]
  },
  {
   "cell_type": "code",
   "execution_count": 30,
   "metadata": {},
   "outputs": [],
   "source": [
    "gp = GaussianProcessV2(kernel=RBF() * 2)"
   ]
  },
  {
   "cell_type": "code",
   "execution_count": 47,
   "metadata": {},
   "outputs": [
    {
     "data": {
      "text/plain": [
       "{'x': array([[ 4],\n",
       "        [20],\n",
       "        [13],\n",
       "        [ 6]]),\n",
       " 'y': array([159.02824912, 168.16945263, 157.23153615, 154.17804417]),\n",
       " 'model': GaussianProcessRegressor(kernel=RBF(length_scale=1) * 1.41**2)}"
      ]
     },
     "execution_count": 47,
     "metadata": {},
     "output_type": "execute_result"
    }
   ],
   "source": [
    "gp.__dict__"
   ]
  },
  {
   "cell_type": "code",
   "execution_count": null,
   "metadata": {},
   "outputs": [],
   "source": []
  },
  {
   "cell_type": "code",
   "execution_count": 31,
   "metadata": {},
   "outputs": [
    {
     "data": {
      "text/plain": [
       "280"
      ]
     },
     "execution_count": 31,
     "metadata": {},
     "output_type": "execute_result"
    }
   ],
   "source": [
    "len(X_train)"
   ]
  },
  {
   "cell_type": "code",
   "execution_count": 43,
   "metadata": {},
   "outputs": [
    {
     "name": "stdout",
     "output_type": "stream",
     "text": [
      "k = 6; RMSE = 154.17804417476424\n"
     ]
    }
   ],
   "source": [
    "k = 6\n",
    "\n",
    "knn = KNeighborsRegressor(n_neighbors=k, metric='mahalanobis', metric_params={'V': X_train.cov()})\n",
    "\n",
    "rkf = RepeatedKFold(n_splits=5, n_repeats=5, random_state=100)\n",
    "scores = cross_val_score(knn, X_train, y_train, cv=rkf, scoring='neg_mean_squared_error')\n",
    "\n",
    "rmse = np.sqrt(-1*np.mean(scores))\n",
    "print(f\"k = {k}; RMSE = {rmse}\")"
   ]
  },
  {
   "cell_type": "code",
   "execution_count": 44,
   "metadata": {},
   "outputs": [],
   "source": [
    "gp.update_prior(k, rmse)"
   ]
  },
  {
   "cell_type": "code",
   "execution_count": 45,
   "metadata": {},
   "outputs": [
    {
     "data": {
      "text/plain": [
       "[(array([4]), 159.02824911900763),\n",
       " (array([20]), 168.16945262570303),\n",
       " (array([13]), 157.23153614788984),\n",
       " (array([6]), 154.17804417476424)]"
      ]
     },
     "execution_count": 45,
     "metadata": {},
     "output_type": "execute_result"
    }
   ],
   "source": [
    "list(zip(gp.x, gp.y))"
   ]
  },
  {
   "cell_type": "code",
   "execution_count": null,
   "metadata": {},
   "outputs": [],
   "source": []
  },
  {
   "cell_type": "code",
   "execution_count": 46,
   "metadata": {},
   "outputs": [
    {
     "data": {
      "image/png": "[encoded data removed]",
      "text/plain": [
       "<Figure size 936x432 with 1 Axes>"
      ]
     },
     "metadata": {
      "needs_background": "light"
     },
     "output_type": "display_data"
    }
   ],
   "source": [
    "plt.figure(figsize=(13, 6))\n",
    "x_vals = np.linspace(1, 20, 200)\n",
    "\n",
    "plt.plot(x_vals, gp.mean(x_vals), label='$\\mu(x)$')\n",
    "plt.plot(x_vals, gp.mean(x_vals) + 2 * gp.std(x_vals), '--', label='$\\mu(x) + 2\\sigma$')\n",
    "plt.plot(x_vals, gp.mean(x_vals) - 2 * gp.std(x_vals), '--', label='$\\mu(x) - 2\\sigma$')\n",
    "\n",
    "plt.scatter(gp.x.flatten(), gp.y, s=70, label='Sample Datapoints', color='Black', zorder=5)\n",
    "plt.legend();"
   ]
  },
  {
   "cell_type": "code",
   "execution_count": 145,
   "metadata": {},
   "outputs": [
    {
     "data": {
      "text/plain": [
       "0.8333333333333334"
      ]
     },
     "execution_count": 145,
     "metadata": {},
     "output_type": "execute_result"
    }
   ],
   "source": [
    "5 / 6"
   ]
  },
  {
   "cell_type": "markdown",
   "metadata": {},
   "source": [
    "# GP Estimation vs True CV Error"
   ]
  },
  {
   "cell_type": "code",
   "execution_count": 169,
   "metadata": {},
   "outputs": [
    {
     "data": {
      "image/png": "[encoded data removed]",
      "text/plain": [
       "<Figure size 936x432 with 1 Axes>"
      ]
     },
     "metadata": {
      "needs_background": "light"
     },
     "output_type": "display_data"
    }
   ],
   "source": [
    "plt.figure(figsize=(13, 6))\n",
    "\n",
    "# Plot the CV Error\n",
    "plt.plot(np.arange(1, 21), cv_error_for_knn, label='True CV Error')\n",
    "\n",
    "# Plot the GP\n",
    "x_vals = np.linspace(1, 20, 200)\n",
    "\n",
    "plt.plot(x_vals, gp.mean(x_vals), label='$\\mu(x)$')\n",
    "plt.plot(x_vals, gp.mean(x_vals) + 2 * gp.std(x_vals), '--', label='$\\mu(x) + 2\\sigma$')\n",
    "plt.plot(x_vals, gp.mean(x_vals) - 2 * gp.std(x_vals), '--', label='$\\mu(x) - 2\\sigma$')\n",
    "\n",
    "plt.scatter(gp.x.flatten(), gp.y, s=70, label='Sample Datapoints', color='Black', zorder=5)\n",
    "plt.legend();"
   ]
  },
  {
   "cell_type": "code",
   "execution_count": null,
   "metadata": {},
   "outputs": [],
   "source": []
  },
  {
   "cell_type": "code",
   "execution_count": null,
   "metadata": {},
   "outputs": [],
   "source": []
  },
  {
   "cell_type": "code",
   "execution_count": null,
   "metadata": {},
   "outputs": [],
   "source": []
  }
 ],
 "metadata": {
  "kernelspec": {
   "display_name": "Python 3",
   "language": "python",
   "name": "python3"
  },
  "language_info": {
   "codemirror_mode": {
    "name": "ipython",
    "version": 3
   },
   "file_extension": ".py",
   "mimetype": "text/x-python",
   "name": "python",
   "nbconvert_exporter": "python",
   "pygments_lexer": "ipython3",
   "version": "3.7.6"
  }
 },
 "nbformat": 4,
 "nbformat_minor": 4
}

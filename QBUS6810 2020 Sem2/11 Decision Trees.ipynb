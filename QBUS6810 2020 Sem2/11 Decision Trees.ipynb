{
 "cells": [
  {
   "cell_type": "markdown",
   "metadata": {},
   "source": [
    "# Recursive Binary Splitting\n",
    "\n",
    "In order to perform recursive binary splitting, we first select the predictor $X_j$ and the cutpoint $s$ such that the splitting the predictor space into the regions $\\{X|X_j < s\\}$ and $\\{X|X_j\\geq s\\}$ leads to the greatest possible reduction in RSS. (The notation $\\{X|X_j < s\\}$ means the the region of predictor space in which $X_j$ takes on a value less than $s$.) That is, we consider all predictors $X_1,...,X_p$ and all possible values of the cutpoint $s$ for each of the predictors, and then choose the predictor and cutpoint such that the resulting tree has the lowest RSS.\n",
    "\n",
    "# Cost Complexity Pruning\n",
    "\n",
    "https://www.isip.piconepress.com/courses/msstate/ece_8463/lectures/current/lecture_27/lecture_27_07.html\n",
    "\n",
    "https://medium.com/@sanchitamangale12/decision-tree-pruning-cost-complexity-method-194666a5dd2f"
   ]
  },
  {
   "cell_type": "markdown",
   "metadata": {},
   "source": [
    "<img align=\"center\" src=\"http://sydney.edu.au/images/content/about/logo-mono.jpg\">\n",
    "<h1 align=\"center\" style=\"margin-top:10px\">Statistical Learning and Data Mining</h1>\n",
    "<h2 align=\"center\" style=\"margin-top:20px\">Tutorial 11: Decision Trees</h2>\n",
    "<br>\n",
    " \n",
    "This tutorial shows you how to apply decision trees to classification problems using Python.  \n",
    " \n",
    "<a href=\"#1.-Work-Analytics-Data\">Work analytics data</a> <br>\n",
    "<a href=\"#2.-Exploratory-Data-Analysis\">Exploratory data analysis</a> <br>\n",
    "<a href=\"#3.-Feature-Engineering\">Feature engineering</a> <br>\n",
    "<a href=\"#4.-Classification-Tree\">Classification tree</a> <br>\n",
    "<a href=\"#5.-Bagging\">Bagging</a> <br>\n",
    "<a href=\"#6.-Probability-Calibration\">Probability Calibration</a> <br>\n",
    "<a href=\"#7.-Evaluation\">Evaluation</a> <br>\n",
    "<a href=\"#8.-Things to try\">Things to try</a> <br>\n",
    "\n",
    "This notebook relies on the following libraries and settings."
   ]
  },
  {
   "cell_type": "code",
   "execution_count": 1,
   "metadata": {},
   "outputs": [],
   "source": [
    "# Packages\n",
    "import pandas as pd\n",
    "import numpy as np\n",
    "import matplotlib.pyplot as plt\n",
    "import seaborn as sns\n",
    "import warnings\n",
    "warnings.filterwarnings('ignore') "
   ]
  },
  {
   "cell_type": "code",
   "execution_count": 2,
   "metadata": {},
   "outputs": [],
   "source": [
    "# Plot settings\n",
    "sns.set_context('notebook') # optimises figures for notebook display\n",
    "sns.set_style('ticks') # set default plot style\n",
    "colours = ['#4E79A7','#F28E2C','#E15759','#76B7B2','#59A14F', \n",
    "          '#EDC949','#AF7AA1','#FF9DA7','#9C755F','#BAB0AB']\n",
    "sns.set_palette(colours) # set custom color scheme\n",
    "%matplotlib inline\n",
    "plt.rcParams['figure.figsize'] = (9, 6)"
   ]
  },
  {
   "cell_type": "code",
   "execution_count": 3,
   "metadata": {},
   "outputs": [],
   "source": [
    "# Methods\n",
    "from sklearn.linear_model import LogisticRegression\n",
    "\n",
    "# Model selection and evaluation tools\n",
    "from sklearn.model_selection import train_test_split\n",
    "from sklearn.model_selection import GridSearchCV\n",
    "from sklearn.metrics import accuracy_score, confusion_matrix, roc_auc_score\n",
    "from sklearn.metrics import precision_score, average_precision_score, log_loss"
   ]
  },
  {
   "cell_type": "markdown",
   "metadata": {},
   "source": [
    "## 1. HR Analytics Data\n",
    "\n",
    "We use the [Human Resources Analytics](https://www.kaggle.com/ludobenistant/hr-analytics) data available from [Kaggle Datasets](https://www.kaggle.com/datasets).\n",
    "\n",
    "**Problem formulation:**  our objective is predict which employees will leave the company with the highest possible accuracy (zero-one loss)."
   ]
  },
  {
   "cell_type": "code",
   "execution_count": 4,
   "metadata": {},
   "outputs": [
    {
     "data": {
      "text/html": [
       "<div>\n",
       "<style scoped>\n",
       "    .dataframe tbody tr th:only-of-type {\n",
       "        vertical-align: middle;\n",
       "    }\n",
       "\n",
       "    .dataframe tbody tr th {\n",
       "        vertical-align: top;\n",
       "    }\n",
       "\n",
       "    .dataframe thead th {\n",
       "        text-align: right;\n",
       "    }\n",
       "</style>\n",
       "<table border=\"1\" class=\"dataframe\">\n",
       "  <thead>\n",
       "    <tr style=\"text-align: right;\">\n",
       "      <th></th>\n",
       "      <th>satisfaction_level</th>\n",
       "      <th>last_evaluation</th>\n",
       "      <th>number_project</th>\n",
       "      <th>average_montly_hours</th>\n",
       "      <th>time_spend_company</th>\n",
       "      <th>Work_accident</th>\n",
       "      <th>left</th>\n",
       "      <th>promotion_last_5years</th>\n",
       "      <th>role</th>\n",
       "      <th>salary</th>\n",
       "    </tr>\n",
       "  </thead>\n",
       "  <tbody>\n",
       "    <tr>\n",
       "      <th>0</th>\n",
       "      <td>0.38</td>\n",
       "      <td>0.53</td>\n",
       "      <td>2</td>\n",
       "      <td>157</td>\n",
       "      <td>3</td>\n",
       "      <td>0</td>\n",
       "      <td>1</td>\n",
       "      <td>0</td>\n",
       "      <td>sales</td>\n",
       "      <td>low</td>\n",
       "    </tr>\n",
       "    <tr>\n",
       "      <th>1</th>\n",
       "      <td>0.80</td>\n",
       "      <td>0.86</td>\n",
       "      <td>5</td>\n",
       "      <td>262</td>\n",
       "      <td>6</td>\n",
       "      <td>0</td>\n",
       "      <td>1</td>\n",
       "      <td>0</td>\n",
       "      <td>sales</td>\n",
       "      <td>medium</td>\n",
       "    </tr>\n",
       "    <tr>\n",
       "      <th>2</th>\n",
       "      <td>0.11</td>\n",
       "      <td>0.88</td>\n",
       "      <td>7</td>\n",
       "      <td>272</td>\n",
       "      <td>4</td>\n",
       "      <td>0</td>\n",
       "      <td>1</td>\n",
       "      <td>0</td>\n",
       "      <td>sales</td>\n",
       "      <td>medium</td>\n",
       "    </tr>\n",
       "    <tr>\n",
       "      <th>3</th>\n",
       "      <td>0.72</td>\n",
       "      <td>0.87</td>\n",
       "      <td>5</td>\n",
       "      <td>223</td>\n",
       "      <td>5</td>\n",
       "      <td>0</td>\n",
       "      <td>1</td>\n",
       "      <td>0</td>\n",
       "      <td>sales</td>\n",
       "      <td>low</td>\n",
       "    </tr>\n",
       "    <tr>\n",
       "      <th>4</th>\n",
       "      <td>0.37</td>\n",
       "      <td>0.52</td>\n",
       "      <td>2</td>\n",
       "      <td>159</td>\n",
       "      <td>3</td>\n",
       "      <td>0</td>\n",
       "      <td>1</td>\n",
       "      <td>0</td>\n",
       "      <td>sales</td>\n",
       "      <td>low</td>\n",
       "    </tr>\n",
       "  </tbody>\n",
       "</table>\n",
       "</div>"
      ],
      "text/plain": [
       "   satisfaction_level  last_evaluation  number_project  average_montly_hours  \\\n",
       "0                0.38             0.53               2                   157   \n",
       "1                0.80             0.86               5                   262   \n",
       "2                0.11             0.88               7                   272   \n",
       "3                0.72             0.87               5                   223   \n",
       "4                0.37             0.52               2                   159   \n",
       "\n",
       "   time_spend_company  Work_accident  left  promotion_last_5years   role  \\\n",
       "0                   3              0     1                      0  sales   \n",
       "1                   6              0     1                      0  sales   \n",
       "2                   4              0     1                      0  sales   \n",
       "3                   5              0     1                      0  sales   \n",
       "4                   3              0     1                      0  sales   \n",
       "\n",
       "   salary  \n",
       "0     low  \n",
       "1  medium  \n",
       "2  medium  \n",
       "3     low  \n",
       "4     low  "
      ]
     },
     "execution_count": 4,
     "metadata": {},
     "output_type": "execute_result"
    }
   ],
   "source": [
    "data = pd.read_csv('Data\\HR.csv')\n",
    "data = data.rename(columns = {'sales' : 'role'})\n",
    "data.head()"
   ]
  },
  {
   "cell_type": "code",
   "execution_count": 5,
   "metadata": {},
   "outputs": [],
   "source": [
    "response='left' # whether the employee left the company\n",
    "predictors = list(data.columns.values)\n",
    "predictors.remove(response)\n",
    "\n",
    "index_train, index_test  = train_test_split(np.array(data.index), stratify=data[response], \n",
    "                                            train_size=0.7, random_state=5)\n",
    "\n",
    "train = data.loc[index_train,].copy()\n",
    "test =  data.loc[index_test,:].copy()\n",
    "\n",
    "y_train = train[response]\n",
    "y_test = test[response]"
   ]
  },
  {
   "cell_type": "code",
   "execution_count": 6,
   "metadata": {},
   "outputs": [
    {
     "data": {
      "text/plain": [
       "10499"
      ]
     },
     "execution_count": 6,
     "metadata": {},
     "output_type": "execute_result"
    }
   ],
   "source": [
    "len(train)"
   ]
  },
  {
   "cell_type": "markdown",
   "metadata": {},
   "source": [
    "## 2. Exploratory Data Analysis\n",
    "\n",
    "\n",
    "### 2.1 Descriptive statistics"
   ]
  },
  {
   "cell_type": "code",
   "execution_count": 7,
   "metadata": {},
   "outputs": [
    {
     "data": {
      "text/html": [
       "<div>\n",
       "<style scoped>\n",
       "    .dataframe tbody tr th:only-of-type {\n",
       "        vertical-align: middle;\n",
       "    }\n",
       "\n",
       "    .dataframe tbody tr th {\n",
       "        vertical-align: top;\n",
       "    }\n",
       "\n",
       "    .dataframe thead th {\n",
       "        text-align: right;\n",
       "    }\n",
       "</style>\n",
       "<table border=\"1\" class=\"dataframe\">\n",
       "  <thead>\n",
       "    <tr style=\"text-align: right;\">\n",
       "      <th></th>\n",
       "      <th>satisfaction_level</th>\n",
       "      <th>last_evaluation</th>\n",
       "      <th>number_project</th>\n",
       "      <th>average_montly_hours</th>\n",
       "      <th>time_spend_company</th>\n",
       "      <th>Work_accident</th>\n",
       "      <th>left</th>\n",
       "      <th>promotion_last_5years</th>\n",
       "    </tr>\n",
       "  </thead>\n",
       "  <tbody>\n",
       "    <tr>\n",
       "      <th>count</th>\n",
       "      <td>10499.00</td>\n",
       "      <td>10499.00</td>\n",
       "      <td>10499.00</td>\n",
       "      <td>10499.00</td>\n",
       "      <td>10499.00</td>\n",
       "      <td>10499.00</td>\n",
       "      <td>10499.00</td>\n",
       "      <td>10499.00</td>\n",
       "    </tr>\n",
       "    <tr>\n",
       "      <th>mean</th>\n",
       "      <td>0.62</td>\n",
       "      <td>0.72</td>\n",
       "      <td>3.79</td>\n",
       "      <td>200.92</td>\n",
       "      <td>3.51</td>\n",
       "      <td>0.14</td>\n",
       "      <td>0.24</td>\n",
       "      <td>0.02</td>\n",
       "    </tr>\n",
       "    <tr>\n",
       "      <th>std</th>\n",
       "      <td>0.25</td>\n",
       "      <td>0.17</td>\n",
       "      <td>1.22</td>\n",
       "      <td>49.74</td>\n",
       "      <td>1.48</td>\n",
       "      <td>0.35</td>\n",
       "      <td>0.43</td>\n",
       "      <td>0.15</td>\n",
       "    </tr>\n",
       "    <tr>\n",
       "      <th>min</th>\n",
       "      <td>0.09</td>\n",
       "      <td>0.36</td>\n",
       "      <td>2.00</td>\n",
       "      <td>96.00</td>\n",
       "      <td>2.00</td>\n",
       "      <td>0.00</td>\n",
       "      <td>0.00</td>\n",
       "      <td>0.00</td>\n",
       "    </tr>\n",
       "    <tr>\n",
       "      <th>25%</th>\n",
       "      <td>0.44</td>\n",
       "      <td>0.56</td>\n",
       "      <td>3.00</td>\n",
       "      <td>156.00</td>\n",
       "      <td>3.00</td>\n",
       "      <td>0.00</td>\n",
       "      <td>0.00</td>\n",
       "      <td>0.00</td>\n",
       "    </tr>\n",
       "    <tr>\n",
       "      <th>50%</th>\n",
       "      <td>0.65</td>\n",
       "      <td>0.72</td>\n",
       "      <td>4.00</td>\n",
       "      <td>200.00</td>\n",
       "      <td>3.00</td>\n",
       "      <td>0.00</td>\n",
       "      <td>0.00</td>\n",
       "      <td>0.00</td>\n",
       "    </tr>\n",
       "    <tr>\n",
       "      <th>75%</th>\n",
       "      <td>0.82</td>\n",
       "      <td>0.87</td>\n",
       "      <td>5.00</td>\n",
       "      <td>245.00</td>\n",
       "      <td>4.00</td>\n",
       "      <td>0.00</td>\n",
       "      <td>0.00</td>\n",
       "      <td>0.00</td>\n",
       "    </tr>\n",
       "    <tr>\n",
       "      <th>max</th>\n",
       "      <td>1.00</td>\n",
       "      <td>1.00</td>\n",
       "      <td>7.00</td>\n",
       "      <td>310.00</td>\n",
       "      <td>10.00</td>\n",
       "      <td>1.00</td>\n",
       "      <td>1.00</td>\n",
       "      <td>1.00</td>\n",
       "    </tr>\n",
       "  </tbody>\n",
       "</table>\n",
       "</div>"
      ],
      "text/plain": [
       "       satisfaction_level  last_evaluation  number_project  \\\n",
       "count            10499.00         10499.00        10499.00   \n",
       "mean                 0.62             0.72            3.79   \n",
       "std                  0.25             0.17            1.22   \n",
       "min                  0.09             0.36            2.00   \n",
       "25%                  0.44             0.56            3.00   \n",
       "50%                  0.65             0.72            4.00   \n",
       "75%                  0.82             0.87            5.00   \n",
       "max                  1.00             1.00            7.00   \n",
       "\n",
       "       average_montly_hours  time_spend_company  Work_accident      left  \\\n",
       "count              10499.00            10499.00       10499.00  10499.00   \n",
       "mean                 200.92                3.51           0.14      0.24   \n",
       "std                   49.74                1.48           0.35      0.43   \n",
       "min                   96.00                2.00           0.00      0.00   \n",
       "25%                  156.00                3.00           0.00      0.00   \n",
       "50%                  200.00                3.00           0.00      0.00   \n",
       "75%                  245.00                4.00           0.00      0.00   \n",
       "max                  310.00               10.00           1.00      1.00   \n",
       "\n",
       "       promotion_last_5years  \n",
       "count               10499.00  \n",
       "mean                    0.02  \n",
       "std                     0.15  \n",
       "min                     0.00  \n",
       "25%                     0.00  \n",
       "50%                     0.00  \n",
       "75%                     0.00  \n",
       "max                     1.00  "
      ]
     },
     "execution_count": 7,
     "metadata": {},
     "output_type": "execute_result"
    }
   ],
   "source": [
    "train.describe().round(2)"
   ]
  },
  {
   "cell_type": "markdown",
   "metadata": {},
   "source": [
    "## 2.2 Relationship between the response and numerical predictors"
   ]
  },
  {
   "cell_type": "code",
   "execution_count": 8,
   "metadata": {},
   "outputs": [
    {
     "data": {
      "image/png": "[encoded data removed]",
      "text/plain": [
       "<Figure size 864x396 with 5 Axes>"
      ]
     },
     "metadata": {},
     "output_type": "display_data"
    }
   ],
   "source": [
    "from statlearning import plot_logistic_regressions\n",
    "plot_logistic_regressions(train[predictors].iloc[:,:5], y_train)\n",
    "plt.show()"
   ]
  },
  {
   "cell_type": "markdown",
   "metadata": {},
   "source": [
    "## 2.3 Relationship between the response and nominal predictors"
   ]
  },
  {
   "cell_type": "code",
   "execution_count": 9,
   "metadata": {},
   "outputs": [
    {
     "data": {
      "image/png": "[encoded data removed]",
      "text/plain": [
       "<Figure size 432x288 with 1 Axes>"
      ]
     },
     "metadata": {
      "needs_background": "light"
     },
     "output_type": "display_data"
    }
   ],
   "source": [
    "table = (train.groupby('promotion_last_5years')['left'].mean()).sort_values(ascending=False).round(3)\n",
    "fig, ax = plt.subplots(figsize=(6, 4))\n",
    "table.plot(kind='barh', ax=ax)\n",
    "ax.set_ylabel('')\n",
    "ax.set_xlabel('Left')\n",
    "ax.set_title('Attrition by Promotion Status')\n",
    "sns.despine()\n",
    "plt.show()"
   ]
  },
  {
   "cell_type": "code",
   "execution_count": 10,
   "metadata": {},
   "outputs": [
    {
     "data": {
      "image/png": "[encoded data removed]",
      "text/plain": [
       "<Figure size 648x432 with 1 Axes>"
      ]
     },
     "metadata": {
      "needs_background": "light"
     },
     "output_type": "display_data"
    }
   ],
   "source": [
    "table = (train.groupby('role')['left'].mean()).sort_values(ascending=False).round(3)\n",
    "fig, ax = plt.subplots()\n",
    "table.plot(kind='barh', ax=ax)\n",
    "ax.set_ylabel('')\n",
    "ax.set_xlabel('Left')\n",
    "ax.set_title('Attrition by Area')\n",
    "sns.despine()\n",
    "plt.show()"
   ]
  },
  {
   "cell_type": "code",
   "execution_count": 11,
   "metadata": {},
   "outputs": [
    {
     "data": {
      "image/png": "[encoded data removed]",
      "text/plain": [
       "<Figure size 432x288 with 1 Axes>"
      ]
     },
     "metadata": {
      "needs_background": "light"
     },
     "output_type": "display_data"
    }
   ],
   "source": [
    "table = (train.groupby('salary')['left'].mean()).sort_values(ascending=False).round(3)\n",
    "fig, ax = plt.subplots(figsize=(6, 4))\n",
    "table.plot(kind='barh', ax=ax)\n",
    "ax.set_ylabel('')\n",
    "ax.set_xlabel('Left')\n",
    "ax.set_title('Attrition by Salary Level')\n",
    "sns.despine()\n",
    "plt.show()"
   ]
  },
  {
   "cell_type": "markdown",
   "metadata": {},
   "source": [
    "## 3. Feature Engineering\n",
    "\n",
    "As mentioned in the lectures, we generally want to process the data in a specialised way for tree-based methods. We use one-hot encoding of the nominal variables for the tree-based algorithms but and dummy encoding for the logistic regression model."
   ]
  },
  {
   "cell_type": "code",
   "execution_count": 12,
   "metadata": {},
   "outputs": [],
   "source": [
    "def feat_engineering(df, index_train, index_test):\n",
    "    \n",
    "    data = df.copy()\n",
    "    dummies = pd.get_dummies(data['role'])\n",
    "    data = data.join(dummies)\n",
    "    data = data.drop('role', axis= 1)\n",
    "\n",
    "    dummies = pd.get_dummies(data['salary'],  prefix = 'salary')\n",
    "    data = data.join(dummies)\n",
    "    data = data.drop('salary', axis= 1)\n",
    "    \n",
    "    predictors = list(data.columns.values)\n",
    "    predictors.remove(response)\n",
    "    \n",
    "    X_train = data.loc[index_train, predictors].copy()\n",
    "    X_test =  data.loc[index_test, predictors].copy()\n",
    "    \n",
    "    return X_train, X_test, predictors\n",
    "\n",
    "\n",
    "def feat_engineering_logit(df, index_train, index_test):\n",
    "    \n",
    "    data = df.copy()\n",
    "    dummies = pd.get_dummies(data['role'], drop_first=True)\n",
    "    data = data.join(dummies)\n",
    "    data = data.drop('role', axis= 1)\n",
    "\n",
    "    dummies = pd.get_dummies(data['salary'],  prefix = 'salary', drop_first=True)\n",
    "    data = data.join(dummies)\n",
    "    data = data.drop('salary', axis= 1)\n",
    "    \n",
    "    predictors = list(data.columns.values)\n",
    "    predictors.remove(response)\n",
    "       \n",
    "    X_train = data.loc[index_train, predictors].copy()\n",
    "    X_test =  data.loc[index_test, predictors].copy()\n",
    "    \n",
    "    return X_train, X_test\n",
    "\n",
    "\n",
    "X_train, X_test, predictors = feat_engineering(data, index_train, index_test)\n",
    "X_train_logit, X_test_logit = feat_engineering_logit(data, index_train, index_test)"
   ]
  },
  {
   "cell_type": "markdown",
   "metadata": {},
   "source": [
    "## 4. Classification Tree\n",
    "\n",
    "### 4.1 Fitting a classification tree\n",
    "\n",
    "The basic syntax for fitting a classification tree is as follows. We start with a small tree with tree leaves for visualisation."
   ]
  },
  {
   "cell_type": "code",
   "execution_count": 48,
   "metadata": {},
   "outputs": [
    {
     "data": {
      "text/plain": [
       "DecisionTreeClassifier(ccp_alpha=0.0, class_weight=None, criterion='entropy',\n",
       "                       max_depth=None, max_features=None, max_leaf_nodes=2,\n",
       "                       min_impurity_decrease=0.0, min_impurity_split=None,\n",
       "                       min_samples_leaf=1, min_samples_split=2,\n",
       "                       min_weight_fraction_leaf=0.0, presort='deprecated',\n",
       "                       random_state=None, splitter='best')"
      ]
     },
     "execution_count": 48,
     "metadata": {},
     "output_type": "execute_result"
    }
   ],
   "source": [
    "from sklearn.tree import DecisionTreeClassifier\n",
    "\n",
    "tree = DecisionTreeClassifier(criterion='entropy', max_leaf_nodes=2)\n",
    "#tree = DecisionTreeClassifier(criterion='entropy', min_samples_split=1000)\n",
    "\n",
    "\"\"\"\n",
    "    min_samples_leaf  (int): The minimum number of samples required to be at a leaf node\n",
    "    max_depth         (int): The maximum depth of the tree. \n",
    "    min_samples_split (int): The minimum number of samples required to split an internal node\n",
    "    max_leaf_nodes    (int): Grow a tree with max_leaf_nodes in best-first fashion\n",
    "\"\"\"\n",
    "\n",
    "tree.fit(X_train, y_train)"
   ]
  },
  {
   "cell_type": "code",
   "execution_count": 49,
   "metadata": {},
   "outputs": [
    {
     "data": {
      "image/svg+xml": [
       "<?xml version=\"1.0\" encoding=\"UTF-8\" standalone=\"no\"?>\r\n",
       "<!DOCTYPE svg PUBLIC \"-//W3C//DTD SVG 1.1//EN\"\r\n",
       " \"http://www.w3.org/Graphics/SVG/1.1/DTD/svg11.dtd\">\r\n",
       "<!-- Generated by graphviz version 2.38.0 (20140413.2041)\r\n",
       " -->\r\n",
       "<!-- Title: Tree Pages: 1 -->\r\n",
       "<svg width=\"310pt\" height=\"165pt\"\r\n",
       " viewBox=\"0.00 0.00 310.00 165.00\" xmlns=\"http://www.w3.org/2000/svg\" xmlns:xlink=\"http://www.w3.org/1999/xlink\">\r\n",
       "<g id=\"graph0\" class=\"graph\" transform=\"scale(1 1) rotate(0) translate(4 161)\">\r\n",
       "<title>Tree</title>\r\n",
       "<polygon fill=\"white\" stroke=\"none\" points=\"-4,4 -4,-161 306,-161 306,4 -4,4\"/>\r\n",
       "<!-- 0 -->\r\n",
       "<g id=\"node1\" class=\"node\"><title>0</title>\r\n",
       "<path fill=\"none\" stroke=\"black\" d=\"M234,-157C234,-157 72,-157 72,-157 66,-157 60,-151 60,-145 60,-145 60,-101 60,-101 60,-95 66,-89 72,-89 72,-89 234,-89 234,-89 240,-89 246,-95 246,-101 246,-101 246,-145 246,-145 246,-151 240,-157 234,-157\"/>\r\n",
       "<text text-anchor=\"middle\" x=\"153\" y=\"-141.8\" font-family=\"Helvetica,sans-Serif\" font-size=\"14.00\">satisfaction_level &lt;= 0.465</text>\r\n",
       "<text text-anchor=\"middle\" x=\"153\" y=\"-126.8\" font-family=\"Helvetica,sans-Serif\" font-size=\"14.00\">samples = 10499</text>\r\n",
       "<text text-anchor=\"middle\" x=\"153\" y=\"-111.8\" font-family=\"Helvetica,sans-Serif\" font-size=\"14.00\">value = [7999, 2500]</text>\r\n",
       "<text text-anchor=\"middle\" x=\"153\" y=\"-96.8\" font-family=\"Helvetica,sans-Serif\" font-size=\"14.00\">class = stayed</text>\r\n",
       "</g>\r\n",
       "<!-- 1 -->\r\n",
       "<g id=\"node2\" class=\"node\"><title>1</title>\r\n",
       "<path fill=\"none\" stroke=\"black\" d=\"M134,-53C134,-53 12,-53 12,-53 6,-53 0,-47 0,-41 0,-41 0,-12 0,-12 0,-6 6,-0 12,-0 12,-0 134,-0 134,-0 140,-0 146,-6 146,-12 146,-12 146,-41 146,-41 146,-47 140,-53 134,-53\"/>\r\n",
       "<text text-anchor=\"middle\" x=\"73\" y=\"-37.8\" font-family=\"Helvetica,sans-Serif\" font-size=\"14.00\">samples = 2883</text>\r\n",
       "<text text-anchor=\"middle\" x=\"73\" y=\"-22.8\" font-family=\"Helvetica,sans-Serif\" font-size=\"14.00\">value = [1115, 1768]</text>\r\n",
       "<text text-anchor=\"middle\" x=\"73\" y=\"-7.8\" font-family=\"Helvetica,sans-Serif\" font-size=\"14.00\">class = left</text>\r\n",
       "</g>\r\n",
       "<!-- 0&#45;&gt;1 -->\r\n",
       "<g id=\"edge1\" class=\"edge\"><title>0&#45;&gt;1</title>\r\n",
       "<path fill=\"none\" stroke=\"black\" d=\"M125.02,-88.9485C117.353,-79.892 109.037,-70.0682 101.349,-60.9875\"/>\r\n",
       "<polygon fill=\"black\" stroke=\"black\" points=\"103.92,-58.6076 94.7877,-53.2367 98.5776,-63.1305 103.92,-58.6076\"/>\r\n",
       "<text text-anchor=\"middle\" x=\"92.7175\" y=\"-74.4508\" font-family=\"Helvetica,sans-Serif\" font-size=\"14.00\">True</text>\r\n",
       "</g>\r\n",
       "<!-- 2 -->\r\n",
       "<g id=\"node3\" class=\"node\"><title>2</title>\r\n",
       "<path fill=\"none\" stroke=\"black\" d=\"M290,-53C290,-53 176,-53 176,-53 170,-53 164,-47 164,-41 164,-41 164,-12 164,-12 164,-6 170,-0 176,-0 176,-0 290,-0 290,-0 296,-0 302,-6 302,-12 302,-12 302,-41 302,-41 302,-47 296,-53 290,-53\"/>\r\n",
       "<text text-anchor=\"middle\" x=\"233\" y=\"-37.8\" font-family=\"Helvetica,sans-Serif\" font-size=\"14.00\">samples = 7616</text>\r\n",
       "<text text-anchor=\"middle\" x=\"233\" y=\"-22.8\" font-family=\"Helvetica,sans-Serif\" font-size=\"14.00\">value = [6884, 732]</text>\r\n",
       "<text text-anchor=\"middle\" x=\"233\" y=\"-7.8\" font-family=\"Helvetica,sans-Serif\" font-size=\"14.00\">class = stayed</text>\r\n",
       "</g>\r\n",
       "<!-- 0&#45;&gt;2 -->\r\n",
       "<g id=\"edge2\" class=\"edge\"><title>0&#45;&gt;2</title>\r\n",
       "<path fill=\"none\" stroke=\"black\" d=\"M180.98,-88.9485C188.647,-79.892 196.963,-70.0682 204.651,-60.9875\"/>\r\n",
       "<polygon fill=\"black\" stroke=\"black\" points=\"207.422,-63.1305 211.212,-53.2367 202.08,-58.6076 207.422,-63.1305\"/>\r\n",
       "<text text-anchor=\"middle\" x=\"213.283\" y=\"-74.4508\" font-family=\"Helvetica,sans-Serif\" font-size=\"14.00\">False</text>\r\n",
       "</g>\r\n",
       "</g>\r\n",
       "</svg>\r\n"
      ],
      "text/plain": [
       "<graphviz.files.Source at 0x25c74470148>"
      ]
     },
     "execution_count": 49,
     "metadata": {},
     "output_type": "execute_result"
    }
   ],
   "source": [
    "import graphviz\n",
    "from sklearn.tree import export_graphviz\n",
    "\n",
    "dot_data = export_graphviz(tree, out_file=None , impurity=False, feature_names = predictors, \n",
    "                           class_names=['stayed','left'], rounded=True) \n",
    "graph = graphviz.Source(dot_data)\n",
    "graph"
   ]
  },
  {
   "cell_type": "markdown",
   "metadata": {},
   "source": [
    "Increasing the number of leaves to three allows to visualise how recursive binary splitting grows the tree in a greedy way. The top node remains the same as we add a new decision node on the right-hand side."
   ]
  },
  {
   "cell_type": "code",
   "execution_count": 15,
   "metadata": {},
   "outputs": [
    {
     "data": {
      "image/svg+xml": [
       "<?xml version=\"1.0\" encoding=\"UTF-8\" standalone=\"no\"?>\r\n",
       "<!DOCTYPE svg PUBLIC \"-//W3C//DTD SVG 1.1//EN\"\r\n",
       " \"http://www.w3.org/Graphics/SVG/1.1/DTD/svg11.dtd\">\r\n",
       "<!-- Generated by graphviz version 2.38.0 (20140413.2041)\r\n",
       " -->\r\n",
       "<!-- Title: Tree Pages: 1 -->\r\n",
       "<svg width=\"412pt\" height=\"269pt\"\r\n",
       " viewBox=\"0.00 0.00 412.00 269.00\" xmlns=\"http://www.w3.org/2000/svg\" xmlns:xlink=\"http://www.w3.org/1999/xlink\">\r\n",
       "<g id=\"graph0\" class=\"graph\" transform=\"scale(1 1) rotate(0) translate(4 265)\">\r\n",
       "<title>Tree</title>\r\n",
       "<polygon fill=\"white\" stroke=\"none\" points=\"-4,4 -4,-265 408,-265 408,4 -4,4\"/>\r\n",
       "<!-- 0 -->\r\n",
       "<g id=\"node1\" class=\"node\"><title>0</title>\r\n",
       "<path fill=\"none\" stroke=\"black\" d=\"M250,-261C250,-261 88,-261 88,-261 82,-261 76,-255 76,-249 76,-249 76,-205 76,-205 76,-199 82,-193 88,-193 88,-193 250,-193 250,-193 256,-193 262,-199 262,-205 262,-205 262,-249 262,-249 262,-255 256,-261 250,-261\"/>\r\n",
       "<text text-anchor=\"middle\" x=\"169\" y=\"-245.8\" font-family=\"Helvetica,sans-Serif\" font-size=\"14.00\">satisfaction_level &lt;= 0.465</text>\r\n",
       "<text text-anchor=\"middle\" x=\"169\" y=\"-230.8\" font-family=\"Helvetica,sans-Serif\" font-size=\"14.00\">samples = 10499</text>\r\n",
       "<text text-anchor=\"middle\" x=\"169\" y=\"-215.8\" font-family=\"Helvetica,sans-Serif\" font-size=\"14.00\">value = [7999, 2500]</text>\r\n",
       "<text text-anchor=\"middle\" x=\"169\" y=\"-200.8\" font-family=\"Helvetica,sans-Serif\" font-size=\"14.00\">class = stayed</text>\r\n",
       "</g>\r\n",
       "<!-- 1 -->\r\n",
       "<g id=\"node2\" class=\"node\"><title>1</title>\r\n",
       "<path fill=\"none\" stroke=\"black\" d=\"M134,-149.5C134,-149.5 12,-149.5 12,-149.5 6,-149.5 0,-143.5 0,-137.5 0,-137.5 0,-108.5 0,-108.5 0,-102.5 6,-96.5 12,-96.5 12,-96.5 134,-96.5 134,-96.5 140,-96.5 146,-102.5 146,-108.5 146,-108.5 146,-137.5 146,-137.5 146,-143.5 140,-149.5 134,-149.5\"/>\r\n",
       "<text text-anchor=\"middle\" x=\"73\" y=\"-134.3\" font-family=\"Helvetica,sans-Serif\" font-size=\"14.00\">samples = 2883</text>\r\n",
       "<text text-anchor=\"middle\" x=\"73\" y=\"-119.3\" font-family=\"Helvetica,sans-Serif\" font-size=\"14.00\">value = [1115, 1768]</text>\r\n",
       "<text text-anchor=\"middle\" x=\"73\" y=\"-104.3\" font-family=\"Helvetica,sans-Serif\" font-size=\"14.00\">class = left</text>\r\n",
       "</g>\r\n",
       "<!-- 0&#45;&gt;1 -->\r\n",
       "<g id=\"edge1\" class=\"edge\"><title>0&#45;&gt;1</title>\r\n",
       "<path fill=\"none\" stroke=\"black\" d=\"M137.832,-192.884C126.963,-181.336 114.776,-168.387 103.928,-156.86\"/>\r\n",
       "<polygon fill=\"black\" stroke=\"black\" points=\"106.421,-154.403 97.0188,-149.52 101.324,-159.201 106.421,-154.403\"/>\r\n",
       "<text text-anchor=\"middle\" x=\"96.2615\" y=\"-170.808\" font-family=\"Helvetica,sans-Serif\" font-size=\"14.00\">True</text>\r\n",
       "</g>\r\n",
       "<!-- 2 -->\r\n",
       "<g id=\"node3\" class=\"node\"><title>2</title>\r\n",
       "<path fill=\"none\" stroke=\"black\" d=\"M354,-157C354,-157 176,-157 176,-157 170,-157 164,-151 164,-145 164,-145 164,-101 164,-101 164,-95 170,-89 176,-89 176,-89 354,-89 354,-89 360,-89 366,-95 366,-101 366,-101 366,-145 366,-145 366,-151 360,-157 354,-157\"/>\r\n",
       "<text text-anchor=\"middle\" x=\"265\" y=\"-141.8\" font-family=\"Helvetica,sans-Serif\" font-size=\"14.00\">time_spend_company &lt;= 4.5</text>\r\n",
       "<text text-anchor=\"middle\" x=\"265\" y=\"-126.8\" font-family=\"Helvetica,sans-Serif\" font-size=\"14.00\">samples = 7616</text>\r\n",
       "<text text-anchor=\"middle\" x=\"265\" y=\"-111.8\" font-family=\"Helvetica,sans-Serif\" font-size=\"14.00\">value = [6884, 732]</text>\r\n",
       "<text text-anchor=\"middle\" x=\"265\" y=\"-96.8\" font-family=\"Helvetica,sans-Serif\" font-size=\"14.00\">class = stayed</text>\r\n",
       "</g>\r\n",
       "<!-- 0&#45;&gt;2 -->\r\n",
       "<g id=\"edge2\" class=\"edge\"><title>0&#45;&gt;2</title>\r\n",
       "<path fill=\"none\" stroke=\"black\" d=\"M200.168,-192.884C208.636,-183.887 217.903,-174.041 226.715,-164.678\"/>\r\n",
       "<polygon fill=\"black\" stroke=\"black\" points=\"229.354,-166.98 233.659,-157.299 224.257,-162.183 229.354,-166.98\"/>\r\n",
       "<text text-anchor=\"middle\" x=\"234.417\" y=\"-178.588\" font-family=\"Helvetica,sans-Serif\" font-size=\"14.00\">False</text>\r\n",
       "</g>\r\n",
       "<!-- 3 -->\r\n",
       "<g id=\"node4\" class=\"node\"><title>3</title>\r\n",
       "<path fill=\"none\" stroke=\"black\" d=\"M244,-53C244,-53 138,-53 138,-53 132,-53 126,-47 126,-41 126,-41 126,-12 126,-12 126,-6 132,-0 138,-0 138,-0 244,-0 244,-0 250,-0 256,-6 256,-12 256,-12 256,-41 256,-41 256,-47 250,-53 244,-53\"/>\r\n",
       "<text text-anchor=\"middle\" x=\"191\" y=\"-37.8\" font-family=\"Helvetica,sans-Serif\" font-size=\"14.00\">samples = 6199</text>\r\n",
       "<text text-anchor=\"middle\" x=\"191\" y=\"-22.8\" font-family=\"Helvetica,sans-Serif\" font-size=\"14.00\">value = [6109, 90]</text>\r\n",
       "<text text-anchor=\"middle\" x=\"191\" y=\"-7.8\" font-family=\"Helvetica,sans-Serif\" font-size=\"14.00\">class = stayed</text>\r\n",
       "</g>\r\n",
       "<!-- 2&#45;&gt;3 -->\r\n",
       "<g id=\"edge3\" class=\"edge\"><title>2&#45;&gt;3</title>\r\n",
       "<path fill=\"none\" stroke=\"black\" d=\"M239.118,-88.9485C232.098,-79.9834 224.489,-70.2666 217.439,-61.2629\"/>\r\n",
       "<polygon fill=\"black\" stroke=\"black\" points=\"220.075,-58.9521 211.154,-53.2367 214.563,-63.2679 220.075,-58.9521\"/>\r\n",
       "</g>\r\n",
       "<!-- 4 -->\r\n",
       "<g id=\"node5\" class=\"node\"><title>4</title>\r\n",
       "<path fill=\"none\" stroke=\"black\" d=\"M392,-53C392,-53 286,-53 286,-53 280,-53 274,-47 274,-41 274,-41 274,-12 274,-12 274,-6 280,-0 286,-0 286,-0 392,-0 392,-0 398,-0 404,-6 404,-12 404,-12 404,-41 404,-41 404,-47 398,-53 392,-53\"/>\r\n",
       "<text text-anchor=\"middle\" x=\"339\" y=\"-37.8\" font-family=\"Helvetica,sans-Serif\" font-size=\"14.00\">samples = 1417</text>\r\n",
       "<text text-anchor=\"middle\" x=\"339\" y=\"-22.8\" font-family=\"Helvetica,sans-Serif\" font-size=\"14.00\">value = [775, 642]</text>\r\n",
       "<text text-anchor=\"middle\" x=\"339\" y=\"-7.8\" font-family=\"Helvetica,sans-Serif\" font-size=\"14.00\">class = stayed</text>\r\n",
       "</g>\r\n",
       "<!-- 2&#45;&gt;4 -->\r\n",
       "<g id=\"edge4\" class=\"edge\"><title>2&#45;&gt;4</title>\r\n",
       "<path fill=\"none\" stroke=\"black\" d=\"M290.882,-88.9485C297.902,-79.9834 305.511,-70.2666 312.561,-61.2629\"/>\r\n",
       "<polygon fill=\"black\" stroke=\"black\" points=\"315.437,-63.2679 318.846,-53.2367 309.925,-58.9521 315.437,-63.2679\"/>\r\n",
       "</g>\r\n",
       "</g>\r\n",
       "</svg>\r\n"
      ],
      "text/plain": [
       "<graphviz.files.Source at 0x25c73c34c88>"
      ]
     },
     "execution_count": 15,
     "metadata": {},
     "output_type": "execute_result"
    }
   ],
   "source": [
    "tree = DecisionTreeClassifier(criterion='entropy', max_leaf_nodes=3)\n",
    "tree.fit(X_train, y_train)\n",
    "\n",
    "dot_data = export_graphviz(tree, out_file=None , impurity=False, feature_names = predictors, \n",
    "                           class_names=['stayed','left'], rounded=True) \n",
    "graph = graphviz.Source(dot_data)\n",
    "graph"
   ]
  },
  {
   "cell_type": "markdown",
   "metadata": {},
   "source": [
    "### 4.2 Cost-complexity pruning\n",
    "\n",
    "In practice, we use cost-complexity pruning to fit the tree. We start by growing a full tree by recursive binary splitting, subject a minimum number of samples in each leaf.  We then obtain a sequence of subtrees that minimise the cost-complexity objective function for the full range of values of the penalty hyperparameter $\\alpha$.  Finally, we use a model selection method to choose $\\alpha$. \n",
    "\n",
    "To implement this approach, we first obtain the full path of the alphas. "
   ]
  },
  {
   "cell_type": "code",
   "execution_count": 16,
   "metadata": {},
   "outputs": [],
   "source": [
    "model = DecisionTreeClassifier(criterion='entropy', min_samples_leaf=5)\n",
    "path = model.cost_complexity_pruning_path(X_train, y_train)\n",
    "alphas, impurities = path.ccp_alphas, path.impurities"
   ]
  },
  {
   "cell_type": "code",
   "execution_count": 17,
   "metadata": {
    "scrolled": true
   },
   "outputs": [
    {
     "data": {
      "text/plain": [
       "array([0.00000000e+00, 0.00000000e+00, 0.00000000e+00, 0.00000000e+00,\n",
       "       3.31951182e-05, 8.84159793e-05, 1.02896987e-04, 1.06621152e-04,\n",
       "       1.16661242e-04, 1.16661242e-04, 1.29170562e-04, 1.29170562e-04,\n",
       "       1.38775062e-04, 1.40634904e-04, 1.40634904e-04, 1.51215554e-04,\n",
       "       1.67585893e-04, 1.77275270e-04, 1.78800631e-04, 1.83609580e-04,\n",
       "       1.91863815e-04, 1.92019471e-04, 1.92693360e-04, 1.92693360e-04,\n",
       "       1.94526360e-04, 1.96249818e-04, 1.99737165e-04, 2.01761946e-04,\n",
       "       2.02466618e-04, 2.05754369e-04, 2.10620391e-04, 2.17804966e-04,\n",
       "       2.18163068e-04, 2.22762300e-04, 2.22875622e-04, 2.23668949e-04,\n",
       "       2.25214590e-04, 2.35182781e-04, 2.38308234e-04, 2.38509094e-04,\n",
       "       2.48527187e-04, 2.50401887e-04, 2.63347700e-04, 2.64181722e-04,\n",
       "       2.70205075e-04, 2.70894573e-04, 2.70939271e-04, 2.72141503e-04,\n",
       "       2.81293657e-04, 2.84346070e-04, 2.87916373e-04, 2.88255284e-04,\n",
       "       2.93391319e-04, 2.93952497e-04, 2.94366806e-04, 3.03577111e-04,\n",
       "       3.06936388e-04, 3.10799078e-04, 3.11989883e-04, 3.21758425e-04,\n",
       "       3.26179381e-04, 3.32026498e-04, 3.32746269e-04, 3.33738845e-04,\n",
       "       3.36900826e-04, 3.43005872e-04, 3.45806451e-04, 3.52719639e-04,\n",
       "       3.53383800e-04, 3.54476463e-04, 3.55780312e-04, 3.67627484e-04,\n",
       "       3.70026647e-04, 3.81521146e-04, 3.84759338e-04, 3.89843558e-04,\n",
       "       3.93441636e-04, 3.96272583e-04, 4.04114602e-04, 4.09624959e-04,\n",
       "       4.11336585e-04, 4.34542428e-04, 4.35248563e-04, 4.45737153e-04,\n",
       "       4.47014182e-04, 4.61368501e-04, 4.67322228e-04, 4.74373749e-04,\n",
       "       5.04485511e-04, 5.12112527e-04, 5.13878407e-04, 5.18768401e-04,\n",
       "       5.23491860e-04, 5.28882836e-04, 5.29324757e-04, 6.04416249e-04,\n",
       "       6.36364880e-04, 6.42813339e-04, 6.57272245e-04, 6.59553094e-04,\n",
       "       6.62827120e-04, 6.93108332e-04, 7.04061983e-04, 7.12541028e-04,\n",
       "       7.12738702e-04, 7.59324670e-04, 7.70952199e-04, 7.85399192e-04,\n",
       "       8.12141976e-04, 8.16262599e-04, 8.46005846e-04, 8.49517566e-04,\n",
       "       9.18531614e-04, 9.35903577e-04, 1.02116801e-03, 1.12341151e-03,\n",
       "       1.24532142e-03, 1.24651196e-03, 1.25896897e-03, 1.26670240e-03,\n",
       "       1.28420857e-03, 1.66809858e-03, 1.67608326e-03, 2.23311168e-03,\n",
       "       2.31723050e-03, 2.63243458e-03, 2.90058962e-03, 3.93073490e-03,\n",
       "       4.10890503e-03, 5.82091818e-03, 6.22637902e-03, 8.10573494e-03,\n",
       "       1.01907706e-02, 1.46850269e-02, 2.57435254e-02, 2.64784341e-02,\n",
       "       4.97954910e-02, 8.27701944e-02, 1.32459617e-01, 1.96364865e-01])"
      ]
     },
     "execution_count": 17,
     "metadata": {},
     "output_type": "execute_result"
    }
   ],
   "source": [
    "alphas"
   ]
  },
  {
   "cell_type": "markdown",
   "metadata": {},
   "source": [
    "We then run a grid search to find the best $\\alpha$."
   ]
  },
  {
   "cell_type": "code",
   "execution_count": 18,
   "metadata": {},
   "outputs": [
    {
     "name": "stdout",
     "output_type": "stream",
     "text": [
      "Best parameters found by grid search: {'ccp_alpha': 0.0016680985845902233} \n",
      "\n"
     ]
    }
   ],
   "source": [
    "model = DecisionTreeClassifier(criterion='entropy', min_samples_leaf=5)\n",
    "\n",
    "search_space = {\n",
    "    'ccp_alpha': alphas,\n",
    "}\n",
    "\n",
    "tree_search = GridSearchCV(model, search_space, cv = 5 , scoring='neg_log_loss')\n",
    "tree_search.fit(X_train, y_train)\n",
    "tree = tree_search.best_estimator_\n",
    "\n",
    "print('Best parameters found by grid search:', tree_search.best_params_, '\\n')"
   ]
  },
  {
   "cell_type": "code",
   "execution_count": 19,
   "metadata": {},
   "outputs": [
    {
     "name": "stdout",
     "output_type": "stream",
     "text": [
      "Best Alpha: 121\n"
     ]
    }
   ],
   "source": [
    "best_alpha = np.argwhere(alphas == tree_search.best_params_['ccp_alpha'])[0, 0]\n",
    "print(f'Best Alpha: {best_alpha}')"
   ]
  },
  {
   "cell_type": "code",
   "execution_count": 20,
   "metadata": {},
   "outputs": [
    {
     "data": {
      "image/png": "[encoded data removed]",
      "text/plain": [
       "<Figure size 1080x360 with 2 Axes>"
      ]
     },
     "metadata": {
      "needs_background": "light"
     },
     "output_type": "display_data"
    }
   ],
   "source": [
    "fig = plt.figure(figsize = (15, 5))\n",
    "\n",
    "plt.subplot(1, 2, 1)\n",
    "plt.plot(alphas, impurities, 'o--', markersize = 4, drawstyle = \"steps-post\", zorder = 1)\n",
    "plt.scatter(alphas[best_alpha], impurities[best_alpha], color = 'red', s = 20, zorder = 2)\n",
    "\n",
    "plt.xlabel(\"effective alpha\")\n",
    "plt.ylabel(\"total impurity of leaves\")\n",
    "plt.title(\"Total Impurity vs effective alpha for training set\");\n",
    "\n",
    "plt.xscale('log');\n",
    "\n",
    "plt.subplot(1, 2, 2)\n",
    "plt.plot(alphas, 1 - impurities, 'o--', markersize = 4, drawstyle = \"steps-post\", zorder = 1)\n",
    "plt.scatter(alphas[best_alpha], 1 - impurities[best_alpha], color = 'red', s = 20, zorder = 2)\n",
    "\n",
    "plt.xlabel(\"effective alpha\")\n",
    "plt.ylabel(\"Total Purity of leaves\")\n",
    "plt.title(\"Total Purity vs effective alpha for training set\");\n",
    "\n",
    "plt.xscale('log');"
   ]
  },
  {
   "cell_type": "code",
   "execution_count": 21,
   "metadata": {},
   "outputs": [],
   "source": [
    "clfs = []\n",
    "for alpha in alphas:\n",
    "    clf = DecisionTreeClassifier(criterion='entropy', ccp_alpha=alpha, min_samples_leaf=5)\n",
    "    clf.fit(X_train, y_train)\n",
    "    clfs.append(clf)"
   ]
  },
  {
   "cell_type": "code",
   "execution_count": 22,
   "metadata": {},
   "outputs": [
    {
     "data": {
      "image/png": "[encoded data removed]",
      "text/plain": [
       "<Figure size 648x432 with 1 Axes>"
      ]
     },
     "metadata": {
      "needs_background": "light"
     },
     "output_type": "display_data"
    }
   ],
   "source": [
    "train_scores = [clf.score(X_train, y_train) for clf in clfs]\n",
    "test_scores  = [clf.score(X_test, y_test) for clf in clfs]\n",
    "\n",
    "fig, ax = plt.subplots()\n",
    "ax.set_xlabel(\"alpha\")\n",
    "ax.set_ylabel(\"accuracy\")\n",
    "ax.set_title(\"Accuracy vs alpha for training and testing sets\")\n",
    "ax.plot(alphas, train_scores, 'o--', markersize = 4, label=\"train\", drawstyle=\"steps-post\", zorder = 1)\n",
    "ax.plot(alphas, test_scores, 'o--', markersize = 4, label=\"test\", drawstyle=\"steps-post\", zorder = 2)\n",
    "ax.legend()\n",
    "\n",
    "ax.scatter(alphas[best_alpha], train_scores[best_alpha], marker = '*', color = 'red', s = 50, zorder = 3)\n",
    "ax.scatter(alphas[best_alpha], test_scores[best_alpha], marker = '*', color = 'red', s = 50, zorder = 3)\n",
    "plt.xscale('log');\n",
    "plt.show()"
   ]
  },
  {
   "cell_type": "code",
   "execution_count": 23,
   "metadata": {},
   "outputs": [
    {
     "data": {
      "image/svg+xml": [
       "<?xml version=\"1.0\" encoding=\"UTF-8\" standalone=\"no\"?>\r\n",
       "<!DOCTYPE svg PUBLIC \"-//W3C//DTD SVG 1.1//EN\"\r\n",
       " \"http://www.w3.org/Graphics/SVG/1.1/DTD/svg11.dtd\">\r\n",
       "<!-- Generated by graphviz version 2.38.0 (20140413.2041)\r\n",
       " -->\r\n",
       "<!-- Title: Tree Pages: 1 -->\r\n",
       "<svg width=\"1758pt\" height=\"789pt\"\r\n",
       " viewBox=\"0.00 0.00 1758.00 789.00\" xmlns=\"http://www.w3.org/2000/svg\" xmlns:xlink=\"http://www.w3.org/1999/xlink\">\r\n",
       "<g id=\"graph0\" class=\"graph\" transform=\"scale(1 1) rotate(0) translate(4 785)\">\r\n",
       "<title>Tree</title>\r\n",
       "<polygon fill=\"white\" stroke=\"none\" points=\"-4,4 -4,-785 1754,-785 1754,4 -4,4\"/>\r\n",
       "<!-- 0 -->\r\n",
       "<g id=\"node1\" class=\"node\"><title>0</title>\r\n",
       "<path fill=\"none\" stroke=\"black\" d=\"M859.5,-781C859.5,-781 697.5,-781 697.5,-781 691.5,-781 685.5,-775 685.5,-769 685.5,-769 685.5,-725 685.5,-725 685.5,-719 691.5,-713 697.5,-713 697.5,-713 859.5,-713 859.5,-713 865.5,-713 871.5,-719 871.5,-725 871.5,-725 871.5,-769 871.5,-769 871.5,-775 865.5,-781 859.5,-781\"/>\r\n",
       "<text text-anchor=\"middle\" x=\"778.5\" y=\"-765.8\" font-family=\"Helvetica,sans-Serif\" font-size=\"14.00\">satisfaction_level &lt;= 0.465</text>\r\n",
       "<text text-anchor=\"middle\" x=\"778.5\" y=\"-750.8\" font-family=\"Helvetica,sans-Serif\" font-size=\"14.00\">samples = 10499</text>\r\n",
       "<text text-anchor=\"middle\" x=\"778.5\" y=\"-735.8\" font-family=\"Helvetica,sans-Serif\" font-size=\"14.00\">value = [7999, 2500]</text>\r\n",
       "<text text-anchor=\"middle\" x=\"778.5\" y=\"-720.8\" font-family=\"Helvetica,sans-Serif\" font-size=\"14.00\">class = stayed</text>\r\n",
       "</g>\r\n",
       "<!-- 1 -->\r\n",
       "<g id=\"node2\" class=\"node\"><title>1</title>\r\n",
       "<path fill=\"none\" stroke=\"black\" d=\"M722,-677C722,-677 585,-677 585,-677 579,-677 573,-671 573,-665 573,-665 573,-621 573,-621 573,-615 579,-609 585,-609 585,-609 722,-609 722,-609 728,-609 734,-615 734,-621 734,-621 734,-665 734,-665 734,-671 728,-677 722,-677\"/>\r\n",
       "<text text-anchor=\"middle\" x=\"653.5\" y=\"-661.8\" font-family=\"Helvetica,sans-Serif\" font-size=\"14.00\">number_project &lt;= 2.5</text>\r\n",
       "<text text-anchor=\"middle\" x=\"653.5\" y=\"-646.8\" font-family=\"Helvetica,sans-Serif\" font-size=\"14.00\">samples = 2883</text>\r\n",
       "<text text-anchor=\"middle\" x=\"653.5\" y=\"-631.8\" font-family=\"Helvetica,sans-Serif\" font-size=\"14.00\">value = [1115, 1768]</text>\r\n",
       "<text text-anchor=\"middle\" x=\"653.5\" y=\"-616.8\" font-family=\"Helvetica,sans-Serif\" font-size=\"14.00\">class = left</text>\r\n",
       "</g>\r\n",
       "<!-- 0&#45;&gt;1 -->\r\n",
       "<g id=\"edge1\" class=\"edge\"><title>0&#45;&gt;1</title>\r\n",
       "<path fill=\"none\" stroke=\"black\" d=\"M737.916,-712.884C726.564,-703.62 714.106,-693.455 702.33,-683.845\"/>\r\n",
       "<polygon fill=\"black\" stroke=\"black\" points=\"704.269,-680.91 694.308,-677.299 699.843,-686.333 704.269,-680.91\"/>\r\n",
       "<text text-anchor=\"middle\" x=\"696.828\" y=\"-698.472\" font-family=\"Helvetica,sans-Serif\" font-size=\"14.00\">True</text>\r\n",
       "</g>\r\n",
       "<!-- 20 -->\r\n",
       "<g id=\"node21\" class=\"node\"><title>20</title>\r\n",
       "<path fill=\"none\" stroke=\"black\" d=\"M993.5,-677C993.5,-677 815.5,-677 815.5,-677 809.5,-677 803.5,-671 803.5,-665 803.5,-665 803.5,-621 803.5,-621 803.5,-615 809.5,-609 815.5,-609 815.5,-609 993.5,-609 993.5,-609 999.5,-609 1005.5,-615 1005.5,-621 1005.5,-621 1005.5,-665 1005.5,-665 1005.5,-671 999.5,-677 993.5,-677\"/>\r\n",
       "<text text-anchor=\"middle\" x=\"904.5\" y=\"-661.8\" font-family=\"Helvetica,sans-Serif\" font-size=\"14.00\">time_spend_company &lt;= 4.5</text>\r\n",
       "<text text-anchor=\"middle\" x=\"904.5\" y=\"-646.8\" font-family=\"Helvetica,sans-Serif\" font-size=\"14.00\">samples = 7616</text>\r\n",
       "<text text-anchor=\"middle\" x=\"904.5\" y=\"-631.8\" font-family=\"Helvetica,sans-Serif\" font-size=\"14.00\">value = [6884, 732]</text>\r\n",
       "<text text-anchor=\"middle\" x=\"904.5\" y=\"-616.8\" font-family=\"Helvetica,sans-Serif\" font-size=\"14.00\">class = stayed</text>\r\n",
       "</g>\r\n",
       "<!-- 0&#45;&gt;20 -->\r\n",
       "<g id=\"edge20\" class=\"edge\"><title>0&#45;&gt;20</title>\r\n",
       "<path fill=\"none\" stroke=\"black\" d=\"M819.409,-712.884C830.852,-703.62 843.409,-693.455 855.279,-683.845\"/>\r\n",
       "<polygon fill=\"black\" stroke=\"black\" points=\"857.795,-686.312 863.365,-677.299 853.391,-680.871 857.795,-686.312\"/>\r\n",
       "<text text-anchor=\"middle\" x=\"860.748\" y=\"-698.462\" font-family=\"Helvetica,sans-Serif\" font-size=\"14.00\">False</text>\r\n",
       "</g>\r\n",
       "<!-- 2 -->\r\n",
       "<g id=\"node3\" class=\"node\"><title>2</title>\r\n",
       "<path fill=\"none\" stroke=\"black\" d=\"M472.5,-573C472.5,-573 326.5,-573 326.5,-573 320.5,-573 314.5,-567 314.5,-561 314.5,-561 314.5,-517 314.5,-517 314.5,-511 320.5,-505 326.5,-505 326.5,-505 472.5,-505 472.5,-505 478.5,-505 484.5,-511 484.5,-517 484.5,-517 484.5,-561 484.5,-561 484.5,-567 478.5,-573 472.5,-573\"/>\r\n",
       "<text text-anchor=\"middle\" x=\"399.5\" y=\"-557.8\" font-family=\"Helvetica,sans-Serif\" font-size=\"14.00\">last_evaluation &lt;= 0.575</text>\r\n",
       "<text text-anchor=\"middle\" x=\"399.5\" y=\"-542.8\" font-family=\"Helvetica,sans-Serif\" font-size=\"14.00\">samples = 1234</text>\r\n",
       "<text text-anchor=\"middle\" x=\"399.5\" y=\"-527.8\" font-family=\"Helvetica,sans-Serif\" font-size=\"14.00\">value = [141, 1093]</text>\r\n",
       "<text text-anchor=\"middle\" x=\"399.5\" y=\"-512.8\" font-family=\"Helvetica,sans-Serif\" font-size=\"14.00\">class = left</text>\r\n",
       "</g>\r\n",
       "<!-- 1&#45;&gt;2 -->\r\n",
       "<g id=\"edge2\" class=\"edge\"><title>1&#45;&gt;2</title>\r\n",
       "<path fill=\"none\" stroke=\"black\" d=\"M572.784,-609.586C546.795,-599.15 517.811,-587.511 491.098,-576.783\"/>\r\n",
       "<polygon fill=\"black\" stroke=\"black\" points=\"492.337,-573.509 481.753,-573.031 489.728,-580.005 492.337,-573.509\"/>\r\n",
       "</g>\r\n",
       "<!-- 13 -->\r\n",
       "<g id=\"node14\" class=\"node\"><title>13</title>\r\n",
       "<path fill=\"none\" stroke=\"black\" d=\"M734.5,-573C734.5,-573 572.5,-573 572.5,-573 566.5,-573 560.5,-567 560.5,-561 560.5,-561 560.5,-517 560.5,-517 560.5,-511 566.5,-505 572.5,-505 572.5,-505 734.5,-505 734.5,-505 740.5,-505 746.5,-511 746.5,-517 746.5,-517 746.5,-561 746.5,-561 746.5,-567 740.5,-573 734.5,-573\"/>\r\n",
       "<text text-anchor=\"middle\" x=\"653.5\" y=\"-557.8\" font-family=\"Helvetica,sans-Serif\" font-size=\"14.00\">satisfaction_level &lt;= 0.115</text>\r\n",
       "<text text-anchor=\"middle\" x=\"653.5\" y=\"-542.8\" font-family=\"Helvetica,sans-Serif\" font-size=\"14.00\">samples = 1649</text>\r\n",
       "<text text-anchor=\"middle\" x=\"653.5\" y=\"-527.8\" font-family=\"Helvetica,sans-Serif\" font-size=\"14.00\">value = [974, 675]</text>\r\n",
       "<text text-anchor=\"middle\" x=\"653.5\" y=\"-512.8\" font-family=\"Helvetica,sans-Serif\" font-size=\"14.00\">class = stayed</text>\r\n",
       "</g>\r\n",
       "<!-- 1&#45;&gt;13 -->\r\n",
       "<g id=\"edge13\" class=\"edge\"><title>1&#45;&gt;13</title>\r\n",
       "<path fill=\"none\" stroke=\"black\" d=\"M653.5,-608.884C653.5,-600.778 653.5,-591.982 653.5,-583.472\"/>\r\n",
       "<polygon fill=\"black\" stroke=\"black\" points=\"657,-583.299 653.5,-573.299 650,-583.299 657,-583.299\"/>\r\n",
       "</g>\r\n",
       "<!-- 3 -->\r\n",
       "<g id=\"node4\" class=\"node\"><title>3</title>\r\n",
       "<path fill=\"none\" stroke=\"black\" d=\"M315.5,-469C315.5,-469 169.5,-469 169.5,-469 163.5,-469 157.5,-463 157.5,-457 157.5,-457 157.5,-413 157.5,-413 157.5,-407 163.5,-401 169.5,-401 169.5,-401 315.5,-401 315.5,-401 321.5,-401 327.5,-407 327.5,-413 327.5,-413 327.5,-457 327.5,-457 327.5,-463 321.5,-469 315.5,-469\"/>\r\n",
       "<text text-anchor=\"middle\" x=\"242.5\" y=\"-453.8\" font-family=\"Helvetica,sans-Serif\" font-size=\"14.00\">last_evaluation &lt;= 0.445</text>\r\n",
       "<text text-anchor=\"middle\" x=\"242.5\" y=\"-438.8\" font-family=\"Helvetica,sans-Serif\" font-size=\"14.00\">samples = 1143</text>\r\n",
       "<text text-anchor=\"middle\" x=\"242.5\" y=\"-423.8\" font-family=\"Helvetica,sans-Serif\" font-size=\"14.00\">value = [57, 1086]</text>\r\n",
       "<text text-anchor=\"middle\" x=\"242.5\" y=\"-408.8\" font-family=\"Helvetica,sans-Serif\" font-size=\"14.00\">class = left</text>\r\n",
       "</g>\r\n",
       "<!-- 2&#45;&gt;3 -->\r\n",
       "<g id=\"edge3\" class=\"edge\"><title>2&#45;&gt;3</title>\r\n",
       "<path fill=\"none\" stroke=\"black\" d=\"M348.527,-504.884C333.644,-495.214 317.25,-484.563 301.894,-474.587\"/>\r\n",
       "<polygon fill=\"black\" stroke=\"black\" points=\"303.779,-471.638 293.486,-469.125 299.965,-477.508 303.779,-471.638\"/>\r\n",
       "</g>\r\n",
       "<!-- 12 -->\r\n",
       "<g id=\"node13\" class=\"node\"><title>12</title>\r\n",
       "<path fill=\"none\" stroke=\"black\" d=\"M441,-461.5C441,-461.5 358,-461.5 358,-461.5 352,-461.5 346,-455.5 346,-449.5 346,-449.5 346,-420.5 346,-420.5 346,-414.5 352,-408.5 358,-408.5 358,-408.5 441,-408.5 441,-408.5 447,-408.5 453,-414.5 453,-420.5 453,-420.5 453,-449.5 453,-449.5 453,-455.5 447,-461.5 441,-461.5\"/>\r\n",
       "<text text-anchor=\"middle\" x=\"399.5\" y=\"-446.3\" font-family=\"Helvetica,sans-Serif\" font-size=\"14.00\">samples = 91</text>\r\n",
       "<text text-anchor=\"middle\" x=\"399.5\" y=\"-431.3\" font-family=\"Helvetica,sans-Serif\" font-size=\"14.00\">value = [84, 7]</text>\r\n",
       "<text text-anchor=\"middle\" x=\"399.5\" y=\"-416.3\" font-family=\"Helvetica,sans-Serif\" font-size=\"14.00\">class = stayed</text>\r\n",
       "</g>\r\n",
       "<!-- 2&#45;&gt;12 -->\r\n",
       "<g id=\"edge12\" class=\"edge\"><title>2&#45;&gt;12</title>\r\n",
       "<path fill=\"none\" stroke=\"black\" d=\"M399.5,-504.884C399.5,-494.326 399.5,-482.597 399.5,-471.854\"/>\r\n",
       "<polygon fill=\"black\" stroke=\"black\" points=\"403,-471.52 399.5,-461.52 396,-471.52 403,-471.52\"/>\r\n",
       "</g>\r\n",
       "<!-- 4 -->\r\n",
       "<g id=\"node5\" class=\"node\"><title>4</title>\r\n",
       "<path fill=\"none\" stroke=\"black\" d=\"M114,-357.5C114,-357.5 31,-357.5 31,-357.5 25,-357.5 19,-351.5 19,-345.5 19,-345.5 19,-316.5 19,-316.5 19,-310.5 25,-304.5 31,-304.5 31,-304.5 114,-304.5 114,-304.5 120,-304.5 126,-310.5 126,-316.5 126,-316.5 126,-345.5 126,-345.5 126,-351.5 120,-357.5 114,-357.5\"/>\r\n",
       "<text text-anchor=\"middle\" x=\"72.5\" y=\"-342.3\" font-family=\"Helvetica,sans-Serif\" font-size=\"14.00\">samples = 23</text>\r\n",
       "<text text-anchor=\"middle\" x=\"72.5\" y=\"-327.3\" font-family=\"Helvetica,sans-Serif\" font-size=\"14.00\">value = [23, 0]</text>\r\n",
       "<text text-anchor=\"middle\" x=\"72.5\" y=\"-312.3\" font-family=\"Helvetica,sans-Serif\" font-size=\"14.00\">class = stayed</text>\r\n",
       "</g>\r\n",
       "<!-- 3&#45;&gt;4 -->\r\n",
       "<g id=\"edge4\" class=\"edge\"><title>3&#45;&gt;4</title>\r\n",
       "<path fill=\"none\" stroke=\"black\" d=\"M187.306,-400.884C166.868,-388.621 143.798,-374.779 123.728,-362.737\"/>\r\n",
       "<polygon fill=\"black\" stroke=\"black\" points=\"125.409,-359.664 115.033,-357.52 121.807,-365.666 125.409,-359.664\"/>\r\n",
       "</g>\r\n",
       "<!-- 5 -->\r\n",
       "<g id=\"node6\" class=\"node\"><title>5</title>\r\n",
       "<path fill=\"none\" stroke=\"black\" d=\"M353,-365C353,-365 156,-365 156,-365 150,-365 144,-359 144,-353 144,-353 144,-309 144,-309 144,-303 150,-297 156,-297 156,-297 353,-297 353,-297 359,-297 365,-303 365,-309 365,-309 365,-353 365,-353 365,-359 359,-365 353,-365\"/>\r\n",
       "<text text-anchor=\"middle\" x=\"254.5\" y=\"-349.8\" font-family=\"Helvetica,sans-Serif\" font-size=\"14.00\">average_montly_hours &lt;= 162.0</text>\r\n",
       "<text text-anchor=\"middle\" x=\"254.5\" y=\"-334.8\" font-family=\"Helvetica,sans-Serif\" font-size=\"14.00\">samples = 1120</text>\r\n",
       "<text text-anchor=\"middle\" x=\"254.5\" y=\"-319.8\" font-family=\"Helvetica,sans-Serif\" font-size=\"14.00\">value = [34, 1086]</text>\r\n",
       "<text text-anchor=\"middle\" x=\"254.5\" y=\"-304.8\" font-family=\"Helvetica,sans-Serif\" font-size=\"14.00\">class = left</text>\r\n",
       "</g>\r\n",
       "<!-- 3&#45;&gt;5 -->\r\n",
       "<g id=\"edge5\" class=\"edge\"><title>3&#45;&gt;5</title>\r\n",
       "<path fill=\"none\" stroke=\"black\" d=\"M246.396,-400.884C247.35,-392.778 248.384,-383.982 249.386,-375.472\"/>\r\n",
       "<polygon fill=\"black\" stroke=\"black\" points=\"252.89,-375.64 250.582,-365.299 245.938,-374.822 252.89,-375.64\"/>\r\n",
       "</g>\r\n",
       "<!-- 6 -->\r\n",
       "<g id=\"node7\" class=\"node\"><title>6</title>\r\n",
       "<path fill=\"none\" stroke=\"black\" d=\"M234,-261C234,-261 37,-261 37,-261 31,-261 25,-255 25,-249 25,-249 25,-205 25,-205 25,-199 31,-193 37,-193 37,-193 234,-193 234,-193 240,-193 246,-199 246,-205 246,-205 246,-249 246,-249 246,-255 240,-261 234,-261\"/>\r\n",
       "<text text-anchor=\"middle\" x=\"135.5\" y=\"-245.8\" font-family=\"Helvetica,sans-Serif\" font-size=\"14.00\">average_montly_hours &lt;= 125.5</text>\r\n",
       "<text text-anchor=\"middle\" x=\"135.5\" y=\"-230.8\" font-family=\"Helvetica,sans-Serif\" font-size=\"14.00\">samples = 1102</text>\r\n",
       "<text text-anchor=\"middle\" x=\"135.5\" y=\"-215.8\" font-family=\"Helvetica,sans-Serif\" font-size=\"14.00\">value = [20, 1082]</text>\r\n",
       "<text text-anchor=\"middle\" x=\"135.5\" y=\"-200.8\" font-family=\"Helvetica,sans-Serif\" font-size=\"14.00\">class = left</text>\r\n",
       "</g>\r\n",
       "<!-- 5&#45;&gt;6 -->\r\n",
       "<g id=\"edge6\" class=\"edge\"><title>5&#45;&gt;6</title>\r\n",
       "<path fill=\"none\" stroke=\"black\" d=\"M215.864,-296.884C205.056,-287.62 193.197,-277.455 181.986,-267.845\"/>\r\n",
       "<polygon fill=\"black\" stroke=\"black\" points=\"184.22,-265.15 174.349,-261.299 179.664,-270.465 184.22,-265.15\"/>\r\n",
       "</g>\r\n",
       "<!-- 11 -->\r\n",
       "<g id=\"node12\" class=\"node\"><title>11</title>\r\n",
       "<path fill=\"none\" stroke=\"black\" d=\"M359,-253.5C359,-253.5 276,-253.5 276,-253.5 270,-253.5 264,-247.5 264,-241.5 264,-241.5 264,-212.5 264,-212.5 264,-206.5 270,-200.5 276,-200.5 276,-200.5 359,-200.5 359,-200.5 365,-200.5 371,-206.5 371,-212.5 371,-212.5 371,-241.5 371,-241.5 371,-247.5 365,-253.5 359,-253.5\"/>\r\n",
       "<text text-anchor=\"middle\" x=\"317.5\" y=\"-238.3\" font-family=\"Helvetica,sans-Serif\" font-size=\"14.00\">samples = 18</text>\r\n",
       "<text text-anchor=\"middle\" x=\"317.5\" y=\"-223.3\" font-family=\"Helvetica,sans-Serif\" font-size=\"14.00\">value = [14, 4]</text>\r\n",
       "<text text-anchor=\"middle\" x=\"317.5\" y=\"-208.3\" font-family=\"Helvetica,sans-Serif\" font-size=\"14.00\">class = stayed</text>\r\n",
       "</g>\r\n",
       "<!-- 5&#45;&gt;11 -->\r\n",
       "<g id=\"edge11\" class=\"edge\"><title>5&#45;&gt;11</title>\r\n",
       "<path fill=\"none\" stroke=\"black\" d=\"M274.954,-296.884C281.815,-285.776 289.476,-273.372 296.386,-262.184\"/>\r\n",
       "<polygon fill=\"black\" stroke=\"black\" points=\"299.461,-263.867 301.738,-253.52 293.505,-260.189 299.461,-263.867\"/>\r\n",
       "</g>\r\n",
       "<!-- 7 -->\r\n",
       "<g id=\"node8\" class=\"node\"><title>7</title>\r\n",
       "<path fill=\"none\" stroke=\"black\" d=\"M95,-149.5C95,-149.5 12,-149.5 12,-149.5 6,-149.5 0,-143.5 0,-137.5 0,-137.5 0,-108.5 0,-108.5 0,-102.5 6,-96.5 12,-96.5 12,-96.5 95,-96.5 95,-96.5 101,-96.5 107,-102.5 107,-108.5 107,-108.5 107,-137.5 107,-137.5 107,-143.5 101,-149.5 95,-149.5\"/>\r\n",
       "<text text-anchor=\"middle\" x=\"53.5\" y=\"-134.3\" font-family=\"Helvetica,sans-Serif\" font-size=\"14.00\">samples = 11</text>\r\n",
       "<text text-anchor=\"middle\" x=\"53.5\" y=\"-119.3\" font-family=\"Helvetica,sans-Serif\" font-size=\"14.00\">value = [11, 0]</text>\r\n",
       "<text text-anchor=\"middle\" x=\"53.5\" y=\"-104.3\" font-family=\"Helvetica,sans-Serif\" font-size=\"14.00\">class = stayed</text>\r\n",
       "</g>\r\n",
       "<!-- 6&#45;&gt;7 -->\r\n",
       "<g id=\"edge7\" class=\"edge\"><title>6&#45;&gt;7</title>\r\n",
       "<path fill=\"none\" stroke=\"black\" d=\"M108.877,-192.884C99.7703,-181.556 89.5801,-168.88 80.448,-157.521\"/>\r\n",
       "<polygon fill=\"black\" stroke=\"black\" points=\"83.0095,-155.121 74.016,-149.52 77.5538,-159.507 83.0095,-155.121\"/>\r\n",
       "</g>\r\n",
       "<!-- 8 -->\r\n",
       "<g id=\"node9\" class=\"node\"><title>8</title>\r\n",
       "<path fill=\"none\" stroke=\"black\" d=\"M299.5,-157C299.5,-157 137.5,-157 137.5,-157 131.5,-157 125.5,-151 125.5,-145 125.5,-145 125.5,-101 125.5,-101 125.5,-95 131.5,-89 137.5,-89 137.5,-89 299.5,-89 299.5,-89 305.5,-89 311.5,-95 311.5,-101 311.5,-101 311.5,-145 311.5,-145 311.5,-151 305.5,-157 299.5,-157\"/>\r\n",
       "<text text-anchor=\"middle\" x=\"218.5\" y=\"-141.8\" font-family=\"Helvetica,sans-Serif\" font-size=\"14.00\">satisfaction_level &lt;= 0.315</text>\r\n",
       "<text text-anchor=\"middle\" x=\"218.5\" y=\"-126.8\" font-family=\"Helvetica,sans-Serif\" font-size=\"14.00\">samples = 1091</text>\r\n",
       "<text text-anchor=\"middle\" x=\"218.5\" y=\"-111.8\" font-family=\"Helvetica,sans-Serif\" font-size=\"14.00\">value = [9, 1082]</text>\r\n",
       "<text text-anchor=\"middle\" x=\"218.5\" y=\"-96.8\" font-family=\"Helvetica,sans-Serif\" font-size=\"14.00\">class = left</text>\r\n",
       "</g>\r\n",
       "<!-- 6&#45;&gt;8 -->\r\n",
       "<g id=\"edge8\" class=\"edge\"><title>6&#45;&gt;8</title>\r\n",
       "<path fill=\"none\" stroke=\"black\" d=\"M162.448,-192.884C169.623,-184.065 177.464,-174.43 184.946,-165.235\"/>\r\n",
       "<polygon fill=\"black\" stroke=\"black\" points=\"187.807,-167.265 191.403,-157.299 182.377,-162.847 187.807,-167.265\"/>\r\n",
       "</g>\r\n",
       "<!-- 9 -->\r\n",
       "<g id=\"node10\" class=\"node\"><title>9</title>\r\n",
       "<path fill=\"none\" stroke=\"black\" d=\"M193,-53C193,-53 110,-53 110,-53 104,-53 98,-47 98,-41 98,-41 98,-12 98,-12 98,-6 104,-0 110,-0 110,-0 193,-0 193,-0 199,-0 205,-6 205,-12 205,-12 205,-41 205,-41 205,-47 199,-53 193,-53\"/>\r\n",
       "<text text-anchor=\"middle\" x=\"151.5\" y=\"-37.8\" font-family=\"Helvetica,sans-Serif\" font-size=\"14.00\">samples = 7</text>\r\n",
       "<text text-anchor=\"middle\" x=\"151.5\" y=\"-22.8\" font-family=\"Helvetica,sans-Serif\" font-size=\"14.00\">value = [6, 1]</text>\r\n",
       "<text text-anchor=\"middle\" x=\"151.5\" y=\"-7.8\" font-family=\"Helvetica,sans-Serif\" font-size=\"14.00\">class = stayed</text>\r\n",
       "</g>\r\n",
       "<!-- 8&#45;&gt;9 -->\r\n",
       "<g id=\"edge9\" class=\"edge\"><title>8&#45;&gt;9</title>\r\n",
       "<path fill=\"none\" stroke=\"black\" d=\"M195.067,-88.9485C188.775,-80.0749 181.962,-70.4648 175.633,-61.5388\"/>\r\n",
       "<polygon fill=\"black\" stroke=\"black\" points=\"178.386,-59.3701 169.747,-53.2367 172.676,-63.4188 178.386,-59.3701\"/>\r\n",
       "</g>\r\n",
       "<!-- 10 -->\r\n",
       "<g id=\"node11\" class=\"node\"><title>10</title>\r\n",
       "<path fill=\"none\" stroke=\"black\" d=\"M333.5,-53C333.5,-53 235.5,-53 235.5,-53 229.5,-53 223.5,-47 223.5,-41 223.5,-41 223.5,-12 223.5,-12 223.5,-6 229.5,-0 235.5,-0 235.5,-0 333.5,-0 333.5,-0 339.5,-0 345.5,-6 345.5,-12 345.5,-12 345.5,-41 345.5,-41 345.5,-47 339.5,-53 333.5,-53\"/>\r\n",
       "<text text-anchor=\"middle\" x=\"284.5\" y=\"-37.8\" font-family=\"Helvetica,sans-Serif\" font-size=\"14.00\">samples = 1084</text>\r\n",
       "<text text-anchor=\"middle\" x=\"284.5\" y=\"-22.8\" font-family=\"Helvetica,sans-Serif\" font-size=\"14.00\">value = [3, 1081]</text>\r\n",
       "<text text-anchor=\"middle\" x=\"284.5\" y=\"-7.8\" font-family=\"Helvetica,sans-Serif\" font-size=\"14.00\">class = left</text>\r\n",
       "</g>\r\n",
       "<!-- 8&#45;&gt;10 -->\r\n",
       "<g id=\"edge10\" class=\"edge\"><title>8&#45;&gt;10</title>\r\n",
       "<path fill=\"none\" stroke=\"black\" d=\"M241.584,-88.9485C247.781,-80.0749 254.493,-70.4648 260.727,-61.5388\"/>\r\n",
       "<polygon fill=\"black\" stroke=\"black\" points=\"263.669,-63.4392 266.525,-53.2367 257.93,-59.4311 263.669,-63.4392\"/>\r\n",
       "</g>\r\n",
       "<!-- 14 -->\r\n",
       "<g id=\"node15\" class=\"node\"><title>14</title>\r\n",
       "<path fill=\"none\" stroke=\"black\" d=\"M572,-461.5C572,-461.5 483,-461.5 483,-461.5 477,-461.5 471,-455.5 471,-449.5 471,-449.5 471,-420.5 471,-420.5 471,-414.5 477,-408.5 483,-408.5 483,-408.5 572,-408.5 572,-408.5 578,-408.5 584,-414.5 584,-420.5 584,-420.5 584,-449.5 584,-449.5 584,-455.5 578,-461.5 572,-461.5\"/>\r\n",
       "<text text-anchor=\"middle\" x=\"527.5\" y=\"-446.3\" font-family=\"Helvetica,sans-Serif\" font-size=\"14.00\">samples = 596</text>\r\n",
       "<text text-anchor=\"middle\" x=\"527.5\" y=\"-431.3\" font-family=\"Helvetica,sans-Serif\" font-size=\"14.00\">value = [0, 596]</text>\r\n",
       "<text text-anchor=\"middle\" x=\"527.5\" y=\"-416.3\" font-family=\"Helvetica,sans-Serif\" font-size=\"14.00\">class = left</text>\r\n",
       "</g>\r\n",
       "<!-- 13&#45;&gt;14 -->\r\n",
       "<g id=\"edge14\" class=\"edge\"><title>13&#45;&gt;14</title>\r\n",
       "<path fill=\"none\" stroke=\"black\" d=\"M612.591,-504.884C597.919,-493.006 581.416,-479.646 566.876,-467.876\"/>\r\n",
       "<polygon fill=\"black\" stroke=\"black\" points=\"568.999,-465.092 559.025,-461.52 564.595,-470.532 568.999,-465.092\"/>\r\n",
       "</g>\r\n",
       "<!-- 15 -->\r\n",
       "<g id=\"node16\" class=\"node\"><title>15</title>\r\n",
       "<path fill=\"none\" stroke=\"black\" d=\"M751,-469C751,-469 614,-469 614,-469 608,-469 602,-463 602,-457 602,-457 602,-413 602,-413 602,-407 608,-401 614,-401 614,-401 751,-401 751,-401 757,-401 763,-407 763,-413 763,-413 763,-457 763,-457 763,-463 757,-469 751,-469\"/>\r\n",
       "<text text-anchor=\"middle\" x=\"682.5\" y=\"-453.8\" font-family=\"Helvetica,sans-Serif\" font-size=\"14.00\">number_project &lt;= 6.5</text>\r\n",
       "<text text-anchor=\"middle\" x=\"682.5\" y=\"-438.8\" font-family=\"Helvetica,sans-Serif\" font-size=\"14.00\">samples = 1053</text>\r\n",
       "<text text-anchor=\"middle\" x=\"682.5\" y=\"-423.8\" font-family=\"Helvetica,sans-Serif\" font-size=\"14.00\">value = [974, 79]</text>\r\n",
       "<text text-anchor=\"middle\" x=\"682.5\" y=\"-408.8\" font-family=\"Helvetica,sans-Serif\" font-size=\"14.00\">class = stayed</text>\r\n",
       "</g>\r\n",
       "<!-- 13&#45;&gt;15 -->\r\n",
       "<g id=\"edge15\" class=\"edge\"><title>13&#45;&gt;15</title>\r\n",
       "<path fill=\"none\" stroke=\"black\" d=\"M662.915,-504.884C665.245,-496.689 667.776,-487.789 670.22,-479.192\"/>\r\n",
       "<polygon fill=\"black\" stroke=\"black\" points=\"673.664,-479.875 673.033,-469.299 666.931,-477.961 673.664,-479.875\"/>\r\n",
       "</g>\r\n",
       "<!-- 16 -->\r\n",
       "<g id=\"node17\" class=\"node\"><title>16</title>\r\n",
       "<path fill=\"none\" stroke=\"black\" d=\"M604,-365C604,-365 407,-365 407,-365 401,-365 395,-359 395,-353 395,-353 395,-309 395,-309 395,-303 401,-297 407,-297 407,-297 604,-297 604,-297 610,-297 616,-303 616,-309 616,-309 616,-353 616,-353 616,-359 610,-365 604,-365\"/>\r\n",
       "<text text-anchor=\"middle\" x=\"505.5\" y=\"-349.8\" font-family=\"Helvetica,sans-Serif\" font-size=\"14.00\">average_montly_hours &lt;= 290.0</text>\r\n",
       "<text text-anchor=\"middle\" x=\"505.5\" y=\"-334.8\" font-family=\"Helvetica,sans-Serif\" font-size=\"14.00\">samples = 1045</text>\r\n",
       "<text text-anchor=\"middle\" x=\"505.5\" y=\"-319.8\" font-family=\"Helvetica,sans-Serif\" font-size=\"14.00\">value = [974, 71]</text>\r\n",
       "<text text-anchor=\"middle\" x=\"505.5\" y=\"-304.8\" font-family=\"Helvetica,sans-Serif\" font-size=\"14.00\">class = stayed</text>\r\n",
       "</g>\r\n",
       "<!-- 15&#45;&gt;16 -->\r\n",
       "<g id=\"edge16\" class=\"edge\"><title>15&#45;&gt;16</title>\r\n",
       "<path fill=\"none\" stroke=\"black\" d=\"M625.033,-400.884C608.099,-391.125 589.43,-380.366 571.98,-370.31\"/>\r\n",
       "<polygon fill=\"black\" stroke=\"black\" points=\"573.393,-367.085 562.981,-365.125 569.898,-373.15 573.393,-367.085\"/>\r\n",
       "</g>\r\n",
       "<!-- 19 -->\r\n",
       "<g id=\"node20\" class=\"node\"><title>19</title>\r\n",
       "<path fill=\"none\" stroke=\"black\" d=\"M719,-357.5C719,-357.5 646,-357.5 646,-357.5 640,-357.5 634,-351.5 634,-345.5 634,-345.5 634,-316.5 634,-316.5 634,-310.5 640,-304.5 646,-304.5 646,-304.5 719,-304.5 719,-304.5 725,-304.5 731,-310.5 731,-316.5 731,-316.5 731,-345.5 731,-345.5 731,-351.5 725,-357.5 719,-357.5\"/>\r\n",
       "<text text-anchor=\"middle\" x=\"682.5\" y=\"-342.3\" font-family=\"Helvetica,sans-Serif\" font-size=\"14.00\">samples = 8</text>\r\n",
       "<text text-anchor=\"middle\" x=\"682.5\" y=\"-327.3\" font-family=\"Helvetica,sans-Serif\" font-size=\"14.00\">value = [0, 8]</text>\r\n",
       "<text text-anchor=\"middle\" x=\"682.5\" y=\"-312.3\" font-family=\"Helvetica,sans-Serif\" font-size=\"14.00\">class = left</text>\r\n",
       "</g>\r\n",
       "<!-- 15&#45;&gt;19 -->\r\n",
       "<g id=\"edge19\" class=\"edge\"><title>15&#45;&gt;19</title>\r\n",
       "<path fill=\"none\" stroke=\"black\" d=\"M682.5,-400.884C682.5,-390.326 682.5,-378.597 682.5,-367.854\"/>\r\n",
       "<polygon fill=\"black\" stroke=\"black\" points=\"686,-367.52 682.5,-357.52 679,-367.52 686,-367.52\"/>\r\n",
       "</g>\r\n",
       "<!-- 17 -->\r\n",
       "<g id=\"node18\" class=\"node\"><title>17</title>\r\n",
       "<path fill=\"none\" stroke=\"black\" d=\"M507.5,-253.5C507.5,-253.5 409.5,-253.5 409.5,-253.5 403.5,-253.5 397.5,-247.5 397.5,-241.5 397.5,-241.5 397.5,-212.5 397.5,-212.5 397.5,-206.5 403.5,-200.5 409.5,-200.5 409.5,-200.5 507.5,-200.5 507.5,-200.5 513.5,-200.5 519.5,-206.5 519.5,-212.5 519.5,-212.5 519.5,-241.5 519.5,-241.5 519.5,-247.5 513.5,-253.5 507.5,-253.5\"/>\r\n",
       "<text text-anchor=\"middle\" x=\"458.5\" y=\"-238.3\" font-family=\"Helvetica,sans-Serif\" font-size=\"14.00\">samples = 1038</text>\r\n",
       "<text text-anchor=\"middle\" x=\"458.5\" y=\"-223.3\" font-family=\"Helvetica,sans-Serif\" font-size=\"14.00\">value = [974, 64]</text>\r\n",
       "<text text-anchor=\"middle\" x=\"458.5\" y=\"-208.3\" font-family=\"Helvetica,sans-Serif\" font-size=\"14.00\">class = stayed</text>\r\n",
       "</g>\r\n",
       "<!-- 16&#45;&gt;17 -->\r\n",
       "<g id=\"edge17\" class=\"edge\"><title>16&#45;&gt;17</title>\r\n",
       "<path fill=\"none\" stroke=\"black\" d=\"M490.24,-296.884C485.223,-285.996 479.633,-273.863 474.558,-262.85\"/>\r\n",
       "<polygon fill=\"black\" stroke=\"black\" points=\"477.623,-261.137 470.259,-253.52 471.265,-264.067 477.623,-261.137\"/>\r\n",
       "</g>\r\n",
       "<!-- 18 -->\r\n",
       "<g id=\"node19\" class=\"node\"><title>18</title>\r\n",
       "<path fill=\"none\" stroke=\"black\" d=\"M623,-253.5C623,-253.5 550,-253.5 550,-253.5 544,-253.5 538,-247.5 538,-241.5 538,-241.5 538,-212.5 538,-212.5 538,-206.5 544,-200.5 550,-200.5 550,-200.5 623,-200.5 623,-200.5 629,-200.5 635,-206.5 635,-212.5 635,-212.5 635,-241.5 635,-241.5 635,-247.5 629,-253.5 623,-253.5\"/>\r\n",
       "<text text-anchor=\"middle\" x=\"586.5\" y=\"-238.3\" font-family=\"Helvetica,sans-Serif\" font-size=\"14.00\">samples = 7</text>\r\n",
       "<text text-anchor=\"middle\" x=\"586.5\" y=\"-223.3\" font-family=\"Helvetica,sans-Serif\" font-size=\"14.00\">value = [0, 7]</text>\r\n",
       "<text text-anchor=\"middle\" x=\"586.5\" y=\"-208.3\" font-family=\"Helvetica,sans-Serif\" font-size=\"14.00\">class = left</text>\r\n",
       "</g>\r\n",
       "<!-- 16&#45;&gt;18 -->\r\n",
       "<g id=\"edge18\" class=\"edge\"><title>16&#45;&gt;18</title>\r\n",
       "<path fill=\"none\" stroke=\"black\" d=\"M531.798,-296.884C540.794,-285.556 550.86,-272.88 559.881,-261.521\"/>\r\n",
       "<polygon fill=\"black\" stroke=\"black\" points=\"562.756,-263.528 566.234,-253.52 557.274,-259.174 562.756,-263.528\"/>\r\n",
       "</g>\r\n",
       "<!-- 21 -->\r\n",
       "<g id=\"node22\" class=\"node\"><title>21</title>\r\n",
       "<path fill=\"none\" stroke=\"black\" d=\"M1003,-573C1003,-573 806,-573 806,-573 800,-573 794,-567 794,-561 794,-561 794,-517 794,-517 794,-511 800,-505 806,-505 806,-505 1003,-505 1003,-505 1009,-505 1015,-511 1015,-517 1015,-517 1015,-561 1015,-561 1015,-567 1009,-573 1003,-573\"/>\r\n",
       "<text text-anchor=\"middle\" x=\"904.5\" y=\"-557.8\" font-family=\"Helvetica,sans-Serif\" font-size=\"14.00\">average_montly_hours &lt;= 290.0</text>\r\n",
       "<text text-anchor=\"middle\" x=\"904.5\" y=\"-542.8\" font-family=\"Helvetica,sans-Serif\" font-size=\"14.00\">samples = 6199</text>\r\n",
       "<text text-anchor=\"middle\" x=\"904.5\" y=\"-527.8\" font-family=\"Helvetica,sans-Serif\" font-size=\"14.00\">value = [6109, 90]</text>\r\n",
       "<text text-anchor=\"middle\" x=\"904.5\" y=\"-512.8\" font-family=\"Helvetica,sans-Serif\" font-size=\"14.00\">class = stayed</text>\r\n",
       "</g>\r\n",
       "<!-- 20&#45;&gt;21 -->\r\n",
       "<g id=\"edge21\" class=\"edge\"><title>20&#45;&gt;21</title>\r\n",
       "<path fill=\"none\" stroke=\"black\" d=\"M904.5,-608.884C904.5,-600.778 904.5,-591.982 904.5,-583.472\"/>\r\n",
       "<polygon fill=\"black\" stroke=\"black\" points=\"908,-583.299 904.5,-573.299 901,-583.299 908,-583.299\"/>\r\n",
       "</g>\r\n",
       "<!-- 30 -->\r\n",
       "<g id=\"node31\" class=\"node\"><title>30</title>\r\n",
       "<path fill=\"none\" stroke=\"black\" d=\"M1270.5,-573C1270.5,-573 1124.5,-573 1124.5,-573 1118.5,-573 1112.5,-567 1112.5,-561 1112.5,-561 1112.5,-517 1112.5,-517 1112.5,-511 1118.5,-505 1124.5,-505 1124.5,-505 1270.5,-505 1270.5,-505 1276.5,-505 1282.5,-511 1282.5,-517 1282.5,-517 1282.5,-561 1282.5,-561 1282.5,-567 1276.5,-573 1270.5,-573\"/>\r\n",
       "<text text-anchor=\"middle\" x=\"1197.5\" y=\"-557.8\" font-family=\"Helvetica,sans-Serif\" font-size=\"14.00\">last_evaluation &lt;= 0.805</text>\r\n",
       "<text text-anchor=\"middle\" x=\"1197.5\" y=\"-542.8\" font-family=\"Helvetica,sans-Serif\" font-size=\"14.00\">samples = 1417</text>\r\n",
       "<text text-anchor=\"middle\" x=\"1197.5\" y=\"-527.8\" font-family=\"Helvetica,sans-Serif\" font-size=\"14.00\">value = [775, 642]</text>\r\n",
       "<text text-anchor=\"middle\" x=\"1197.5\" y=\"-512.8\" font-family=\"Helvetica,sans-Serif\" font-size=\"14.00\">class = stayed</text>\r\n",
       "</g>\r\n",
       "<!-- 20&#45;&gt;30 -->\r\n",
       "<g id=\"edge30\" class=\"edge\"><title>20&#45;&gt;30</title>\r\n",
       "<path fill=\"none\" stroke=\"black\" d=\"M999.629,-608.884C1032.63,-597.395 1069.62,-584.519 1102.6,-573.037\"/>\r\n",
       "<polygon fill=\"black\" stroke=\"black\" points=\"1103.95,-576.273 1112.24,-569.68 1101.65,-569.662 1103.95,-576.273\"/>\r\n",
       "</g>\r\n",
       "<!-- 22 -->\r\n",
       "<g id=\"node23\" class=\"node\"><title>22</title>\r\n",
       "<path fill=\"none\" stroke=\"black\" d=\"M944,-469C944,-469 807,-469 807,-469 801,-469 795,-463 795,-457 795,-457 795,-413 795,-413 795,-407 801,-401 807,-401 807,-401 944,-401 944,-401 950,-401 956,-407 956,-413 956,-413 956,-457 956,-457 956,-463 950,-469 944,-469\"/>\r\n",
       "<text text-anchor=\"middle\" x=\"875.5\" y=\"-453.8\" font-family=\"Helvetica,sans-Serif\" font-size=\"14.00\">number_project &lt;= 5.5</text>\r\n",
       "<text text-anchor=\"middle\" x=\"875.5\" y=\"-438.8\" font-family=\"Helvetica,sans-Serif\" font-size=\"14.00\">samples = 6192</text>\r\n",
       "<text text-anchor=\"middle\" x=\"875.5\" y=\"-423.8\" font-family=\"Helvetica,sans-Serif\" font-size=\"14.00\">value = [6109, 83]</text>\r\n",
       "<text text-anchor=\"middle\" x=\"875.5\" y=\"-408.8\" font-family=\"Helvetica,sans-Serif\" font-size=\"14.00\">class = stayed</text>\r\n",
       "</g>\r\n",
       "<!-- 21&#45;&gt;22 -->\r\n",
       "<g id=\"edge22\" class=\"edge\"><title>21&#45;&gt;22</title>\r\n",
       "<path fill=\"none\" stroke=\"black\" d=\"M895.085,-504.884C892.755,-496.689 890.224,-487.789 887.78,-479.192\"/>\r\n",
       "<polygon fill=\"black\" stroke=\"black\" points=\"891.069,-477.961 884.967,-469.299 884.336,-479.875 891.069,-477.961\"/>\r\n",
       "</g>\r\n",
       "<!-- 29 -->\r\n",
       "<g id=\"node30\" class=\"node\"><title>29</title>\r\n",
       "<path fill=\"none\" stroke=\"black\" d=\"M1059,-461.5C1059,-461.5 986,-461.5 986,-461.5 980,-461.5 974,-455.5 974,-449.5 974,-449.5 974,-420.5 974,-420.5 974,-414.5 980,-408.5 986,-408.5 986,-408.5 1059,-408.5 1059,-408.5 1065,-408.5 1071,-414.5 1071,-420.5 1071,-420.5 1071,-449.5 1071,-449.5 1071,-455.5 1065,-461.5 1059,-461.5\"/>\r\n",
       "<text text-anchor=\"middle\" x=\"1022.5\" y=\"-446.3\" font-family=\"Helvetica,sans-Serif\" font-size=\"14.00\">samples = 7</text>\r\n",
       "<text text-anchor=\"middle\" x=\"1022.5\" y=\"-431.3\" font-family=\"Helvetica,sans-Serif\" font-size=\"14.00\">value = [0, 7]</text>\r\n",
       "<text text-anchor=\"middle\" x=\"1022.5\" y=\"-416.3\" font-family=\"Helvetica,sans-Serif\" font-size=\"14.00\">class = left</text>\r\n",
       "</g>\r\n",
       "<!-- 21&#45;&gt;29 -->\r\n",
       "<g id=\"edge29\" class=\"edge\"><title>21&#45;&gt;29</title>\r\n",
       "<path fill=\"none\" stroke=\"black\" d=\"M942.811,-504.884C956.425,-493.116 971.721,-479.894 985.245,-468.203\"/>\r\n",
       "<polygon fill=\"black\" stroke=\"black\" points=\"987.7,-470.707 992.977,-461.52 983.123,-465.412 987.7,-470.707\"/>\r\n",
       "</g>\r\n",
       "<!-- 23 -->\r\n",
       "<g id=\"node24\" class=\"node\"><title>23</title>\r\n",
       "<path fill=\"none\" stroke=\"black\" d=\"M939.5,-365C939.5,-365 761.5,-365 761.5,-365 755.5,-365 749.5,-359 749.5,-353 749.5,-353 749.5,-309 749.5,-309 749.5,-303 755.5,-297 761.5,-297 761.5,-297 939.5,-297 939.5,-297 945.5,-297 951.5,-303 951.5,-309 951.5,-309 951.5,-353 951.5,-353 951.5,-359 945.5,-365 939.5,-365\"/>\r\n",
       "<text text-anchor=\"middle\" x=\"850.5\" y=\"-349.8\" font-family=\"Helvetica,sans-Serif\" font-size=\"14.00\">time_spend_company &lt;= 3.5</text>\r\n",
       "<text text-anchor=\"middle\" x=\"850.5\" y=\"-334.8\" font-family=\"Helvetica,sans-Serif\" font-size=\"14.00\">samples = 6091</text>\r\n",
       "<text text-anchor=\"middle\" x=\"850.5\" y=\"-319.8\" font-family=\"Helvetica,sans-Serif\" font-size=\"14.00\">value = [6020, 71]</text>\r\n",
       "<text text-anchor=\"middle\" x=\"850.5\" y=\"-304.8\" font-family=\"Helvetica,sans-Serif\" font-size=\"14.00\">class = stayed</text>\r\n",
       "</g>\r\n",
       "<!-- 22&#45;&gt;23 -->\r\n",
       "<g id=\"edge23\" class=\"edge\"><title>22&#45;&gt;23</title>\r\n",
       "<path fill=\"none\" stroke=\"black\" d=\"M867.383,-400.884C865.375,-392.689 863.193,-383.789 861.086,-375.192\"/>\r\n",
       "<polygon fill=\"black\" stroke=\"black\" points=\"864.442,-374.179 858.662,-365.299 857.643,-375.845 864.442,-374.179\"/>\r\n",
       "</g>\r\n",
       "<!-- 28 -->\r\n",
       "<g id=\"node29\" class=\"node\"><title>28</title>\r\n",
       "<path fill=\"none\" stroke=\"black\" d=\"M1071,-357.5C1071,-357.5 982,-357.5 982,-357.5 976,-357.5 970,-351.5 970,-345.5 970,-345.5 970,-316.5 970,-316.5 970,-310.5 976,-304.5 982,-304.5 982,-304.5 1071,-304.5 1071,-304.5 1077,-304.5 1083,-310.5 1083,-316.5 1083,-316.5 1083,-345.5 1083,-345.5 1083,-351.5 1077,-357.5 1071,-357.5\"/>\r\n",
       "<text text-anchor=\"middle\" x=\"1026.5\" y=\"-342.3\" font-family=\"Helvetica,sans-Serif\" font-size=\"14.00\">samples = 101</text>\r\n",
       "<text text-anchor=\"middle\" x=\"1026.5\" y=\"-327.3\" font-family=\"Helvetica,sans-Serif\" font-size=\"14.00\">value = [89, 12]</text>\r\n",
       "<text text-anchor=\"middle\" x=\"1026.5\" y=\"-312.3\" font-family=\"Helvetica,sans-Serif\" font-size=\"14.00\">class = stayed</text>\r\n",
       "</g>\r\n",
       "<!-- 22&#45;&gt;28 -->\r\n",
       "<g id=\"edge28\" class=\"edge\"><title>22&#45;&gt;28</title>\r\n",
       "<path fill=\"none\" stroke=\"black\" d=\"M924.525,-400.884C942.435,-388.786 962.62,-375.151 980.277,-363.224\"/>\r\n",
       "<polygon fill=\"black\" stroke=\"black\" points=\"982.393,-366.018 988.72,-357.52 978.475,-360.217 982.393,-366.018\"/>\r\n",
       "</g>\r\n",
       "<!-- 24 -->\r\n",
       "<g id=\"node25\" class=\"node\"><title>24</title>\r\n",
       "<path fill=\"none\" stroke=\"black\" d=\"M806,-261C806,-261 669,-261 669,-261 663,-261 657,-255 657,-249 657,-249 657,-205 657,-205 657,-199 663,-193 669,-193 669,-193 806,-193 806,-193 812,-193 818,-199 818,-205 818,-205 818,-249 818,-249 818,-255 812,-261 806,-261\"/>\r\n",
       "<text text-anchor=\"middle\" x=\"737.5\" y=\"-245.8\" font-family=\"Helvetica,sans-Serif\" font-size=\"14.00\">number_project &lt;= 2.5</text>\r\n",
       "<text text-anchor=\"middle\" x=\"737.5\" y=\"-230.8\" font-family=\"Helvetica,sans-Serif\" font-size=\"14.00\">samples = 5140</text>\r\n",
       "<text text-anchor=\"middle\" x=\"737.5\" y=\"-215.8\" font-family=\"Helvetica,sans-Serif\" font-size=\"14.00\">value = [5099, 41]</text>\r\n",
       "<text text-anchor=\"middle\" x=\"737.5\" y=\"-200.8\" font-family=\"Helvetica,sans-Serif\" font-size=\"14.00\">class = stayed</text>\r\n",
       "</g>\r\n",
       "<!-- 23&#45;&gt;24 -->\r\n",
       "<g id=\"edge24\" class=\"edge\"><title>23&#45;&gt;24</title>\r\n",
       "<path fill=\"none\" stroke=\"black\" d=\"M813.812,-296.884C803.648,-287.709 792.505,-277.65 781.95,-268.123\"/>\r\n",
       "<polygon fill=\"black\" stroke=\"black\" points=\"784.159,-265.402 774.39,-261.299 779.468,-270.598 784.159,-265.402\"/>\r\n",
       "</g>\r\n",
       "<!-- 27 -->\r\n",
       "<g id=\"node28\" class=\"node\"><title>27</title>\r\n",
       "<path fill=\"none\" stroke=\"black\" d=\"M946.5,-253.5C946.5,-253.5 848.5,-253.5 848.5,-253.5 842.5,-253.5 836.5,-247.5 836.5,-241.5 836.5,-241.5 836.5,-212.5 836.5,-212.5 836.5,-206.5 842.5,-200.5 848.5,-200.5 848.5,-200.5 946.5,-200.5 946.5,-200.5 952.5,-200.5 958.5,-206.5 958.5,-212.5 958.5,-212.5 958.5,-241.5 958.5,-241.5 958.5,-247.5 952.5,-253.5 946.5,-253.5\"/>\r\n",
       "<text text-anchor=\"middle\" x=\"897.5\" y=\"-238.3\" font-family=\"Helvetica,sans-Serif\" font-size=\"14.00\">samples = 951</text>\r\n",
       "<text text-anchor=\"middle\" x=\"897.5\" y=\"-223.3\" font-family=\"Helvetica,sans-Serif\" font-size=\"14.00\">value = [921, 30]</text>\r\n",
       "<text text-anchor=\"middle\" x=\"897.5\" y=\"-208.3\" font-family=\"Helvetica,sans-Serif\" font-size=\"14.00\">class = stayed</text>\r\n",
       "</g>\r\n",
       "<!-- 23&#45;&gt;27 -->\r\n",
       "<g id=\"edge27\" class=\"edge\"><title>23&#45;&gt;27</title>\r\n",
       "<path fill=\"none\" stroke=\"black\" d=\"M865.76,-296.884C870.777,-285.996 876.367,-273.863 881.442,-262.85\"/>\r\n",
       "<polygon fill=\"black\" stroke=\"black\" points=\"884.735,-264.067 885.741,-253.52 878.377,-261.137 884.735,-264.067\"/>\r\n",
       "</g>\r\n",
       "<!-- 25 -->\r\n",
       "<g id=\"node26\" class=\"node\"><title>25</title>\r\n",
       "<path fill=\"none\" stroke=\"black\" d=\"M714.5,-149.5C714.5,-149.5 616.5,-149.5 616.5,-149.5 610.5,-149.5 604.5,-143.5 604.5,-137.5 604.5,-137.5 604.5,-108.5 604.5,-108.5 604.5,-102.5 610.5,-96.5 616.5,-96.5 616.5,-96.5 714.5,-96.5 714.5,-96.5 720.5,-96.5 726.5,-102.5 726.5,-108.5 726.5,-108.5 726.5,-137.5 726.5,-137.5 726.5,-143.5 720.5,-149.5 714.5,-149.5\"/>\r\n",
       "<text text-anchor=\"middle\" x=\"665.5\" y=\"-134.3\" font-family=\"Helvetica,sans-Serif\" font-size=\"14.00\">samples = 291</text>\r\n",
       "<text text-anchor=\"middle\" x=\"665.5\" y=\"-119.3\" font-family=\"Helvetica,sans-Serif\" font-size=\"14.00\">value = [276, 15]</text>\r\n",
       "<text text-anchor=\"middle\" x=\"665.5\" y=\"-104.3\" font-family=\"Helvetica,sans-Serif\" font-size=\"14.00\">class = stayed</text>\r\n",
       "</g>\r\n",
       "<!-- 24&#45;&gt;25 -->\r\n",
       "<g id=\"edge25\" class=\"edge\"><title>24&#45;&gt;25</title>\r\n",
       "<path fill=\"none\" stroke=\"black\" d=\"M714.124,-192.884C706.205,-181.666 697.354,-169.126 689.395,-157.852\"/>\r\n",
       "<polygon fill=\"black\" stroke=\"black\" points=\"692.14,-155.671 683.514,-149.52 686.422,-159.708 692.14,-155.671\"/>\r\n",
       "</g>\r\n",
       "<!-- 26 -->\r\n",
       "<g id=\"node27\" class=\"node\"><title>26</title>\r\n",
       "<path fill=\"none\" stroke=\"black\" d=\"M862.5,-149.5C862.5,-149.5 756.5,-149.5 756.5,-149.5 750.5,-149.5 744.5,-143.5 744.5,-137.5 744.5,-137.5 744.5,-108.5 744.5,-108.5 744.5,-102.5 750.5,-96.5 756.5,-96.5 756.5,-96.5 862.5,-96.5 862.5,-96.5 868.5,-96.5 874.5,-102.5 874.5,-108.5 874.5,-108.5 874.5,-137.5 874.5,-137.5 874.5,-143.5 868.5,-149.5 862.5,-149.5\"/>\r\n",
       "<text text-anchor=\"middle\" x=\"809.5\" y=\"-134.3\" font-family=\"Helvetica,sans-Serif\" font-size=\"14.00\">samples = 4849</text>\r\n",
       "<text text-anchor=\"middle\" x=\"809.5\" y=\"-119.3\" font-family=\"Helvetica,sans-Serif\" font-size=\"14.00\">value = [4823, 26]</text>\r\n",
       "<text text-anchor=\"middle\" x=\"809.5\" y=\"-104.3\" font-family=\"Helvetica,sans-Serif\" font-size=\"14.00\">class = stayed</text>\r\n",
       "</g>\r\n",
       "<!-- 24&#45;&gt;26 -->\r\n",
       "<g id=\"edge26\" class=\"edge\"><title>24&#45;&gt;26</title>\r\n",
       "<path fill=\"none\" stroke=\"black\" d=\"M760.876,-192.884C768.795,-181.666 777.646,-169.126 785.605,-157.852\"/>\r\n",
       "<polygon fill=\"black\" stroke=\"black\" points=\"788.578,-159.708 791.486,-149.52 782.86,-155.671 788.578,-159.708\"/>\r\n",
       "</g>\r\n",
       "<!-- 31 -->\r\n",
       "<g id=\"node32\" class=\"node\"><title>31</title>\r\n",
       "<path fill=\"none\" stroke=\"black\" d=\"M1286.5,-469C1286.5,-469 1108.5,-469 1108.5,-469 1102.5,-469 1096.5,-463 1096.5,-457 1096.5,-457 1096.5,-413 1096.5,-413 1096.5,-407 1102.5,-401 1108.5,-401 1108.5,-401 1286.5,-401 1286.5,-401 1292.5,-401 1298.5,-407 1298.5,-413 1298.5,-413 1298.5,-457 1298.5,-457 1298.5,-463 1292.5,-469 1286.5,-469\"/>\r\n",
       "<text text-anchor=\"middle\" x=\"1197.5\" y=\"-453.8\" font-family=\"Helvetica,sans-Serif\" font-size=\"14.00\">time_spend_company &lt;= 6.5</text>\r\n",
       "<text text-anchor=\"middle\" x=\"1197.5\" y=\"-438.8\" font-family=\"Helvetica,sans-Serif\" font-size=\"14.00\">samples = 544</text>\r\n",
       "<text text-anchor=\"middle\" x=\"1197.5\" y=\"-423.8\" font-family=\"Helvetica,sans-Serif\" font-size=\"14.00\">value = [523, 21]</text>\r\n",
       "<text text-anchor=\"middle\" x=\"1197.5\" y=\"-408.8\" font-family=\"Helvetica,sans-Serif\" font-size=\"14.00\">class = stayed</text>\r\n",
       "</g>\r\n",
       "<!-- 30&#45;&gt;31 -->\r\n",
       "<g id=\"edge31\" class=\"edge\"><title>30&#45;&gt;31</title>\r\n",
       "<path fill=\"none\" stroke=\"black\" d=\"M1197.5,-504.884C1197.5,-496.778 1197.5,-487.982 1197.5,-479.472\"/>\r\n",
       "<polygon fill=\"black\" stroke=\"black\" points=\"1201,-479.299 1197.5,-469.299 1194,-479.299 1201,-479.299\"/>\r\n",
       "</g>\r\n",
       "<!-- 34 -->\r\n",
       "<g id=\"node35\" class=\"node\"><title>34</title>\r\n",
       "<path fill=\"none\" stroke=\"black\" d=\"M1533,-469C1533,-469 1336,-469 1336,-469 1330,-469 1324,-463 1324,-457 1324,-457 1324,-413 1324,-413 1324,-407 1330,-401 1336,-401 1336,-401 1533,-401 1533,-401 1539,-401 1545,-407 1545,-413 1545,-413 1545,-457 1545,-457 1545,-463 1539,-469 1533,-469\"/>\r\n",
       "<text text-anchor=\"middle\" x=\"1434.5\" y=\"-453.8\" font-family=\"Helvetica,sans-Serif\" font-size=\"14.00\">average_montly_hours &lt;= 216.5</text>\r\n",
       "<text text-anchor=\"middle\" x=\"1434.5\" y=\"-438.8\" font-family=\"Helvetica,sans-Serif\" font-size=\"14.00\">samples = 873</text>\r\n",
       "<text text-anchor=\"middle\" x=\"1434.5\" y=\"-423.8\" font-family=\"Helvetica,sans-Serif\" font-size=\"14.00\">value = [252, 621]</text>\r\n",
       "<text text-anchor=\"middle\" x=\"1434.5\" y=\"-408.8\" font-family=\"Helvetica,sans-Serif\" font-size=\"14.00\">class = left</text>\r\n",
       "</g>\r\n",
       "<!-- 30&#45;&gt;34 -->\r\n",
       "<g id=\"edge34\" class=\"edge\"><title>30&#45;&gt;34</title>\r\n",
       "<path fill=\"none\" stroke=\"black\" d=\"M1274.45,-504.884C1297.95,-494.767 1323.96,-483.575 1348.05,-473.206\"/>\r\n",
       "<polygon fill=\"black\" stroke=\"black\" points=\"1349.73,-476.293 1357.53,-469.125 1346.96,-469.863 1349.73,-476.293\"/>\r\n",
       "</g>\r\n",
       "<!-- 32 -->\r\n",
       "<g id=\"node33\" class=\"node\"><title>32</title>\r\n",
       "<path fill=\"none\" stroke=\"black\" d=\"M1211.5,-357.5C1211.5,-357.5 1113.5,-357.5 1113.5,-357.5 1107.5,-357.5 1101.5,-351.5 1101.5,-345.5 1101.5,-345.5 1101.5,-316.5 1101.5,-316.5 1101.5,-310.5 1107.5,-304.5 1113.5,-304.5 1113.5,-304.5 1211.5,-304.5 1211.5,-304.5 1217.5,-304.5 1223.5,-310.5 1223.5,-316.5 1223.5,-316.5 1223.5,-345.5 1223.5,-345.5 1223.5,-351.5 1217.5,-357.5 1211.5,-357.5\"/>\r\n",
       "<text text-anchor=\"middle\" x=\"1162.5\" y=\"-342.3\" font-family=\"Helvetica,sans-Serif\" font-size=\"14.00\">samples = 309</text>\r\n",
       "<text text-anchor=\"middle\" x=\"1162.5\" y=\"-327.3\" font-family=\"Helvetica,sans-Serif\" font-size=\"14.00\">value = [288, 21]</text>\r\n",
       "<text text-anchor=\"middle\" x=\"1162.5\" y=\"-312.3\" font-family=\"Helvetica,sans-Serif\" font-size=\"14.00\">class = stayed</text>\r\n",
       "</g>\r\n",
       "<!-- 31&#45;&gt;32 -->\r\n",
       "<g id=\"edge32\" class=\"edge\"><title>31&#45;&gt;32</title>\r\n",
       "<path fill=\"none\" stroke=\"black\" d=\"M1186.14,-400.884C1182.44,-390.106 1178.32,-378.108 1174.57,-367.184\"/>\r\n",
       "<polygon fill=\"black\" stroke=\"black\" points=\"1177.81,-365.843 1171.26,-357.52 1171.19,-368.115 1177.81,-365.843\"/>\r\n",
       "</g>\r\n",
       "<!-- 33 -->\r\n",
       "<g id=\"node34\" class=\"node\"><title>33</title>\r\n",
       "<path fill=\"none\" stroke=\"black\" d=\"M1343,-357.5C1343,-357.5 1254,-357.5 1254,-357.5 1248,-357.5 1242,-351.5 1242,-345.5 1242,-345.5 1242,-316.5 1242,-316.5 1242,-310.5 1248,-304.5 1254,-304.5 1254,-304.5 1343,-304.5 1343,-304.5 1349,-304.5 1355,-310.5 1355,-316.5 1355,-316.5 1355,-345.5 1355,-345.5 1355,-351.5 1349,-357.5 1343,-357.5\"/>\r\n",
       "<text text-anchor=\"middle\" x=\"1298.5\" y=\"-342.3\" font-family=\"Helvetica,sans-Serif\" font-size=\"14.00\">samples = 235</text>\r\n",
       "<text text-anchor=\"middle\" x=\"1298.5\" y=\"-327.3\" font-family=\"Helvetica,sans-Serif\" font-size=\"14.00\">value = [235, 0]</text>\r\n",
       "<text text-anchor=\"middle\" x=\"1298.5\" y=\"-312.3\" font-family=\"Helvetica,sans-Serif\" font-size=\"14.00\">class = stayed</text>\r\n",
       "</g>\r\n",
       "<!-- 31&#45;&gt;33 -->\r\n",
       "<g id=\"edge33\" class=\"edge\"><title>31&#45;&gt;33</title>\r\n",
       "<path fill=\"none\" stroke=\"black\" d=\"M1230.29,-400.884C1241.73,-389.336 1254.55,-376.387 1265.96,-364.86\"/>\r\n",
       "<polygon fill=\"black\" stroke=\"black\" points=\"1268.68,-367.088 1273.23,-357.52 1263.71,-362.163 1268.68,-367.088\"/>\r\n",
       "</g>\r\n",
       "<!-- 35 -->\r\n",
       "<g id=\"node36\" class=\"node\"><title>35</title>\r\n",
       "<path fill=\"none\" stroke=\"black\" d=\"M1483.5,-357.5C1483.5,-357.5 1385.5,-357.5 1385.5,-357.5 1379.5,-357.5 1373.5,-351.5 1373.5,-345.5 1373.5,-345.5 1373.5,-316.5 1373.5,-316.5 1373.5,-310.5 1379.5,-304.5 1385.5,-304.5 1385.5,-304.5 1483.5,-304.5 1483.5,-304.5 1489.5,-304.5 1495.5,-310.5 1495.5,-316.5 1495.5,-316.5 1495.5,-345.5 1495.5,-345.5 1495.5,-351.5 1489.5,-357.5 1483.5,-357.5\"/>\r\n",
       "<text text-anchor=\"middle\" x=\"1434.5\" y=\"-342.3\" font-family=\"Helvetica,sans-Serif\" font-size=\"14.00\">samples = 166</text>\r\n",
       "<text text-anchor=\"middle\" x=\"1434.5\" y=\"-327.3\" font-family=\"Helvetica,sans-Serif\" font-size=\"14.00\">value = [153, 13]</text>\r\n",
       "<text text-anchor=\"middle\" x=\"1434.5\" y=\"-312.3\" font-family=\"Helvetica,sans-Serif\" font-size=\"14.00\">class = stayed</text>\r\n",
       "</g>\r\n",
       "<!-- 34&#45;&gt;35 -->\r\n",
       "<g id=\"edge35\" class=\"edge\"><title>34&#45;&gt;35</title>\r\n",
       "<path fill=\"none\" stroke=\"black\" d=\"M1434.5,-400.884C1434.5,-390.326 1434.5,-378.597 1434.5,-367.854\"/>\r\n",
       "<polygon fill=\"black\" stroke=\"black\" points=\"1438,-367.52 1434.5,-357.52 1431,-367.52 1438,-367.52\"/>\r\n",
       "</g>\r\n",
       "<!-- 36 -->\r\n",
       "<g id=\"node37\" class=\"node\"><title>36</title>\r\n",
       "<path fill=\"none\" stroke=\"black\" d=\"M1703.5,-365C1703.5,-365 1525.5,-365 1525.5,-365 1519.5,-365 1513.5,-359 1513.5,-353 1513.5,-353 1513.5,-309 1513.5,-309 1513.5,-303 1519.5,-297 1525.5,-297 1525.5,-297 1703.5,-297 1703.5,-297 1709.5,-297 1715.5,-303 1715.5,-309 1715.5,-309 1715.5,-353 1715.5,-353 1715.5,-359 1709.5,-365 1703.5,-365\"/>\r\n",
       "<text text-anchor=\"middle\" x=\"1614.5\" y=\"-349.8\" font-family=\"Helvetica,sans-Serif\" font-size=\"14.00\">time_spend_company &lt;= 6.5</text>\r\n",
       "<text text-anchor=\"middle\" x=\"1614.5\" y=\"-334.8\" font-family=\"Helvetica,sans-Serif\" font-size=\"14.00\">samples = 707</text>\r\n",
       "<text text-anchor=\"middle\" x=\"1614.5\" y=\"-319.8\" font-family=\"Helvetica,sans-Serif\" font-size=\"14.00\">value = [99, 608]</text>\r\n",
       "<text text-anchor=\"middle\" x=\"1614.5\" y=\"-304.8\" font-family=\"Helvetica,sans-Serif\" font-size=\"14.00\">class = left</text>\r\n",
       "</g>\r\n",
       "<!-- 34&#45;&gt;36 -->\r\n",
       "<g id=\"edge36\" class=\"edge\"><title>34&#45;&gt;36</title>\r\n",
       "<path fill=\"none\" stroke=\"black\" d=\"M1492.94,-400.884C1510.16,-391.125 1529.15,-380.366 1546.89,-370.31\"/>\r\n",
       "<polygon fill=\"black\" stroke=\"black\" points=\"1549.07,-373.1 1556.04,-365.125 1545.62,-367.01 1549.07,-373.1\"/>\r\n",
       "</g>\r\n",
       "<!-- 37 -->\r\n",
       "<g id=\"node38\" class=\"node\"><title>37</title>\r\n",
       "<path fill=\"none\" stroke=\"black\" d=\"M1612.5,-261C1612.5,-261 1450.5,-261 1450.5,-261 1444.5,-261 1438.5,-255 1438.5,-249 1438.5,-249 1438.5,-205 1438.5,-205 1438.5,-199 1444.5,-193 1450.5,-193 1450.5,-193 1612.5,-193 1612.5,-193 1618.5,-193 1624.5,-199 1624.5,-205 1624.5,-205 1624.5,-249 1624.5,-249 1624.5,-255 1618.5,-261 1612.5,-261\"/>\r\n",
       "<text text-anchor=\"middle\" x=\"1531.5\" y=\"-245.8\" font-family=\"Helvetica,sans-Serif\" font-size=\"14.00\">satisfaction_level &lt;= 0.715</text>\r\n",
       "<text text-anchor=\"middle\" x=\"1531.5\" y=\"-230.8\" font-family=\"Helvetica,sans-Serif\" font-size=\"14.00\">samples = 659</text>\r\n",
       "<text text-anchor=\"middle\" x=\"1531.5\" y=\"-215.8\" font-family=\"Helvetica,sans-Serif\" font-size=\"14.00\">value = [51, 608]</text>\r\n",
       "<text text-anchor=\"middle\" x=\"1531.5\" y=\"-200.8\" font-family=\"Helvetica,sans-Serif\" font-size=\"14.00\">class = left</text>\r\n",
       "</g>\r\n",
       "<!-- 36&#45;&gt;37 -->\r\n",
       "<g id=\"edge37\" class=\"edge\"><title>36&#45;&gt;37</title>\r\n",
       "<path fill=\"none\" stroke=\"black\" d=\"M1587.55,-296.884C1580.38,-288.065 1572.54,-278.43 1565.05,-269.235\"/>\r\n",
       "<polygon fill=\"black\" stroke=\"black\" points=\"1567.62,-266.847 1558.6,-261.299 1562.19,-271.265 1567.62,-266.847\"/>\r\n",
       "</g>\r\n",
       "<!-- 42 -->\r\n",
       "<g id=\"node43\" class=\"node\"><title>42</title>\r\n",
       "<path fill=\"none\" stroke=\"black\" d=\"M1738,-253.5C1738,-253.5 1655,-253.5 1655,-253.5 1649,-253.5 1643,-247.5 1643,-241.5 1643,-241.5 1643,-212.5 1643,-212.5 1643,-206.5 1649,-200.5 1655,-200.5 1655,-200.5 1738,-200.5 1738,-200.5 1744,-200.5 1750,-206.5 1750,-212.5 1750,-212.5 1750,-241.5 1750,-241.5 1750,-247.5 1744,-253.5 1738,-253.5\"/>\r\n",
       "<text text-anchor=\"middle\" x=\"1696.5\" y=\"-238.3\" font-family=\"Helvetica,sans-Serif\" font-size=\"14.00\">samples = 48</text>\r\n",
       "<text text-anchor=\"middle\" x=\"1696.5\" y=\"-223.3\" font-family=\"Helvetica,sans-Serif\" font-size=\"14.00\">value = [48, 0]</text>\r\n",
       "<text text-anchor=\"middle\" x=\"1696.5\" y=\"-208.3\" font-family=\"Helvetica,sans-Serif\" font-size=\"14.00\">class = stayed</text>\r\n",
       "</g>\r\n",
       "<!-- 36&#45;&gt;42 -->\r\n",
       "<g id=\"edge42\" class=\"edge\"><title>36&#45;&gt;42</title>\r\n",
       "<path fill=\"none\" stroke=\"black\" d=\"M1641.12,-296.884C1650.23,-285.556 1660.42,-272.88 1669.55,-261.521\"/>\r\n",
       "<polygon fill=\"black\" stroke=\"black\" points=\"1672.45,-263.507 1675.98,-253.52 1666.99,-259.121 1672.45,-263.507\"/>\r\n",
       "</g>\r\n",
       "<!-- 38 -->\r\n",
       "<g id=\"node39\" class=\"node\"><title>38</title>\r\n",
       "<path fill=\"none\" stroke=\"black\" d=\"M1497,-149.5C1497,-149.5 1414,-149.5 1414,-149.5 1408,-149.5 1402,-143.5 1402,-137.5 1402,-137.5 1402,-108.5 1402,-108.5 1402,-102.5 1408,-96.5 1414,-96.5 1414,-96.5 1497,-96.5 1497,-96.5 1503,-96.5 1509,-102.5 1509,-108.5 1509,-108.5 1509,-137.5 1509,-137.5 1509,-143.5 1503,-149.5 1497,-149.5\"/>\r\n",
       "<text text-anchor=\"middle\" x=\"1455.5\" y=\"-134.3\" font-family=\"Helvetica,sans-Serif\" font-size=\"14.00\">samples = 32</text>\r\n",
       "<text text-anchor=\"middle\" x=\"1455.5\" y=\"-119.3\" font-family=\"Helvetica,sans-Serif\" font-size=\"14.00\">value = [26, 6]</text>\r\n",
       "<text text-anchor=\"middle\" x=\"1455.5\" y=\"-104.3\" font-family=\"Helvetica,sans-Serif\" font-size=\"14.00\">class = stayed</text>\r\n",
       "</g>\r\n",
       "<!-- 37&#45;&gt;38 -->\r\n",
       "<g id=\"edge38\" class=\"edge\"><title>37&#45;&gt;38</title>\r\n",
       "<path fill=\"none\" stroke=\"black\" d=\"M1506.82,-192.884C1498.47,-181.666 1489.12,-169.126 1480.72,-157.852\"/>\r\n",
       "<polygon fill=\"black\" stroke=\"black\" points=\"1483.3,-155.448 1474.51,-149.52 1477.68,-159.63 1483.3,-155.448\"/>\r\n",
       "</g>\r\n",
       "<!-- 39 -->\r\n",
       "<g id=\"node40\" class=\"node\"><title>39</title>\r\n",
       "<path fill=\"none\" stroke=\"black\" d=\"M1676,-157C1676,-157 1539,-157 1539,-157 1533,-157 1527,-151 1527,-145 1527,-145 1527,-101 1527,-101 1527,-95 1533,-89 1539,-89 1539,-89 1676,-89 1676,-89 1682,-89 1688,-95 1688,-101 1688,-101 1688,-145 1688,-145 1688,-151 1682,-157 1676,-157\"/>\r\n",
       "<text text-anchor=\"middle\" x=\"1607.5\" y=\"-141.8\" font-family=\"Helvetica,sans-Serif\" font-size=\"14.00\">number_project &lt;= 3.5</text>\r\n",
       "<text text-anchor=\"middle\" x=\"1607.5\" y=\"-126.8\" font-family=\"Helvetica,sans-Serif\" font-size=\"14.00\">samples = 627</text>\r\n",
       "<text text-anchor=\"middle\" x=\"1607.5\" y=\"-111.8\" font-family=\"Helvetica,sans-Serif\" font-size=\"14.00\">value = [25, 602]</text>\r\n",
       "<text text-anchor=\"middle\" x=\"1607.5\" y=\"-96.8\" font-family=\"Helvetica,sans-Serif\" font-size=\"14.00\">class = left</text>\r\n",
       "</g>\r\n",
       "<!-- 37&#45;&gt;39 -->\r\n",
       "<g id=\"edge39\" class=\"edge\"><title>37&#45;&gt;39</title>\r\n",
       "<path fill=\"none\" stroke=\"black\" d=\"M1556.18,-192.884C1562.68,-184.154 1569.78,-174.625 1576.57,-165.514\"/>\r\n",
       "<polygon fill=\"black\" stroke=\"black\" points=\"1579.52,-167.409 1582.69,-157.299 1573.91,-163.227 1579.52,-167.409\"/>\r\n",
       "</g>\r\n",
       "<!-- 40 -->\r\n",
       "<g id=\"node41\" class=\"node\"><title>40</title>\r\n",
       "<path fill=\"none\" stroke=\"black\" d=\"M1582,-53C1582,-53 1499,-53 1499,-53 1493,-53 1487,-47 1487,-41 1487,-41 1487,-12 1487,-12 1487,-6 1493,-0 1499,-0 1499,-0 1582,-0 1582,-0 1588,-0 1594,-6 1594,-12 1594,-12 1594,-41 1594,-41 1594,-47 1588,-53 1582,-53\"/>\r\n",
       "<text text-anchor=\"middle\" x=\"1540.5\" y=\"-37.8\" font-family=\"Helvetica,sans-Serif\" font-size=\"14.00\">samples = 14</text>\r\n",
       "<text text-anchor=\"middle\" x=\"1540.5\" y=\"-22.8\" font-family=\"Helvetica,sans-Serif\" font-size=\"14.00\">value = [13, 1]</text>\r\n",
       "<text text-anchor=\"middle\" x=\"1540.5\" y=\"-7.8\" font-family=\"Helvetica,sans-Serif\" font-size=\"14.00\">class = stayed</text>\r\n",
       "</g>\r\n",
       "<!-- 39&#45;&gt;40 -->\r\n",
       "<g id=\"edge40\" class=\"edge\"><title>39&#45;&gt;40</title>\r\n",
       "<path fill=\"none\" stroke=\"black\" d=\"M1584.07,-88.9485C1577.78,-80.0749 1570.96,-70.4648 1564.63,-61.5388\"/>\r\n",
       "<polygon fill=\"black\" stroke=\"black\" points=\"1567.39,-59.3701 1558.75,-53.2367 1561.68,-63.4188 1567.39,-59.3701\"/>\r\n",
       "</g>\r\n",
       "<!-- 41 -->\r\n",
       "<g id=\"node42\" class=\"node\"><title>41</title>\r\n",
       "<path fill=\"none\" stroke=\"black\" d=\"M1722.5,-53C1722.5,-53 1624.5,-53 1624.5,-53 1618.5,-53 1612.5,-47 1612.5,-41 1612.5,-41 1612.5,-12 1612.5,-12 1612.5,-6 1618.5,-0 1624.5,-0 1624.5,-0 1722.5,-0 1722.5,-0 1728.5,-0 1734.5,-6 1734.5,-12 1734.5,-12 1734.5,-41 1734.5,-41 1734.5,-47 1728.5,-53 1722.5,-53\"/>\r\n",
       "<text text-anchor=\"middle\" x=\"1673.5\" y=\"-37.8\" font-family=\"Helvetica,sans-Serif\" font-size=\"14.00\">samples = 613</text>\r\n",
       "<text text-anchor=\"middle\" x=\"1673.5\" y=\"-22.8\" font-family=\"Helvetica,sans-Serif\" font-size=\"14.00\">value = [12, 601]</text>\r\n",
       "<text text-anchor=\"middle\" x=\"1673.5\" y=\"-7.8\" font-family=\"Helvetica,sans-Serif\" font-size=\"14.00\">class = left</text>\r\n",
       "</g>\r\n",
       "<!-- 39&#45;&gt;41 -->\r\n",
       "<g id=\"edge41\" class=\"edge\"><title>39&#45;&gt;41</title>\r\n",
       "<path fill=\"none\" stroke=\"black\" d=\"M1630.58,-88.9485C1636.78,-80.0749 1643.49,-70.4648 1649.73,-61.5388\"/>\r\n",
       "<polygon fill=\"black\" stroke=\"black\" points=\"1652.67,-63.4392 1655.53,-53.2367 1646.93,-59.4311 1652.67,-63.4392\"/>\r\n",
       "</g>\r\n",
       "</g>\r\n",
       "</svg>\r\n"
      ],
      "text/plain": [
       "<graphviz.files.Source at 0x25c73d153c8>"
      ]
     },
     "execution_count": 23,
     "metadata": {},
     "output_type": "execute_result"
    }
   ],
   "source": [
    "# import os\n",
    "# os.environ['PATH'] += os.pathsep + 'C:/Program Files (x86)/Graphviz2.38/bin/'\n",
    "\n",
    "import graphviz\n",
    "from sklearn.tree import export_graphviz\n",
    "\n",
    "dot_data = export_graphviz(tree, out_file=None , impurity=False, feature_names = predictors,\n",
    "                           class_names=['stayed','left'], rounded=True) \n",
    "graph = graphviz.Source(dot_data)\n",
    "graph.render('tree02') # saves tree to a file\n",
    "graph"
   ]
  },
  {
   "cell_type": "markdown",
   "metadata": {},
   "source": [
    "## 5. Bagging\n",
    "\n",
    "Bagging predicts the response using majority voting or averaging across a large number of trees fitted on different versions of the data. We will discuss this method in the Week 11 lecture, but anticipate an application here since the code is very simple.\n",
    "\n",
    "\n",
    "#### Aside\n",
    "As from documentation\n",
    "\n",
    "    A Bagging classifier is an ensemble meta-estimator that fits base classifiers each on random subsets of the original dataset and then aggregate their individual predictions (either by voting or by averaging) to form a final prediction. Such a meta-estimator can typically be used as a way to reduce the variance of a black-box estimator (e.g., a decision tree), by introducing randomization into its construction procedure and then making an ensemble out of it.\n",
    "\n"
   ]
  },
  {
   "cell_type": "code",
   "execution_count": 24,
   "metadata": {},
   "outputs": [
    {
     "data": {
      "text/plain": [
       "BaggingClassifier(base_estimator=DecisionTreeClassifier(ccp_alpha=0.0,\n",
       "                                                        class_weight=None,\n",
       "                                                        criterion='entropy',\n",
       "                                                        max_depth=None,\n",
       "                                                        max_features=None,\n",
       "                                                        max_leaf_nodes=None,\n",
       "                                                        min_impurity_decrease=0.0,\n",
       "                                                        min_impurity_split=None,\n",
       "                                                        min_samples_leaf=1,\n",
       "                                                        min_samples_split=2,\n",
       "                                                        min_weight_fraction_leaf=0.0,\n",
       "                                                        presort='deprecated',\n",
       "                                                        random_state=None,\n",
       "                                                        splitter='best'),\n",
       "                  bootstrap=True, bootstrap_features=False, max_features=1.0,\n",
       "                  max_samples=1.0, n_estimators=1000, n_jobs=None,\n",
       "                  oob_score=False, random_state=1, verbose=0, warm_start=False)"
      ]
     },
     "execution_count": 24,
     "metadata": {},
     "output_type": "execute_result"
    }
   ],
   "source": [
    "from sklearn.ensemble import BaggingClassifier\n",
    "\n",
    "\"\"\"\n",
    "    min_samples_leaf  (int): The minimum number of samples required to be at a leaf node\n",
    "    max_depth         (int): The maximum depth of the tree. \n",
    "    min_samples_split (int): The minimum number of samples required to split an internal node\n",
    "    max_leaf_nodes    (int): Grow a tree with max_leaf_nodes in best-first fashion\n",
    "\"\"\"\n",
    "\n",
    "bag = BaggingClassifier(DecisionTreeClassifier(criterion='entropy'), n_estimators=1000, random_state=1)\n",
    "bag.fit(X_train, y_train)"
   ]
  },
  {
   "cell_type": "markdown",
   "metadata": {},
   "source": [
    "## 6. Probability Calibration\n",
    "\n",
    "A reliability curve is a a figure allows us to check whether a probabilistic model for classification produces well-calibrated probabilities. If a model is well-calibrated, then among cases for which it estimates probabilities close to (say) 0.5, around 50% of these cases should be actual positives. "
   ]
  },
  {
   "cell_type": "code",
   "execution_count": 25,
   "metadata": {},
   "outputs": [
    {
     "data": {
      "image/png": "[encoded data removed]",
      "text/plain": [
       "<Figure size 648x432 with 1 Axes>"
      ]
     },
     "metadata": {
      "needs_background": "light"
     },
     "output_type": "display_data"
    }
   ],
   "source": [
    "from statlearning import plot_calibration_curves\n",
    "from sklearn.model_selection import cross_val_predict\n",
    "\n",
    "y_prob = cross_val_predict(bag, X_train, y_train, cv = 5, method='predict_proba')[:,1]\n",
    "fig, ax = plot_calibration_curves(y_train, y_prob, labels='Bagging')\n",
    "ax.axvline(0.5, color='black', linestyle='dashed', alpha = 0.5) # decision threshold\n",
    "plt.show()"
   ]
  },
  {
   "cell_type": "code",
   "execution_count": 26,
   "metadata": {},
   "outputs": [
    {
     "name": "stdout",
     "output_type": "stream",
     "text": [
      "Bin 0.0 < y_prob < 0.1 = 0.012\n",
      "Bin 0.1 < y_prob < 0.2 = 0.041\n",
      "Bin 0.2 < y_prob < 0.3 = 0.067\n",
      "Bin 0.3 < y_prob < 0.4 = 0.118\n",
      "Bin 0.4 < y_prob < 0.5 = 0.190\n",
      "Bin 0.5 < y_prob < 0.6 = 0.250\n",
      "Bin 0.6 < y_prob < 0.7 = 0.952\n",
      "Bin 0.7 < y_prob < 0.8 = 1.000\n",
      "Bin 0.8 < y_prob < 0.9 = 0.953\n",
      "Bin 0.9 < y_prob < 1.0 = 0.987\n"
     ]
    }
   ],
   "source": [
    "empirical_probabilities = []\n",
    "for i in np.arange(0, 1, 0.1):\n",
    "    working_indicies = (i < y_prob) * (y_prob < i + 0.1)\n",
    "    empirical_probability = np.mean(y_train[working_indicies])\n",
    "    empirical_probabilities.append(empirical_probability)\n",
    "    print(f'Bin {round(i, 1)} < y_prob < {round(i + 0.1, 1)} = {format(empirical_probability, \".3f\")}')"
   ]
  },
  {
   "cell_type": "code",
   "execution_count": 27,
   "metadata": {},
   "outputs": [
    {
     "data": {
      "image/png": "[encoded data removed]",
      "text/plain": [
       "<Figure size 648x432 with 1 Axes>"
      ]
     },
     "metadata": {
      "needs_background": "light"
     },
     "output_type": "display_data"
    }
   ],
   "source": [
    "plt.plot(np.arange(0, 1, 0.1), empirical_probabilities);"
   ]
  },
  {
   "cell_type": "markdown",
   "metadata": {},
   "source": [
    "Bagging seems to be poorly calibrated, as common with many tree-based methods. In this case, it can be useful to apply  probability calibration methods to try improve the estimates. We do not cover the details of probability calibration in this unit, but the code below shows the application. "
   ]
  },
  {
   "cell_type": "code",
   "execution_count": 28,
   "metadata": {},
   "outputs": [
    {
     "name": "stdout",
     "output_type": "stream",
     "text": [
      "Wall time: 1min 30s\n"
     ]
    },
    {
     "data": {
      "text/plain": [
       "CalibratedClassifierCV(base_estimator=BaggingClassifier(base_estimator=DecisionTreeClassifier(ccp_alpha=0.0,\n",
       "                                                                                              class_weight=None,\n",
       "                                                                                              criterion='entropy',\n",
       "                                                                                              max_depth=None,\n",
       "                                                                                              max_features=None,\n",
       "                                                                                              max_leaf_nodes=None,\n",
       "                                                                                              min_impurity_decrease=0.0,\n",
       "                                                                                              min_impurity_split=None,\n",
       "                                                                                              min_samples_leaf=1,\n",
       "                                                                                              min_samples_split=2,\n",
       "                                                                                              min_weight_fraction_leaf=0.0,\n",
       "                                                                                              presort='deprecated',\n",
       "                                                                                              random_state=None,\n",
       "                                                                                              splitter='best'),\n",
       "                                                        bootstrap=True,\n",
       "                                                        bootstrap_features=False,\n",
       "                                                        max_features=1.0,\n",
       "                                                        max_samples=1.0,\n",
       "                                                        n_estimators=1000,\n",
       "                                                        n_jobs=None,\n",
       "                                                        oob_score=False,\n",
       "                                                        random_state=1,\n",
       "                                                        verbose=0,\n",
       "                                                        warm_start=False),\n",
       "                       cv=5, method='isotonic')"
      ]
     },
     "execution_count": 28,
     "metadata": {},
     "output_type": "execute_result"
    }
   ],
   "source": [
    "%%time \n",
    "from sklearn.calibration import CalibratedClassifierCV\n",
    "bag_cal = CalibratedClassifierCV(bag, cv = 5, method='isotonic') \n",
    "bag_cal.fit(X_train, y_train)"
   ]
  },
  {
   "cell_type": "code",
   "execution_count": 29,
   "metadata": {},
   "outputs": [
    {
     "data": {
      "image/png": "[encoded data removed]",
      "text/plain": [
       "<Figure size 648x432 with 1 Axes>"
      ]
     },
     "metadata": {
      "needs_background": "light"
     },
     "output_type": "display_data"
    }
   ],
   "source": [
    "y_prob_calibrated = bag_cal.predict(X_train)\n",
    "fig, ax = plot_calibration_curves(y_train, y_prob_calibrated, labels='Bagging')\n",
    "ax.axvline(0.5, color='black', linestyle='dashed', alpha = 0.5) # decision threshold\n",
    "plt.show()"
   ]
  },
  {
   "cell_type": "code",
   "execution_count": 30,
   "metadata": {},
   "outputs": [
    {
     "name": "stdout",
     "output_type": "stream",
     "text": [
      "Bin 0.0 < y_prob < 0.1 = nan\n",
      "Bin 0.1 < y_prob < 0.2 = nan\n",
      "Bin 0.2 < y_prob < 0.3 = nan\n",
      "Bin 0.3 < y_prob < 0.4 = nan\n",
      "Bin 0.4 < y_prob < 0.5 = nan\n",
      "Bin 0.5 < y_prob < 0.6 = nan\n",
      "Bin 0.6 < y_prob < 0.7 = nan\n",
      "Bin 0.7 < y_prob < 0.8 = nan\n",
      "Bin 0.8 < y_prob < 0.9 = nan\n",
      "Bin 0.9 < y_prob < 1.0 = nan\n"
     ]
    }
   ],
   "source": [
    "empirical_probabilities = []\n",
    "for i in np.arange(0, 1, 0.1):\n",
    "    working_indicies = (i < y_prob_calibrated) * (y_prob_calibrated < i + 0.1)\n",
    "    empirical_probability = np.mean(y_train[working_indicies])\n",
    "    empirical_probabilities.append(empirical_probability)\n",
    "    print(f'Bin {round(i, 1)} < y_prob < {round(i + 0.1, 1)} = {format(empirical_probability, \".3f\")}')"
   ]
  },
  {
   "cell_type": "code",
   "execution_count": 31,
   "metadata": {},
   "outputs": [
    {
     "data": {
      "text/plain": [
       "array([1, 0, 0, 0, 0, 0, 0, 0, 0, 0], dtype=int64)"
      ]
     },
     "execution_count": 31,
     "metadata": {},
     "output_type": "execute_result"
    }
   ],
   "source": [
    "y_prob_calibrated[:10]"
   ]
  },
  {
   "cell_type": "code",
   "execution_count": 32,
   "metadata": {},
   "outputs": [
    {
     "data": {
      "image/png": "[encoded data removed]",
      "text/plain": [
       "<Figure size 1080x288 with 2 Axes>"
      ]
     },
     "metadata": {
      "needs_background": "light"
     },
     "output_type": "display_data"
    }
   ],
   "source": [
    "plt.figure(figsize = (15, 4))\n",
    "\n",
    "plt.subplot(1, 2, 1)\n",
    "plt.hist(y_prob_calibrated);\n",
    "plt.title('y_prob_calibrated')\n",
    "\n",
    "plt.subplot(1, 2, 2)\n",
    "plt.hist(y_train);\n",
    "plt.title('y_train');\n",
    "\n",
    "plt.suptitle('Calibrated Bagged Trees');"
   ]
  },
  {
   "cell_type": "markdown",
   "metadata": {},
   "source": [
    "## 7. Model Evaluation\n",
    "\n",
    "Our benchmark will be the logistic regression model:"
   ]
  },
  {
   "cell_type": "code",
   "execution_count": 33,
   "metadata": {},
   "outputs": [
    {
     "data": {
      "text/plain": [
       "LogisticRegression(C=1.0, class_weight=None, dual=False, fit_intercept=True,\n",
       "                   intercept_scaling=1, l1_ratio=None, max_iter=100,\n",
       "                   multi_class='auto', n_jobs=None, penalty='none',\n",
       "                   random_state=None, solver='lbfgs', tol=0.0001, verbose=0,\n",
       "                   warm_start=False)"
      ]
     },
     "execution_count": 33,
     "metadata": {},
     "output_type": "execute_result"
    }
   ],
   "source": [
    "logit = LogisticRegression(penalty='none')\n",
    "logit.fit(X_train_logit, y_train)"
   ]
  },
  {
   "cell_type": "markdown",
   "metadata": {},
   "source": [
    "The results show that the decision tree and bagging strongly outperform the logistic regression for this dataset. Note how probability calibration substantially improves the cross-entropy. "
   ]
  },
  {
   "cell_type": "code",
   "execution_count": 34,
   "metadata": {},
   "outputs": [
    {
     "data": {
      "text/html": [
       "<div>\n",
       "<style scoped>\n",
       "    .dataframe tbody tr th:only-of-type {\n",
       "        vertical-align: middle;\n",
       "    }\n",
       "\n",
       "    .dataframe tbody tr th {\n",
       "        vertical-align: top;\n",
       "    }\n",
       "\n",
       "    .dataframe thead th {\n",
       "        text-align: right;\n",
       "    }\n",
       "</style>\n",
       "<table border=\"1\" class=\"dataframe\">\n",
       "  <thead>\n",
       "    <tr style=\"text-align: right;\">\n",
       "      <th></th>\n",
       "      <th>Error Rate</th>\n",
       "      <th>Sensitivity</th>\n",
       "      <th>Specificity</th>\n",
       "      <th>Precision</th>\n",
       "      <th>AUC</th>\n",
       "      <th>Cross-entropy</th>\n",
       "    </tr>\n",
       "  </thead>\n",
       "  <tbody>\n",
       "    <tr>\n",
       "      <th>Logistic</th>\n",
       "      <td>0.193</td>\n",
       "      <td>0.446</td>\n",
       "      <td>0.920</td>\n",
       "      <td>0.636</td>\n",
       "      <td>0.813</td>\n",
       "      <td>0.432</td>\n",
       "    </tr>\n",
       "    <tr>\n",
       "      <th>Classification Tree</th>\n",
       "      <td>0.022</td>\n",
       "      <td>0.920</td>\n",
       "      <td>0.996</td>\n",
       "      <td>0.986</td>\n",
       "      <td>0.982</td>\n",
       "      <td>0.093</td>\n",
       "    </tr>\n",
       "    <tr>\n",
       "      <th>Bagged trees</th>\n",
       "      <td>0.010</td>\n",
       "      <td>0.971</td>\n",
       "      <td>0.996</td>\n",
       "      <td>0.988</td>\n",
       "      <td>0.992</td>\n",
       "      <td>0.094</td>\n",
       "    </tr>\n",
       "    <tr>\n",
       "      <th>Bagged trees (calibrated)</th>\n",
       "      <td>0.009</td>\n",
       "      <td>0.970</td>\n",
       "      <td>0.997</td>\n",
       "      <td>0.991</td>\n",
       "      <td>0.993</td>\n",
       "      <td>0.049</td>\n",
       "    </tr>\n",
       "  </tbody>\n",
       "</table>\n",
       "</div>"
      ],
      "text/plain": [
       "                           Error Rate  Sensitivity  Specificity  Precision  \\\n",
       "Logistic                        0.193        0.446        0.920      0.636   \n",
       "Classification Tree             0.022        0.920        0.996      0.986   \n",
       "Bagged trees                    0.010        0.971        0.996      0.988   \n",
       "Bagged trees (calibrated)       0.009        0.970        0.997      0.991   \n",
       "\n",
       "                             AUC  Cross-entropy  \n",
       "Logistic                   0.813          0.432  \n",
       "Classification Tree        0.982          0.093  \n",
       "Bagged trees               0.992          0.094  \n",
       "Bagged trees (calibrated)  0.993          0.049  "
      ]
     },
     "execution_count": 34,
     "metadata": {},
     "output_type": "execute_result"
    }
   ],
   "source": [
    "columns = ['Error Rate', 'Sensitivity', 'Specificity', 'Precision', 'AUC', 'Cross-entropy']\n",
    "rows = ['Logistic', 'Classification Tree', 'Bagged trees', 'Bagged trees (calibrated)']\n",
    "results=pd.DataFrame(0.0, columns=columns, index=rows) \n",
    "\n",
    "methods=[logit, tree, bag, bag_cal]\n",
    "\n",
    "y_prob = np.zeros((len(y_test), len(rows)))\n",
    "\n",
    "for i, method in enumerate(methods):\n",
    "    \n",
    "    if i==0:\n",
    "        y_prob[:, i] = method.predict_proba(X_test_logit)[:, 1]\n",
    "        y_pred = method.predict(X_test_logit)\n",
    "    else:\n",
    "        y_prob[:, i] = method.predict_proba(X_test)[:, 1]\n",
    "        y_pred = method.predict(X_test)\n",
    "        \n",
    "    tn, fp, fn, tp = confusion_matrix(y_test, y_pred).ravel() \n",
    "\n",
    "    results.iloc[i,0] =   1 - accuracy_score(y_test, y_pred)\n",
    "    results.iloc[i,1] =  tp/(tp+fn)\n",
    "    results.iloc[i,2] =  tn/(tn+fp)\n",
    "    results.iloc[i,3] =  precision_score(y_test, y_pred)\n",
    "    results.iloc[i,4] =  roc_auc_score(y_test, y_prob[:,i])\n",
    "    results.iloc[i,5] =  log_loss(y_test, y_prob[:,i])\n",
    "\n",
    "    \n",
    "results.round(3)"
   ]
  },
  {
   "cell_type": "code",
   "execution_count": 35,
   "metadata": {},
   "outputs": [
    {
     "data": {
      "image/png": "[encoded data removed]",
      "text/plain": [
       "<Figure size 648x432 with 1 Axes>"
      ]
     },
     "metadata": {
      "needs_background": "light"
     },
     "output_type": "display_data"
    }
   ],
   "source": [
    "from statlearning import plot_roc_curves\n",
    "fig, ax = plot_roc_curves(y_test, y_prob, labels=pd.Series(rows))\n",
    "plt.show()"
   ]
  },
  {
   "cell_type": "code",
   "execution_count": 36,
   "metadata": {},
   "outputs": [
    {
     "name": "stdout",
     "output_type": "stream",
     "text": [
      "Pruned Tree: Depth = 7, Number of Leaves = 22\n"
     ]
    }
   ],
   "source": [
    "print(f'Pruned Tree: Depth = {tree.get_depth()}, Number of Leaves = {tree.get_n_leaves()}')"
   ]
  },
  {
   "cell_type": "code",
   "execution_count": 37,
   "metadata": {},
   "outputs": [
    {
     "name": "stdout",
     "output_type": "stream",
     "text": [
      "Bagged Tree 0: Depth = 18, Number of Leaves = 224\n",
      "Train Score: 0.991\n",
      "Test Score : 0.976\n",
      "---------------\n",
      "Bagged Tree 1: Depth = 18, Number of Leaves = 216\n",
      "Train Score: 0.990\n",
      "Test Score : 0.974\n",
      "---------------\n",
      "Bagged Tree 2: Depth = 20, Number of Leaves = 212\n",
      "Train Score: 0.990\n",
      "Test Score : 0.973\n",
      "---------------\n",
      "Bagged Tree 3: Depth = 19, Number of Leaves = 216\n",
      "Train Score: 0.991\n",
      "Test Score : 0.971\n",
      "---------------\n",
      "Bagged Tree 4: Depth = 17, Number of Leaves = 207\n",
      "Train Score: 0.989\n",
      "Test Score : 0.969\n",
      "---------------\n"
     ]
    }
   ],
   "source": [
    "for i, bagged_tree in enumerate(bag.estimators_[:5]):\n",
    "    print(f'Bagged Tree {i}: Depth = {bagged_tree.get_depth()}, Number of Leaves = {bagged_tree.get_n_leaves()}')\n",
    "    print(f'Train Score: {format(bagged_tree.score(X_train, y_train), \".3f\")}')\n",
    "    print(f'Test Score : {format(bagged_tree.score(X_test, y_test), \".3f\")}')\n",
    "    print('---------------')"
   ]
  },
  {
   "cell_type": "markdown",
   "metadata": {},
   "source": [
    "## 8. Things to try\n",
    "\n",
    "The logistic regression model performs very poorly relative to the tree-based methods. It's instructive to investigate why this is the case. Can you reduce the gap with feature engineering?\n",
    "\n",
    "Does it affect the results if you use the Gini index as the node impurity measure?  "
   ]
  },
  {
   "cell_type": "markdown",
   "metadata": {},
   "source": [
    "### Formatting\n",
    "\n",
    "These two cells below format the notebook for display online. Please omit them from your work."
   ]
  },
  {
   "cell_type": "code",
   "execution_count": 38,
   "metadata": {},
   "outputs": [
    {
     "data": {
      "text/html": [
       "<style>\n",
       "@import url('https://fonts.googleapis.com/css?family=Source+Sans+Pro|Open+Sans:800&display=swap');\n",
       "</style>\n"
      ],
      "text/plain": [
       "<IPython.core.display.HTML object>"
      ]
     },
     "metadata": {},
     "output_type": "display_data"
    }
   ],
   "source": [
    "%%html\n",
    "<style>\n",
    "@import url('https://fonts.googleapis.com/css?family=Source+Sans+Pro|Open+Sans:800&display=swap');\n",
    "</style>"
   ]
  },
  {
   "cell_type": "code",
   "execution_count": 39,
   "metadata": {
    "scrolled": true
   },
   "outputs": [
    {
     "ename": "FileNotFoundError",
     "evalue": "[Errno 2] No such file or directory: 'css\\\\jupyter.css'",
     "output_type": "error",
     "traceback": [
      "\u001b[1;31m---------------------------------------------------------------------------\u001b[0m",
      "\u001b[1;31mFileNotFoundError\u001b[0m                         Traceback (most recent call last)",
      "\u001b[1;32m<ipython-input-39-88e8ad26c3cf>\u001b[0m in \u001b[0;36m<module>\u001b[1;34m\u001b[0m\n\u001b[0;32m      1\u001b[0m \u001b[1;32mfrom\u001b[0m \u001b[0mIPython\u001b[0m\u001b[1;33m.\u001b[0m\u001b[0mcore\u001b[0m\u001b[1;33m.\u001b[0m\u001b[0mdisplay\u001b[0m \u001b[1;32mimport\u001b[0m \u001b[0mHTML\u001b[0m\u001b[1;33m\u001b[0m\u001b[1;33m\u001b[0m\u001b[0m\n\u001b[1;32m----> 2\u001b[1;33m \u001b[0mstyle\u001b[0m \u001b[1;33m=\u001b[0m \u001b[0mopen\u001b[0m\u001b[1;33m(\u001b[0m\u001b[1;34m'css\\jupyter.css'\u001b[0m\u001b[1;33m,\u001b[0m \u001b[1;34m\"r\"\u001b[0m\u001b[1;33m)\u001b[0m\u001b[1;33m.\u001b[0m\u001b[0mread\u001b[0m\u001b[1;33m(\u001b[0m\u001b[1;33m)\u001b[0m\u001b[1;33m\u001b[0m\u001b[1;33m\u001b[0m\u001b[0m\n\u001b[0m\u001b[0;32m      3\u001b[0m \u001b[0mHTML\u001b[0m\u001b[1;33m(\u001b[0m\u001b[1;34m'<style>'\u001b[0m\u001b[1;33m+\u001b[0m \u001b[0mstyle\u001b[0m \u001b[1;33m+\u001b[0m\u001b[1;34m'</style>'\u001b[0m\u001b[1;33m)\u001b[0m\u001b[1;33m\u001b[0m\u001b[1;33m\u001b[0m\u001b[0m\n",
      "\u001b[1;31mFileNotFoundError\u001b[0m: [Errno 2] No such file or directory: 'css\\\\jupyter.css'"
     ]
    }
   ],
   "source": [
    "from IPython.core.display import HTML\n",
    "style = open('css\\jupyter.css', \"r\").read()\n",
    "HTML('<style>'+ style +'</style>')"
   ]
  }
 ],
 "metadata": {
  "kernelspec": {
   "display_name": "Python 3",
   "language": "python",
   "name": "python3"
  },
  "language_info": {
   "codemirror_mode": {
    "name": "ipython",
    "version": 3
   },
   "file_extension": ".py",
   "mimetype": "text/x-python",
   "name": "python",
   "nbconvert_exporter": "python",
   "pygments_lexer": "ipython3",
   "version": "3.7.6"
  }
 },
 "nbformat": 4,
 "nbformat_minor": 2
}

{
 "cells": [
  {
   "cell_type": "markdown",
   "metadata": {},
   "source": [
    "## 5.4 Target statistics\n",
    "\n",
    "Methods based on target statistics create a single feature that approximates the expected value of the response given the category that each observation belongs to. The disadvantage is that such methods cause target leakage.\n",
    "\n",
    "**This approach is typically more useful for tree-based methods**.\n",
    "\n",
    "The `category_encoders` package makes it easy for us to experiment with different methods. The target encoder is the original version of this approach. The other approaches mitigate target leakage. "
   ]
  },
  {
   "cell_type": "markdown",
   "metadata": {},
   "source": [
    "So what we are doing here is very interesting, but takes some time to explain. The problem when using one-hot-encoding is that the number of predictors can increase very quickly, especially if you want to convert all the categorical predictors. But first, recall that in one-hot-encoding we simply replace\n",
    "\n",
    "```\n",
    "Crawfor -> (1, 0, 0, ..., 0, 0)\n",
    "ClearCr -> (0, 1, 0, ..., 0, 0)\n",
    "Gilbert -> (0, 0, 1, ..., 0, 0)\n",
    "...\n",
    "Landmrk -> (0, 0, 0, ..., 0, 1)\n",
    "GrnHill -> (0, 0, 0, ..., 0, 0)\n",
    "```\n"
   ]
  },
  {
   "cell_type": "markdown",
   "metadata": {},
   "source": [
    "In Target Statistics, the idea is that we want to replace these strings with 1 number\n",
    "\n",
    "```\n",
    "Crawfor -> P_1\n",
    "ClearCr -> P_2\n",
    "Gilbert -> P_3\n",
    "...\n",
    "Landmrk -> P_{n-1}\n",
    "GrnHill -> P_n\n",
    "```"
   ]
  },
  {
   "cell_type": "markdown",
   "metadata": {},
   "source": [
    "Instead, what if we simply replaced the values with the average house price? So\n",
    "\n",
    "```\n",
    "Crawfor -> Average house price for Crawfor\n",
    "ClearCr -> Average house price for ClearCr\n",
    "Gilbert -> Average house price for Gilbert\n",
    "...\n",
    "Landmrk -> Average house price for Landmrk\n",
    "GrnHill -> Average house price for GrnHill\n",
    "```\n",
    "\n",
    "This is (with one more trick) exactly what `LeaveOneOutEncoder` does. The other `category_encoders` basically do more advanced versions of this trick.\n",
    "\n",
    "Notice that the problem here is called target leakage - because information about the y-variable is being used as the predictors."
   ]
  },
  {
   "cell_type": "code",
   "execution_count": 1,
   "metadata": {},
   "outputs": [],
   "source": [
    "import pandas as pd\n",
    "import numpy as np"
   ]
  },
  {
   "cell_type": "code",
   "execution_count": 2,
   "metadata": {},
   "outputs": [],
   "source": [
    "data = pd.read_csv('AmesHousing.csv')\n",
    "data[\"logSalePrice\"] = np.log(data[\"SalePrice\"])"
   ]
  },
  {
   "cell_type": "code",
   "execution_count": 4,
   "metadata": {},
   "outputs": [
    {
     "data": {
      "text/plain": [
       "Neighborhood\n",
       "MeadowV    11.449986\n",
       "IDOTRR     11.474050\n",
       "BrDale     11.560916\n",
       "OldTown    11.672587\n",
       "BrkSide    11.690847\n",
       "Edwards    11.726375\n",
       "SWISU      11.786066\n",
       "Sawyer     11.810391\n",
       "Landmrk    11.827736\n",
       "NPkVill    11.852267\n",
       "Blueste    11.856254\n",
       "NAmes      11.863716\n",
       "Mitchel    11.966394\n",
       "SawyerW    12.086417\n",
       "NWAmes     12.127035\n",
       "Gilbert    12.145524\n",
       "Greens     12.167202\n",
       "Blmngtn    12.178908\n",
       "CollgCr    12.181596\n",
       "Crawfor    12.195976\n",
       "ClearCr    12.217974\n",
       "Somerst    12.315522\n",
       "Timber     12.378339\n",
       "Veenker    12.388841\n",
       "GrnHill    12.526341\n",
       "StoneBr    12.621673\n",
       "NridgHt    12.639025\n",
       "NoRidge    12.673408\n",
       "Name: logSalePrice, dtype: float64"
      ]
     },
     "execution_count": 4,
     "metadata": {},
     "output_type": "execute_result"
    }
   ],
   "source": [
    "data.groupby(\"Neighborhood\")[\"logSalePrice\"].mean().sort_values()"
   ]
  },
  {
   "cell_type": "code",
   "execution_count": null,
   "metadata": {},
   "outputs": [],
   "source": []
  }
 ],
 "metadata": {
  "kernelspec": {
   "display_name": "Python 3",
   "language": "python",
   "name": "python3"
  },
  "language_info": {
   "codemirror_mode": {
    "name": "ipython",
    "version": 3
   },
   "file_extension": ".py",
   "mimetype": "text/x-python",
   "name": "python",
   "nbconvert_exporter": "python",
   "pygments_lexer": "ipython3",
   "version": "3.7.6"
  }
 },
 "nbformat": 4,
 "nbformat_minor": 5
}

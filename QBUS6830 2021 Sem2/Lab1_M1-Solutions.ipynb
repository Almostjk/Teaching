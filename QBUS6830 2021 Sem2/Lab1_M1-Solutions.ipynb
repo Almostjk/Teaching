{
 "cells": [
  {
   "cell_type": "markdown",
   "metadata": {},
   "source": [
    "# QBUS6830 Tutorial Lab 1: Basics of Financial Time-Series\n",
    "\n",
    "### Updated Notebook\n",
    "First thing, before we start is that most tutorials I will be editing these notebooks in a significant way. So if you do want my updated notebook \n",
    "\n",
    "https://github.com/infamoussoap/qbus6830_2021_sem2\n",
    "\n",
    "\n",
    "## Tasks\n",
    "* Reading time-stamped data.\n",
    "* Empirical characteristics of return series.\n",
    "* Simulation of the Gaussian RW model."
   ]
  },
  {
   "cell_type": "code",
   "execution_count": 1,
   "metadata": {},
   "outputs": [],
   "source": [
    "# Run this cell first to import all the libraries\n",
    "import pandas as pd\n",
    "import numpy as np\n",
    "import matplotlib.pyplot as plt\n",
    "import statsmodels.api as sm\n",
    "from scipy import stats"
   ]
  },
  {
   "cell_type": "markdown",
   "metadata": {},
   "source": [
    "## Reading time-stamped data\n",
    "The `CBA_AX_Daily_0609_0621.csv` file contains daily price series for CBA (Commonwealth Bank of Australia) traded on the ASX (Australian Securities Exchange). We use the `read_csv` function in the `pandas` library to read the data file into an instance of the `DataFrame` object. Please refer to the `pandas` documentation for the exact meaning of each argument of `read_csv`: https://pandas.pydata.org/docs/reference/api/pandas.read_csv.html"
   ]
  },
  {
   "cell_type": "code",
   "execution_count": 2,
   "metadata": {},
   "outputs": [
    {
     "name": "stdout",
     "output_type": "stream",
     "text": [
      "<class 'pandas.core.frame.DataFrame'>\n",
      "3047\n",
      "(3047, 6)\n"
     ]
    }
   ],
   "source": [
    "data = pd.read_csv('CBA_AX_Daily_0609_0621.csv', index_col='Date', parse_dates=True, dayfirst=True)\n",
    "\n",
    "print(type(data))\n",
    "print(len(data))\n",
    "print(data.shape)"
   ]
  },
  {
   "cell_type": "markdown",
   "metadata": {},
   "source": [
    "**Question:** What do the functions `type` and `len` do in Python? What is `data.shape`?"
   ]
  },
  {
   "cell_type": "code",
   "execution_count": 3,
   "metadata": {},
   "outputs": [
    {
     "data": {
      "text/html": [
       "<div>\n",
       "<style scoped>\n",
       "    .dataframe tbody tr th:only-of-type {\n",
       "        vertical-align: middle;\n",
       "    }\n",
       "\n",
       "    .dataframe tbody tr th {\n",
       "        vertical-align: top;\n",
       "    }\n",
       "\n",
       "    .dataframe thead th {\n",
       "        text-align: right;\n",
       "    }\n",
       "</style>\n",
       "<table border=\"1\" class=\"dataframe\">\n",
       "  <thead>\n",
       "    <tr style=\"text-align: right;\">\n",
       "      <th></th>\n",
       "      <th>Open</th>\n",
       "      <th>High</th>\n",
       "      <th>Low</th>\n",
       "      <th>Close</th>\n",
       "      <th>Adj Close</th>\n",
       "      <th>Volume</th>\n",
       "    </tr>\n",
       "    <tr>\n",
       "      <th>Date</th>\n",
       "      <th></th>\n",
       "      <th></th>\n",
       "      <th></th>\n",
       "      <th></th>\n",
       "      <th></th>\n",
       "      <th></th>\n",
       "    </tr>\n",
       "  </thead>\n",
       "  <tbody>\n",
       "    <tr>\n",
       "      <th>2009-06-01</th>\n",
       "      <td>35.298752</td>\n",
       "      <td>36.094440</td>\n",
       "      <td>34.861122</td>\n",
       "      <td>35.965141</td>\n",
       "      <td>18.989882</td>\n",
       "      <td>4533844</td>\n",
       "    </tr>\n",
       "    <tr>\n",
       "      <th>2009-06-02</th>\n",
       "      <td>36.412716</td>\n",
       "      <td>36.412716</td>\n",
       "      <td>35.626972</td>\n",
       "      <td>36.134224</td>\n",
       "      <td>19.079163</td>\n",
       "      <td>4328304</td>\n",
       "    </tr>\n",
       "    <tr>\n",
       "      <th>2009-06-03</th>\n",
       "      <td>36.283417</td>\n",
       "      <td>36.900074</td>\n",
       "      <td>36.014870</td>\n",
       "      <td>36.601692</td>\n",
       "      <td>19.325993</td>\n",
       "      <td>4871737</td>\n",
       "    </tr>\n",
       "    <tr>\n",
       "      <th>2009-06-04</th>\n",
       "      <td>36.800613</td>\n",
       "      <td>37.198460</td>\n",
       "      <td>36.442554</td>\n",
       "      <td>36.591743</td>\n",
       "      <td>19.320740</td>\n",
       "      <td>4617218</td>\n",
       "    </tr>\n",
       "    <tr>\n",
       "      <th>2009-06-05</th>\n",
       "      <td>37.019428</td>\n",
       "      <td>37.447109</td>\n",
       "      <td>36.174007</td>\n",
       "      <td>36.313255</td>\n",
       "      <td>19.173695</td>\n",
       "      <td>4441440</td>\n",
       "    </tr>\n",
       "    <tr>\n",
       "      <th>...</th>\n",
       "      <td>...</td>\n",
       "      <td>...</td>\n",
       "      <td>...</td>\n",
       "      <td>...</td>\n",
       "      <td>...</td>\n",
       "      <td>...</td>\n",
       "    </tr>\n",
       "    <tr>\n",
       "      <th>2021-06-10</th>\n",
       "      <td>101.000000</td>\n",
       "      <td>102.120003</td>\n",
       "      <td>100.769997</td>\n",
       "      <td>101.849998</td>\n",
       "      <td>101.849998</td>\n",
       "      <td>1791330</td>\n",
       "    </tr>\n",
       "    <tr>\n",
       "      <th>2021-06-11</th>\n",
       "      <td>101.000000</td>\n",
       "      <td>101.695000</td>\n",
       "      <td>100.820000</td>\n",
       "      <td>101.360001</td>\n",
       "      <td>101.360001</td>\n",
       "      <td>1740852</td>\n",
       "    </tr>\n",
       "    <tr>\n",
       "      <th>2021-06-15</th>\n",
       "      <td>101.500000</td>\n",
       "      <td>103.720001</td>\n",
       "      <td>101.459999</td>\n",
       "      <td>103.449997</td>\n",
       "      <td>103.449997</td>\n",
       "      <td>2296140</td>\n",
       "    </tr>\n",
       "    <tr>\n",
       "      <th>2021-06-16</th>\n",
       "      <td>104.010002</td>\n",
       "      <td>104.940002</td>\n",
       "      <td>103.410004</td>\n",
       "      <td>104.820000</td>\n",
       "      <td>104.820000</td>\n",
       "      <td>2775509</td>\n",
       "    </tr>\n",
       "    <tr>\n",
       "      <th>2021-06-17</th>\n",
       "      <td>105.500000</td>\n",
       "      <td>106.570000</td>\n",
       "      <td>105.110001</td>\n",
       "      <td>105.910004</td>\n",
       "      <td>105.910004</td>\n",
       "      <td>3930519</td>\n",
       "    </tr>\n",
       "  </tbody>\n",
       "</table>\n",
       "<p>3047 rows × 6 columns</p>\n",
       "</div>"
      ],
      "text/plain": [
       "                  Open        High         Low       Close   Adj Close  \\\n",
       "Date                                                                     \n",
       "2009-06-01   35.298752   36.094440   34.861122   35.965141   18.989882   \n",
       "2009-06-02   36.412716   36.412716   35.626972   36.134224   19.079163   \n",
       "2009-06-03   36.283417   36.900074   36.014870   36.601692   19.325993   \n",
       "2009-06-04   36.800613   37.198460   36.442554   36.591743   19.320740   \n",
       "2009-06-05   37.019428   37.447109   36.174007   36.313255   19.173695   \n",
       "...                ...         ...         ...         ...         ...   \n",
       "2021-06-10  101.000000  102.120003  100.769997  101.849998  101.849998   \n",
       "2021-06-11  101.000000  101.695000  100.820000  101.360001  101.360001   \n",
       "2021-06-15  101.500000  103.720001  101.459999  103.449997  103.449997   \n",
       "2021-06-16  104.010002  104.940002  103.410004  104.820000  104.820000   \n",
       "2021-06-17  105.500000  106.570000  105.110001  105.910004  105.910004   \n",
       "\n",
       "             Volume  \n",
       "Date                 \n",
       "2009-06-01  4533844  \n",
       "2009-06-02  4328304  \n",
       "2009-06-03  4871737  \n",
       "2009-06-04  4617218  \n",
       "2009-06-05  4441440  \n",
       "...             ...  \n",
       "2021-06-10  1791330  \n",
       "2021-06-11  1740852  \n",
       "2021-06-15  2296140  \n",
       "2021-06-16  2775509  \n",
       "2021-06-17  3930519  \n",
       "\n",
       "[3047 rows x 6 columns]"
      ]
     },
     "execution_count": 3,
     "metadata": {},
     "output_type": "execute_result"
    }
   ],
   "source": [
    "data"
   ]
  },
  {
   "cell_type": "code",
   "execution_count": 4,
   "metadata": {},
   "outputs": [
    {
     "name": "stdout",
     "output_type": "stream",
     "text": [
      "<class 'pandas.core.frame.DataFrame'>\n",
      "DatetimeIndex: 3047 entries, 2009-06-01 to 2021-06-17\n",
      "Data columns (total 6 columns):\n",
      " #   Column     Non-Null Count  Dtype  \n",
      "---  ------     --------------  -----  \n",
      " 0   Open       3047 non-null   float64\n",
      " 1   High       3047 non-null   float64\n",
      " 2   Low        3047 non-null   float64\n",
      " 3   Close      3047 non-null   float64\n",
      " 4   Adj Close  3047 non-null   float64\n",
      " 5   Volume     3047 non-null   int64  \n",
      "dtypes: float64(5), int64(1)\n",
      "memory usage: 166.6 KB\n"
     ]
    }
   ],
   "source": [
    "# Summary of a DataFrame\n",
    "data.info()"
   ]
  },
  {
   "cell_type": "code",
   "execution_count": 5,
   "metadata": {},
   "outputs": [
    {
     "data": {
      "text/html": [
       "<div>\n",
       "<style scoped>\n",
       "    .dataframe tbody tr th:only-of-type {\n",
       "        vertical-align: middle;\n",
       "    }\n",
       "\n",
       "    .dataframe tbody tr th {\n",
       "        vertical-align: top;\n",
       "    }\n",
       "\n",
       "    .dataframe thead th {\n",
       "        text-align: right;\n",
       "    }\n",
       "</style>\n",
       "<table border=\"1\" class=\"dataframe\">\n",
       "  <thead>\n",
       "    <tr style=\"text-align: right;\">\n",
       "      <th></th>\n",
       "      <th>Open</th>\n",
       "      <th>High</th>\n",
       "      <th>Low</th>\n",
       "      <th>Close</th>\n",
       "      <th>Adj Close</th>\n",
       "      <th>Volume</th>\n",
       "    </tr>\n",
       "    <tr>\n",
       "      <th>Date</th>\n",
       "      <th></th>\n",
       "      <th></th>\n",
       "      <th></th>\n",
       "      <th></th>\n",
       "      <th></th>\n",
       "      <th></th>\n",
       "    </tr>\n",
       "  </thead>\n",
       "  <tbody>\n",
       "    <tr>\n",
       "      <th>2009-06-01</th>\n",
       "      <td>35.298752</td>\n",
       "      <td>36.094440</td>\n",
       "      <td>34.861122</td>\n",
       "      <td>35.965141</td>\n",
       "      <td>18.989882</td>\n",
       "      <td>4533844</td>\n",
       "    </tr>\n",
       "    <tr>\n",
       "      <th>2009-06-02</th>\n",
       "      <td>36.412716</td>\n",
       "      <td>36.412716</td>\n",
       "      <td>35.626972</td>\n",
       "      <td>36.134224</td>\n",
       "      <td>19.079163</td>\n",
       "      <td>4328304</td>\n",
       "    </tr>\n",
       "    <tr>\n",
       "      <th>2009-06-03</th>\n",
       "      <td>36.283417</td>\n",
       "      <td>36.900074</td>\n",
       "      <td>36.014870</td>\n",
       "      <td>36.601692</td>\n",
       "      <td>19.325993</td>\n",
       "      <td>4871737</td>\n",
       "    </tr>\n",
       "    <tr>\n",
       "      <th>2009-06-04</th>\n",
       "      <td>36.800613</td>\n",
       "      <td>37.198460</td>\n",
       "      <td>36.442554</td>\n",
       "      <td>36.591743</td>\n",
       "      <td>19.320740</td>\n",
       "      <td>4617218</td>\n",
       "    </tr>\n",
       "    <tr>\n",
       "      <th>2009-06-05</th>\n",
       "      <td>37.019428</td>\n",
       "      <td>37.447109</td>\n",
       "      <td>36.174007</td>\n",
       "      <td>36.313255</td>\n",
       "      <td>19.173695</td>\n",
       "      <td>4441440</td>\n",
       "    </tr>\n",
       "    <tr>\n",
       "      <th>...</th>\n",
       "      <td>...</td>\n",
       "      <td>...</td>\n",
       "      <td>...</td>\n",
       "      <td>...</td>\n",
       "      <td>...</td>\n",
       "      <td>...</td>\n",
       "    </tr>\n",
       "    <tr>\n",
       "      <th>2021-06-10</th>\n",
       "      <td>101.000000</td>\n",
       "      <td>102.120003</td>\n",
       "      <td>100.769997</td>\n",
       "      <td>101.849998</td>\n",
       "      <td>101.849998</td>\n",
       "      <td>1791330</td>\n",
       "    </tr>\n",
       "    <tr>\n",
       "      <th>2021-06-11</th>\n",
       "      <td>101.000000</td>\n",
       "      <td>101.695000</td>\n",
       "      <td>100.820000</td>\n",
       "      <td>101.360001</td>\n",
       "      <td>101.360001</td>\n",
       "      <td>1740852</td>\n",
       "    </tr>\n",
       "    <tr>\n",
       "      <th>2021-06-15</th>\n",
       "      <td>101.500000</td>\n",
       "      <td>103.720001</td>\n",
       "      <td>101.459999</td>\n",
       "      <td>103.449997</td>\n",
       "      <td>103.449997</td>\n",
       "      <td>2296140</td>\n",
       "    </tr>\n",
       "    <tr>\n",
       "      <th>2021-06-16</th>\n",
       "      <td>104.010002</td>\n",
       "      <td>104.940002</td>\n",
       "      <td>103.410004</td>\n",
       "      <td>104.820000</td>\n",
       "      <td>104.820000</td>\n",
       "      <td>2775509</td>\n",
       "    </tr>\n",
       "    <tr>\n",
       "      <th>2021-06-17</th>\n",
       "      <td>105.500000</td>\n",
       "      <td>106.570000</td>\n",
       "      <td>105.110001</td>\n",
       "      <td>105.910004</td>\n",
       "      <td>105.910004</td>\n",
       "      <td>3930519</td>\n",
       "    </tr>\n",
       "  </tbody>\n",
       "</table>\n",
       "<p>3047 rows × 6 columns</p>\n",
       "</div>"
      ],
      "text/plain": [
       "                  Open        High         Low       Close   Adj Close  \\\n",
       "Date                                                                     \n",
       "2009-06-01   35.298752   36.094440   34.861122   35.965141   18.989882   \n",
       "2009-06-02   36.412716   36.412716   35.626972   36.134224   19.079163   \n",
       "2009-06-03   36.283417   36.900074   36.014870   36.601692   19.325993   \n",
       "2009-06-04   36.800613   37.198460   36.442554   36.591743   19.320740   \n",
       "2009-06-05   37.019428   37.447109   36.174007   36.313255   19.173695   \n",
       "...                ...         ...         ...         ...         ...   \n",
       "2021-06-10  101.000000  102.120003  100.769997  101.849998  101.849998   \n",
       "2021-06-11  101.000000  101.695000  100.820000  101.360001  101.360001   \n",
       "2021-06-15  101.500000  103.720001  101.459999  103.449997  103.449997   \n",
       "2021-06-16  104.010002  104.940002  103.410004  104.820000  104.820000   \n",
       "2021-06-17  105.500000  106.570000  105.110001  105.910004  105.910004   \n",
       "\n",
       "             Volume  \n",
       "Date                 \n",
       "2009-06-01  4533844  \n",
       "2009-06-02  4328304  \n",
       "2009-06-03  4871737  \n",
       "2009-06-04  4617218  \n",
       "2009-06-05  4441440  \n",
       "...             ...  \n",
       "2021-06-10  1791330  \n",
       "2021-06-11  1740852  \n",
       "2021-06-15  2296140  \n",
       "2021-06-16  2775509  \n",
       "2021-06-17  3930519  \n",
       "\n",
       "[3047 rows x 6 columns]"
      ]
     },
     "execution_count": 5,
     "metadata": {},
     "output_type": "execute_result"
    }
   ],
   "source": [
    "data"
   ]
  },
  {
   "cell_type": "code",
   "execution_count": 6,
   "metadata": {},
   "outputs": [
    {
     "data": {
      "text/html": [
       "<div>\n",
       "<style scoped>\n",
       "    .dataframe tbody tr th:only-of-type {\n",
       "        vertical-align: middle;\n",
       "    }\n",
       "\n",
       "    .dataframe tbody tr th {\n",
       "        vertical-align: top;\n",
       "    }\n",
       "\n",
       "    .dataframe thead th {\n",
       "        text-align: right;\n",
       "    }\n",
       "</style>\n",
       "<table border=\"1\" class=\"dataframe\">\n",
       "  <thead>\n",
       "    <tr style=\"text-align: right;\">\n",
       "      <th></th>\n",
       "      <th>Open</th>\n",
       "      <th>High</th>\n",
       "      <th>Low</th>\n",
       "      <th>Close</th>\n",
       "      <th>Adj Close</th>\n",
       "      <th>Volume</th>\n",
       "    </tr>\n",
       "    <tr>\n",
       "      <th>Date</th>\n",
       "      <th></th>\n",
       "      <th></th>\n",
       "      <th></th>\n",
       "      <th></th>\n",
       "      <th></th>\n",
       "      <th></th>\n",
       "    </tr>\n",
       "  </thead>\n",
       "  <tbody>\n",
       "    <tr>\n",
       "      <th>2009-06-01</th>\n",
       "      <td>35.298752</td>\n",
       "      <td>36.094440</td>\n",
       "      <td>34.861122</td>\n",
       "      <td>35.965141</td>\n",
       "      <td>18.989882</td>\n",
       "      <td>4533844</td>\n",
       "    </tr>\n",
       "    <tr>\n",
       "      <th>2009-06-02</th>\n",
       "      <td>36.412716</td>\n",
       "      <td>36.412716</td>\n",
       "      <td>35.626972</td>\n",
       "      <td>36.134224</td>\n",
       "      <td>19.079163</td>\n",
       "      <td>4328304</td>\n",
       "    </tr>\n",
       "  </tbody>\n",
       "</table>\n",
       "</div>"
      ],
      "text/plain": [
       "                 Open       High        Low      Close  Adj Close   Volume\n",
       "Date                                                                      \n",
       "2009-06-01  35.298752  36.094440  34.861122  35.965141  18.989882  4533844\n",
       "2009-06-02  36.412716  36.412716  35.626972  36.134224  19.079163  4328304"
      ]
     },
     "execution_count": 6,
     "metadata": {},
     "output_type": "execute_result"
    }
   ],
   "source": [
    "# Fist five rows\n",
    "data.head(2)"
   ]
  },
  {
   "cell_type": "code",
   "execution_count": 7,
   "metadata": {},
   "outputs": [
    {
     "data": {
      "text/html": [
       "<div>\n",
       "<style scoped>\n",
       "    .dataframe tbody tr th:only-of-type {\n",
       "        vertical-align: middle;\n",
       "    }\n",
       "\n",
       "    .dataframe tbody tr th {\n",
       "        vertical-align: top;\n",
       "    }\n",
       "\n",
       "    .dataframe thead th {\n",
       "        text-align: right;\n",
       "    }\n",
       "</style>\n",
       "<table border=\"1\" class=\"dataframe\">\n",
       "  <thead>\n",
       "    <tr style=\"text-align: right;\">\n",
       "      <th></th>\n",
       "      <th>Open</th>\n",
       "      <th>High</th>\n",
       "      <th>Low</th>\n",
       "      <th>Close</th>\n",
       "      <th>Adj Close</th>\n",
       "      <th>Volume</th>\n",
       "    </tr>\n",
       "    <tr>\n",
       "      <th>Date</th>\n",
       "      <th></th>\n",
       "      <th></th>\n",
       "      <th></th>\n",
       "      <th></th>\n",
       "      <th></th>\n",
       "      <th></th>\n",
       "    </tr>\n",
       "  </thead>\n",
       "  <tbody>\n",
       "    <tr>\n",
       "      <th>2021-06-10</th>\n",
       "      <td>101.000000</td>\n",
       "      <td>102.120003</td>\n",
       "      <td>100.769997</td>\n",
       "      <td>101.849998</td>\n",
       "      <td>101.849998</td>\n",
       "      <td>1791330</td>\n",
       "    </tr>\n",
       "    <tr>\n",
       "      <th>2021-06-11</th>\n",
       "      <td>101.000000</td>\n",
       "      <td>101.695000</td>\n",
       "      <td>100.820000</td>\n",
       "      <td>101.360001</td>\n",
       "      <td>101.360001</td>\n",
       "      <td>1740852</td>\n",
       "    </tr>\n",
       "    <tr>\n",
       "      <th>2021-06-15</th>\n",
       "      <td>101.500000</td>\n",
       "      <td>103.720001</td>\n",
       "      <td>101.459999</td>\n",
       "      <td>103.449997</td>\n",
       "      <td>103.449997</td>\n",
       "      <td>2296140</td>\n",
       "    </tr>\n",
       "    <tr>\n",
       "      <th>2021-06-16</th>\n",
       "      <td>104.010002</td>\n",
       "      <td>104.940002</td>\n",
       "      <td>103.410004</td>\n",
       "      <td>104.820000</td>\n",
       "      <td>104.820000</td>\n",
       "      <td>2775509</td>\n",
       "    </tr>\n",
       "    <tr>\n",
       "      <th>2021-06-17</th>\n",
       "      <td>105.500000</td>\n",
       "      <td>106.570000</td>\n",
       "      <td>105.110001</td>\n",
       "      <td>105.910004</td>\n",
       "      <td>105.910004</td>\n",
       "      <td>3930519</td>\n",
       "    </tr>\n",
       "  </tbody>\n",
       "</table>\n",
       "</div>"
      ],
      "text/plain": [
       "                  Open        High         Low       Close   Adj Close  \\\n",
       "Date                                                                     \n",
       "2021-06-10  101.000000  102.120003  100.769997  101.849998  101.849998   \n",
       "2021-06-11  101.000000  101.695000  100.820000  101.360001  101.360001   \n",
       "2021-06-15  101.500000  103.720001  101.459999  103.449997  103.449997   \n",
       "2021-06-16  104.010002  104.940002  103.410004  104.820000  104.820000   \n",
       "2021-06-17  105.500000  106.570000  105.110001  105.910004  105.910004   \n",
       "\n",
       "             Volume  \n",
       "Date                 \n",
       "2021-06-10  1791330  \n",
       "2021-06-11  1740852  \n",
       "2021-06-15  2296140  \n",
       "2021-06-16  2775509  \n",
       "2021-06-17  3930519  "
      ]
     },
     "execution_count": 7,
     "metadata": {},
     "output_type": "execute_result"
    }
   ],
   "source": [
    "# Last five rows\n",
    "data.tail()"
   ]
  },
  {
   "cell_type": "code",
   "execution_count": 8,
   "metadata": {},
   "outputs": [
    {
     "data": {
      "text/html": [
       "<div>\n",
       "<style scoped>\n",
       "    .dataframe tbody tr th:only-of-type {\n",
       "        vertical-align: middle;\n",
       "    }\n",
       "\n",
       "    .dataframe tbody tr th {\n",
       "        vertical-align: top;\n",
       "    }\n",
       "\n",
       "    .dataframe thead th {\n",
       "        text-align: right;\n",
       "    }\n",
       "</style>\n",
       "<table border=\"1\" class=\"dataframe\">\n",
       "  <thead>\n",
       "    <tr style=\"text-align: right;\">\n",
       "      <th></th>\n",
       "      <th>Open</th>\n",
       "      <th>High</th>\n",
       "      <th>Low</th>\n",
       "      <th>Close</th>\n",
       "      <th>Adj Close</th>\n",
       "      <th>Volume</th>\n",
       "    </tr>\n",
       "    <tr>\n",
       "      <th>Date</th>\n",
       "      <th></th>\n",
       "      <th></th>\n",
       "      <th></th>\n",
       "      <th></th>\n",
       "      <th></th>\n",
       "      <th></th>\n",
       "    </tr>\n",
       "  </thead>\n",
       "  <tbody>\n",
       "    <tr>\n",
       "      <th>2019-04-01</th>\n",
       "      <td>71.000000</td>\n",
       "      <td>71.769997</td>\n",
       "      <td>71.000000</td>\n",
       "      <td>71.360001</td>\n",
       "      <td>65.647118</td>\n",
       "      <td>1893435</td>\n",
       "    </tr>\n",
       "    <tr>\n",
       "      <th>2019-04-02</th>\n",
       "      <td>71.900002</td>\n",
       "      <td>72.160004</td>\n",
       "      <td>71.254997</td>\n",
       "      <td>71.379997</td>\n",
       "      <td>65.665512</td>\n",
       "      <td>2267274</td>\n",
       "    </tr>\n",
       "    <tr>\n",
       "      <th>2019-04-03</th>\n",
       "      <td>71.510002</td>\n",
       "      <td>71.690002</td>\n",
       "      <td>71.050003</td>\n",
       "      <td>71.389999</td>\n",
       "      <td>65.674713</td>\n",
       "      <td>2582854</td>\n",
       "    </tr>\n",
       "    <tr>\n",
       "      <th>2019-04-04</th>\n",
       "      <td>71.519997</td>\n",
       "      <td>71.580002</td>\n",
       "      <td>70.959999</td>\n",
       "      <td>71.230003</td>\n",
       "      <td>65.527534</td>\n",
       "      <td>2364739</td>\n",
       "    </tr>\n",
       "    <tr>\n",
       "      <th>2019-04-05</th>\n",
       "      <td>71.059998</td>\n",
       "      <td>71.250000</td>\n",
       "      <td>70.629997</td>\n",
       "      <td>70.889999</td>\n",
       "      <td>65.214745</td>\n",
       "      <td>2601681</td>\n",
       "    </tr>\n",
       "    <tr>\n",
       "      <th>2019-04-08</th>\n",
       "      <td>71.010002</td>\n",
       "      <td>71.070000</td>\n",
       "      <td>70.500000</td>\n",
       "      <td>70.669998</td>\n",
       "      <td>65.012360</td>\n",
       "      <td>2086127</td>\n",
       "    </tr>\n",
       "    <tr>\n",
       "      <th>2019-04-09</th>\n",
       "      <td>70.559998</td>\n",
       "      <td>70.599998</td>\n",
       "      <td>69.720001</td>\n",
       "      <td>70.250000</td>\n",
       "      <td>64.625984</td>\n",
       "      <td>2741284</td>\n",
       "    </tr>\n",
       "    <tr>\n",
       "      <th>2019-04-10</th>\n",
       "      <td>70.139999</td>\n",
       "      <td>71.029999</td>\n",
       "      <td>70.029999</td>\n",
       "      <td>70.750000</td>\n",
       "      <td>65.085960</td>\n",
       "      <td>2079661</td>\n",
       "    </tr>\n",
       "    <tr>\n",
       "      <th>2019-04-11</th>\n",
       "      <td>70.269997</td>\n",
       "      <td>70.459999</td>\n",
       "      <td>70.000000</td>\n",
       "      <td>70.260002</td>\n",
       "      <td>64.635185</td>\n",
       "      <td>3282063</td>\n",
       "    </tr>\n",
       "    <tr>\n",
       "      <th>2019-04-12</th>\n",
       "      <td>70.940002</td>\n",
       "      <td>71.739998</td>\n",
       "      <td>70.794998</td>\n",
       "      <td>71.629997</td>\n",
       "      <td>65.895500</td>\n",
       "      <td>3170599</td>\n",
       "    </tr>\n",
       "    <tr>\n",
       "      <th>2019-04-15</th>\n",
       "      <td>71.940002</td>\n",
       "      <td>72.279999</td>\n",
       "      <td>71.860001</td>\n",
       "      <td>72.190002</td>\n",
       "      <td>66.410675</td>\n",
       "      <td>2279880</td>\n",
       "    </tr>\n",
       "    <tr>\n",
       "      <th>2019-04-16</th>\n",
       "      <td>72.089996</td>\n",
       "      <td>72.809998</td>\n",
       "      <td>72.000000</td>\n",
       "      <td>72.690002</td>\n",
       "      <td>66.870644</td>\n",
       "      <td>2535090</td>\n",
       "    </tr>\n",
       "    <tr>\n",
       "      <th>2019-04-17</th>\n",
       "      <td>72.800003</td>\n",
       "      <td>73.449997</td>\n",
       "      <td>72.779999</td>\n",
       "      <td>73.290001</td>\n",
       "      <td>67.422607</td>\n",
       "      <td>2583116</td>\n",
       "    </tr>\n",
       "    <tr>\n",
       "      <th>2019-04-18</th>\n",
       "      <td>73.650002</td>\n",
       "      <td>73.830002</td>\n",
       "      <td>73.080002</td>\n",
       "      <td>73.410004</td>\n",
       "      <td>67.533012</td>\n",
       "      <td>2739790</td>\n",
       "    </tr>\n",
       "    <tr>\n",
       "      <th>2019-04-23</th>\n",
       "      <td>73.580002</td>\n",
       "      <td>74.330002</td>\n",
       "      <td>73.290001</td>\n",
       "      <td>74.199997</td>\n",
       "      <td>68.259750</td>\n",
       "      <td>3027492</td>\n",
       "    </tr>\n",
       "    <tr>\n",
       "      <th>2019-04-24</th>\n",
       "      <td>74.500000</td>\n",
       "      <td>75.339996</td>\n",
       "      <td>74.430000</td>\n",
       "      <td>75.160004</td>\n",
       "      <td>69.142906</td>\n",
       "      <td>6661349</td>\n",
       "    </tr>\n",
       "    <tr>\n",
       "      <th>2019-04-26</th>\n",
       "      <td>75.089996</td>\n",
       "      <td>75.500000</td>\n",
       "      <td>74.870003</td>\n",
       "      <td>75.449997</td>\n",
       "      <td>69.409691</td>\n",
       "      <td>2906927</td>\n",
       "    </tr>\n",
       "    <tr>\n",
       "      <th>2019-04-29</th>\n",
       "      <td>75.400002</td>\n",
       "      <td>75.449997</td>\n",
       "      <td>74.699997</td>\n",
       "      <td>75.110001</td>\n",
       "      <td>69.096909</td>\n",
       "      <td>1673023</td>\n",
       "    </tr>\n",
       "    <tr>\n",
       "      <th>2019-04-30</th>\n",
       "      <td>74.910004</td>\n",
       "      <td>75.070000</td>\n",
       "      <td>74.514999</td>\n",
       "      <td>74.519997</td>\n",
       "      <td>68.554138</td>\n",
       "      <td>2336279</td>\n",
       "    </tr>\n",
       "  </tbody>\n",
       "</table>\n",
       "</div>"
      ],
      "text/plain": [
       "                 Open       High        Low      Close  Adj Close   Volume\n",
       "Date                                                                      \n",
       "2019-04-01  71.000000  71.769997  71.000000  71.360001  65.647118  1893435\n",
       "2019-04-02  71.900002  72.160004  71.254997  71.379997  65.665512  2267274\n",
       "2019-04-03  71.510002  71.690002  71.050003  71.389999  65.674713  2582854\n",
       "2019-04-04  71.519997  71.580002  70.959999  71.230003  65.527534  2364739\n",
       "2019-04-05  71.059998  71.250000  70.629997  70.889999  65.214745  2601681\n",
       "2019-04-08  71.010002  71.070000  70.500000  70.669998  65.012360  2086127\n",
       "2019-04-09  70.559998  70.599998  69.720001  70.250000  64.625984  2741284\n",
       "2019-04-10  70.139999  71.029999  70.029999  70.750000  65.085960  2079661\n",
       "2019-04-11  70.269997  70.459999  70.000000  70.260002  64.635185  3282063\n",
       "2019-04-12  70.940002  71.739998  70.794998  71.629997  65.895500  3170599\n",
       "2019-04-15  71.940002  72.279999  71.860001  72.190002  66.410675  2279880\n",
       "2019-04-16  72.089996  72.809998  72.000000  72.690002  66.870644  2535090\n",
       "2019-04-17  72.800003  73.449997  72.779999  73.290001  67.422607  2583116\n",
       "2019-04-18  73.650002  73.830002  73.080002  73.410004  67.533012  2739790\n",
       "2019-04-23  73.580002  74.330002  73.290001  74.199997  68.259750  3027492\n",
       "2019-04-24  74.500000  75.339996  74.430000  75.160004  69.142906  6661349\n",
       "2019-04-26  75.089996  75.500000  74.870003  75.449997  69.409691  2906927\n",
       "2019-04-29  75.400002  75.449997  74.699997  75.110001  69.096909  1673023\n",
       "2019-04-30  74.910004  75.070000  74.514999  74.519997  68.554138  2336279"
      ]
     },
     "execution_count": 8,
     "metadata": {},
     "output_type": "execute_result"
    }
   ],
   "source": [
    "# Timestamped data can be sliced by using date strings\n",
    "data['04-2019']"
   ]
  },
  {
   "cell_type": "code",
   "execution_count": 9,
   "metadata": {},
   "outputs": [
    {
     "data": {
      "text/html": [
       "<div>\n",
       "<style scoped>\n",
       "    .dataframe tbody tr th:only-of-type {\n",
       "        vertical-align: middle;\n",
       "    }\n",
       "\n",
       "    .dataframe tbody tr th {\n",
       "        vertical-align: top;\n",
       "    }\n",
       "\n",
       "    .dataframe thead th {\n",
       "        text-align: right;\n",
       "    }\n",
       "</style>\n",
       "<table border=\"1\" class=\"dataframe\">\n",
       "  <thead>\n",
       "    <tr style=\"text-align: right;\">\n",
       "      <th></th>\n",
       "      <th>Open</th>\n",
       "      <th>High</th>\n",
       "      <th>Low</th>\n",
       "      <th>Close</th>\n",
       "      <th>Adj Close</th>\n",
       "      <th>Volume</th>\n",
       "    </tr>\n",
       "    <tr>\n",
       "      <th>Date</th>\n",
       "      <th></th>\n",
       "      <th></th>\n",
       "      <th></th>\n",
       "      <th></th>\n",
       "      <th></th>\n",
       "      <th></th>\n",
       "    </tr>\n",
       "  </thead>\n",
       "  <tbody>\n",
       "    <tr>\n",
       "      <th>2017-01-03</th>\n",
       "      <td>82.400002</td>\n",
       "      <td>83.160004</td>\n",
       "      <td>82.309998</td>\n",
       "      <td>82.970001</td>\n",
       "      <td>66.536613</td>\n",
       "      <td>1967692</td>\n",
       "    </tr>\n",
       "    <tr>\n",
       "      <th>2017-01-04</th>\n",
       "      <td>83.500000</td>\n",
       "      <td>83.760002</td>\n",
       "      <td>83.199997</td>\n",
       "      <td>83.610001</td>\n",
       "      <td>67.049858</td>\n",
       "      <td>2086820</td>\n",
       "    </tr>\n",
       "    <tr>\n",
       "      <th>2017-01-05</th>\n",
       "      <td>83.989998</td>\n",
       "      <td>84.120003</td>\n",
       "      <td>83.589996</td>\n",
       "      <td>83.849998</td>\n",
       "      <td>67.242317</td>\n",
       "      <td>2049692</td>\n",
       "    </tr>\n",
       "    <tr>\n",
       "      <th>2017-01-06</th>\n",
       "      <td>83.980003</td>\n",
       "      <td>84.180000</td>\n",
       "      <td>83.620003</td>\n",
       "      <td>84.129997</td>\n",
       "      <td>67.466866</td>\n",
       "      <td>2648142</td>\n",
       "    </tr>\n",
       "    <tr>\n",
       "      <th>2017-01-09</th>\n",
       "      <td>84.279999</td>\n",
       "      <td>85.650002</td>\n",
       "      <td>84.175003</td>\n",
       "      <td>85.260002</td>\n",
       "      <td>68.373055</td>\n",
       "      <td>2742640</td>\n",
       "    </tr>\n",
       "    <tr>\n",
       "      <th>...</th>\n",
       "      <td>...</td>\n",
       "      <td>...</td>\n",
       "      <td>...</td>\n",
       "      <td>...</td>\n",
       "      <td>...</td>\n",
       "      <td>...</td>\n",
       "    </tr>\n",
       "    <tr>\n",
       "      <th>2019-07-25</th>\n",
       "      <td>82.730003</td>\n",
       "      <td>83.000000</td>\n",
       "      <td>82.370003</td>\n",
       "      <td>83.000000</td>\n",
       "      <td>76.355255</td>\n",
       "      <td>3721233</td>\n",
       "    </tr>\n",
       "    <tr>\n",
       "      <th>2019-07-26</th>\n",
       "      <td>82.989998</td>\n",
       "      <td>83.290001</td>\n",
       "      <td>82.529999</td>\n",
       "      <td>82.589996</td>\n",
       "      <td>75.978073</td>\n",
       "      <td>6715835</td>\n",
       "    </tr>\n",
       "    <tr>\n",
       "      <th>2019-07-29</th>\n",
       "      <td>82.800003</td>\n",
       "      <td>83.449997</td>\n",
       "      <td>82.379997</td>\n",
       "      <td>83.250000</td>\n",
       "      <td>76.585236</td>\n",
       "      <td>3280357</td>\n",
       "    </tr>\n",
       "    <tr>\n",
       "      <th>2019-07-30</th>\n",
       "      <td>83.489998</td>\n",
       "      <td>83.699997</td>\n",
       "      <td>83.000000</td>\n",
       "      <td>83.400002</td>\n",
       "      <td>76.723236</td>\n",
       "      <td>3120288</td>\n",
       "    </tr>\n",
       "    <tr>\n",
       "      <th>2019-07-31</th>\n",
       "      <td>83.089996</td>\n",
       "      <td>83.430000</td>\n",
       "      <td>82.300003</td>\n",
       "      <td>82.300003</td>\n",
       "      <td>75.711288</td>\n",
       "      <td>3304674</td>\n",
       "    </tr>\n",
       "  </tbody>\n",
       "</table>\n",
       "<p>651 rows × 6 columns</p>\n",
       "</div>"
      ],
      "text/plain": [
       "                 Open       High        Low      Close  Adj Close   Volume\n",
       "Date                                                                      \n",
       "2017-01-03  82.400002  83.160004  82.309998  82.970001  66.536613  1967692\n",
       "2017-01-04  83.500000  83.760002  83.199997  83.610001  67.049858  2086820\n",
       "2017-01-05  83.989998  84.120003  83.589996  83.849998  67.242317  2049692\n",
       "2017-01-06  83.980003  84.180000  83.620003  84.129997  67.466866  2648142\n",
       "2017-01-09  84.279999  85.650002  84.175003  85.260002  68.373055  2742640\n",
       "...               ...        ...        ...        ...        ...      ...\n",
       "2019-07-25  82.730003  83.000000  82.370003  83.000000  76.355255  3721233\n",
       "2019-07-26  82.989998  83.290001  82.529999  82.589996  75.978073  6715835\n",
       "2019-07-29  82.800003  83.449997  82.379997  83.250000  76.585236  3280357\n",
       "2019-07-30  83.489998  83.699997  83.000000  83.400002  76.723236  3120288\n",
       "2019-07-31  83.089996  83.430000  82.300003  82.300003  75.711288  3304674\n",
       "\n",
       "[651 rows x 6 columns]"
      ]
     },
     "execution_count": 9,
     "metadata": {},
     "output_type": "execute_result"
    }
   ],
   "source": [
    "# Start at August 2017 end at August 2019\n",
    "data['01-2017':'07-2019']"
   ]
  },
  {
   "cell_type": "code",
   "execution_count": 10,
   "metadata": {},
   "outputs": [
    {
     "data": {
      "text/html": [
       "<div>\n",
       "<style scoped>\n",
       "    .dataframe tbody tr th:only-of-type {\n",
       "        vertical-align: middle;\n",
       "    }\n",
       "\n",
       "    .dataframe tbody tr th {\n",
       "        vertical-align: top;\n",
       "    }\n",
       "\n",
       "    .dataframe thead th {\n",
       "        text-align: right;\n",
       "    }\n",
       "</style>\n",
       "<table border=\"1\" class=\"dataframe\">\n",
       "  <thead>\n",
       "    <tr style=\"text-align: right;\">\n",
       "      <th></th>\n",
       "      <th>Open</th>\n",
       "      <th>High</th>\n",
       "      <th>Low</th>\n",
       "      <th>Close</th>\n",
       "      <th>Adj Close</th>\n",
       "      <th>Volume</th>\n",
       "    </tr>\n",
       "    <tr>\n",
       "      <th>Date</th>\n",
       "      <th></th>\n",
       "      <th></th>\n",
       "      <th></th>\n",
       "      <th></th>\n",
       "      <th></th>\n",
       "      <th></th>\n",
       "    </tr>\n",
       "  </thead>\n",
       "  <tbody>\n",
       "    <tr>\n",
       "      <th>2009-06-01</th>\n",
       "      <td>35.298752</td>\n",
       "      <td>36.094440</td>\n",
       "      <td>34.861122</td>\n",
       "      <td>35.965141</td>\n",
       "      <td>18.989882</td>\n",
       "      <td>4533844</td>\n",
       "    </tr>\n",
       "    <tr>\n",
       "      <th>2009-06-02</th>\n",
       "      <td>36.412716</td>\n",
       "      <td>36.412716</td>\n",
       "      <td>35.626972</td>\n",
       "      <td>36.134224</td>\n",
       "      <td>19.079163</td>\n",
       "      <td>4328304</td>\n",
       "    </tr>\n",
       "    <tr>\n",
       "      <th>2009-06-03</th>\n",
       "      <td>36.283417</td>\n",
       "      <td>36.900074</td>\n",
       "      <td>36.014870</td>\n",
       "      <td>36.601692</td>\n",
       "      <td>19.325993</td>\n",
       "      <td>4871737</td>\n",
       "    </tr>\n",
       "    <tr>\n",
       "      <th>2009-06-04</th>\n",
       "      <td>36.800613</td>\n",
       "      <td>37.198460</td>\n",
       "      <td>36.442554</td>\n",
       "      <td>36.591743</td>\n",
       "      <td>19.320740</td>\n",
       "      <td>4617218</td>\n",
       "    </tr>\n",
       "    <tr>\n",
       "      <th>2009-06-05</th>\n",
       "      <td>37.019428</td>\n",
       "      <td>37.447109</td>\n",
       "      <td>36.174007</td>\n",
       "      <td>36.313255</td>\n",
       "      <td>19.173695</td>\n",
       "      <td>4441440</td>\n",
       "    </tr>\n",
       "    <tr>\n",
       "      <th>...</th>\n",
       "      <td>...</td>\n",
       "      <td>...</td>\n",
       "      <td>...</td>\n",
       "      <td>...</td>\n",
       "      <td>...</td>\n",
       "      <td>...</td>\n",
       "    </tr>\n",
       "    <tr>\n",
       "      <th>2021-06-10</th>\n",
       "      <td>101.000000</td>\n",
       "      <td>102.120003</td>\n",
       "      <td>100.769997</td>\n",
       "      <td>101.849998</td>\n",
       "      <td>101.849998</td>\n",
       "      <td>1791330</td>\n",
       "    </tr>\n",
       "    <tr>\n",
       "      <th>2021-06-11</th>\n",
       "      <td>101.000000</td>\n",
       "      <td>101.695000</td>\n",
       "      <td>100.820000</td>\n",
       "      <td>101.360001</td>\n",
       "      <td>101.360001</td>\n",
       "      <td>1740852</td>\n",
       "    </tr>\n",
       "    <tr>\n",
       "      <th>2021-06-15</th>\n",
       "      <td>101.500000</td>\n",
       "      <td>103.720001</td>\n",
       "      <td>101.459999</td>\n",
       "      <td>103.449997</td>\n",
       "      <td>103.449997</td>\n",
       "      <td>2296140</td>\n",
       "    </tr>\n",
       "    <tr>\n",
       "      <th>2021-06-16</th>\n",
       "      <td>104.010002</td>\n",
       "      <td>104.940002</td>\n",
       "      <td>103.410004</td>\n",
       "      <td>104.820000</td>\n",
       "      <td>104.820000</td>\n",
       "      <td>2775509</td>\n",
       "    </tr>\n",
       "    <tr>\n",
       "      <th>2021-06-17</th>\n",
       "      <td>105.500000</td>\n",
       "      <td>106.570000</td>\n",
       "      <td>105.110001</td>\n",
       "      <td>105.910004</td>\n",
       "      <td>105.910004</td>\n",
       "      <td>3930519</td>\n",
       "    </tr>\n",
       "  </tbody>\n",
       "</table>\n",
       "<p>3047 rows × 6 columns</p>\n",
       "</div>"
      ],
      "text/plain": [
       "                  Open        High         Low       Close   Adj Close  \\\n",
       "Date                                                                     \n",
       "2009-06-01   35.298752   36.094440   34.861122   35.965141   18.989882   \n",
       "2009-06-02   36.412716   36.412716   35.626972   36.134224   19.079163   \n",
       "2009-06-03   36.283417   36.900074   36.014870   36.601692   19.325993   \n",
       "2009-06-04   36.800613   37.198460   36.442554   36.591743   19.320740   \n",
       "2009-06-05   37.019428   37.447109   36.174007   36.313255   19.173695   \n",
       "...                ...         ...         ...         ...         ...   \n",
       "2021-06-10  101.000000  102.120003  100.769997  101.849998  101.849998   \n",
       "2021-06-11  101.000000  101.695000  100.820000  101.360001  101.360001   \n",
       "2021-06-15  101.500000  103.720001  101.459999  103.449997  103.449997   \n",
       "2021-06-16  104.010002  104.940002  103.410004  104.820000  104.820000   \n",
       "2021-06-17  105.500000  106.570000  105.110001  105.910004  105.910004   \n",
       "\n",
       "             Volume  \n",
       "Date                 \n",
       "2009-06-01  4533844  \n",
       "2009-06-02  4328304  \n",
       "2009-06-03  4871737  \n",
       "2009-06-04  4617218  \n",
       "2009-06-05  4441440  \n",
       "...             ...  \n",
       "2021-06-10  1791330  \n",
       "2021-06-11  1740852  \n",
       "2021-06-15  2296140  \n",
       "2021-06-16  2775509  \n",
       "2021-06-17  3930519  \n",
       "\n",
       "[3047 rows x 6 columns]"
      ]
     },
     "execution_count": 10,
     "metadata": {},
     "output_type": "execute_result"
    }
   ],
   "source": [
    "data"
   ]
  },
  {
   "cell_type": "code",
   "execution_count": 11,
   "metadata": {},
   "outputs": [
    {
     "name": "stdout",
     "output_type": "stream",
     "text": [
      "Date\n",
      "2009-06-01     18.989882\n",
      "2009-06-02     19.079163\n",
      "2009-06-03     19.325993\n",
      "2009-06-04     19.320740\n",
      "2009-06-05     19.173695\n",
      "                 ...    \n",
      "2021-06-10    101.849998\n",
      "2021-06-11    101.360001\n",
      "2021-06-15    103.449997\n",
      "2021-06-16    104.820000\n",
      "2021-06-17    105.910004\n",
      "Name: Adj Close, Length: 3047, dtype: float64\n",
      "\n",
      "<class 'pandas.core.series.Series'>\n"
     ]
    }
   ],
   "source": [
    "# This is how you index a column by name\n",
    "p = data['Adj Close']\n",
    "print(p)\n",
    "print(\"\")\n",
    "print(type(p))"
   ]
  },
  {
   "cell_type": "markdown",
   "metadata": {},
   "source": [
    "### Plotting\n",
    "We primarily use the `matplotlib` library for plotting. Each plot should at least contain axis labels (both horizontal and vertical) and a title. Below is an example of a time series plot of the adjusted closing prices of CBA."
   ]
  },
  {
   "cell_type": "code",
   "execution_count": 12,
   "metadata": {},
   "outputs": [
    {
     "data": {
      "image/png": "[encoded data removed]",
      "text/plain": [
       "<Figure size 432x288 with 1 Axes>"
      ]
     },
     "metadata": {
      "needs_background": "light"
     },
     "output_type": "display_data"
    }
   ],
   "source": [
    "plt.plot(p, label='Adj. Close')\n",
    "plt.xlabel('Date')\n",
    "plt.ylabel('Price (AUD)')\n",
    "plt.title('CBA Price Series')\n",
    "plt.legend();"
   ]
  },
  {
   "cell_type": "code",
   "execution_count": 13,
   "metadata": {
    "scrolled": true
   },
   "outputs": [
    {
     "data": {
      "image/png": "[encoded data removed]",
      "text/plain": [
       "<Figure size 432x288 with 1 Axes>"
      ]
     },
     "metadata": {
      "needs_background": "light"
     },
     "output_type": "display_data"
    }
   ],
   "source": [
    "plt.plot(p, label='Adj. Close')\n",
    "plt.xlabel('Date')\n",
    "plt.ylabel('Price (AUD)')\n",
    "plt.title('CBA Price Series')\n",
    "plt.legend()\n",
    "plt.show()"
   ]
  },
  {
   "cell_type": "markdown",
   "metadata": {},
   "source": [
    "**Question:** Discuss the properties of CBA prices over the past decade or so. Are they predictable? Stable over time?  (in less than 0.5 pages)\n",
    "\n",
    "**Answer guide**  Prices rose to more than 4 times their 2009 level (of about AUD 20) reaching a maximum above AUD 80 in early 2020, then dropped sharply to about AUD 55. Prices have again risen since early 2020, to be above AUD 100 by June, 2021. \n",
    "The effect of uncertainty around Covid-19 is a possible explaination for the sharp drop in early 2020. \n",
    "\n",
    "Predictable? Stable?? Prices are not generally predictable. They move in the fashion of a \"random walk\", though with apparently changing variance from day to day. Prices can drop sharply or slowly and/or rise quickly or slowly, they are rarely stable looking and do not seem to follow a consistent pattern. There is, however, a long-term upwards trend.\n"
   ]
  },
  {
   "cell_type": "markdown",
   "metadata": {},
   "source": [
    "# Closing Prices vs Returns\n",
    "\n",
    "Before we continue, it is a good idea to see how returns differs to closing prices.\n",
    "\n",
    "So below I have 2 timeseries, one is the returns from CBA and the other is the returns from a simulated gaussian random walk.\n",
    "\n",
    "Now, when we look at their closing prices they basically look the same. But, when we look at the returns they actually tell a completely different story."
   ]
  },
  {
   "cell_type": "code",
   "execution_count": 14,
   "metadata": {},
   "outputs": [
    {
     "data": {
      "image/png": "[encoded data removed]",
      "text/plain": [
       "<Figure size 1080x792 with 3 Axes>"
      ]
     },
     "metadata": {
      "needs_background": "light"
     },
     "output_type": "display_data"
    }
   ],
   "source": [
    "# Dont worry about this code. This code is just to prove my point\n",
    "r = (np.log(p).diff() * 100)[1:]\n",
    "\n",
    "plt.figure(figsize=(15, 11))\n",
    "\n",
    "np.random.seed(5)\n",
    "gaussian_returns = np.random.normal(np.mean(r), np.std(r), size=len(r))\n",
    "cba_open_price = p[0]\n",
    "\n",
    "plt.subplot(2, 1, 1)\n",
    "plt.plot(np.cumprod(np.exp(r.values/100)) * cba_open_price, label='CBA Returns')\n",
    "plt.plot(np.cumprod(np.exp(gaussian_returns/100)) * cba_open_price, label='Simulated Gaussian Random Walk')\n",
    "plt.title(\"Closing Prices\")\n",
    "plt.legend();\n",
    "\n",
    "plt.subplot(2, 2, 3)\n",
    "plt.plot(r)\n",
    "plt.title('CBA Returns')\n",
    "plt.ylim(-13, 13)\n",
    "\n",
    "plt.subplot(2, 2, 4)\n",
    "plt.plot(gaussian_returns)\n",
    "plt.ylim(-13, 13)\n",
    "plt.title(\"Returns of a Gaussian Random Walk\");"
   ]
  },
  {
   "cell_type": "markdown",
   "metadata": {},
   "source": [
    "There are 2 important things to saee when we look at the returns.\n",
    "\n",
    "1. The range of the cba returns is much larger than the gaussian random walk\n",
    "2. The range of the cba returns also changes in time. In particular you can see that during 2012-2014 the volatility is pretty small when compared with 2020-2021"
   ]
  },
  {
   "cell_type": "markdown",
   "metadata": {},
   "source": [
    "# The Gaussian Random Walk Model\n",
    "\n",
    "The most important thing that we will look at this tutorial is the idea that\n",
    "\n",
    "$$\\large \\log P_{t} = \\log P_{t-1} + r_t$$\n",
    "\n",
    "where $r_t$ follows some probability distribution. In the gaussian random walk model, $r_t\\sim\\mathcal{N}(\\mu,\\sigma^2)$, meaning that the returns follow a normal distribution (or gaussian distribution). So the rest of this tutorial we are going to see if $r_t = \\log(P_{t}) - \\log(P_{t-1})$ is in fact a Gaussian distribution."
   ]
  },
  {
   "cell_type": "markdown",
   "metadata": {},
   "source": [
    "## Empirical characteristics of return series\n",
    "In QUBS6830, we focus on percentage **log-returns**, calculated using:\n",
    "$$\n",
    "r_t = \\log\\left(\\frac{P_t}{P_{t-1}}\\right) \\times 100 = [\\log(P_t) - \\log(P_{t-1})] \\times 100.\n",
    "$$"
   ]
  },
  {
   "cell_type": "code",
   "execution_count": 15,
   "metadata": {},
   "outputs": [
    {
     "data": {
      "text/plain": [
       "Date\n",
       "2009-06-01         NaN\n",
       "2009-06-02    0.469049\n",
       "2009-06-03    1.285418\n",
       "2009-06-04   -0.027185\n",
       "2009-06-05   -0.763984\n",
       "                ...   \n",
       "2021-06-10    0.758882\n",
       "2021-06-11   -0.482258\n",
       "2021-06-15    2.040983\n",
       "2021-06-16    1.315622\n",
       "2021-06-17    1.034512\n",
       "Name: Adj Close, Length: 3047, dtype: float64"
      ]
     },
     "execution_count": 15,
     "metadata": {},
     "output_type": "execute_result"
    }
   ],
   "source": [
    "r = np.log(p).diff() * 100\n",
    "r"
   ]
  },
  {
   "cell_type": "code",
   "execution_count": 16,
   "metadata": {},
   "outputs": [
    {
     "name": "stdout",
     "output_type": "stream",
     "text": [
      "count    3046.000000\n",
      "mean        0.056424\n",
      "std         1.301812\n",
      "min       -10.542749\n",
      "25%        -0.601618\n",
      "50%         0.050539\n",
      "75%         0.755323\n",
      "max        12.453254\n",
      "Name: Adj Close, dtype: float64\n"
     ]
    }
   ],
   "source": [
    "r = r[1:]\n",
    "print(r.describe())"
   ]
  },
  {
   "cell_type": "code",
   "execution_count": 17,
   "metadata": {},
   "outputs": [
    {
     "name": "stdout",
     "output_type": "stream",
     "text": [
      "[-6.93100631 -3.99801558 -3.27015869 -1.32761159 -0.60161813  0.0505394\n",
      "  0.75532263  1.39214275  3.43675768  4.218731    6.07858637]\n"
     ]
    }
   ],
   "source": [
    "# Sample quantiles\n",
    "print(np.quantile(r, [0.001, 0.005, 0.01, 0.1, 0.25, 0.5, 0.75, 0.9, 0.99, 0.995, 0.999]))"
   ]
  },
  {
   "cell_type": "code",
   "execution_count": 18,
   "metadata": {},
   "outputs": [
    {
     "name": "stdout",
     "output_type": "stream",
     "text": [
      "Sample Quantile 0.001 = -6.931006310019217\n",
      "Sample Quantile 0.005 = -3.998015581721234\n",
      "Sample Quantile 0.010 = -3.270158693308618\n",
      "Sample Quantile 0.100 = -1.3276115902882246\n",
      "Sample Quantile 0.250 = -0.6016181258236886\n",
      "Sample Quantile 0.500 = 0.05053939556090015\n",
      "Sample Quantile 0.750 = 0.7553226278055214\n",
      "Sample Quantile 0.900 = 1.392142746813585\n",
      "Sample Quantile 0.990 = 3.436757676643665\n",
      "Sample Quantile 0.995 = 4.2187310032685925\n",
      "Sample Quantile 0.999 = 6.078586371908274\n"
     ]
    }
   ],
   "source": [
    "# Let us try that again\n",
    "quantiles = [0.001, 0.005, 0.01, 0.1, 0.25, 0.5, 0.75, 0.9, 0.99, 0.995, 0.999]\n",
    "\n",
    "for quantile in quantiles:\n",
    "    print(f\"Sample Quantile {format(quantile, '0>.3f')} = {np.quantile(r, quantile)}\")"
   ]
  },
  {
   "cell_type": "markdown",
   "metadata": {},
   "source": [
    "So what do these quantiles mean:\n",
    "\n",
    "- Quantile 0.25 = -0.6016 means that you would expect returns to be **less than** -0.6016 about 25% of the time. Mathematically, this is saying that\n",
    "$$\\mathbb{P}[r_t < -0.6016] = 0.25$$\n",
    "\n",
    "- Quantile 0.5 = 0.0505 means that you would expect returns to be **less than** 0.0505 about 50% of the time.\n",
    "- Quantile 0.995 = 4.218 means that you would expect returns to be **less than** 4.128 about 99.5% of the time\n",
    "\n",
    "Note that these are the raw quantiles that you get from the dataset"
   ]
  },
  {
   "cell_type": "code",
   "execution_count": 19,
   "metadata": {},
   "outputs": [
    {
     "data": {
      "text/plain": [
       "0.5"
      ]
     },
     "execution_count": 19,
     "metadata": {},
     "output_type": "execute_result"
    }
   ],
   "source": [
    "np.sum(r < 0.05) / len(r)"
   ]
  },
  {
   "cell_type": "markdown",
   "metadata": {},
   "source": [
    "So why is this important. If $r_t$ is in fact normally distributed then we should expect the quantiles to be"
   ]
  },
  {
   "cell_type": "code",
   "execution_count": 20,
   "metadata": {},
   "outputs": [
    {
     "name": "stdout",
     "output_type": "stream",
     "text": [
      "Normal Distribution Quantile 0.001 = -3.9658176778199286\n",
      "Normal Distribution Quantile 0.005 = -3.2962714649209506\n",
      "Normal Distribution Quantile 0.010 = -2.971546792892756\n",
      "Normal Distribution Quantile 0.100 = -1.6116414112308732\n",
      "Normal Distribution Quantile 0.250 = -0.8214906201335355\n",
      "Normal Distribution Quantile 0.500 = 0.05642427457699737\n",
      "Normal Distribution Quantile 0.750 = 0.9343391692875302\n",
      "Normal Distribution Quantile 0.900 = 1.724489960384868\n",
      "Normal Distribution Quantile 0.990 = 3.0843953420467507\n",
      "Normal Distribution Quantile 0.995 = 3.409120014074945\n",
      "Normal Distribution Quantile 0.999 = 4.078666226973923\n"
     ]
    }
   ],
   "source": [
    "for quantile in quantiles:\n",
    "    val = stats.norm.ppf(quantile, np.mean(r), np.std(r))\n",
    "    print(f\"Normal Distribution Quantile {format(quantile, '0>.3f')} = {val}\")"
   ]
  },
  {
   "cell_type": "markdown",
   "metadata": {},
   "source": [
    "Okay, so what is the difference between the normal distribution's quantile and the quantiles from CBA\n",
    "\n",
    "For the normal distribution, about 1% of the time we would expect returns to be less than -2.97%. But, the true quantile for CBA says that about 1% of the time we would expect returns to be less than -3.27%. So in the real world, we actually loose more money then what a gaussian distribution is telling us.\n",
    "\n",
    "- Gaussian distribution says that 1 out of 100 days, we will loose more than 2.97%\n",
    "- CBA says that 1 out of 100 days, we will loose more than 3.27%"
   ]
  },
  {
   "cell_type": "markdown",
   "metadata": {},
   "source": [
    "But let us compare this with the students-t distribution"
   ]
  },
  {
   "cell_type": "code",
   "execution_count": 21,
   "metadata": {},
   "outputs": [
    {
     "data": {
      "text/html": [
       "<div>\n",
       "<style scoped>\n",
       "    .dataframe tbody tr th:only-of-type {\n",
       "        vertical-align: middle;\n",
       "    }\n",
       "\n",
       "    .dataframe tbody tr th {\n",
       "        vertical-align: top;\n",
       "    }\n",
       "\n",
       "    .dataframe thead th {\n",
       "        text-align: right;\n",
       "    }\n",
       "</style>\n",
       "<table border=\"1\" class=\"dataframe\">\n",
       "  <thead>\n",
       "    <tr style=\"text-align: right;\">\n",
       "      <th></th>\n",
       "      <th>CBA Sample Quantile</th>\n",
       "      <th>Normal Quantile</th>\n",
       "      <th>Student-t Quantile</th>\n",
       "    </tr>\n",
       "  </thead>\n",
       "  <tbody>\n",
       "    <tr>\n",
       "      <th>0.001</th>\n",
       "      <td>-6.93101</td>\n",
       "      <td>-3.96582</td>\n",
       "      <td>-5.8018</td>\n",
       "    </tr>\n",
       "    <tr>\n",
       "      <th>0.005</th>\n",
       "      <td>-3.99802</td>\n",
       "      <td>-3.29627</td>\n",
       "      <td>-4.31094</td>\n",
       "    </tr>\n",
       "    <tr>\n",
       "      <th>0.010</th>\n",
       "      <td>-3.27016</td>\n",
       "      <td>-2.97155</td>\n",
       "      <td>-3.7136</td>\n",
       "    </tr>\n",
       "    <tr>\n",
       "      <th>0.100</th>\n",
       "      <td>-1.32761</td>\n",
       "      <td>-1.61164</td>\n",
       "      <td>-1.76167</td>\n",
       "    </tr>\n",
       "    <tr>\n",
       "      <th>0.250</th>\n",
       "      <td>-0.601618</td>\n",
       "      <td>-0.821491</td>\n",
       "      <td>-0.863008</td>\n",
       "    </tr>\n",
       "    <tr>\n",
       "      <th>0.500</th>\n",
       "      <td>0.0505394</td>\n",
       "      <td>0.0564243</td>\n",
       "      <td>0.0564243</td>\n",
       "    </tr>\n",
       "    <tr>\n",
       "      <th>0.750</th>\n",
       "      <td>0.755323</td>\n",
       "      <td>0.934339</td>\n",
       "      <td>0.975856</td>\n",
       "    </tr>\n",
       "    <tr>\n",
       "      <th>0.900</th>\n",
       "      <td>1.39214</td>\n",
       "      <td>1.72449</td>\n",
       "      <td>1.87452</td>\n",
       "    </tr>\n",
       "    <tr>\n",
       "      <th>0.990</th>\n",
       "      <td>3.43676</td>\n",
       "      <td>3.0844</td>\n",
       "      <td>3.82645</td>\n",
       "    </tr>\n",
       "    <tr>\n",
       "      <th>0.995</th>\n",
       "      <td>4.21873</td>\n",
       "      <td>3.40912</td>\n",
       "      <td>4.42379</td>\n",
       "    </tr>\n",
       "    <tr>\n",
       "      <th>0.999</th>\n",
       "      <td>6.07859</td>\n",
       "      <td>4.07867</td>\n",
       "      <td>5.91465</td>\n",
       "    </tr>\n",
       "  </tbody>\n",
       "</table>\n",
       "</div>"
      ],
      "text/plain": [
       "      CBA Sample Quantile Normal Quantile Student-t Quantile\n",
       "0.001            -6.93101        -3.96582            -5.8018\n",
       "0.005            -3.99802        -3.29627           -4.31094\n",
       "0.010            -3.27016        -2.97155            -3.7136\n",
       "0.100            -1.32761        -1.61164           -1.76167\n",
       "0.250           -0.601618       -0.821491          -0.863008\n",
       "0.500           0.0505394       0.0564243          0.0564243\n",
       "0.750            0.755323        0.934339           0.975856\n",
       "0.900             1.39214         1.72449            1.87452\n",
       "0.990             3.43676          3.0844            3.82645\n",
       "0.995             4.21873         3.40912            4.42379\n",
       "0.999             6.07859         4.07867            5.91465"
      ]
     },
     "execution_count": 21,
     "metadata": {},
     "output_type": "execute_result"
    }
   ],
   "source": [
    "# Just Ignore\n",
    "df = pd.DataFrame(columns=['CBA Sample Quantile', 'Normal Quantile', 'Student-t Quantile'])\n",
    "\n",
    "for quantile in quantiles:\n",
    "    sample_quantile = np.quantile(r, quantile)\n",
    "    normal_quantile = stats.norm.ppf(quantile, np.mean(r), np.std(r))\n",
    "    students_t_quantile = stats.t.ppf(quantile, 8, np.mean(r), np.std(r))\n",
    "    \n",
    "    df.loc[quantile, :] = [sample_quantile, normal_quantile, students_t_quantile]\n",
    "df"
   ]
  },
  {
   "cell_type": "code",
   "execution_count": 22,
   "metadata": {},
   "outputs": [
    {
     "name": "stdout",
     "output_type": "stream",
     "text": [
      "0.0126536725201957\n",
      "9.517581791418301\n"
     ]
    }
   ],
   "source": [
    "print(r.skew())  # Skew of Gaussian is 0\n",
    "print(r.kurtosis())  # Kurtosis of Gaussian is 3"
   ]
  },
  {
   "cell_type": "markdown",
   "metadata": {},
   "source": [
    "**Question:** Based on these summary stats, discuss the general properties of percentage log returns for CBA (in less than 0.5 pages)\n",
    "\n",
    "**Answer guide** The average and median daily return are around 0.05\\%, which is very small in practical financial terms. The number or proportion of positive and negative returns seem very similar to each other (i.e. close to 50\\%). The skewness, while slightly positive (0.013), is very close to 0, meaning the data are close to a symmetric distribution. The kurtosis is well above 3, indicating the fat-tailed nature of financial returns.  \n",
    "\n",
    "**Question:** What level might an investor expect a daily return to be less than on only 0.1% of days, when investing in CBA stock? What does your estimate depend on?\n",
    "\n",
    "**Answer guide** The 0.1 percentile of CBA returns is estimated to be -6.93\\%; i.e. 0.1\\% of CBA returns in this sample are below -6.93\\%. This a sample percentile estimate; implicitly it relies on a concept called stationarity, in this case meaning that the (unconditional) distribution of the CBA returns remains constant over time. \n",
    "\n",
    "As a counter-example, imagine if the long run distribution of CBA returns changed in 2021, i.e. if the distribution suddenly had much fatter tails than for 2009-2020. In that case, using the data from 2009-2020 may not tell us much at all to accurately estimate the 0.1 (or any other) percentile. Only if the distribution of data in 2009-2020 matches (approximately) that in 2021, can we use all the data to estimate the 0.1 (or any other) percentile.  "
   ]
  },
  {
   "cell_type": "code",
   "execution_count": 23,
   "metadata": {},
   "outputs": [
    {
     "data": {
      "image/png": "[encoded data removed]",
      "text/plain": [
       "<Figure size 432x288 with 1 Axes>"
      ]
     },
     "metadata": {
      "needs_background": "light"
     },
     "output_type": "display_data"
    }
   ],
   "source": [
    "plt.hist(r, 50)\n",
    "plt.title('Histogram of Log-Returns')\n",
    "plt.show()"
   ]
  },
  {
   "cell_type": "code",
   "execution_count": 24,
   "metadata": {},
   "outputs": [
    {
     "data": {
      "image/png": "[encoded data removed]",
      "text/plain": [
       "<Figure size 648x360 with 1 Axes>"
      ]
     },
     "metadata": {
      "needs_background": "light"
     },
     "output_type": "display_data"
    }
   ],
   "source": [
    "# The DataFrame class offers methods for plotting too,\n",
    "# e.g., the kernel density plot.\n",
    "plt.figure(figsize=(9, 5))\n",
    "\n",
    "r.plot.kde()\n",
    "plt.title('Kernel Density Plot of Percentage Log-Returns')\n",
    "plt.xlim(-12, 12) # NB these liimts are approx the min, max of the data\n",
    "plt.show()"
   ]
  },
  {
   "cell_type": "code",
   "execution_count": 25,
   "metadata": {
    "scrolled": false
   },
   "outputs": [
    {
     "data": {
      "image/png": "[encoded data removed]",
      "text/plain": [
       "<Figure size 720x432 with 1 Axes>"
      ]
     },
     "metadata": {
      "needs_background": "light"
     },
     "output_type": "display_data"
    }
   ],
   "source": [
    "# The DataFrame class offers methods for plotting too,\n",
    "\n",
    "plt.figure(figsize=(10, 6))\n",
    "\n",
    "r.plot.kde(label='CBA KDE')  # blue\n",
    "plt.title('Density Plots of Percentage Log-Returns')\n",
    "plt.xlim(-12, 12) # NB these liimts are approx the min, max of the data\n",
    "\n",
    "# We can add a Gaussian distribution, with same man and variance as CBA returns, to this plot\n",
    "r_vec = r.values\n",
    "x = np.linspace(r.mean() - 5*np.std(r_vec), r.mean() + 5*np.std(r_vec), 200)\n",
    "plt.plot(x, stats.norm.pdf(x, r.mean(), np.std(r_vec)), label='Gaussian KDE')  # orange\n",
    "\n",
    "plt.legend()\n",
    "plt.show()"
   ]
  },
  {
   "cell_type": "code",
   "execution_count": 26,
   "metadata": {
    "scrolled": false
   },
   "outputs": [
    {
     "data": {
      "image/png": "[encoded data removed]",
      "text/plain": [
       "<Figure size 432x288 with 1 Axes>"
      ]
     },
     "metadata": {
      "needs_background": "light"
     },
     "output_type": "display_data"
    }
   ],
   "source": [
    "# For QQ plots, we can use the `statsmodels` library\n",
    "sm.qqplot(r, line='45')\n",
    "plt.title('Normal QQ Plot of Log-Returns')\n",
    "plt.xlim(-5, 5);"
   ]
  },
  {
   "cell_type": "code",
   "execution_count": 27,
   "metadata": {},
   "outputs": [
    {
     "data": {
      "image/png": "[encoded data removed]",
      "text/plain": [
       "<Figure size 720x504 with 1 Axes>"
      ]
     },
     "metadata": {
      "needs_background": "light"
     },
     "output_type": "display_data"
    }
   ],
   "source": [
    "# This is how you control the figure size\n",
    "fig, ax = plt.subplots(1, 1, figsize=(10, 7))\n",
    "\n",
    "sm.qqplot(r, line='45', ax=ax)\n",
    "plt.title('Normal QQ Plot of Log-Returns')\n",
    "plt.xlim(-5, 5);"
   ]
  },
  {
   "cell_type": "markdown",
   "metadata": {},
   "source": [
    "**Question:** Discuss the distribution of percentage log returns for CBA (in less than 0.5 pages)\n",
    "\n",
    "**Answer guide** As suggested by the sample skewness and kurtosis, the distribution of CBA returns seems close to symmetric and to have fatter tails than a Gaussian distribution. The distribution seems peaked in the middle and then to have long tails on either side, compared to a Gaussian, as shown in the density plots above. The long tails are caused by a small number of relatively extreme positive and negative returns (i.e. those few beyond -5\\% and +5\\%). Fat-tailed distributions tend to be associated with the concept of \"outliers\", loosely defined as a small number of data points that \"do not fit in\" with the rest of the data. In the case of financial return data, usually fat-tailed distributions are empirically characterised by a small number of (relatively) extreme returns, usually both positive and negative ones.  "
   ]
  },
  {
   "cell_type": "code",
   "execution_count": 28,
   "metadata": {},
   "outputs": [
    {
     "data": {
      "image/png": "[encoded data removed]",
      "text/plain": [
       "<Figure size 432x288 with 1 Axes>"
      ]
     },
     "metadata": {
      "needs_background": "light"
     },
     "output_type": "display_data"
    }
   ],
   "source": [
    "plt.plot(r)\n",
    "plt.xlabel('Date')\n",
    "plt.ylabel('Log-returns (%)')\n",
    "plt.title('CBA Return Series')\n",
    "plt.show()"
   ]
  },
  {
   "cell_type": "markdown",
   "metadata": {},
   "source": [
    "**Question:** Discuss this plot and the time properties of CBA log returns. What aspects seem to change with time? Which seem to remain fairly constant or static over time?\n",
    "\n",
    "**Answer guide** The mean CBA return seems to stay fairly constant over time, and fairly close to 0. Extreme returns seem to occur infrequently in no real pattern, except there are more during early 2020 (again some positive and some negative). The volatility or variance level does seem to change with time, being sometimes lower in some periods of time and sometimes higher in other time periods; E.g. in 2013 and then again in 2014 the day to day returns seem to have a smaller range and hence smaller variance, compared to e.g. 2009-2010, late 2011, early 2020 (among others). "
   ]
  },
  {
   "cell_type": "markdown",
   "metadata": {},
   "source": [
    "### Statistical Consequences of Fat Tails - Nassim Nicholas Taleb\n",
    "\n",
    "Good introduction video on Fat tails and why they are important https://www.youtube.com/watch?v=t7Fr6iGhmBM\n",
    "\n",
    "As Nassim Taleb puts it, \n",
    "\n",
    "    with fat tail distributions, extreme events away from the centre of the\n",
    "    distribution play a very large role. Black Swans are not more frequent, they are more\n",
    "    consequential. The fattest tail distribution has just one very large extreme deviation, rather\n",
    "    than many departures form the norm\n",
    "    \n",
    "    ...\n",
    "    \n",
    "    As the tails fatten, to mimic what happens in financial markets for\n",
    "    example, the probability of an event staying within one standard deviation of the mean\n",
    "    rises to between 75 and 95 per cent.\n",
    "    \n",
    "    - Nassim Nicholas Taleb - Statistical Consequences of Fat Tails\n",
    "    \n",
    "A good example of a very fat tail distribution is: Consider we asked $10^6$ (1 million) people the amount of money people had, where 1 person had 1 million dollars and everyone had 0. \n",
    "\n",
    "$$\\large \\underbrace{0, 0, 0, \\cdots, 0}_{10^6-1}, 10^6$$\n",
    "\n",
    "This is a fat tail distribution because the chance of ramdomly picking the million dollar person is very unlikely. It is more likely to pick someone with 0 dollars. But when you do sample the person with a million dollars, it completely changes the average of the population, i.e. it changes the statistics of the population.\n",
    "\n",
    "So what is happening is that, although the million dollar person is more unlikely to occur, when it does occur it completely changes the behaviour of the population. Meaning that all the information is actually occuring at the tails, not in the center.\n",
    "\n",
    "How this applies to us is that market returns are fat tailed. In particular when we look at CBA returns vs gaussian distribution"
   ]
  },
  {
   "cell_type": "code",
   "execution_count": 29,
   "metadata": {},
   "outputs": [
    {
     "data": {
      "image/png": "[encoded data removed]",
      "text/plain": [
       "<Figure size 720x432 with 1 Axes>"
      ]
     },
     "metadata": {
      "needs_background": "light"
     },
     "output_type": "display_data"
    }
   ],
   "source": [
    "plt.figure(figsize=(10, 6))\n",
    "\n",
    "r.plot.kde(label=\"CBA KDE\")\n",
    "plt.title('Density Plots of Percentage Log-Returns')\n",
    "plt.xlim(-6, 6) # NB these liimts are approx the min, max of the data\n",
    "\n",
    "x = np.linspace(-6, 6, 200)\n",
    "plt.plot(x, stats.norm.pdf(x, np.mean(r), np.std(r)), label='Gaussian KDE')\n",
    "\n",
    "plt.legend();"
   ]
  },
  {
   "cell_type": "markdown",
   "metadata": {},
   "source": [
    "We can see that CBA's returns is actually more likely to stay around the average returns (0.05%), than a normal distribution will. But you can also see that the black swan events, the events far from the average (at $\\pm 4$), do occur and when they do occur they will have effects on the returns."
   ]
  },
  {
   "cell_type": "code",
   "execution_count": 30,
   "metadata": {},
   "outputs": [
    {
     "data": {
      "text/plain": [
       "0.05642427457699737"
      ]
     },
     "execution_count": 30,
     "metadata": {},
     "output_type": "execute_result"
    }
   ],
   "source": [
    "np.mean(r)"
   ]
  },
  {
   "cell_type": "markdown",
   "metadata": {},
   "source": [
    "### Extreme tails\n",
    "For financial return series, we are often interested in the extreme tails of the return distribution for risk modelling purposes. The `stats` module of the `scipy` library offers a range of useful functions for calculations involving statistical distributions. E.g., by default, `norm.ppf` and `t.ppf` are the quantile functions (also called the inverse CDF) of the standard Gaussian and Student-t (in standardised form) distributions, respectively. Please refer to the documentation of `scipy.stats` for more details: https://docs.scipy.org/doc/scipy/reference/generated/scipy.stats.t.html\n",
    "\n",
    "Note that you can standardise returns via\n",
    "$$r_t^{\\mathrm{std}} = \\frac{r_t - \\bar{r}}{s_r},$$\n",
    "where $\\bar{r}$ is the sample mean and $s_r$ is the sample standard deviation. "
   ]
  },
  {
   "cell_type": "markdown",
   "metadata": {},
   "source": [
    "#### Why do we want to standardise returns\n",
    "\n",
    "This is a concept that we will encounter a lot in this course. Suppose $r_t$ followed some distribution (could be any distribution) with a mean of $\\mu$ and variance of $\\sigma^2$. So let us write this as $r_t\\sim D(\\mu,\\sigma^2)$. Again, $D$ can be any distribution, it can be a normal distribution $\\mathcal{N}(\\mu,\\sigma^2)$ or a students-t distribution $t_\\nu(\\mu,\\sigma^2)$, or something else, it doesn't matter.\n",
    "\n",
    "When we standardise the returns by\n",
    "$$\\hat{r}=\\frac{r-\\mu}{\\sigma},\\quad\\textrm{where}\\ r\\sim D(\\mu, \\sigma^2)$$\n",
    "it turns out, by basic math, that\n",
    "$$\\hat{r}\\sim D(0, 1)$$\n",
    "so the standardised returns now has a mean of 0, and a variance of 1. Thats it!\n",
    "\n",
    "So the reason why we typically work with the standardised returns is because the mean is 0, and variance is 1. This makes it much easier to work with than $r$ which has a mean of $\\mu$ and variance of $\\sigma^2$."
   ]
  },
  {
   "cell_type": "code",
   "execution_count": 34,
   "metadata": {},
   "outputs": [],
   "source": [
    "r_vec = r\n",
    "r_std = (r_vec - np.mean(r_vec)) / np.std(r_vec)"
   ]
  },
  {
   "cell_type": "code",
   "execution_count": 32,
   "metadata": {},
   "outputs": [
    {
     "name": "stdout",
     "output_type": "stream",
     "text": [
      "CBA Sampled Quantile : -5.3683453121851\n",
      "Gaussian Quantile    : -3.090232306167813\n",
      "Students-t Quantile  : -5.207626238838043\n"
     ]
    }
   ],
   "source": [
    "quantile = 0.001\n",
    "print(\"CBA Sampled Quantile :\", np.quantile(r_std, quantile))\n",
    "print(\"Gaussian Quantile    :\", stats.norm.ppf(quantile))\n",
    "print(\"Students-t Quantile  :\", stats.t.ppf(quantile, df=6))"
   ]
  },
  {
   "cell_type": "code",
   "execution_count": 33,
   "metadata": {},
   "outputs": [
    {
     "name": "stdout",
     "output_type": "stream",
     "text": [
      "CBA Sampled Quantile : 4.626743017053581\n",
      "Gaussian Quantile    : 3.090232306167813\n",
      "Students-t Quantile  : 4.500790933725044\n"
     ]
    }
   ],
   "source": [
    "quantile = 0.999\n",
    "print(\"CBA Sampled Quantile :\", np.quantile(r_std, quantile))\n",
    "print(\"Gaussian Quantile    :\", stats.norm.ppf(quantile))\n",
    "print(\"Students-t Quantile  :\", stats.t.ppf(quantile, df=8))"
   ]
  },
  {
   "cell_type": "markdown",
   "metadata": {},
   "source": [
    "Recognise that it is at these extreme quantiles that we really care about, because it is events at these quantiles that will affect the statistical properties of the returns (fat tail behaviour)."
   ]
  },
  {
   "cell_type": "markdown",
   "metadata": {},
   "source": [
    "**Question:** Which distribution above is more suited for modelling the tails of CBA returns?\n",
    "\n",
    "**Answer guide** Clearly, a Student-t distribution with 6 or 8 degrees of freedom gives closer estimates of the 0.1 and 99.9 percentiles of gthe CBA return data, compared to a Gaussian distribution.\n",
    "\n",
    "**Question:** What return might an investor expect to suffer on only 0.1% of days when investing in CBA stock? Calculate this under the two distributions used above and compare with the empirical quantile answer (much further) above."
   ]
  },
  {
   "cell_type": "markdown",
   "metadata": {},
   "source": [
    "**Question:** Do you think the log prices of CBA follow a Gaussian RW model?"
   ]
  }
 ],
 "metadata": {
  "kernelspec": {
   "display_name": "Python 3",
   "language": "python",
   "name": "python3"
  },
  "language_info": {
   "codemirror_mode": {
    "name": "ipython",
    "version": 3
   },
   "file_extension": ".py",
   "mimetype": "text/x-python",
   "name": "python",
   "nbconvert_exporter": "python",
   "pygments_lexer": "ipython3",
   "version": "3.7.6"
  }
 },
 "nbformat": 4,
 "nbformat_minor": 4
}

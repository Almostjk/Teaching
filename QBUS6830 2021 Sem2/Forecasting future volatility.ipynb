{
 "cells": [
  {
   "cell_type": "code",
   "execution_count": 1,
   "metadata": {},
   "outputs": [],
   "source": [
    "import pandas as pd\n",
    "import numpy as np\n",
    "import matplotlib.pyplot as plt\n",
    "\n",
    "import statsmodels.api as sm\n",
    "\n",
    "import yfinance as yf\n",
    "\n",
    "import os\n",
    "\n",
    "from arch import arch_model"
   ]
  },
  {
   "cell_type": "code",
   "execution_count": 2,
   "metadata": {},
   "outputs": [],
   "source": [
    "# Download data automatically if file not present\n",
    "name_bhp = 'bhp_yf_2000_2021.csv'\n",
    "\n",
    "# BHP\n",
    "if not os.path.isfile(name_bhp):\n",
    "    data_bhp = yf.download(\"BHP.AX\", start='2000-01-01', end='2021-07-20')\n",
    "    data_bhp.to_csv(name_bhp)\n",
    "    \n",
    "data = pd.read_csv(name_bhp, index_col='Date', parse_dates=True, dayfirst=True)"
   ]
  },
  {
   "cell_type": "code",
   "execution_count": 3,
   "metadata": {},
   "outputs": [],
   "source": [
    "# It is actually not necessary to truncate the return\n",
    "# series; we do it to speed up the forecasting later.\n",
    "p = data['Adj Close']\n",
    "r_all = 100 * np.log(p).diff().dropna()\n",
    "r = r_all[:'2017-10-16']"
   ]
  },
  {
   "cell_type": "code",
   "execution_count": 4,
   "metadata": {},
   "outputs": [],
   "source": [
    "garch_t = arch_model(r, mean='Constant', vol='GARCH', p=1, q=1, dist='StudentsT')\n",
    "garch_t_fit = garch_t.fit( disp= 'off' )\n",
    "\n",
    "gjr_t = arch_model(r, mean='Constant', vol='GARCH', p=1, o=1, q=1, dist='StudentsT')\n",
    "gjr_t_fit = gjr_t.fit( disp= 'off' )\n",
    "\n",
    "egarch_n = arch_model(r, mean='Constant', vol='EGARCH', p=1, o=1, q=1, dist='normal')\n",
    "egarch_n_fit = egarch_n.fit( disp= 'off' )\n",
    "\n",
    "egarch_t = arch_model(r, mean='Constant', vol='EGARCH', p=1, o=1, q=1, dist='StudentsT')\n",
    "egarch_t_fit = egarch_t.fit( disp= 'off' )"
   ]
  },
  {
   "cell_type": "code",
   "execution_count": 5,
   "metadata": {},
   "outputs": [],
   "source": [
    "h = len(r_all['2017-10-17':])\n",
    "f_garch_t = garch_t_fit.forecast(\n",
    "    horizon=h, align='origin', reindex=False).variance.values.T"
   ]
  },
  {
   "cell_type": "markdown",
   "metadata": {},
   "source": [
    "### GARCH(1, 1)-t\n",
    "$$\\sigma_t^2 = 0.0246 + 0.0541a_{t-1}^2 + 0.9391\\sigma_{t-1}^2$$\n",
    "\n",
    "$$\\mathbb{E}[\\sigma_t^2] = 0.0246 + (0.0541 + 0.9391)\\mathbb{E}[\\sigma_{t-1}^2]$$"
   ]
  },
  {
   "cell_type": "code",
   "execution_count": 6,
   "metadata": {
    "scrolled": true
   },
   "outputs": [
    {
     "name": "stdout",
     "output_type": "stream",
     "text": [
      "                        Constant Mean - GARCH Model Results                         \n",
      "====================================================================================\n",
      "Dep. Variable:                    Adj Close   R-squared:                       0.000\n",
      "Mean Model:                   Constant Mean   Adj. R-squared:                  0.000\n",
      "Vol Model:                            GARCH   Log-Likelihood:               -8816.38\n",
      "Distribution:      Standardized Student's t   AIC:                           17642.8\n",
      "Method:                  Maximum Likelihood   BIC:                           17674.8\n",
      "                                              No. Observations:                 4500\n",
      "Date:                      Fri, Oct 29 2021   Df Residuals:                     4499\n",
      "Time:                              11:09:31   Df Model:                            1\n",
      "                                Mean Model                                \n",
      "==========================================================================\n",
      "                 coef    std err          t      P>|t|    95.0% Conf. Int.\n",
      "--------------------------------------------------------------------------\n",
      "mu             0.0640  2.270e-02      2.818  4.836e-03 [1.947e-02,  0.108]\n",
      "                              Volatility Model                              \n",
      "============================================================================\n",
      "                 coef    std err          t      P>|t|      95.0% Conf. Int.\n",
      "----------------------------------------------------------------------------\n",
      "omega          0.0246  8.562e-03      2.868  4.131e-03 [7.775e-03,4.134e-02]\n",
      "alpha[1]       0.0541  7.399e-03      7.309  2.687e-13 [3.958e-02,6.858e-02]\n",
      "beta[1]        0.9391  8.399e-03    111.818      0.000     [  0.923,  0.956]\n",
      "                              Distribution                              \n",
      "========================================================================\n",
      "                 coef    std err          t      P>|t|  95.0% Conf. Int.\n",
      "------------------------------------------------------------------------\n",
      "nu            13.6314      2.328      5.856  4.747e-09 [  9.069, 18.194]\n",
      "========================================================================\n",
      "\n",
      "Covariance estimator: robust\n"
     ]
    }
   ],
   "source": [
    "print(garch_t_fit.summary())"
   ]
  },
  {
   "cell_type": "code",
   "execution_count": 35,
   "metadata": {},
   "outputs": [],
   "source": [
    "a0 = garch_t_fit.params['omega']\n",
    "a1 = garch_t_fit.params['alpha[1]']\n",
    "b1 = garch_t_fit.params['beta[1]']"
   ]
  },
  {
   "cell_type": "code",
   "execution_count": 36,
   "metadata": {},
   "outputs": [],
   "source": [
    "val = {}\n",
    "\n",
    "val[\"a_{t-1}\"] = garch_t_fit.resid[-1]\n",
    "val[\"σ_{t-1}\"] = garch_t_fit.conditional_volatility[-1]"
   ]
  },
  {
   "cell_type": "code",
   "execution_count": 37,
   "metadata": {},
   "outputs": [
    {
     "data": {
      "text/plain": [
       "{'a_{t-1}': 2.1495878884992825, 'σ_{t-1}': 1.1158072006467992}"
      ]
     },
     "execution_count": 37,
     "metadata": {},
     "output_type": "execute_result"
    }
   ],
   "source": [
    "val"
   ]
  },
  {
   "cell_type": "code",
   "execution_count": 38,
   "metadata": {},
   "outputs": [
    {
     "data": {
      "text/plain": [
       "1.4436536035059597"
      ]
     },
     "execution_count": 38,
     "metadata": {},
     "output_type": "execute_result"
    }
   ],
   "source": [
    "# First prediction if the previous shock and std are known\n",
    "a0 + a1 * (val[\"a_{t-1}\"] ** 2) + b1 * (val[\"σ_{t-1}\"] ** 2)"
   ]
  },
  {
   "cell_type": "code",
   "execution_count": 39,
   "metadata": {},
   "outputs": [
    {
     "data": {
      "text/plain": [
       "1.4436413287851022"
      ]
     },
     "execution_count": 39,
     "metadata": {},
     "output_type": "execute_result"
    }
   ],
   "source": [
    "a0 + a1 * (2.1496 ** 2) + b1 * (1.1158**2)"
   ]
  },
  {
   "cell_type": "code",
   "execution_count": 44,
   "metadata": {},
   "outputs": [
    {
     "data": {
      "text/plain": [
       "1.5586598124861721"
      ]
     },
     "execution_count": 44,
     "metadata": {},
     "output_type": "execute_result"
    }
   ],
   "source": [
    "var = 1.5446255943779397\n",
    "a0 + a1 * var + b1 * var"
   ]
  },
  {
   "cell_type": "code",
   "execution_count": 41,
   "metadata": {},
   "outputs": [
    {
     "data": {
      "text/plain": [
       "array([1.4436536 , 1.45837564, 1.47299739, 1.48751954, 1.50194276,\n",
       "       1.51626773, 1.53049512, 1.5446256 , 1.55865981, 1.57259843])"
      ]
     },
     "execution_count": 41,
     "metadata": {},
     "output_type": "execute_result"
    }
   ],
   "source": [
    "f_garch_t[:10].flatten()"
   ]
  },
  {
   "cell_type": "markdown",
   "metadata": {},
   "source": [
    "\n",
    "\n",
    "### GJR(1)-GARCH(1, 1)-t\n",
    "$$\\sigma_t^2 = 0.0263 + 0.0353a_{t-1}^2 + (0.9404 + 0.0327I_{t-1})\\sigma_{t-1}^2$$\n",
    "\n",
    "$$\\mathbb{E}[\\sigma_t^2] = 0.0263 + (0.0353 + 0.9404 + 0.0327 \\times 0.5)\\mathbb{E}[\\sigma_{t-1}^2]$$"
   ]
  },
  {
   "cell_type": "code",
   "execution_count": 21,
   "metadata": {
    "scrolled": true
   },
   "outputs": [
    {
     "name": "stdout",
     "output_type": "stream",
     "text": [
      "                      Constant Mean - GJR-GARCH Model Results                       \n",
      "====================================================================================\n",
      "Dep. Variable:                    Adj Close   R-squared:                       0.000\n",
      "Mean Model:                   Constant Mean   Adj. R-squared:                  0.000\n",
      "Vol Model:                        GJR-GARCH   Log-Likelihood:               -8811.00\n",
      "Distribution:      Standardized Student's t   AIC:                           17634.0\n",
      "Method:                  Maximum Likelihood   BIC:                           17672.5\n",
      "                                              No. Observations:                 4500\n",
      "Date:                      Fri, Oct 29 2021   Df Residuals:                     4499\n",
      "Time:                              11:09:31   Df Model:                            1\n",
      "                                 Mean Model                                 \n",
      "============================================================================\n",
      "                 coef    std err          t      P>|t|      95.0% Conf. Int.\n",
      "----------------------------------------------------------------------------\n",
      "mu             0.0491  2.326e-02      2.111  3.474e-02 [3.523e-03,9.469e-02]\n",
      "                              Volatility Model                              \n",
      "============================================================================\n",
      "                 coef    std err          t      P>|t|      95.0% Conf. Int.\n",
      "----------------------------------------------------------------------------\n",
      "omega          0.0263  9.001e-03      2.921  3.488e-03 [8.651e-03,4.394e-02]\n",
      "alpha[1]       0.0353  7.643e-03      4.619  3.861e-06 [2.032e-02,5.028e-02]\n",
      "gamma[1]       0.0327  1.036e-02      3.151  1.625e-03 [1.234e-02,5.296e-02]\n",
      "beta[1]        0.9404  8.668e-03    108.490      0.000     [  0.923,  0.957]\n",
      "                              Distribution                              \n",
      "========================================================================\n",
      "                 coef    std err          t      P>|t|  95.0% Conf. Int.\n",
      "------------------------------------------------------------------------\n",
      "nu            13.9126      2.429      5.728  1.017e-08 [  9.152, 18.673]\n",
      "========================================================================\n",
      "\n",
      "Covariance estimator: robust\n"
     ]
    }
   ],
   "source": [
    "print(gjr_t_fit.summary())"
   ]
  },
  {
   "cell_type": "code",
   "execution_count": 22,
   "metadata": {},
   "outputs": [],
   "source": [
    "f_gjr_t = gjr_t_fit.forecast(\n",
    "    horizon=h, align='origin', reindex=False).variance.values.T"
   ]
  },
  {
   "cell_type": "code",
   "execution_count": 25,
   "metadata": {},
   "outputs": [],
   "source": [
    "# GJR-GARCH(1,1)\n",
    "a0 = gjr_t_fit.params['omega']\n",
    "a1 = gjr_t_fit.params['alpha[1]']\n",
    "b1 = gjr_t_fit.params['beta[1]']\n",
    "g1 = gjr_t_fit.params['gamma[1]']"
   ]
  },
  {
   "cell_type": "code",
   "execution_count": 26,
   "metadata": {},
   "outputs": [],
   "source": [
    "val = {}\n",
    "\n",
    "val[\"a_{t-1}\"] = gjr_t_fit.resid[-1]\n",
    "val[\"σ_{t-1}\"] = gjr_t_fit.conditional_volatility[-1]\n",
    "val[\"I_{t-1}\"] = 1 if (gjr_t_fit.resid[-1] < 0) else 0"
   ]
  },
  {
   "cell_type": "code",
   "execution_count": 28,
   "metadata": {},
   "outputs": [
    {
     "data": {
      "text/plain": [
       "1.4026563997768848"
      ]
     },
     "execution_count": 28,
     "metadata": {},
     "output_type": "execute_result"
    }
   ],
   "source": [
    "# First prediction \n",
    "a0 + (a1 + g1 * val[\"I_{t-1}\"]) * (val[\"a_{t-1}\"] ** 2) + (b1) * (val[\"σ_{t-1}\"] ** 2)"
   ]
  },
  {
   "cell_type": "code",
   "execution_count": 31,
   "metadata": {},
   "outputs": [
    {
     "data": {
      "text/plain": [
       "1.4474348617105408"
      ]
     },
     "execution_count": 31,
     "metadata": {},
     "output_type": "execute_result"
    }
   ],
   "source": [
    "# Forecasting variance when the shock and variance is not known\n",
    "forecasted_variance = 1.43262871\n",
    "a0 + (a1 + b1 + g1/2) * forecasted_variance"
   ]
  },
  {
   "cell_type": "code",
   "execution_count": 23,
   "metadata": {},
   "outputs": [
    {
     "data": {
      "text/plain": [
       "array([1.4026564 , 1.41770288, 1.43262871, 1.44743486, 1.46212229,\n",
       "       1.47669196, 1.4911448 , 1.50548176, 1.51970376, 1.53381172])"
      ]
     },
     "execution_count": 23,
     "metadata": {},
     "output_type": "execute_result"
    }
   ],
   "source": [
    "f_gjr_t[:10].flatten()"
   ]
  },
  {
   "cell_type": "markdown",
   "metadata": {},
   "source": [
    "# AR(1)-EGARCH(1, 0)\n",
    "\n",
    "$$\\log(\\sigma_{t+1}^2) = 0.0109 + 0.1108 a_{t-1} + 0.9909\\log(\\sigma_{t}^2) -0.0362(|a_{t-1}| - \\mathbb{E}[|a_{t-1}|]$$\n",
    "\n",
    "or\n",
    "\n",
    "$$\\sigma_{t+1}^2 = \\exp\\big[0.015335 + 0.98749\\, \\log(\\sigma_{t}^2)\\big]$$"
   ]
  },
  {
   "cell_type": "code",
   "execution_count": 25,
   "metadata": {},
   "outputs": [],
   "source": [
    "# GJR-GARCH(1,1)\n",
    "a0 = egarch_n_fit.params['omega']\n",
    "a1 = egarch_n_fit.params['alpha[1]']\n",
    "b1 = egarch_n_fit.params['beta[1]']\n",
    "g1 = egarch_n_fit.params['gamma[1]']"
   ]
  },
  {
   "cell_type": "code",
   "execution_count": 26,
   "metadata": {},
   "outputs": [],
   "source": [
    "val = {}\n",
    "\n",
    "val[\"a_{t-1}\"] = egarch_n_fit.resid[-1]\n",
    "val[\"σ_{t-1}\"] = egarch_n_fit.conditional_volatility[-1]"
   ]
  },
  {
   "cell_type": "code",
   "execution_count": 27,
   "metadata": {},
   "outputs": [
    {
     "data": {
      "text/plain": [
       "1.4475554594545732"
      ]
     },
     "execution_count": 27,
     "metadata": {},
     "output_type": "execute_result"
    }
   ],
   "source": [
    "val[\"log(σ_{t}^2)\"] = a0 + a1 * val[\"a_{t-1}\"] + b1 * np.log(val[\"σ_{t-1}\"] ** 2) + g1 * (abs(val[\"a_{t-1}\"]) - np.sqrt(2/np.pi))\n",
    "np.exp(val[\"log(σ_{t}^2)\"])"
   ]
  },
  {
   "cell_type": "markdown",
   "metadata": {},
   "source": [
    "$$\\mathbb{E}[|a|] = \\sqrt{\\frac{2}{\\pi}}$$\n",
    "if $|a|\\sim\\mathcal{N}(0, 1)$"
   ]
  },
  {
   "cell_type": "code",
   "execution_count": 20,
   "metadata": {
    "scrolled": true
   },
   "outputs": [
    {
     "data": {
      "text/plain": [
       "array([[1.22814162]])"
      ]
     },
     "execution_count": 20,
     "metadata": {},
     "output_type": "execute_result"
    }
   ],
   "source": [
    "f_egarch_t = egarch_t_fit.forecast(horizon=1, align='origin', reindex=False).variance.values.T\n",
    "f_egarch_t"
   ]
  },
  {
   "cell_type": "code",
   "execution_count": null,
   "metadata": {},
   "outputs": [],
   "source": []
  }
 ],
 "metadata": {
  "kernelspec": {
   "display_name": "Python 3",
   "language": "python",
   "name": "python3"
  },
  "language_info": {
   "codemirror_mode": {
    "name": "ipython",
    "version": 3
   },
   "file_extension": ".py",
   "mimetype": "text/x-python",
   "name": "python",
   "nbconvert_exporter": "python",
   "pygments_lexer": "ipython3",
   "version": "3.7.6"
  }
 },
 "nbformat": 4,
 "nbformat_minor": 4
}

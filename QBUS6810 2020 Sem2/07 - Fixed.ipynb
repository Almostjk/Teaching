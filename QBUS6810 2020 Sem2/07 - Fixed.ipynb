{
 "cells": [
  {
   "cell_type": "markdown",
   "metadata": {},
   "source": [
    "<img align=\"center\" src=\"http://sydney.edu.au/images/content/about/logo-mono.jpg\">\n",
    "<h1 align=\"center\" style=\"margin-top:10px\">Statistical Learning and Data Mining</h1>\n",
    "<h2 align=\"center\" style=\"margin-top:20px\">Tutorial 7: Model Selection </h2>\n",
    "<br>\n",
    "\n",
    "\n",
    "The tutorial on linear regression and k-Nearest Neighbours left us with two important questions: how many neighbours should we use in the kNN method? What should be our final model? In this lesson we use cross-validation to address these questions. \n",
    "\n",
    "<a href=\"#1.-Credit-card-data\">Credit card data</a> <br>\n",
    "<a href=\"#2.-Cross-validation\">Cross-validation</a> <br>\n",
    "<a href=\"#3.-Hyperparameter-optimisation\">Hyperparameter optimisation</a> <br>\n",
    "<a href=\"#4.-Feature-selection\">Feature selection</a> <br>\n",
    "<a href=\"#5.-Model-stacking\">Model stacking</a> <br>\n",
    "<a href=\"#6.-Evaluation\">Evaluation</a> <br>\n",
    "<a href=\"#7.-Further tasks\">Further tasks</a> <br>\n",
    "\n",
    "This notebook relies on the following imports and settings. We will load new functions and libraries in context to make clear what we are using them for. "
   ]
  },
  {
   "cell_type": "code",
   "execution_count": 105,
   "metadata": {},
   "outputs": [],
   "source": [
    "# Packages\n",
    "import pandas as pd\n",
    "import numpy as np\n",
    "import matplotlib.pyplot as plt\n",
    "import seaborn as sns\n",
    "import warnings\n",
    "warnings.filterwarnings('ignore') \n",
    "# this is to clear the warnings from this page, usually we should leave this on"
   ]
  },
  {
   "cell_type": "code",
   "execution_count": 106,
   "metadata": {},
   "outputs": [],
   "source": [
    "# Plot settings\n",
    "sns.set_context('notebook') # optimises figures for notebook display\n",
    "sns.set_style('ticks') # set default plot style\n",
    "colours = ['#4E79A7','#F28E2C','#E15759','#76B7B2','#59A14F', \n",
    "          '#EDC949','#AF7AA1','#FF9DA7','#9C755F','#BAB0AB']\n",
    "sns.set_palette(colours) # set custom color scheme\n",
    "%matplotlib inline\n",
    "plt.rcParams['figure.figsize'] = (9, 6)"
   ]
  },
  {
   "cell_type": "code",
   "execution_count": 107,
   "metadata": {},
   "outputs": [
    {
     "data": {
      "text/html": [
       "        <script type=\"text/javascript\">\n",
       "        window.PlotlyConfig = {MathJaxConfig: 'local'};\n",
       "        if (window.MathJax) {MathJax.Hub.Config({SVG: {font: \"STIX-Web\"}});}\n",
       "        if (typeof require !== 'undefined') {\n",
       "        require.undef(\"plotly\");\n",
       "        requirejs.config({\n",
       "            paths: {\n",
       "                'plotly': ['https://cdn.plot.ly/plotly-latest.min']\n",
       "            }\n",
       "        });\n",
       "        require(['plotly'], function(Plotly) {\n",
       "            window._Plotly = Plotly;\n",
       "        });\n",
       "        }\n",
       "        </script>\n",
       "        "
      ]
     },
     "metadata": {},
     "output_type": "display_data"
    }
   ],
   "source": [
    "import plotly.express as px\n",
    "from plotly.offline import init_notebook_mode\n",
    "init_notebook_mode(connected = True)"
   ]
  },
  {
   "cell_type": "code",
   "execution_count": 108,
   "metadata": {},
   "outputs": [],
   "source": [
    "# Learning algorithms\n",
    "from sklearn.neighbors import KNeighborsRegressor\n",
    "from sklearn.linear_model import LinearRegression\n",
    "\n",
    "# Metrics\n",
    "from sklearn.metrics import mean_squared_error, r2_score,  mean_absolute_error\n",
    "\n",
    "# Scaler\n",
    "from sklearn.preprocessing import StandardScaler"
   ]
  },
  {
   "cell_type": "markdown",
   "metadata": {},
   "source": [
    "## 1. Credit Card Data\n",
    "\n",
    "We again use the `Credit` dataset. Here we simply repeat the steps from the previous notebook to load and process the data. "
   ]
  },
  {
   "cell_type": "code",
   "execution_count": 109,
   "metadata": {},
   "outputs": [
    {
     "data": {
      "text/html": [
       "<div>\n",
       "<style scoped>\n",
       "    .dataframe tbody tr th:only-of-type {\n",
       "        vertical-align: middle;\n",
       "    }\n",
       "\n",
       "    .dataframe tbody tr th {\n",
       "        vertical-align: top;\n",
       "    }\n",
       "\n",
       "    .dataframe thead th {\n",
       "        text-align: right;\n",
       "    }\n",
       "</style>\n",
       "<table border=\"1\" class=\"dataframe\">\n",
       "  <thead>\n",
       "    <tr style=\"text-align: right;\">\n",
       "      <th></th>\n",
       "      <th>Income</th>\n",
       "      <th>Limit</th>\n",
       "      <th>Rating</th>\n",
       "      <th>Cards</th>\n",
       "      <th>Age</th>\n",
       "      <th>Education</th>\n",
       "      <th>Gender</th>\n",
       "      <th>Student</th>\n",
       "      <th>Married</th>\n",
       "      <th>Ethnicity</th>\n",
       "      <th>Balance</th>\n",
       "      <th>Male</th>\n",
       "      <th>Caucasian</th>\n",
       "      <th>Asian</th>\n",
       "    </tr>\n",
       "    <tr>\n",
       "      <th>Obs</th>\n",
       "      <th></th>\n",
       "      <th></th>\n",
       "      <th></th>\n",
       "      <th></th>\n",
       "      <th></th>\n",
       "      <th></th>\n",
       "      <th></th>\n",
       "      <th></th>\n",
       "      <th></th>\n",
       "      <th></th>\n",
       "      <th></th>\n",
       "      <th></th>\n",
       "      <th></th>\n",
       "      <th></th>\n",
       "    </tr>\n",
       "  </thead>\n",
       "  <tbody>\n",
       "    <tr>\n",
       "      <th>400</th>\n",
       "      <td>18.701</td>\n",
       "      <td>5524</td>\n",
       "      <td>415</td>\n",
       "      <td>5</td>\n",
       "      <td>64</td>\n",
       "      <td>7</td>\n",
       "      <td>Female</td>\n",
       "      <td>0</td>\n",
       "      <td>0</td>\n",
       "      <td>Asian</td>\n",
       "      <td>966</td>\n",
       "      <td>0</td>\n",
       "      <td>0</td>\n",
       "      <td>1</td>\n",
       "    </tr>\n",
       "    <tr>\n",
       "      <th>26</th>\n",
       "      <td>14.090</td>\n",
       "      <td>4323</td>\n",
       "      <td>326</td>\n",
       "      <td>5</td>\n",
       "      <td>25</td>\n",
       "      <td>16</td>\n",
       "      <td>Female</td>\n",
       "      <td>0</td>\n",
       "      <td>1</td>\n",
       "      <td>African American</td>\n",
       "      <td>671</td>\n",
       "      <td>0</td>\n",
       "      <td>0</td>\n",
       "      <td>0</td>\n",
       "    </tr>\n",
       "    <tr>\n",
       "      <th>280</th>\n",
       "      <td>54.319</td>\n",
       "      <td>3063</td>\n",
       "      <td>248</td>\n",
       "      <td>3</td>\n",
       "      <td>59</td>\n",
       "      <td>8</td>\n",
       "      <td>Female</td>\n",
       "      <td>1</td>\n",
       "      <td>0</td>\n",
       "      <td>Caucasian</td>\n",
       "      <td>269</td>\n",
       "      <td>0</td>\n",
       "      <td>1</td>\n",
       "      <td>0</td>\n",
       "    </tr>\n",
       "    <tr>\n",
       "      <th>261</th>\n",
       "      <td>67.937</td>\n",
       "      <td>5184</td>\n",
       "      <td>383</td>\n",
       "      <td>4</td>\n",
       "      <td>63</td>\n",
       "      <td>12</td>\n",
       "      <td>Male</td>\n",
       "      <td>0</td>\n",
       "      <td>1</td>\n",
       "      <td>Asian</td>\n",
       "      <td>345</td>\n",
       "      <td>1</td>\n",
       "      <td>0</td>\n",
       "      <td>1</td>\n",
       "    </tr>\n",
       "    <tr>\n",
       "      <th>131</th>\n",
       "      <td>23.793</td>\n",
       "      <td>3821</td>\n",
       "      <td>281</td>\n",
       "      <td>4</td>\n",
       "      <td>56</td>\n",
       "      <td>12</td>\n",
       "      <td>Female</td>\n",
       "      <td>1</td>\n",
       "      <td>1</td>\n",
       "      <td>African American</td>\n",
       "      <td>868</td>\n",
       "      <td>0</td>\n",
       "      <td>0</td>\n",
       "      <td>0</td>\n",
       "    </tr>\n",
       "  </tbody>\n",
       "</table>\n",
       "</div>"
      ],
      "text/plain": [
       "     Income  Limit  Rating  Cards  Age  Education  Gender  Student  Married  \\\n",
       "Obs                                                                           \n",
       "400  18.701   5524     415      5   64          7  Female        0        0   \n",
       "26   14.090   4323     326      5   25         16  Female        0        1   \n",
       "280  54.319   3063     248      3   59          8  Female        1        0   \n",
       "261  67.937   5184     383      4   63         12    Male        0        1   \n",
       "131  23.793   3821     281      4   56         12  Female        1        1   \n",
       "\n",
       "            Ethnicity  Balance  Male  Caucasian  Asian  \n",
       "Obs                                                     \n",
       "400             Asian      966     0          0      1  \n",
       "26   African American      671     0          0      0  \n",
       "280         Caucasian      269     0          1      0  \n",
       "261             Asian      345     1          0      1  \n",
       "131  African American      868     0          0      0  "
      ]
     },
     "execution_count": 109,
     "metadata": {},
     "output_type": "execute_result"
    }
   ],
   "source": [
    "train=pd.read_hdf('Data/Credit.h5', 'train')\n",
    "test=pd.read_hdf('Data/Credit.h5', 'test')\n",
    "train.head(5) "
   ]
  },
  {
   "cell_type": "code",
   "execution_count": 111,
   "metadata": {},
   "outputs": [
    {
     "data": {
      "text/html": [
       "<div>\n",
       "<style scoped>\n",
       "    .dataframe tbody tr th:only-of-type {\n",
       "        vertical-align: middle;\n",
       "    }\n",
       "\n",
       "    .dataframe tbody tr th {\n",
       "        vertical-align: top;\n",
       "    }\n",
       "\n",
       "    .dataframe thead th {\n",
       "        text-align: right;\n",
       "    }\n",
       "</style>\n",
       "<table border=\"1\" class=\"dataframe\">\n",
       "  <thead>\n",
       "    <tr style=\"text-align: right;\">\n",
       "      <th></th>\n",
       "      <th>Income</th>\n",
       "      <th>Limit</th>\n",
       "      <th>Cards</th>\n",
       "      <th>Age</th>\n",
       "      <th>Education</th>\n",
       "      <th>Student</th>\n",
       "      <th>Married</th>\n",
       "      <th>Balance</th>\n",
       "      <th>Male</th>\n",
       "      <th>Caucasian</th>\n",
       "      <th>Asian</th>\n",
       "    </tr>\n",
       "    <tr>\n",
       "      <th>Obs</th>\n",
       "      <th></th>\n",
       "      <th></th>\n",
       "      <th></th>\n",
       "      <th></th>\n",
       "      <th></th>\n",
       "      <th></th>\n",
       "      <th></th>\n",
       "      <th></th>\n",
       "      <th></th>\n",
       "      <th></th>\n",
       "      <th></th>\n",
       "    </tr>\n",
       "  </thead>\n",
       "  <tbody>\n",
       "    <tr>\n",
       "      <th>400</th>\n",
       "      <td>18.701</td>\n",
       "      <td>5524</td>\n",
       "      <td>5</td>\n",
       "      <td>64</td>\n",
       "      <td>7</td>\n",
       "      <td>0</td>\n",
       "      <td>0</td>\n",
       "      <td>966</td>\n",
       "      <td>0</td>\n",
       "      <td>0</td>\n",
       "      <td>1</td>\n",
       "    </tr>\n",
       "    <tr>\n",
       "      <th>26</th>\n",
       "      <td>14.090</td>\n",
       "      <td>4323</td>\n",
       "      <td>5</td>\n",
       "      <td>25</td>\n",
       "      <td>16</td>\n",
       "      <td>0</td>\n",
       "      <td>1</td>\n",
       "      <td>671</td>\n",
       "      <td>0</td>\n",
       "      <td>0</td>\n",
       "      <td>0</td>\n",
       "    </tr>\n",
       "    <tr>\n",
       "      <th>280</th>\n",
       "      <td>54.319</td>\n",
       "      <td>3063</td>\n",
       "      <td>3</td>\n",
       "      <td>59</td>\n",
       "      <td>8</td>\n",
       "      <td>1</td>\n",
       "      <td>0</td>\n",
       "      <td>269</td>\n",
       "      <td>0</td>\n",
       "      <td>1</td>\n",
       "      <td>0</td>\n",
       "    </tr>\n",
       "    <tr>\n",
       "      <th>261</th>\n",
       "      <td>67.937</td>\n",
       "      <td>5184</td>\n",
       "      <td>4</td>\n",
       "      <td>63</td>\n",
       "      <td>12</td>\n",
       "      <td>0</td>\n",
       "      <td>1</td>\n",
       "      <td>345</td>\n",
       "      <td>1</td>\n",
       "      <td>0</td>\n",
       "      <td>1</td>\n",
       "    </tr>\n",
       "    <tr>\n",
       "      <th>131</th>\n",
       "      <td>23.793</td>\n",
       "      <td>3821</td>\n",
       "      <td>4</td>\n",
       "      <td>56</td>\n",
       "      <td>12</td>\n",
       "      <td>1</td>\n",
       "      <td>1</td>\n",
       "      <td>868</td>\n",
       "      <td>0</td>\n",
       "      <td>0</td>\n",
       "      <td>0</td>\n",
       "    </tr>\n",
       "  </tbody>\n",
       "</table>\n",
       "</div>"
      ],
      "text/plain": [
       "     Income  Limit  Cards  Age  Education  Student  Married  Balance  Male  \\\n",
       "Obs                                                                          \n",
       "400  18.701   5524      5   64          7        0        0      966     0   \n",
       "26   14.090   4323      5   25         16        0        1      671     0   \n",
       "280  54.319   3063      3   59          8        1        0      269     0   \n",
       "261  67.937   5184      4   63         12        0        1      345     1   \n",
       "131  23.793   3821      4   56         12        1        1      868     0   \n",
       "\n",
       "     Caucasian  Asian  \n",
       "Obs                    \n",
       "400          0      1  \n",
       "26           0      0  \n",
       "280          1      0  \n",
       "261          0      1  \n",
       "131          0      0  "
      ]
     },
     "execution_count": 111,
     "metadata": {},
     "output_type": "execute_result"
    }
   ],
   "source": [
    "keep_columns = ['Income', 'Limit', 'Cards', 'Age', 'Education', 'Student', \n",
    "                                                        'Married', 'Balance', 'Male', 'Caucasian', 'Asian']\n",
    "train = train.drop(columns = [c for c in train.columns if c not in keep_columns])\n",
    "train.head()"
   ]
  },
  {
   "cell_type": "markdown",
   "metadata": {},
   "source": [
    "We'll initially consider two predictors for illustrative purposes, the credit card limit and income. "
   ]
  },
  {
   "cell_type": "code",
   "execution_count": 112,
   "metadata": {},
   "outputs": [],
   "source": [
    "# Response label\n",
    "response = 'Balance'\n",
    "\n",
    "# Response vectors \n",
    "y_train = train[response]\n",
    "y_test = test[response]"
   ]
  },
  {
   "cell_type": "markdown",
   "metadata": {},
   "source": [
    "## 2. Cross-validation\n",
    "\n",
    "As our first illustration, let's consider the choice of the number of neighbours in the kNN method. We use [cross-validation](http://scikit-learn.org/stable/modules/cross_validation.html) to estimate the generalisation performance of the learning algorithm for different values of the hyperparameter.\n",
    "\n",
    "For purposes of this section, we'll focus on only two predictors."
   ]
  },
  {
   "cell_type": "code",
   "execution_count": 113,
   "metadata": {},
   "outputs": [],
   "source": [
    "predictors = ['Limit', 'Income'] \n",
    "X_train = train[predictors] "
   ]
  },
  {
   "cell_type": "markdown",
   "metadata": {},
   "source": [
    "### Aside - What is K-Fold Cross-Validation\n",
    "In K-Fold cross-validation, in this case 5-fold CV, we split the data up into 5 parts"
   ]
  },
  {
   "cell_type": "code",
   "execution_count": 9,
   "metadata": {},
   "outputs": [
    {
     "data": {
      "text/plain": [
       "array([  0.,  56., 112., 168., 224., 280.])"
      ]
     },
     "execution_count": 9,
     "metadata": {},
     "output_type": "execute_result"
    }
   ],
   "source": [
    "np.linspace(0, len(X_train), 6)"
   ]
  },
  {
   "cell_type": "code",
   "execution_count": 10,
   "metadata": {},
   "outputs": [
    {
     "name": "stdout",
     "output_type": "stream",
     "text": [
      "Fold 0: 0 - 56\n",
      "Fold 1: 56 - 112\n",
      "Fold 2: 112 - 168\n",
      "Fold 3: 168 - 224\n",
      "Fold 4: 224 - 280\n"
     ]
    }
   ],
   "source": [
    "X_fold = {}\n",
    "Y_fold = {}\n",
    "\n",
    "for i in range(5):\n",
    "    start, end = i*56, (i+1)*56\n",
    "    print(f'Fold {i}: {start} - {end}')\n",
    "    X_fold[i] = X_train.iloc[start : end]\n",
    "    Y_fold[i] = y_train.iloc[start : end]"
   ]
  },
  {
   "cell_type": "markdown",
   "metadata": {},
   "source": [
    "Importantly, notice how we only `fold` the training data, and don't touch the testing data.\n",
    "\n",
    "Then we will hold `Fold 0` for testing, and use `Fold 1, 2, 3, 4` for training."
   ]
  },
  {
   "cell_type": "code",
   "execution_count": 114,
   "metadata": {},
   "outputs": [
    {
     "name": "stdout",
     "output_type": "stream",
     "text": [
      "Fold 0 - R2 Score: 0.879\n"
     ]
    }
   ],
   "source": [
    "X_fold_CV  = X_fold[0]\n",
    "Y_fold_CV  = Y_fold[0]\n",
    "\n",
    "X_fold_train = pd.concat([X_fold[1], X_fold[2], X_fold[3], X_fold[4]])\n",
    "Y_fold_train = pd.concat([Y_fold[1], Y_fold[2], Y_fold[3], Y_fold[4]])\n",
    "\n",
    "model0 = LinearRegression().fit(X_fold_train, Y_fold_train)\n",
    "r_score = model0.score(X_fold_CV, Y_fold_CV)\n",
    "\n",
    "print(f'Fold 0 - R2 Score: {round(r_score, 3)}')"
   ]
  },
  {
   "cell_type": "markdown",
   "metadata": {},
   "source": [
    "Now we hold `Fold 1` for testing, and use `Fold 2, 3, 4, 0` for training, and repeat"
   ]
  },
  {
   "cell_type": "code",
   "execution_count": 115,
   "metadata": {},
   "outputs": [
    {
     "name": "stdout",
     "output_type": "stream",
     "text": [
      "Fold 1 - R2 Score: 0.893\n"
     ]
    }
   ],
   "source": [
    "X_fold_CV  = X_fold[1]\n",
    "Y_fold_CV  = Y_fold[1]\n",
    "\n",
    "X_fold_train = pd.concat([X_fold[2], X_fold[3], X_fold[4], X_fold[0]])\n",
    "Y_fold_train = pd.concat([Y_fold[2], Y_fold[3], Y_fold[4], Y_fold[0]])\n",
    "\n",
    "model0 = LinearRegression().fit(X_fold_train, Y_fold_train)\n",
    "r_score = model0.score(X_fold_CV, Y_fold_CV)\n",
    "\n",
    "print(f'Fold 1 - R2 Score: {round(r_score, 3)}')"
   ]
  },
  {
   "cell_type": "markdown",
   "metadata": {},
   "source": [
    "And Repeat!\n",
    "\n",
    "Don't worry about understanding this code, its a bit more involved but it should be simple enough to understand if you try to understand it by yourself."
   ]
  },
  {
   "cell_type": "code",
   "execution_count": 116,
   "metadata": {
    "code_folding": []
   },
   "outputs": [
    {
     "name": "stdout",
     "output_type": "stream",
     "text": [
      "Fold 0 - R2 Score: 0.879\n",
      "Fold 1 - R2 Score: 0.893\n",
      "Fold 2 - R2 Score: 0.901\n",
      "Fold 3 - R2 Score: 0.812\n",
      "Fold 4 - R2 Score: 0.899\n",
      "-------------------\n",
      "5 Fold CV Score - 0.877\n"
     ]
    }
   ],
   "source": [
    "r_scores = {}\n",
    "for k in range(5):\n",
    "    X_fold_CV = X_fold[k]\n",
    "    Y_fold_CV = Y_fold[k]\n",
    "    \n",
    "    X_fold_train = pd.concat([X_fold[i] for i in range(5) if i != k])\n",
    "    Y_fold_train = pd.concat([Y_fold[i] for i in range(5) if i != k])\n",
    "    \n",
    "    model = LinearRegression().fit(X_fold_train, Y_fold_train)\n",
    "    r_scores[k] = model.score(X_fold_CV, Y_fold_CV)\n",
    "    \n",
    "    print(f'Fold {k} - R2 Score: {round(r_scores[k], 3)}')\n",
    "    \n",
    "print('-------------------')\n",
    "\n",
    "average_r2 = np.mean([r_scores[k] for k in range(5)])\n",
    "print(f'5 Fold CV Score - {round(average_r2, 3)}')"
   ]
  },
  {
   "cell_type": "markdown",
   "metadata": {},
   "source": [
    "Note that K-Fold cross-validation doesn't care about what the underlying model is. So you can do this for ANY model, linear regression, k-nn, neural networks, etc. Moreover, the score of the model can also be anything. Meaning that you can compute the R2 score, RMSE, MAE, etc.\n",
    "\n",
    "But, we will now learn how to do this an easier way."
   ]
  },
  {
   "cell_type": "markdown",
   "metadata": {},
   "source": [
    "<h3 style=\"padding-bottom: 10px\">2.1 K-Fold Cross-Validation</h3>\n",
    "\n",
    "#### 2.1.1 Syntax\n",
    "\n",
    "The [<TT>cross_val_score</TT>](https://scikit-learn.org/stable/modules/generated/sklearn.model_selection.cross_val_score.html) function from Scikit-Learn allows to compute the cross-validation error of a model."
   ]
  },
  {
   "cell_type": "code",
   "execution_count": 119,
   "metadata": {},
   "outputs": [
    {
     "data": {
      "text/plain": [
       "array([-46938.3375    , -13504.56482143, -18188.13589286, -39258.8625    ,\n",
       "       -13452.49964286])"
      ]
     },
     "execution_count": 119,
     "metadata": {},
     "output_type": "execute_result"
    }
   ],
   "source": [
    "# Warning! This implementation assumes that the training rows are shuffled.  \n",
    "# Our train-test split already did that \n",
    "\n",
    "from sklearn.model_selection import cross_val_score\n",
    "\n",
    "knn = KNeighborsRegressor(n_neighbors=10, metric='mahalanobis', metric_params={'V': X_train.cov()})\n",
    "scores = cross_val_score(knn, X_train, y_train, cv = 5, scoring = 'neg_mean_squared_error')\n",
    "scores"
   ]
  },
  {
   "cell_type": "markdown",
   "metadata": {},
   "source": [
    "The `cv=5` option specifies the number of folds, while `scoring = 'neg_mean_squared_error'` specifies the evaluation criterion. The function returns the score for each fold. Below, we average the scores and obtain the cross-validation root mean squared error. "
   ]
  },
  {
   "cell_type": "code",
   "execution_count": 120,
   "metadata": {},
   "outputs": [
    {
     "name": "stdout",
     "output_type": "stream",
     "text": [
      "162.0755381648587\n"
     ]
    }
   ],
   "source": [
    "rmse = np.sqrt(-1*np.mean(scores))\n",
    "print(rmse)"
   ]
  },
  {
   "cell_type": "markdown",
   "metadata": {},
   "source": [
    "The scoring in Scikit-Learn follows the convention that higher score values are better. This is why the argument in the function is the negative mean squared error.  The scikit-learn [model evaluation](http://scikit-learn.org/stable/modules/model_evaluation.html) documentation provides a list of scoring options. It is useful to bookmark it for future reference. \n",
    "\n",
    "Often, the syntax is simplified by the fact that each method in scikit-learn has a default scoring method. In this case you have to consult the documentation to know what it is. For a [kNN regression](http://scikit-learn.org/stable/modules/generated/sklearn.neighbors.KNeighborsRegressor.html#sklearn.neighbors.KNeighborsRegressor) the default scoring is the r-squared.\n",
    "\n",
    "#### 2.1.2 Plotting the cross-validation error\n",
    "\n",
    "Let's apply what you've just learned plot the cross validation error as a function of the number of neighbours. \n",
    "\n",
    "\n",
    "## Aside\n",
    "How to understand this code. Easy! Let us just see what is happening in the for loop.\n",
    "\n",
    "\n",
    "`model = KNeighborsRegressor(n_neighbors= k, metric='mahalanobis', metric_params={'V': X_train.cov()}) `\n",
    "\n",
    "This line is saying that we are going to build a K-NN model with `k` neighbours.\n",
    "\n",
    "`scores = cross_val_score(model, X_train, y_train, cv=5, scoring = 'neg_mean_squared_error')`\n",
    "\n",
    "Then using that `model` we are going to compute the CV score.\n",
    "\n",
    "`rmse = np.sqrt(-1*np.mean(scores))`\n",
    "\n",
    "Compute the RMSE\n",
    "\n",
    "`cv_errors.append(rmse)`\n",
    "\n",
    "Appened the result to an list\n",
    "\n",
    "So, in totality, each for loop builds a K-NN model with `k` neighbours, compute the CV score, and save the results into a list. Note that the for loop loops through `ks = np.arnage(1,51)`. Hence it does this process for `k=1, 2, 3,...,50` neighbours."
   ]
  },
  {
   "cell_type": "code",
   "execution_count": 121,
   "metadata": {
    "code_folding": []
   },
   "outputs": [
    {
     "data": {
      "application/vnd.plotly.v1+json": {
       "config": {
        "plotlyServerURL": "https://plot.ly"
       },
       "data": [
        {
         "hovertemplate": "k=%{x}<br>RMSE=%{y}<extra></extra>",
         "legendgroup": "",
         "line": {
          "color": "#4C78A8",
          "dash": "solid"
         },
         "mode": "lines",
         "name": "",
         "orientation": "v",
         "showlegend": false,
         "type": "scatter",
         "x": [
          1,
          2,
          3,
          4,
          5,
          6,
          7,
          8,
          9,
          10,
          11,
          12,
          13,
          14,
          15,
          16,
          17,
          18,
          19,
          20,
          21,
          22,
          23,
          24,
          25,
          26,
          27,
          28,
          29,
          30,
          31,
          32,
          33,
          34,
          35,
          36,
          37,
          38,
          39,
          40,
          41,
          42,
          43,
          44,
          45,
          46,
          47,
          48,
          49,
          50
         ],
         "xaxis": "x",
         "y": [
          203.66264998766957,
          176.52425976537697,
          170.48738607159126,
          165.41332565295767,
          161.54807245611354,
          161.20866426014354,
          162.22865526447936,
          162.41087837696887,
          164.4442350384767,
          162.0755381648587,
          161.5845389359406,
          163.3501196275695,
          164.04512940083058,
          162.49208968187858,
          164.17573395312604,
          165.76869810769892,
          166.7101985825063,
          168.66723148184283,
          171.51958850867268,
          173.5475740405412,
          173.9952687958213,
          172.96132979850455,
          174.79004924522985,
          175.65737787955797,
          176.58980748778066,
          177.41472477738708,
          178.13380885046823,
          178.48544412011614,
          178.79412505467926,
          179.66361310241948,
          180.81653950982803,
          180.9814980122771,
          180.2198965916606,
          181.15597623465638,
          182.35995996129344,
          182.4996754424405,
          183.25789133062537,
          183.86753251124262,
          184.8090696770639,
          186.74067331247477,
          187.8244977251253,
          188.8755838210731,
          189.8582626977969,
          190.63111521729752,
          192.09799212506942,
          193.05025628453797,
          193.8446647989266,
          195.34090456549487,
          196.6163079530863,
          198.27087121626604
         ],
         "yaxis": "y"
        }
       ],
       "layout": {
        "height": 500,
        "legend": {
         "tracegroupgap": 0
        },
        "margin": {
         "t": 60
        },
        "template": {
         "data": {
          "bar": [
           {
            "error_x": {
             "color": "#2a3f5f"
            },
            "error_y": {
             "color": "#2a3f5f"
            },
            "marker": {
             "line": {
              "color": "white",
              "width": 0.5
             }
            },
            "type": "bar"
           }
          ],
          "barpolar": [
           {
            "marker": {
             "line": {
              "color": "white",
              "width": 0.5
             }
            },
            "type": "barpolar"
           }
          ],
          "carpet": [
           {
            "aaxis": {
             "endlinecolor": "#2a3f5f",
             "gridcolor": "#C8D4E3",
             "linecolor": "#C8D4E3",
             "minorgridcolor": "#C8D4E3",
             "startlinecolor": "#2a3f5f"
            },
            "baxis": {
             "endlinecolor": "#2a3f5f",
             "gridcolor": "#C8D4E3",
             "linecolor": "#C8D4E3",
             "minorgridcolor": "#C8D4E3",
             "startlinecolor": "#2a3f5f"
            },
            "type": "carpet"
           }
          ],
          "choropleth": [
           {
            "colorbar": {
             "outlinewidth": 0,
             "ticks": ""
            },
            "type": "choropleth"
           }
          ],
          "contour": [
           {
            "colorbar": {
             "outlinewidth": 0,
             "ticks": ""
            },
            "colorscale": [
             [
              0,
              "#0d0887"
             ],
             [
              0.1111111111111111,
              "#46039f"
             ],
             [
              0.2222222222222222,
              "#7201a8"
             ],
             [
              0.3333333333333333,
              "#9c179e"
             ],
             [
              0.4444444444444444,
              "#bd3786"
             ],
             [
              0.5555555555555556,
              "#d8576b"
             ],
             [
              0.6666666666666666,
              "#ed7953"
             ],
             [
              0.7777777777777778,
              "#fb9f3a"
             ],
             [
              0.8888888888888888,
              "#fdca26"
             ],
             [
              1,
              "#f0f921"
             ]
            ],
            "type": "contour"
           }
          ],
          "contourcarpet": [
           {
            "colorbar": {
             "outlinewidth": 0,
             "ticks": ""
            },
            "type": "contourcarpet"
           }
          ],
          "heatmap": [
           {
            "colorbar": {
             "outlinewidth": 0,
             "ticks": ""
            },
            "colorscale": [
             [
              0,
              "#0d0887"
             ],
             [
              0.1111111111111111,
              "#46039f"
             ],
             [
              0.2222222222222222,
              "#7201a8"
             ],
             [
              0.3333333333333333,
              "#9c179e"
             ],
             [
              0.4444444444444444,
              "#bd3786"
             ],
             [
              0.5555555555555556,
              "#d8576b"
             ],
             [
              0.6666666666666666,
              "#ed7953"
             ],
             [
              0.7777777777777778,
              "#fb9f3a"
             ],
             [
              0.8888888888888888,
              "#fdca26"
             ],
             [
              1,
              "#f0f921"
             ]
            ],
            "type": "heatmap"
           }
          ],
          "heatmapgl": [
           {
            "colorbar": {
             "outlinewidth": 0,
             "ticks": ""
            },
            "colorscale": [
             [
              0,
              "#0d0887"
             ],
             [
              0.1111111111111111,
              "#46039f"
             ],
             [
              0.2222222222222222,
              "#7201a8"
             ],
             [
              0.3333333333333333,
              "#9c179e"
             ],
             [
              0.4444444444444444,
              "#bd3786"
             ],
             [
              0.5555555555555556,
              "#d8576b"
             ],
             [
              0.6666666666666666,
              "#ed7953"
             ],
             [
              0.7777777777777778,
              "#fb9f3a"
             ],
             [
              0.8888888888888888,
              "#fdca26"
             ],
             [
              1,
              "#f0f921"
             ]
            ],
            "type": "heatmapgl"
           }
          ],
          "histogram": [
           {
            "marker": {
             "colorbar": {
              "outlinewidth": 0,
              "ticks": ""
             }
            },
            "type": "histogram"
           }
          ],
          "histogram2d": [
           {
            "colorbar": {
             "outlinewidth": 0,
             "ticks": ""
            },
            "colorscale": [
             [
              0,
              "#0d0887"
             ],
             [
              0.1111111111111111,
              "#46039f"
             ],
             [
              0.2222222222222222,
              "#7201a8"
             ],
             [
              0.3333333333333333,
              "#9c179e"
             ],
             [
              0.4444444444444444,
              "#bd3786"
             ],
             [
              0.5555555555555556,
              "#d8576b"
             ],
             [
              0.6666666666666666,
              "#ed7953"
             ],
             [
              0.7777777777777778,
              "#fb9f3a"
             ],
             [
              0.8888888888888888,
              "#fdca26"
             ],
             [
              1,
              "#f0f921"
             ]
            ],
            "type": "histogram2d"
           }
          ],
          "histogram2dcontour": [
           {
            "colorbar": {
             "outlinewidth": 0,
             "ticks": ""
            },
            "colorscale": [
             [
              0,
              "#0d0887"
             ],
             [
              0.1111111111111111,
              "#46039f"
             ],
             [
              0.2222222222222222,
              "#7201a8"
             ],
             [
              0.3333333333333333,
              "#9c179e"
             ],
             [
              0.4444444444444444,
              "#bd3786"
             ],
             [
              0.5555555555555556,
              "#d8576b"
             ],
             [
              0.6666666666666666,
              "#ed7953"
             ],
             [
              0.7777777777777778,
              "#fb9f3a"
             ],
             [
              0.8888888888888888,
              "#fdca26"
             ],
             [
              1,
              "#f0f921"
             ]
            ],
            "type": "histogram2dcontour"
           }
          ],
          "mesh3d": [
           {
            "colorbar": {
             "outlinewidth": 0,
             "ticks": ""
            },
            "type": "mesh3d"
           }
          ],
          "parcoords": [
           {
            "line": {
             "colorbar": {
              "outlinewidth": 0,
              "ticks": ""
             }
            },
            "type": "parcoords"
           }
          ],
          "pie": [
           {
            "automargin": true,
            "type": "pie"
           }
          ],
          "scatter": [
           {
            "marker": {
             "colorbar": {
              "outlinewidth": 0,
              "ticks": ""
             }
            },
            "type": "scatter"
           }
          ],
          "scatter3d": [
           {
            "line": {
             "colorbar": {
              "outlinewidth": 0,
              "ticks": ""
             }
            },
            "marker": {
             "colorbar": {
              "outlinewidth": 0,
              "ticks": ""
             }
            },
            "type": "scatter3d"
           }
          ],
          "scattercarpet": [
           {
            "marker": {
             "colorbar": {
              "outlinewidth": 0,
              "ticks": ""
             }
            },
            "type": "scattercarpet"
           }
          ],
          "scattergeo": [
           {
            "marker": {
             "colorbar": {
              "outlinewidth": 0,
              "ticks": ""
             }
            },
            "type": "scattergeo"
           }
          ],
          "scattergl": [
           {
            "marker": {
             "colorbar": {
              "outlinewidth": 0,
              "ticks": ""
             }
            },
            "type": "scattergl"
           }
          ],
          "scattermapbox": [
           {
            "marker": {
             "colorbar": {
              "outlinewidth": 0,
              "ticks": ""
             }
            },
            "type": "scattermapbox"
           }
          ],
          "scatterpolar": [
           {
            "marker": {
             "colorbar": {
              "outlinewidth": 0,
              "ticks": ""
             }
            },
            "type": "scatterpolar"
           }
          ],
          "scatterpolargl": [
           {
            "marker": {
             "colorbar": {
              "outlinewidth": 0,
              "ticks": ""
             }
            },
            "type": "scatterpolargl"
           }
          ],
          "scatterternary": [
           {
            "marker": {
             "colorbar": {
              "outlinewidth": 0,
              "ticks": ""
             }
            },
            "type": "scatterternary"
           }
          ],
          "surface": [
           {
            "colorbar": {
             "outlinewidth": 0,
             "ticks": ""
            },
            "colorscale": [
             [
              0,
              "#0d0887"
             ],
             [
              0.1111111111111111,
              "#46039f"
             ],
             [
              0.2222222222222222,
              "#7201a8"
             ],
             [
              0.3333333333333333,
              "#9c179e"
             ],
             [
              0.4444444444444444,
              "#bd3786"
             ],
             [
              0.5555555555555556,
              "#d8576b"
             ],
             [
              0.6666666666666666,
              "#ed7953"
             ],
             [
              0.7777777777777778,
              "#fb9f3a"
             ],
             [
              0.8888888888888888,
              "#fdca26"
             ],
             [
              1,
              "#f0f921"
             ]
            ],
            "type": "surface"
           }
          ],
          "table": [
           {
            "cells": {
             "fill": {
              "color": "#EBF0F8"
             },
             "line": {
              "color": "white"
             }
            },
            "header": {
             "fill": {
              "color": "#C8D4E3"
             },
             "line": {
              "color": "white"
             }
            },
            "type": "table"
           }
          ]
         },
         "layout": {
          "annotationdefaults": {
           "arrowcolor": "#2a3f5f",
           "arrowhead": 0,
           "arrowwidth": 1
          },
          "coloraxis": {
           "colorbar": {
            "outlinewidth": 0,
            "ticks": ""
           }
          },
          "colorscale": {
           "diverging": [
            [
             0,
             "#8e0152"
            ],
            [
             0.1,
             "#c51b7d"
            ],
            [
             0.2,
             "#de77ae"
            ],
            [
             0.3,
             "#f1b6da"
            ],
            [
             0.4,
             "#fde0ef"
            ],
            [
             0.5,
             "#f7f7f7"
            ],
            [
             0.6,
             "#e6f5d0"
            ],
            [
             0.7,
             "#b8e186"
            ],
            [
             0.8,
             "#7fbc41"
            ],
            [
             0.9,
             "#4d9221"
            ],
            [
             1,
             "#276419"
            ]
           ],
           "sequential": [
            [
             0,
             "#0d0887"
            ],
            [
             0.1111111111111111,
             "#46039f"
            ],
            [
             0.2222222222222222,
             "#7201a8"
            ],
            [
             0.3333333333333333,
             "#9c179e"
            ],
            [
             0.4444444444444444,
             "#bd3786"
            ],
            [
             0.5555555555555556,
             "#d8576b"
            ],
            [
             0.6666666666666666,
             "#ed7953"
            ],
            [
             0.7777777777777778,
             "#fb9f3a"
            ],
            [
             0.8888888888888888,
             "#fdca26"
            ],
            [
             1,
             "#f0f921"
            ]
           ],
           "sequentialminus": [
            [
             0,
             "#0d0887"
            ],
            [
             0.1111111111111111,
             "#46039f"
            ],
            [
             0.2222222222222222,
             "#7201a8"
            ],
            [
             0.3333333333333333,
             "#9c179e"
            ],
            [
             0.4444444444444444,
             "#bd3786"
            ],
            [
             0.5555555555555556,
             "#d8576b"
            ],
            [
             0.6666666666666666,
             "#ed7953"
            ],
            [
             0.7777777777777778,
             "#fb9f3a"
            ],
            [
             0.8888888888888888,
             "#fdca26"
            ],
            [
             1,
             "#f0f921"
            ]
           ]
          },
          "colorway": [
           "#636efa",
           "#EF553B",
           "#00cc96",
           "#ab63fa",
           "#FFA15A",
           "#19d3f3",
           "#FF6692",
           "#B6E880",
           "#FF97FF",
           "#FECB52"
          ],
          "font": {
           "color": "#2a3f5f"
          },
          "geo": {
           "bgcolor": "white",
           "lakecolor": "white",
           "landcolor": "white",
           "showlakes": true,
           "showland": true,
           "subunitcolor": "#C8D4E3"
          },
          "hoverlabel": {
           "align": "left"
          },
          "hovermode": "closest",
          "mapbox": {
           "style": "light"
          },
          "paper_bgcolor": "white",
          "plot_bgcolor": "white",
          "polar": {
           "angularaxis": {
            "gridcolor": "#EBF0F8",
            "linecolor": "#EBF0F8",
            "ticks": ""
           },
           "bgcolor": "white",
           "radialaxis": {
            "gridcolor": "#EBF0F8",
            "linecolor": "#EBF0F8",
            "ticks": ""
           }
          },
          "scene": {
           "xaxis": {
            "backgroundcolor": "white",
            "gridcolor": "#DFE8F3",
            "gridwidth": 2,
            "linecolor": "#EBF0F8",
            "showbackground": true,
            "ticks": "",
            "zerolinecolor": "#EBF0F8"
           },
           "yaxis": {
            "backgroundcolor": "white",
            "gridcolor": "#DFE8F3",
            "gridwidth": 2,
            "linecolor": "#EBF0F8",
            "showbackground": true,
            "ticks": "",
            "zerolinecolor": "#EBF0F8"
           },
           "zaxis": {
            "backgroundcolor": "white",
            "gridcolor": "#DFE8F3",
            "gridwidth": 2,
            "linecolor": "#EBF0F8",
            "showbackground": true,
            "ticks": "",
            "zerolinecolor": "#EBF0F8"
           }
          },
          "shapedefaults": {
           "line": {
            "color": "#2a3f5f"
           }
          },
          "ternary": {
           "aaxis": {
            "gridcolor": "#DFE8F3",
            "linecolor": "#A2B1C6",
            "ticks": ""
           },
           "baxis": {
            "gridcolor": "#DFE8F3",
            "linecolor": "#A2B1C6",
            "ticks": ""
           },
           "bgcolor": "white",
           "caxis": {
            "gridcolor": "#DFE8F3",
            "linecolor": "#A2B1C6",
            "ticks": ""
           }
          },
          "title": {
           "x": 0.05
          },
          "xaxis": {
           "automargin": true,
           "gridcolor": "#EBF0F8",
           "linecolor": "#EBF0F8",
           "ticks": "",
           "title": {
            "standoff": 15
           },
           "zerolinecolor": "#EBF0F8",
           "zerolinewidth": 2
          },
          "yaxis": {
           "automargin": true,
           "gridcolor": "#EBF0F8",
           "linecolor": "#EBF0F8",
           "ticks": "",
           "title": {
            "standoff": 15
           },
           "zerolinecolor": "#EBF0F8",
           "zerolinewidth": 2
          }
         }
        },
        "width": 800,
        "xaxis": {
         "anchor": "y",
         "domain": [
          0,
          1
         ],
         "title": {
          "text": "Number of neighbours"
         }
        },
        "yaxis": {
         "anchor": "x",
         "domain": [
          0,
          1
         ],
         "title": {
          "text": "Cross-validation RMSE"
         }
        }
       }
      },
      "text/html": [
       "<div>\n",
       "        \n",
       "        \n",
       "            <div id=\"d54af047-2759-4398-b541-231fafd8edee\" class=\"plotly-graph-div\" style=\"height:500px; width:800px;\"></div>\n",
       "            <script type=\"text/javascript\">\n",
       "                require([\"plotly\"], function(Plotly) {\n",
       "                    window.PLOTLYENV=window.PLOTLYENV || {};\n",
       "                    \n",
       "                if (document.getElementById(\"d54af047-2759-4398-b541-231fafd8edee\")) {\n",
       "                    Plotly.newPlot(\n",
       "                        'd54af047-2759-4398-b541-231fafd8edee',\n",
       "                        [{\"hovertemplate\": \"k=%{x}<br>RMSE=%{y}<extra></extra>\", \"legendgroup\": \"\", \"line\": {\"color\": \"#4C78A8\", \"dash\": \"solid\"}, \"mode\": \"lines\", \"name\": \"\", \"orientation\": \"v\", \"showlegend\": false, \"type\": \"scatter\", \"x\": [1, 2, 3, 4, 5, 6, 7, 8, 9, 10, 11, 12, 13, 14, 15, 16, 17, 18, 19, 20, 21, 22, 23, 24, 25, 26, 27, 28, 29, 30, 31, 32, 33, 34, 35, 36, 37, 38, 39, 40, 41, 42, 43, 44, 45, 46, 47, 48, 49, 50], \"xaxis\": \"x\", \"y\": [203.66264998766957, 176.52425976537697, 170.48738607159126, 165.41332565295767, 161.54807245611354, 161.20866426014354, 162.22865526447936, 162.41087837696887, 164.4442350384767, 162.0755381648587, 161.5845389359406, 163.3501196275695, 164.04512940083058, 162.49208968187858, 164.17573395312604, 165.76869810769892, 166.7101985825063, 168.66723148184283, 171.51958850867268, 173.5475740405412, 173.9952687958213, 172.96132979850455, 174.79004924522985, 175.65737787955797, 176.58980748778066, 177.41472477738708, 178.13380885046823, 178.48544412011614, 178.79412505467926, 179.66361310241948, 180.81653950982803, 180.9814980122771, 180.2198965916606, 181.15597623465638, 182.35995996129344, 182.4996754424405, 183.25789133062537, 183.86753251124262, 184.8090696770639, 186.74067331247477, 187.8244977251253, 188.8755838210731, 189.8582626977969, 190.63111521729752, 192.09799212506942, 193.05025628453797, 193.8446647989266, 195.34090456549487, 196.6163079530863, 198.27087121626604], \"yaxis\": \"y\"}],\n",
       "                        {\"height\": 500, \"legend\": {\"tracegroupgap\": 0}, \"margin\": {\"t\": 60}, \"template\": {\"data\": {\"bar\": [{\"error_x\": {\"color\": \"#2a3f5f\"}, \"error_y\": {\"color\": \"#2a3f5f\"}, \"marker\": {\"line\": {\"color\": \"white\", \"width\": 0.5}}, \"type\": \"bar\"}], \"barpolar\": [{\"marker\": {\"line\": {\"color\": \"white\", \"width\": 0.5}}, \"type\": \"barpolar\"}], \"carpet\": [{\"aaxis\": {\"endlinecolor\": \"#2a3f5f\", \"gridcolor\": \"#C8D4E3\", \"linecolor\": \"#C8D4E3\", \"minorgridcolor\": \"#C8D4E3\", \"startlinecolor\": \"#2a3f5f\"}, \"baxis\": {\"endlinecolor\": \"#2a3f5f\", \"gridcolor\": \"#C8D4E3\", \"linecolor\": \"#C8D4E3\", \"minorgridcolor\": \"#C8D4E3\", \"startlinecolor\": \"#2a3f5f\"}, \"type\": \"carpet\"}], \"choropleth\": [{\"colorbar\": {\"outlinewidth\": 0, \"ticks\": \"\"}, \"type\": \"choropleth\"}], \"contour\": [{\"colorbar\": {\"outlinewidth\": 0, \"ticks\": \"\"}, \"colorscale\": [[0.0, \"#0d0887\"], [0.1111111111111111, \"#46039f\"], [0.2222222222222222, \"#7201a8\"], [0.3333333333333333, \"#9c179e\"], [0.4444444444444444, \"#bd3786\"], [0.5555555555555556, \"#d8576b\"], [0.6666666666666666, \"#ed7953\"], [0.7777777777777778, \"#fb9f3a\"], [0.8888888888888888, \"#fdca26\"], [1.0, \"#f0f921\"]], \"type\": \"contour\"}], \"contourcarpet\": [{\"colorbar\": {\"outlinewidth\": 0, \"ticks\": \"\"}, \"type\": \"contourcarpet\"}], \"heatmap\": [{\"colorbar\": {\"outlinewidth\": 0, \"ticks\": \"\"}, \"colorscale\": [[0.0, \"#0d0887\"], [0.1111111111111111, \"#46039f\"], [0.2222222222222222, \"#7201a8\"], [0.3333333333333333, \"#9c179e\"], [0.4444444444444444, \"#bd3786\"], [0.5555555555555556, \"#d8576b\"], [0.6666666666666666, \"#ed7953\"], [0.7777777777777778, \"#fb9f3a\"], [0.8888888888888888, \"#fdca26\"], [1.0, \"#f0f921\"]], \"type\": \"heatmap\"}], \"heatmapgl\": [{\"colorbar\": {\"outlinewidth\": 0, \"ticks\": \"\"}, \"colorscale\": [[0.0, \"#0d0887\"], [0.1111111111111111, \"#46039f\"], [0.2222222222222222, \"#7201a8\"], [0.3333333333333333, \"#9c179e\"], [0.4444444444444444, \"#bd3786\"], [0.5555555555555556, \"#d8576b\"], [0.6666666666666666, \"#ed7953\"], [0.7777777777777778, \"#fb9f3a\"], [0.8888888888888888, \"#fdca26\"], [1.0, \"#f0f921\"]], \"type\": \"heatmapgl\"}], \"histogram\": [{\"marker\": {\"colorbar\": {\"outlinewidth\": 0, \"ticks\": \"\"}}, \"type\": \"histogram\"}], \"histogram2d\": [{\"colorbar\": {\"outlinewidth\": 0, \"ticks\": \"\"}, \"colorscale\": [[0.0, \"#0d0887\"], [0.1111111111111111, \"#46039f\"], [0.2222222222222222, \"#7201a8\"], [0.3333333333333333, \"#9c179e\"], [0.4444444444444444, \"#bd3786\"], [0.5555555555555556, \"#d8576b\"], [0.6666666666666666, \"#ed7953\"], [0.7777777777777778, \"#fb9f3a\"], [0.8888888888888888, \"#fdca26\"], [1.0, \"#f0f921\"]], \"type\": \"histogram2d\"}], \"histogram2dcontour\": [{\"colorbar\": {\"outlinewidth\": 0, \"ticks\": \"\"}, \"colorscale\": [[0.0, \"#0d0887\"], [0.1111111111111111, \"#46039f\"], [0.2222222222222222, \"#7201a8\"], [0.3333333333333333, \"#9c179e\"], [0.4444444444444444, \"#bd3786\"], [0.5555555555555556, \"#d8576b\"], [0.6666666666666666, \"#ed7953\"], [0.7777777777777778, \"#fb9f3a\"], [0.8888888888888888, \"#fdca26\"], [1.0, \"#f0f921\"]], \"type\": \"histogram2dcontour\"}], \"mesh3d\": [{\"colorbar\": {\"outlinewidth\": 0, \"ticks\": \"\"}, \"type\": \"mesh3d\"}], \"parcoords\": [{\"line\": {\"colorbar\": {\"outlinewidth\": 0, \"ticks\": \"\"}}, \"type\": \"parcoords\"}], \"pie\": [{\"automargin\": true, \"type\": \"pie\"}], \"scatter\": [{\"marker\": {\"colorbar\": {\"outlinewidth\": 0, \"ticks\": \"\"}}, \"type\": \"scatter\"}], \"scatter3d\": [{\"line\": {\"colorbar\": {\"outlinewidth\": 0, \"ticks\": \"\"}}, \"marker\": {\"colorbar\": {\"outlinewidth\": 0, \"ticks\": \"\"}}, \"type\": \"scatter3d\"}], \"scattercarpet\": [{\"marker\": {\"colorbar\": {\"outlinewidth\": 0, \"ticks\": \"\"}}, \"type\": \"scattercarpet\"}], \"scattergeo\": [{\"marker\": {\"colorbar\": {\"outlinewidth\": 0, \"ticks\": \"\"}}, \"type\": \"scattergeo\"}], \"scattergl\": [{\"marker\": {\"colorbar\": {\"outlinewidth\": 0, \"ticks\": \"\"}}, \"type\": \"scattergl\"}], \"scattermapbox\": [{\"marker\": {\"colorbar\": {\"outlinewidth\": 0, \"ticks\": \"\"}}, \"type\": \"scattermapbox\"}], \"scatterpolar\": [{\"marker\": {\"colorbar\": {\"outlinewidth\": 0, \"ticks\": \"\"}}, \"type\": \"scatterpolar\"}], \"scatterpolargl\": [{\"marker\": {\"colorbar\": {\"outlinewidth\": 0, \"ticks\": \"\"}}, \"type\": \"scatterpolargl\"}], \"scatterternary\": [{\"marker\": {\"colorbar\": {\"outlinewidth\": 0, \"ticks\": \"\"}}, \"type\": \"scatterternary\"}], \"surface\": [{\"colorbar\": {\"outlinewidth\": 0, \"ticks\": \"\"}, \"colorscale\": [[0.0, \"#0d0887\"], [0.1111111111111111, \"#46039f\"], [0.2222222222222222, \"#7201a8\"], [0.3333333333333333, \"#9c179e\"], [0.4444444444444444, \"#bd3786\"], [0.5555555555555556, \"#d8576b\"], [0.6666666666666666, \"#ed7953\"], [0.7777777777777778, \"#fb9f3a\"], [0.8888888888888888, \"#fdca26\"], [1.0, \"#f0f921\"]], \"type\": \"surface\"}], \"table\": [{\"cells\": {\"fill\": {\"color\": \"#EBF0F8\"}, \"line\": {\"color\": \"white\"}}, \"header\": {\"fill\": {\"color\": \"#C8D4E3\"}, \"line\": {\"color\": \"white\"}}, \"type\": \"table\"}]}, \"layout\": {\"annotationdefaults\": {\"arrowcolor\": \"#2a3f5f\", \"arrowhead\": 0, \"arrowwidth\": 1}, \"coloraxis\": {\"colorbar\": {\"outlinewidth\": 0, \"ticks\": \"\"}}, \"colorscale\": {\"diverging\": [[0, \"#8e0152\"], [0.1, \"#c51b7d\"], [0.2, \"#de77ae\"], [0.3, \"#f1b6da\"], [0.4, \"#fde0ef\"], [0.5, \"#f7f7f7\"], [0.6, \"#e6f5d0\"], [0.7, \"#b8e186\"], [0.8, \"#7fbc41\"], [0.9, \"#4d9221\"], [1, \"#276419\"]], \"sequential\": [[0.0, \"#0d0887\"], [0.1111111111111111, \"#46039f\"], [0.2222222222222222, \"#7201a8\"], [0.3333333333333333, \"#9c179e\"], [0.4444444444444444, \"#bd3786\"], [0.5555555555555556, \"#d8576b\"], [0.6666666666666666, \"#ed7953\"], [0.7777777777777778, \"#fb9f3a\"], [0.8888888888888888, \"#fdca26\"], [1.0, \"#f0f921\"]], \"sequentialminus\": [[0.0, \"#0d0887\"], [0.1111111111111111, \"#46039f\"], [0.2222222222222222, \"#7201a8\"], [0.3333333333333333, \"#9c179e\"], [0.4444444444444444, \"#bd3786\"], [0.5555555555555556, \"#d8576b\"], [0.6666666666666666, \"#ed7953\"], [0.7777777777777778, \"#fb9f3a\"], [0.8888888888888888, \"#fdca26\"], [1.0, \"#f0f921\"]]}, \"colorway\": [\"#636efa\", \"#EF553B\", \"#00cc96\", \"#ab63fa\", \"#FFA15A\", \"#19d3f3\", \"#FF6692\", \"#B6E880\", \"#FF97FF\", \"#FECB52\"], \"font\": {\"color\": \"#2a3f5f\"}, \"geo\": {\"bgcolor\": \"white\", \"lakecolor\": \"white\", \"landcolor\": \"white\", \"showlakes\": true, \"showland\": true, \"subunitcolor\": \"#C8D4E3\"}, \"hoverlabel\": {\"align\": \"left\"}, \"hovermode\": \"closest\", \"mapbox\": {\"style\": \"light\"}, \"paper_bgcolor\": \"white\", \"plot_bgcolor\": \"white\", \"polar\": {\"angularaxis\": {\"gridcolor\": \"#EBF0F8\", \"linecolor\": \"#EBF0F8\", \"ticks\": \"\"}, \"bgcolor\": \"white\", \"radialaxis\": {\"gridcolor\": \"#EBF0F8\", \"linecolor\": \"#EBF0F8\", \"ticks\": \"\"}}, \"scene\": {\"xaxis\": {\"backgroundcolor\": \"white\", \"gridcolor\": \"#DFE8F3\", \"gridwidth\": 2, \"linecolor\": \"#EBF0F8\", \"showbackground\": true, \"ticks\": \"\", \"zerolinecolor\": \"#EBF0F8\"}, \"yaxis\": {\"backgroundcolor\": \"white\", \"gridcolor\": \"#DFE8F3\", \"gridwidth\": 2, \"linecolor\": \"#EBF0F8\", \"showbackground\": true, \"ticks\": \"\", \"zerolinecolor\": \"#EBF0F8\"}, \"zaxis\": {\"backgroundcolor\": \"white\", \"gridcolor\": \"#DFE8F3\", \"gridwidth\": 2, \"linecolor\": \"#EBF0F8\", \"showbackground\": true, \"ticks\": \"\", \"zerolinecolor\": \"#EBF0F8\"}}, \"shapedefaults\": {\"line\": {\"color\": \"#2a3f5f\"}}, \"ternary\": {\"aaxis\": {\"gridcolor\": \"#DFE8F3\", \"linecolor\": \"#A2B1C6\", \"ticks\": \"\"}, \"baxis\": {\"gridcolor\": \"#DFE8F3\", \"linecolor\": \"#A2B1C6\", \"ticks\": \"\"}, \"bgcolor\": \"white\", \"caxis\": {\"gridcolor\": \"#DFE8F3\", \"linecolor\": \"#A2B1C6\", \"ticks\": \"\"}}, \"title\": {\"x\": 0.05}, \"xaxis\": {\"automargin\": true, \"gridcolor\": \"#EBF0F8\", \"linecolor\": \"#EBF0F8\", \"ticks\": \"\", \"title\": {\"standoff\": 15}, \"zerolinecolor\": \"#EBF0F8\", \"zerolinewidth\": 2}, \"yaxis\": {\"automargin\": true, \"gridcolor\": \"#EBF0F8\", \"linecolor\": \"#EBF0F8\", \"ticks\": \"\", \"title\": {\"standoff\": 15}, \"zerolinecolor\": \"#EBF0F8\", \"zerolinewidth\": 2}}}, \"width\": 800, \"xaxis\": {\"anchor\": \"y\", \"domain\": [0.0, 1.0], \"title\": {\"text\": \"Number of neighbours\"}}, \"yaxis\": {\"anchor\": \"x\", \"domain\": [0.0, 1.0], \"title\": {\"text\": \"Cross-validation RMSE\"}}},\n",
       "                        {\"responsive\": true}\n",
       "                    ).then(function(){\n",
       "                            \n",
       "var gd = document.getElementById('d54af047-2759-4398-b541-231fafd8edee');\n",
       "var x = new MutationObserver(function (mutations, observer) {{\n",
       "        var display = window.getComputedStyle(gd).display;\n",
       "        if (!display || display === 'none') {{\n",
       "            console.log([gd, 'removed!']);\n",
       "            Plotly.purge(gd);\n",
       "            observer.disconnect();\n",
       "        }}\n",
       "}});\n",
       "\n",
       "// Listen for the removal of the full notebook cells\n",
       "var notebookContainer = gd.closest('#notebook-container');\n",
       "if (notebookContainer) {{\n",
       "    x.observe(notebookContainer, {childList: true});\n",
       "}}\n",
       "\n",
       "// Listen for the clearing of the current output cell\n",
       "var outputEl = gd.closest('.output');\n",
       "if (outputEl) {{\n",
       "    x.observe(outputEl, {childList: true});\n",
       "}}\n",
       "\n",
       "                        })\n",
       "                };\n",
       "                });\n",
       "            </script>\n",
       "        </div>"
      ]
     },
     "metadata": {},
     "output_type": "display_data"
    }
   ],
   "source": [
    "# Compute the CV error for k=1 to k=50\n",
    "ks=np.arange(1, 51)\n",
    "cv_errors = []\n",
    "for k in ks: \n",
    "    model = KNeighborsRegressor(n_neighbors= k, metric='mahalanobis', metric_params={'V': X_train.cov()}) \n",
    "    scores = cross_val_score(model, X_train, y_train, cv=5, scoring = 'neg_mean_squared_error')\n",
    "    rmse = np.sqrt(-1*np.mean(scores))\n",
    "    cv_errors.append(rmse)\n",
    "\n",
    "# Make figure \n",
    "fig = px.line(x=ks, y=cv_errors, # everything below is detail\n",
    "              labels={'x': 'k', 'y': 'RMSE'}, \n",
    "              template='plotly_white',\n",
    "              color_discrete_sequence=px.colors.qualitative.T10)\n",
    "\n",
    "fig.update_layout(xaxis_title='Number of neighbours', yaxis_title='Cross-validation RMSE', )\n",
    "fig.update_layout(width=800, height=500)\n",
    "fig.show()"
   ]
  },
  {
   "cell_type": "markdown",
   "metadata": {},
   "source": [
    "Using `k=6` neighbours leads to the lowest cross-validation error, but there are several other values between `k=5` and `k=11` lead to very similar performance.  \n",
    "\n",
    "### 2.2 Repeated K-Fold\n",
    "\n",
    "Because the size of the training data is not large, there is high variation in the MSE across folds. In turn, this indicates that the cross-validation error has large variance. In this case, it can be useful to use repeated k-fold to reduce the variance, at the cost of additional computational time.\n",
    "\n",
    "<h4 style=\"padding-top: 20px\">2.2.1 Syntax</h4>\n",
    "\n",
    "For this method we have to instantiate the cross-validation method separately. \n",
    "\n",
    "## Aside \n",
    "From the documentation\n",
    "\n",
    "    RepeatedKFold - Repeats K-Fold n times with different randomization in each repetition.\n",
    "    \n",
    "In one run of k-fold (in this case 5 folds) you RANDOMLY split the dataset into 5 different parts. But some models are very sensitive (have high variance) to the training data. As such we can repeat this randomisation process. In this case we do the randomisation 10 times.\n",
    "\n",
    "This is equivalent to saying, perform 5-fold CV 10 times. Each time with a different randomisation of the dataset."
   ]
  },
  {
   "cell_type": "code",
   "execution_count": 122,
   "metadata": {},
   "outputs": [
    {
     "data": {
      "text/plain": [
       "158.11598563803003"
      ]
     },
     "execution_count": 122,
     "metadata": {},
     "output_type": "execute_result"
    }
   ],
   "source": [
    "from sklearn.model_selection import RepeatedKFold\n",
    "rkf = RepeatedKFold(n_splits=5, n_repeats=10, random_state=100)\n",
    "\n",
    "knn = KNeighborsRegressor(n_neighbors=10, metric='mahalanobis', metric_params={'V': X_train.cov()})\n",
    "scores = cross_val_score(knn, X_train, y_train, cv = rkf, scoring = 'neg_mean_squared_error')\n",
    "np.sqrt(-1*np.mean(scores))  # five folds times ten repeats"
   ]
  },
  {
   "cell_type": "markdown",
   "metadata": {},
   "source": [
    "#### 2.2.2 Plotting the cross-validation error (Repeated K-Fold CV error)\n",
    "\n",
    "This next cell will be slower to run. "
   ]
  },
  {
   "cell_type": "code",
   "execution_count": 123,
   "metadata": {},
   "outputs": [
    {
     "data": {
      "application/vnd.plotly.v1+json": {
       "config": {
        "plotlyServerURL": "https://plot.ly"
       },
       "data": [
        {
         "hovertemplate": "k=%{x}<br>RMSE=%{y}<extra></extra>",
         "legendgroup": "",
         "line": {
          "color": "#4C78A8",
          "dash": "solid"
         },
         "mode": "lines",
         "name": "",
         "orientation": "v",
         "showlegend": false,
         "type": "scatter",
         "x": [
          1,
          2,
          3,
          4,
          5,
          6,
          7,
          8,
          9,
          10,
          11,
          12,
          13,
          14,
          15,
          16,
          17,
          18,
          19,
          20,
          21,
          22,
          23,
          24,
          25,
          26,
          27,
          28,
          29,
          30,
          31,
          32,
          33,
          34,
          35,
          36,
          37,
          38,
          39,
          40,
          41,
          42,
          43,
          44,
          45,
          46,
          47,
          48,
          49,
          50
         ],
         "xaxis": "x",
         "y": [
          201.35038667528232,
          175.3742370923229,
          166.59285436952007,
          160.6498702258157,
          157.53350994992417,
          156.6345672852924,
          157.17386250243985,
          157.47237470312962,
          157.81692444161888,
          158.11598563803003,
          158.46167418079193,
          159.36169094756326,
          160.1210148403111,
          160.90415464084552,
          162.51396617883216,
          163.76833395693825,
          165.6093930726761,
          167.10899394911715,
          168.87268475543846,
          169.86807260657145,
          170.75338839781753,
          171.70711294246206,
          172.9658758193292,
          173.89475331370616,
          174.96320462967552,
          175.80574496440505,
          176.45355763530412,
          176.96134636477527,
          177.56857071186423,
          178.41189961826205,
          179.2191644347743,
          179.75568229026572,
          179.94421054837525,
          180.2639331251921,
          180.90521136449837,
          181.71791001362527,
          182.4698707881239,
          183.35067214644516,
          184.4827685435672,
          185.72099538617636,
          186.97663561945467,
          188.30998234055747,
          189.79675955966542,
          190.99747112408826,
          192.2941666910004,
          193.33494933277484,
          194.5794381055216,
          195.94364235423066,
          197.32406173008127,
          198.9436981028983
         ],
         "yaxis": "y"
        }
       ],
       "layout": {
        "height": 500,
        "legend": {
         "tracegroupgap": 0
        },
        "margin": {
         "t": 60
        },
        "template": {
         "data": {
          "bar": [
           {
            "error_x": {
             "color": "#2a3f5f"
            },
            "error_y": {
             "color": "#2a3f5f"
            },
            "marker": {
             "line": {
              "color": "white",
              "width": 0.5
             }
            },
            "type": "bar"
           }
          ],
          "barpolar": [
           {
            "marker": {
             "line": {
              "color": "white",
              "width": 0.5
             }
            },
            "type": "barpolar"
           }
          ],
          "carpet": [
           {
            "aaxis": {
             "endlinecolor": "#2a3f5f",
             "gridcolor": "#C8D4E3",
             "linecolor": "#C8D4E3",
             "minorgridcolor": "#C8D4E3",
             "startlinecolor": "#2a3f5f"
            },
            "baxis": {
             "endlinecolor": "#2a3f5f",
             "gridcolor": "#C8D4E3",
             "linecolor": "#C8D4E3",
             "minorgridcolor": "#C8D4E3",
             "startlinecolor": "#2a3f5f"
            },
            "type": "carpet"
           }
          ],
          "choropleth": [
           {
            "colorbar": {
             "outlinewidth": 0,
             "ticks": ""
            },
            "type": "choropleth"
           }
          ],
          "contour": [
           {
            "colorbar": {
             "outlinewidth": 0,
             "ticks": ""
            },
            "colorscale": [
             [
              0,
              "#0d0887"
             ],
             [
              0.1111111111111111,
              "#46039f"
             ],
             [
              0.2222222222222222,
              "#7201a8"
             ],
             [
              0.3333333333333333,
              "#9c179e"
             ],
             [
              0.4444444444444444,
              "#bd3786"
             ],
             [
              0.5555555555555556,
              "#d8576b"
             ],
             [
              0.6666666666666666,
              "#ed7953"
             ],
             [
              0.7777777777777778,
              "#fb9f3a"
             ],
             [
              0.8888888888888888,
              "#fdca26"
             ],
             [
              1,
              "#f0f921"
             ]
            ],
            "type": "contour"
           }
          ],
          "contourcarpet": [
           {
            "colorbar": {
             "outlinewidth": 0,
             "ticks": ""
            },
            "type": "contourcarpet"
           }
          ],
          "heatmap": [
           {
            "colorbar": {
             "outlinewidth": 0,
             "ticks": ""
            },
            "colorscale": [
             [
              0,
              "#0d0887"
             ],
             [
              0.1111111111111111,
              "#46039f"
             ],
             [
              0.2222222222222222,
              "#7201a8"
             ],
             [
              0.3333333333333333,
              "#9c179e"
             ],
             [
              0.4444444444444444,
              "#bd3786"
             ],
             [
              0.5555555555555556,
              "#d8576b"
             ],
             [
              0.6666666666666666,
              "#ed7953"
             ],
             [
              0.7777777777777778,
              "#fb9f3a"
             ],
             [
              0.8888888888888888,
              "#fdca26"
             ],
             [
              1,
              "#f0f921"
             ]
            ],
            "type": "heatmap"
           }
          ],
          "heatmapgl": [
           {
            "colorbar": {
             "outlinewidth": 0,
             "ticks": ""
            },
            "colorscale": [
             [
              0,
              "#0d0887"
             ],
             [
              0.1111111111111111,
              "#46039f"
             ],
             [
              0.2222222222222222,
              "#7201a8"
             ],
             [
              0.3333333333333333,
              "#9c179e"
             ],
             [
              0.4444444444444444,
              "#bd3786"
             ],
             [
              0.5555555555555556,
              "#d8576b"
             ],
             [
              0.6666666666666666,
              "#ed7953"
             ],
             [
              0.7777777777777778,
              "#fb9f3a"
             ],
             [
              0.8888888888888888,
              "#fdca26"
             ],
             [
              1,
              "#f0f921"
             ]
            ],
            "type": "heatmapgl"
           }
          ],
          "histogram": [
           {
            "marker": {
             "colorbar": {
              "outlinewidth": 0,
              "ticks": ""
             }
            },
            "type": "histogram"
           }
          ],
          "histogram2d": [
           {
            "colorbar": {
             "outlinewidth": 0,
             "ticks": ""
            },
            "colorscale": [
             [
              0,
              "#0d0887"
             ],
             [
              0.1111111111111111,
              "#46039f"
             ],
             [
              0.2222222222222222,
              "#7201a8"
             ],
             [
              0.3333333333333333,
              "#9c179e"
             ],
             [
              0.4444444444444444,
              "#bd3786"
             ],
             [
              0.5555555555555556,
              "#d8576b"
             ],
             [
              0.6666666666666666,
              "#ed7953"
             ],
             [
              0.7777777777777778,
              "#fb9f3a"
             ],
             [
              0.8888888888888888,
              "#fdca26"
             ],
             [
              1,
              "#f0f921"
             ]
            ],
            "type": "histogram2d"
           }
          ],
          "histogram2dcontour": [
           {
            "colorbar": {
             "outlinewidth": 0,
             "ticks": ""
            },
            "colorscale": [
             [
              0,
              "#0d0887"
             ],
             [
              0.1111111111111111,
              "#46039f"
             ],
             [
              0.2222222222222222,
              "#7201a8"
             ],
             [
              0.3333333333333333,
              "#9c179e"
             ],
             [
              0.4444444444444444,
              "#bd3786"
             ],
             [
              0.5555555555555556,
              "#d8576b"
             ],
             [
              0.6666666666666666,
              "#ed7953"
             ],
             [
              0.7777777777777778,
              "#fb9f3a"
             ],
             [
              0.8888888888888888,
              "#fdca26"
             ],
             [
              1,
              "#f0f921"
             ]
            ],
            "type": "histogram2dcontour"
           }
          ],
          "mesh3d": [
           {
            "colorbar": {
             "outlinewidth": 0,
             "ticks": ""
            },
            "type": "mesh3d"
           }
          ],
          "parcoords": [
           {
            "line": {
             "colorbar": {
              "outlinewidth": 0,
              "ticks": ""
             }
            },
            "type": "parcoords"
           }
          ],
          "pie": [
           {
            "automargin": true,
            "type": "pie"
           }
          ],
          "scatter": [
           {
            "marker": {
             "colorbar": {
              "outlinewidth": 0,
              "ticks": ""
             }
            },
            "type": "scatter"
           }
          ],
          "scatter3d": [
           {
            "line": {
             "colorbar": {
              "outlinewidth": 0,
              "ticks": ""
             }
            },
            "marker": {
             "colorbar": {
              "outlinewidth": 0,
              "ticks": ""
             }
            },
            "type": "scatter3d"
           }
          ],
          "scattercarpet": [
           {
            "marker": {
             "colorbar": {
              "outlinewidth": 0,
              "ticks": ""
             }
            },
            "type": "scattercarpet"
           }
          ],
          "scattergeo": [
           {
            "marker": {
             "colorbar": {
              "outlinewidth": 0,
              "ticks": ""
             }
            },
            "type": "scattergeo"
           }
          ],
          "scattergl": [
           {
            "marker": {
             "colorbar": {
              "outlinewidth": 0,
              "ticks": ""
             }
            },
            "type": "scattergl"
           }
          ],
          "scattermapbox": [
           {
            "marker": {
             "colorbar": {
              "outlinewidth": 0,
              "ticks": ""
             }
            },
            "type": "scattermapbox"
           }
          ],
          "scatterpolar": [
           {
            "marker": {
             "colorbar": {
              "outlinewidth": 0,
              "ticks": ""
             }
            },
            "type": "scatterpolar"
           }
          ],
          "scatterpolargl": [
           {
            "marker": {
             "colorbar": {
              "outlinewidth": 0,
              "ticks": ""
             }
            },
            "type": "scatterpolargl"
           }
          ],
          "scatterternary": [
           {
            "marker": {
             "colorbar": {
              "outlinewidth": 0,
              "ticks": ""
             }
            },
            "type": "scatterternary"
           }
          ],
          "surface": [
           {
            "colorbar": {
             "outlinewidth": 0,
             "ticks": ""
            },
            "colorscale": [
             [
              0,
              "#0d0887"
             ],
             [
              0.1111111111111111,
              "#46039f"
             ],
             [
              0.2222222222222222,
              "#7201a8"
             ],
             [
              0.3333333333333333,
              "#9c179e"
             ],
             [
              0.4444444444444444,
              "#bd3786"
             ],
             [
              0.5555555555555556,
              "#d8576b"
             ],
             [
              0.6666666666666666,
              "#ed7953"
             ],
             [
              0.7777777777777778,
              "#fb9f3a"
             ],
             [
              0.8888888888888888,
              "#fdca26"
             ],
             [
              1,
              "#f0f921"
             ]
            ],
            "type": "surface"
           }
          ],
          "table": [
           {
            "cells": {
             "fill": {
              "color": "#EBF0F8"
             },
             "line": {
              "color": "white"
             }
            },
            "header": {
             "fill": {
              "color": "#C8D4E3"
             },
             "line": {
              "color": "white"
             }
            },
            "type": "table"
           }
          ]
         },
         "layout": {
          "annotationdefaults": {
           "arrowcolor": "#2a3f5f",
           "arrowhead": 0,
           "arrowwidth": 1
          },
          "coloraxis": {
           "colorbar": {
            "outlinewidth": 0,
            "ticks": ""
           }
          },
          "colorscale": {
           "diverging": [
            [
             0,
             "#8e0152"
            ],
            [
             0.1,
             "#c51b7d"
            ],
            [
             0.2,
             "#de77ae"
            ],
            [
             0.3,
             "#f1b6da"
            ],
            [
             0.4,
             "#fde0ef"
            ],
            [
             0.5,
             "#f7f7f7"
            ],
            [
             0.6,
             "#e6f5d0"
            ],
            [
             0.7,
             "#b8e186"
            ],
            [
             0.8,
             "#7fbc41"
            ],
            [
             0.9,
             "#4d9221"
            ],
            [
             1,
             "#276419"
            ]
           ],
           "sequential": [
            [
             0,
             "#0d0887"
            ],
            [
             0.1111111111111111,
             "#46039f"
            ],
            [
             0.2222222222222222,
             "#7201a8"
            ],
            [
             0.3333333333333333,
             "#9c179e"
            ],
            [
             0.4444444444444444,
             "#bd3786"
            ],
            [
             0.5555555555555556,
             "#d8576b"
            ],
            [
             0.6666666666666666,
             "#ed7953"
            ],
            [
             0.7777777777777778,
             "#fb9f3a"
            ],
            [
             0.8888888888888888,
             "#fdca26"
            ],
            [
             1,
             "#f0f921"
            ]
           ],
           "sequentialminus": [
            [
             0,
             "#0d0887"
            ],
            [
             0.1111111111111111,
             "#46039f"
            ],
            [
             0.2222222222222222,
             "#7201a8"
            ],
            [
             0.3333333333333333,
             "#9c179e"
            ],
            [
             0.4444444444444444,
             "#bd3786"
            ],
            [
             0.5555555555555556,
             "#d8576b"
            ],
            [
             0.6666666666666666,
             "#ed7953"
            ],
            [
             0.7777777777777778,
             "#fb9f3a"
            ],
            [
             0.8888888888888888,
             "#fdca26"
            ],
            [
             1,
             "#f0f921"
            ]
           ]
          },
          "colorway": [
           "#636efa",
           "#EF553B",
           "#00cc96",
           "#ab63fa",
           "#FFA15A",
           "#19d3f3",
           "#FF6692",
           "#B6E880",
           "#FF97FF",
           "#FECB52"
          ],
          "font": {
           "color": "#2a3f5f"
          },
          "geo": {
           "bgcolor": "white",
           "lakecolor": "white",
           "landcolor": "white",
           "showlakes": true,
           "showland": true,
           "subunitcolor": "#C8D4E3"
          },
          "hoverlabel": {
           "align": "left"
          },
          "hovermode": "closest",
          "mapbox": {
           "style": "light"
          },
          "paper_bgcolor": "white",
          "plot_bgcolor": "white",
          "polar": {
           "angularaxis": {
            "gridcolor": "#EBF0F8",
            "linecolor": "#EBF0F8",
            "ticks": ""
           },
           "bgcolor": "white",
           "radialaxis": {
            "gridcolor": "#EBF0F8",
            "linecolor": "#EBF0F8",
            "ticks": ""
           }
          },
          "scene": {
           "xaxis": {
            "backgroundcolor": "white",
            "gridcolor": "#DFE8F3",
            "gridwidth": 2,
            "linecolor": "#EBF0F8",
            "showbackground": true,
            "ticks": "",
            "zerolinecolor": "#EBF0F8"
           },
           "yaxis": {
            "backgroundcolor": "white",
            "gridcolor": "#DFE8F3",
            "gridwidth": 2,
            "linecolor": "#EBF0F8",
            "showbackground": true,
            "ticks": "",
            "zerolinecolor": "#EBF0F8"
           },
           "zaxis": {
            "backgroundcolor": "white",
            "gridcolor": "#DFE8F3",
            "gridwidth": 2,
            "linecolor": "#EBF0F8",
            "showbackground": true,
            "ticks": "",
            "zerolinecolor": "#EBF0F8"
           }
          },
          "shapedefaults": {
           "line": {
            "color": "#2a3f5f"
           }
          },
          "ternary": {
           "aaxis": {
            "gridcolor": "#DFE8F3",
            "linecolor": "#A2B1C6",
            "ticks": ""
           },
           "baxis": {
            "gridcolor": "#DFE8F3",
            "linecolor": "#A2B1C6",
            "ticks": ""
           },
           "bgcolor": "white",
           "caxis": {
            "gridcolor": "#DFE8F3",
            "linecolor": "#A2B1C6",
            "ticks": ""
           }
          },
          "title": {
           "x": 0.05
          },
          "xaxis": {
           "automargin": true,
           "gridcolor": "#EBF0F8",
           "linecolor": "#EBF0F8",
           "ticks": "",
           "title": {
            "standoff": 15
           },
           "zerolinecolor": "#EBF0F8",
           "zerolinewidth": 2
          },
          "yaxis": {
           "automargin": true,
           "gridcolor": "#EBF0F8",
           "linecolor": "#EBF0F8",
           "ticks": "",
           "title": {
            "standoff": 15
           },
           "zerolinecolor": "#EBF0F8",
           "zerolinewidth": 2
          }
         }
        },
        "width": 800,
        "xaxis": {
         "anchor": "y",
         "domain": [
          0,
          1
         ],
         "title": {
          "text": "Number of neighbours"
         }
        },
        "yaxis": {
         "anchor": "x",
         "domain": [
          0,
          1
         ],
         "title": {
          "text": "Cross-validation RMSE"
         }
        }
       }
      },
      "text/html": [
       "<div>\n",
       "        \n",
       "        \n",
       "            <div id=\"2b280ebb-75b7-4fed-a4ce-3ab84fde53d9\" class=\"plotly-graph-div\" style=\"height:500px; width:800px;\"></div>\n",
       "            <script type=\"text/javascript\">\n",
       "                require([\"plotly\"], function(Plotly) {\n",
       "                    window.PLOTLYENV=window.PLOTLYENV || {};\n",
       "                    \n",
       "                if (document.getElementById(\"2b280ebb-75b7-4fed-a4ce-3ab84fde53d9\")) {\n",
       "                    Plotly.newPlot(\n",
       "                        '2b280ebb-75b7-4fed-a4ce-3ab84fde53d9',\n",
       "                        [{\"hovertemplate\": \"k=%{x}<br>RMSE=%{y}<extra></extra>\", \"legendgroup\": \"\", \"line\": {\"color\": \"#4C78A8\", \"dash\": \"solid\"}, \"mode\": \"lines\", \"name\": \"\", \"orientation\": \"v\", \"showlegend\": false, \"type\": \"scatter\", \"x\": [1, 2, 3, 4, 5, 6, 7, 8, 9, 10, 11, 12, 13, 14, 15, 16, 17, 18, 19, 20, 21, 22, 23, 24, 25, 26, 27, 28, 29, 30, 31, 32, 33, 34, 35, 36, 37, 38, 39, 40, 41, 42, 43, 44, 45, 46, 47, 48, 49, 50], \"xaxis\": \"x\", \"y\": [201.35038667528232, 175.3742370923229, 166.59285436952007, 160.6498702258157, 157.53350994992417, 156.6345672852924, 157.17386250243985, 157.47237470312962, 157.81692444161888, 158.11598563803003, 158.46167418079193, 159.36169094756326, 160.1210148403111, 160.90415464084552, 162.51396617883216, 163.76833395693825, 165.6093930726761, 167.10899394911715, 168.87268475543846, 169.86807260657145, 170.75338839781753, 171.70711294246206, 172.9658758193292, 173.89475331370616, 174.96320462967552, 175.80574496440505, 176.45355763530412, 176.96134636477527, 177.56857071186423, 178.41189961826205, 179.2191644347743, 179.75568229026572, 179.94421054837525, 180.2639331251921, 180.90521136449837, 181.71791001362527, 182.4698707881239, 183.35067214644516, 184.4827685435672, 185.72099538617636, 186.97663561945467, 188.30998234055747, 189.79675955966542, 190.99747112408826, 192.2941666910004, 193.33494933277484, 194.5794381055216, 195.94364235423066, 197.32406173008127, 198.9436981028983], \"yaxis\": \"y\"}],\n",
       "                        {\"height\": 500, \"legend\": {\"tracegroupgap\": 0}, \"margin\": {\"t\": 60}, \"template\": {\"data\": {\"bar\": [{\"error_x\": {\"color\": \"#2a3f5f\"}, \"error_y\": {\"color\": \"#2a3f5f\"}, \"marker\": {\"line\": {\"color\": \"white\", \"width\": 0.5}}, \"type\": \"bar\"}], \"barpolar\": [{\"marker\": {\"line\": {\"color\": \"white\", \"width\": 0.5}}, \"type\": \"barpolar\"}], \"carpet\": [{\"aaxis\": {\"endlinecolor\": \"#2a3f5f\", \"gridcolor\": \"#C8D4E3\", \"linecolor\": \"#C8D4E3\", \"minorgridcolor\": \"#C8D4E3\", \"startlinecolor\": \"#2a3f5f\"}, \"baxis\": {\"endlinecolor\": \"#2a3f5f\", \"gridcolor\": \"#C8D4E3\", \"linecolor\": \"#C8D4E3\", \"minorgridcolor\": \"#C8D4E3\", \"startlinecolor\": \"#2a3f5f\"}, \"type\": \"carpet\"}], \"choropleth\": [{\"colorbar\": {\"outlinewidth\": 0, \"ticks\": \"\"}, \"type\": \"choropleth\"}], \"contour\": [{\"colorbar\": {\"outlinewidth\": 0, \"ticks\": \"\"}, \"colorscale\": [[0.0, \"#0d0887\"], [0.1111111111111111, \"#46039f\"], [0.2222222222222222, \"#7201a8\"], [0.3333333333333333, \"#9c179e\"], [0.4444444444444444, \"#bd3786\"], [0.5555555555555556, \"#d8576b\"], [0.6666666666666666, \"#ed7953\"], [0.7777777777777778, \"#fb9f3a\"], [0.8888888888888888, \"#fdca26\"], [1.0, \"#f0f921\"]], \"type\": \"contour\"}], \"contourcarpet\": [{\"colorbar\": {\"outlinewidth\": 0, \"ticks\": \"\"}, \"type\": \"contourcarpet\"}], \"heatmap\": [{\"colorbar\": {\"outlinewidth\": 0, \"ticks\": \"\"}, \"colorscale\": [[0.0, \"#0d0887\"], [0.1111111111111111, \"#46039f\"], [0.2222222222222222, \"#7201a8\"], [0.3333333333333333, \"#9c179e\"], [0.4444444444444444, \"#bd3786\"], [0.5555555555555556, \"#d8576b\"], [0.6666666666666666, \"#ed7953\"], [0.7777777777777778, \"#fb9f3a\"], [0.8888888888888888, \"#fdca26\"], [1.0, \"#f0f921\"]], \"type\": \"heatmap\"}], \"heatmapgl\": [{\"colorbar\": {\"outlinewidth\": 0, \"ticks\": \"\"}, \"colorscale\": [[0.0, \"#0d0887\"], [0.1111111111111111, \"#46039f\"], [0.2222222222222222, \"#7201a8\"], [0.3333333333333333, \"#9c179e\"], [0.4444444444444444, \"#bd3786\"], [0.5555555555555556, \"#d8576b\"], [0.6666666666666666, \"#ed7953\"], [0.7777777777777778, \"#fb9f3a\"], [0.8888888888888888, \"#fdca26\"], [1.0, \"#f0f921\"]], \"type\": \"heatmapgl\"}], \"histogram\": [{\"marker\": {\"colorbar\": {\"outlinewidth\": 0, \"ticks\": \"\"}}, \"type\": \"histogram\"}], \"histogram2d\": [{\"colorbar\": {\"outlinewidth\": 0, \"ticks\": \"\"}, \"colorscale\": [[0.0, \"#0d0887\"], [0.1111111111111111, \"#46039f\"], [0.2222222222222222, \"#7201a8\"], [0.3333333333333333, \"#9c179e\"], [0.4444444444444444, \"#bd3786\"], [0.5555555555555556, \"#d8576b\"], [0.6666666666666666, \"#ed7953\"], [0.7777777777777778, \"#fb9f3a\"], [0.8888888888888888, \"#fdca26\"], [1.0, \"#f0f921\"]], \"type\": \"histogram2d\"}], \"histogram2dcontour\": [{\"colorbar\": {\"outlinewidth\": 0, \"ticks\": \"\"}, \"colorscale\": [[0.0, \"#0d0887\"], [0.1111111111111111, \"#46039f\"], [0.2222222222222222, \"#7201a8\"], [0.3333333333333333, \"#9c179e\"], [0.4444444444444444, \"#bd3786\"], [0.5555555555555556, \"#d8576b\"], [0.6666666666666666, \"#ed7953\"], [0.7777777777777778, \"#fb9f3a\"], [0.8888888888888888, \"#fdca26\"], [1.0, \"#f0f921\"]], \"type\": \"histogram2dcontour\"}], \"mesh3d\": [{\"colorbar\": {\"outlinewidth\": 0, \"ticks\": \"\"}, \"type\": \"mesh3d\"}], \"parcoords\": [{\"line\": {\"colorbar\": {\"outlinewidth\": 0, \"ticks\": \"\"}}, \"type\": \"parcoords\"}], \"pie\": [{\"automargin\": true, \"type\": \"pie\"}], \"scatter\": [{\"marker\": {\"colorbar\": {\"outlinewidth\": 0, \"ticks\": \"\"}}, \"type\": \"scatter\"}], \"scatter3d\": [{\"line\": {\"colorbar\": {\"outlinewidth\": 0, \"ticks\": \"\"}}, \"marker\": {\"colorbar\": {\"outlinewidth\": 0, \"ticks\": \"\"}}, \"type\": \"scatter3d\"}], \"scattercarpet\": [{\"marker\": {\"colorbar\": {\"outlinewidth\": 0, \"ticks\": \"\"}}, \"type\": \"scattercarpet\"}], \"scattergeo\": [{\"marker\": {\"colorbar\": {\"outlinewidth\": 0, \"ticks\": \"\"}}, \"type\": \"scattergeo\"}], \"scattergl\": [{\"marker\": {\"colorbar\": {\"outlinewidth\": 0, \"ticks\": \"\"}}, \"type\": \"scattergl\"}], \"scattermapbox\": [{\"marker\": {\"colorbar\": {\"outlinewidth\": 0, \"ticks\": \"\"}}, \"type\": \"scattermapbox\"}], \"scatterpolar\": [{\"marker\": {\"colorbar\": {\"outlinewidth\": 0, \"ticks\": \"\"}}, \"type\": \"scatterpolar\"}], \"scatterpolargl\": [{\"marker\": {\"colorbar\": {\"outlinewidth\": 0, \"ticks\": \"\"}}, \"type\": \"scatterpolargl\"}], \"scatterternary\": [{\"marker\": {\"colorbar\": {\"outlinewidth\": 0, \"ticks\": \"\"}}, \"type\": \"scatterternary\"}], \"surface\": [{\"colorbar\": {\"outlinewidth\": 0, \"ticks\": \"\"}, \"colorscale\": [[0.0, \"#0d0887\"], [0.1111111111111111, \"#46039f\"], [0.2222222222222222, \"#7201a8\"], [0.3333333333333333, \"#9c179e\"], [0.4444444444444444, \"#bd3786\"], [0.5555555555555556, \"#d8576b\"], [0.6666666666666666, \"#ed7953\"], [0.7777777777777778, \"#fb9f3a\"], [0.8888888888888888, \"#fdca26\"], [1.0, \"#f0f921\"]], \"type\": \"surface\"}], \"table\": [{\"cells\": {\"fill\": {\"color\": \"#EBF0F8\"}, \"line\": {\"color\": \"white\"}}, \"header\": {\"fill\": {\"color\": \"#C8D4E3\"}, \"line\": {\"color\": \"white\"}}, \"type\": \"table\"}]}, \"layout\": {\"annotationdefaults\": {\"arrowcolor\": \"#2a3f5f\", \"arrowhead\": 0, \"arrowwidth\": 1}, \"coloraxis\": {\"colorbar\": {\"outlinewidth\": 0, \"ticks\": \"\"}}, \"colorscale\": {\"diverging\": [[0, \"#8e0152\"], [0.1, \"#c51b7d\"], [0.2, \"#de77ae\"], [0.3, \"#f1b6da\"], [0.4, \"#fde0ef\"], [0.5, \"#f7f7f7\"], [0.6, \"#e6f5d0\"], [0.7, \"#b8e186\"], [0.8, \"#7fbc41\"], [0.9, \"#4d9221\"], [1, \"#276419\"]], \"sequential\": [[0.0, \"#0d0887\"], [0.1111111111111111, \"#46039f\"], [0.2222222222222222, \"#7201a8\"], [0.3333333333333333, \"#9c179e\"], [0.4444444444444444, \"#bd3786\"], [0.5555555555555556, \"#d8576b\"], [0.6666666666666666, \"#ed7953\"], [0.7777777777777778, \"#fb9f3a\"], [0.8888888888888888, \"#fdca26\"], [1.0, \"#f0f921\"]], \"sequentialminus\": [[0.0, \"#0d0887\"], [0.1111111111111111, \"#46039f\"], [0.2222222222222222, \"#7201a8\"], [0.3333333333333333, \"#9c179e\"], [0.4444444444444444, \"#bd3786\"], [0.5555555555555556, \"#d8576b\"], [0.6666666666666666, \"#ed7953\"], [0.7777777777777778, \"#fb9f3a\"], [0.8888888888888888, \"#fdca26\"], [1.0, \"#f0f921\"]]}, \"colorway\": [\"#636efa\", \"#EF553B\", \"#00cc96\", \"#ab63fa\", \"#FFA15A\", \"#19d3f3\", \"#FF6692\", \"#B6E880\", \"#FF97FF\", \"#FECB52\"], \"font\": {\"color\": \"#2a3f5f\"}, \"geo\": {\"bgcolor\": \"white\", \"lakecolor\": \"white\", \"landcolor\": \"white\", \"showlakes\": true, \"showland\": true, \"subunitcolor\": \"#C8D4E3\"}, \"hoverlabel\": {\"align\": \"left\"}, \"hovermode\": \"closest\", \"mapbox\": {\"style\": \"light\"}, \"paper_bgcolor\": \"white\", \"plot_bgcolor\": \"white\", \"polar\": {\"angularaxis\": {\"gridcolor\": \"#EBF0F8\", \"linecolor\": \"#EBF0F8\", \"ticks\": \"\"}, \"bgcolor\": \"white\", \"radialaxis\": {\"gridcolor\": \"#EBF0F8\", \"linecolor\": \"#EBF0F8\", \"ticks\": \"\"}}, \"scene\": {\"xaxis\": {\"backgroundcolor\": \"white\", \"gridcolor\": \"#DFE8F3\", \"gridwidth\": 2, \"linecolor\": \"#EBF0F8\", \"showbackground\": true, \"ticks\": \"\", \"zerolinecolor\": \"#EBF0F8\"}, \"yaxis\": {\"backgroundcolor\": \"white\", \"gridcolor\": \"#DFE8F3\", \"gridwidth\": 2, \"linecolor\": \"#EBF0F8\", \"showbackground\": true, \"ticks\": \"\", \"zerolinecolor\": \"#EBF0F8\"}, \"zaxis\": {\"backgroundcolor\": \"white\", \"gridcolor\": \"#DFE8F3\", \"gridwidth\": 2, \"linecolor\": \"#EBF0F8\", \"showbackground\": true, \"ticks\": \"\", \"zerolinecolor\": \"#EBF0F8\"}}, \"shapedefaults\": {\"line\": {\"color\": \"#2a3f5f\"}}, \"ternary\": {\"aaxis\": {\"gridcolor\": \"#DFE8F3\", \"linecolor\": \"#A2B1C6\", \"ticks\": \"\"}, \"baxis\": {\"gridcolor\": \"#DFE8F3\", \"linecolor\": \"#A2B1C6\", \"ticks\": \"\"}, \"bgcolor\": \"white\", \"caxis\": {\"gridcolor\": \"#DFE8F3\", \"linecolor\": \"#A2B1C6\", \"ticks\": \"\"}}, \"title\": {\"x\": 0.05}, \"xaxis\": {\"automargin\": true, \"gridcolor\": \"#EBF0F8\", \"linecolor\": \"#EBF0F8\", \"ticks\": \"\", \"title\": {\"standoff\": 15}, \"zerolinecolor\": \"#EBF0F8\", \"zerolinewidth\": 2}, \"yaxis\": {\"automargin\": true, \"gridcolor\": \"#EBF0F8\", \"linecolor\": \"#EBF0F8\", \"ticks\": \"\", \"title\": {\"standoff\": 15}, \"zerolinecolor\": \"#EBF0F8\", \"zerolinewidth\": 2}}}, \"width\": 800, \"xaxis\": {\"anchor\": \"y\", \"domain\": [0.0, 1.0], \"title\": {\"text\": \"Number of neighbours\"}}, \"yaxis\": {\"anchor\": \"x\", \"domain\": [0.0, 1.0], \"title\": {\"text\": \"Cross-validation RMSE\"}}},\n",
       "                        {\"responsive\": true}\n",
       "                    ).then(function(){\n",
       "                            \n",
       "var gd = document.getElementById('2b280ebb-75b7-4fed-a4ce-3ab84fde53d9');\n",
       "var x = new MutationObserver(function (mutations, observer) {{\n",
       "        var display = window.getComputedStyle(gd).display;\n",
       "        if (!display || display === 'none') {{\n",
       "            console.log([gd, 'removed!']);\n",
       "            Plotly.purge(gd);\n",
       "            observer.disconnect();\n",
       "        }}\n",
       "}});\n",
       "\n",
       "// Listen for the removal of the full notebook cells\n",
       "var notebookContainer = gd.closest('#notebook-container');\n",
       "if (notebookContainer) {{\n",
       "    x.observe(notebookContainer, {childList: true});\n",
       "}}\n",
       "\n",
       "// Listen for the clearing of the current output cell\n",
       "var outputEl = gd.closest('.output');\n",
       "if (outputEl) {{\n",
       "    x.observe(outputEl, {childList: true});\n",
       "}}\n",
       "\n",
       "                        })\n",
       "                };\n",
       "                });\n",
       "            </script>\n",
       "        </div>"
      ]
     },
     "metadata": {},
     "output_type": "display_data"
    }
   ],
   "source": [
    "# Compute the CV error for k=1 to k=50\n",
    "ks=np.arange(1, 51)\n",
    "cv_errors = []\n",
    "for k in ks: \n",
    "    model = KNeighborsRegressor(n_neighbors= k, metric='mahalanobis', metric_params={'V': X_train.cov()}) \n",
    "    scores = cross_val_score(model, X_train, y_train, cv=rkf, scoring = 'neg_mean_squared_error')\n",
    "    rmse = np.sqrt(-1*np.mean(scores))\n",
    "    cv_errors.append(rmse)\n",
    "\n",
    "# Make figure \n",
    "fig = px.line(x=ks, y=cv_errors, \n",
    "              labels={'x': 'k', 'y': 'RMSE'}, \n",
    "              template='plotly_white',\n",
    "              color_discrete_sequence=px.colors.qualitative.T10)\n",
    "\n",
    "fig.update_layout(xaxis_title='Number of neighbours', yaxis_title='Cross-validation RMSE', )\n",
    "fig.update_layout(width=800, height=500)\n",
    "fig.show()"
   ]
  },
  {
   "cell_type": "markdown",
   "metadata": {},
   "source": [
    "The curve now looks much smoother, which suggests that repeated k-fold worked to reduced the variance. We still select `k=6`, but the choice now seems more reliable. \n",
    "\n",
    "**Warning!** Repeated k-fold is strictly better statistically but becomes very slow for larger datasets and more complex methods.\n",
    "\n",
    "## Aside\n",
    "Hot tip - If you find something to be too slow on your own computer use Google Colab. It's free!\n",
    "\n",
    "## 3. Hyperparameter optimisation\n",
    "\n",
    "What we did in the last section was a manual grid search for `k` with an added visualisation. Now, let's see how we can automate this process. "
   ]
  },
  {
   "cell_type": "code",
   "execution_count": 19,
   "metadata": {},
   "outputs": [
    {
     "data": {
      "text/plain": [
       "[(1, 4), (1, 5), (1, 6), (2, 4)]"
      ]
     },
     "execution_count": 19,
     "metadata": {},
     "output_type": "execute_result"
    }
   ],
   "source": [
    "parameter1 = [1, 2, 3]\n",
    "parameter2 = [4, 5, 6]\n",
    "\n",
    "[(1, 4), (1, 5), (1, 6), (2, 4)]"
   ]
  },
  {
   "cell_type": "code",
   "execution_count": 124,
   "metadata": {},
   "outputs": [
    {
     "data": {
      "text/plain": [
       "GridSearchCV(cv=RepeatedKFold(n_repeats=10, n_splits=5, random_state=100),\n",
       "             error_score=nan,\n",
       "             estimator=KNeighborsRegressor(algorithm='auto', leaf_size=30,\n",
       "                                           metric='mahalanobis',\n",
       "                                           metric_params={'V':                Limit        Income\n",
       "Limit   5.492703e+06  64999.556494\n",
       "Income  6.499956e+04   1210.189671},\n",
       "                                           n_jobs=None, n_neighbors=5, p=2,\n",
       "                                           weights='uniform'),\n",
       "             iid='deprecated', n_jobs=4,\n",
       "             param_grid={'n_neighbors': array([ 1,  2,  3,  4,  5,  6,  7,  8,  9, 10, 11, 12, 13, 14, 15, 16, 17,\n",
       "       18, 19, 20, 21, 22, 23, 24, 25, 26, 27, 28, 29, 30, 31, 32, 33, 34,\n",
       "       35, 36, 37, 38, 39, 40, 41, 42, 43, 44, 45, 46, 47, 48, 49, 50])},\n",
       "             pre_dispatch='2*n_jobs', refit=True, return_train_score=False,\n",
       "             scoring='neg_mean_squared_error', verbose=0)"
      ]
     },
     "execution_count": 124,
     "metadata": {},
     "output_type": "execute_result"
    }
   ],
   "source": [
    "from sklearn.model_selection import GridSearchCV\n",
    " \n",
    "# Learning algorithm\n",
    "model = KNeighborsRegressor(metric='mahalanobis', metric_params={'V': X_train.cov()}) \n",
    "\n",
    "# Hyperparameter grid\n",
    "param_grid = {'n_neighbors': np.arange(1,51),}\n",
    "\n",
    "# Run the grid search (cv=5 would do 5-fold CV instead)\n",
    "knn_search =  GridSearchCV(model, param_grid, cv = rkf,  scoring = 'neg_mean_squared_error',  n_jobs=4)\n",
    "knn_search.fit(X_train, y_train)"
   ]
  },
  {
   "cell_type": "markdown",
   "metadata": {},
   "source": [
    "Setting `n_jobs=4` splits the task across four processor cores, which speeds up the computations. You may need to reduce this depending on your computer.\n",
    "\n",
    "The `best_params_` attribute allows us view the selected value of the hyperparameter.  "
   ]
  },
  {
   "cell_type": "code",
   "execution_count": 125,
   "metadata": {},
   "outputs": [
    {
     "data": {
      "text/plain": [
       "{'n_neighbors': 6}"
      ]
     },
     "execution_count": 125,
     "metadata": {},
     "output_type": "execute_result"
    }
   ],
   "source": [
    "knn_search.best_params_"
   ]
  },
  {
   "cell_type": "markdown",
   "metadata": {},
   "source": [
    "The selected model is stored in the `best_estimator_` attribute: "
   ]
  },
  {
   "cell_type": "code",
   "execution_count": 22,
   "metadata": {},
   "outputs": [
    {
     "data": {
      "text/plain": [
       "KNeighborsRegressor(algorithm='auto', leaf_size=30, metric='mahalanobis',\n",
       "                    metric_params={'V':                Limit        Income\n",
       "Limit   5.492703e+06  64999.556494\n",
       "Income  6.499956e+04   1210.189671},\n",
       "                    n_jobs=None, n_neighbors=6, p=2, weights='uniform')"
      ]
     },
     "execution_count": 22,
     "metadata": {},
     "output_type": "execute_result"
    }
   ],
   "source": [
    "knn_search.best_estimator_"
   ]
  },
  {
   "cell_type": "markdown",
   "metadata": {},
   "source": [
    "## Aside\n",
    "The difference between `knn_search.best_params_` and `knn_search.best_estimator_` is the same as the difference between\n",
    "\n",
    "`k=6` and `knn = KNeighborsRegressor(n_neighbors=6, metric='mahalanobis', metric_params={'V': X_train.cov()})`\n",
    "\n",
    "`knn_search.best_params_` only stores the best parameter value, while `knn_search.best_estimator_` actually stores the best model. Which is why we can use `knn_search.best_estimator_` to predict, but not so true for `knn_search.best_params_`"
   ]
  },
  {
   "cell_type": "code",
   "execution_count": 128,
   "metadata": {},
   "outputs": [
    {
     "data": {
      "text/plain": [
       "array([944.66666667, 700.66666667,  44.83333333])"
      ]
     },
     "execution_count": 128,
     "metadata": {},
     "output_type": "execute_result"
    }
   ],
   "source": [
    "knn_search.best_estimator_.predict(X_train[:3])\n",
    "\n",
    "#knn_search.best_params_.predict(X_train[:3])"
   ]
  },
  {
   "cell_type": "markdown",
   "metadata": {},
   "source": [
    "## 4. Feature selection\n",
    "\n",
    "Now, let's look at how we can select the features. "
   ]
  },
  {
   "cell_type": "code",
   "execution_count": 129,
   "metadata": {},
   "outputs": [
    {
     "name": "stdout",
     "output_type": "stream",
     "text": [
      "['Income', 'Limit', 'Cards', 'Age', 'Education', 'Student', 'Married', 'Male', 'Caucasian', 'Asian']\n"
     ]
    }
   ],
   "source": [
    "predictors = [x for x in train.columns if x != response]\n",
    "print(predictors)"
   ]
  },
  {
   "cell_type": "markdown",
   "metadata": {},
   "source": [
    "### 4.1 Forward selection\n",
    "\n",
    "This next cell uses the forward selection method discussed in the lecture to choose the features for linear regression. Using the r-squared gives the same result as the MSE.\n",
    "\n",
    "## Aside - Forward Selection\n",
    "Forward selection is quite easy. All we do is start with zero predictors, and we add 1 predictor which performs the best. Then we another another predictor that performs the best, and so on."
   ]
  },
  {
   "cell_type": "code",
   "execution_count": 137,
   "metadata": {},
   "outputs": [
    {
     "name": "stdout",
     "output_type": "stream",
     "text": [
      "RMSE - 159.515; Test: ['Limit', 'Income']\n",
      "RMSE - 224.823; Test: ['Limit', 'Cards']\n",
      "RMSE - 223.441; Test: ['Limit', 'Age']\n",
      "RMSE - 226.883; Test: ['Limit', 'Education']\n",
      "RMSE - 194.695; Test: ['Limit', 'Student']\n",
      "RMSE - 226.619; Test: ['Limit', 'Married']\n",
      "RMSE - 226.190; Test: ['Limit', 'Male']\n",
      "RMSE - 225.467; Test: ['Limit', 'Caucasian']\n",
      "RMSE - 225.846; Test: ['Limit', 'Asian']\n"
     ]
    }
   ],
   "source": [
    "starting_predictors = ['Limit']\n",
    "unused_predictors = [predictor for predictor in predictors if predictor not in starting_predictors]\n",
    "\n",
    "for predictor in unused_predictors:\n",
    "    updated_predictors = starting_predictors + [predictor]\n",
    "    \n",
    "    updated_X_train = train.loc[:, updated_predictors]\n",
    "    \n",
    "    model = LinearRegression() \n",
    "    scores = cross_val_score(model, updated_X_train, y_train, cv=5, scoring = 'neg_mean_squared_error')\n",
    "    rmse = np.sqrt(-1*np.mean(scores))\n",
    "    \n",
    "    print(f'RMSE - {format(rmse, \".3f\")}; Test: {updated_predictors}')"
   ]
  },
  {
   "cell_type": "code",
   "execution_count": 135,
   "metadata": {},
   "outputs": [
    {
     "name": "stdout",
     "output_type": "stream",
     "text": [
      "('Income', 'Limit', 'Cards', 'Student')\n"
     ]
    }
   ],
   "source": [
    "from mlxtend.feature_selection import SequentialFeatureSelector as SFS\n",
    "\n",
    "fwd = SFS(LinearRegression(), k_features='best', forward=True, cv=5, scoring='neg_mean_squared_error')\n",
    "fwd.fit(train[predictors], y_train)\n",
    "subset_ols = fwd.k_feature_idx_ # we need the numerical indexes for later\n",
    "print(fwd.k_feature_names_)"
   ]
  },
  {
   "cell_type": "markdown",
   "metadata": {},
   "source": [
    "The cross-validation performance is stable for a number of features larger than three."
   ]
  },
  {
   "cell_type": "code",
   "execution_count": 136,
   "metadata": {},
   "outputs": [
    {
     "data": {
      "image/png": "[encoded data removed]",
      "text/plain": [
       "<Figure size 648x432 with 1 Axes>"
      ]
     },
     "metadata": {
      "needs_background": "light"
     },
     "output_type": "display_data"
    }
   ],
   "source": [
    "from mlxtend.plotting import plot_sequential_feature_selection as plot_sfs\n",
    "\n",
    "plot_sfs(fwd.get_metric_dict(), kind='std_dev') # The metric is the prediction R-squared by default\n",
    "sns.despine()\n",
    "plt.show()"
   ]
  },
  {
   "cell_type": "markdown",
   "metadata": {},
   "source": [
    "The dimensionality of our problem is small enough that we could actually do an exhaustive search (trying all feature combinations) in this case. However, this method is generally not computationally feasible."
   ]
  },
  {
   "cell_type": "code",
   "execution_count": 138,
   "metadata": {},
   "outputs": [
    {
     "name": "stderr",
     "output_type": "stream",
     "text": [
      "Features: 1023/1023"
     ]
    },
    {
     "data": {
      "text/plain": [
       "('Income', 'Limit', 'Cards', 'Student')"
      ]
     },
     "execution_count": 138,
     "metadata": {},
     "output_type": "execute_result"
    }
   ],
   "source": [
    "from mlxtend.feature_selection import ExhaustiveFeatureSelector\n",
    "\n",
    "bss = ExhaustiveFeatureSelector(LinearRegression(), max_features=10, cv=5, scoring='neg_mean_squared_error')\n",
    "bss.fit(train[predictors], y_train)\n",
    "bss.best_feature_names_"
   ]
  },
  {
   "cell_type": "markdown",
   "metadata": {},
   "source": [
    "Unfortunately, doing forward selection for kNN would require very advanced coding because of the metric parameters and the choice of `k`. The result is the choice of predictors below with `k=3`. "
   ]
  },
  {
   "cell_type": "code",
   "execution_count": 86,
   "metadata": {},
   "outputs": [],
   "source": [
    "subset_knn = [0, 1, 5]  # Income, Limit, Student"
   ]
  },
  {
   "cell_type": "markdown",
   "metadata": {},
   "source": [
    "### 4.2 Column selector\n",
    "\n",
    "For practical reasons, it's often useful if we can pass the same `X_train` for all methods, even if they use different features. We use a scikit-learn [pipeline](https://scikit-learn.org/stable/modules/generated/sklearn.pipeline.make_pipeline.html?highlight=pipeline#sklearn.pipeline.make_pipeline) to combine a sequence of data processing steps with a learning algorithm.\n",
    "\n",
    "## Aside - On Pipelines\n",
    "Pipelins are very much like exercising, they are something that we should all be doing but are too lazy to do it. Now because I'm very lazy, I rarely use pipelines. When I do it is because things became too complicated and I needed to simplify my code. But they are used a lot in the 'industry'.\n",
    "\n",
    "Suppose you were playing around with some dataset and you finally came up with a good plan of attack. Your game plan was to   \n",
    "    1. Perform the data transformations (like log transformations) and (or) remove some useless columns\n",
    "    2. Re-Scale Everything\n",
    "    3. Fit the model\n",
    "    \n",
    "Now you could very easily do this over multiple jupyter notebook cells, using many lines of code. But the 'industry' doesn't like this. It is too much code, and looks very complicated. As such we compress all the notebook cells into a pipeline.\n",
    "\n",
    "A pipeline is really just a function that does all the data transformation, re-scaling, and fitting the model in ONE line of code. Because all that work is can now be performed in just 1 line of code, rapid prototyping becomes SIGNIFICANLY quicker and easier to read. In comparison, if you keept all the jupyter notebooks, as we have been doing in tutorials, things can get complicated and too hard to read really quickly.\n",
    "\n",
    "Note that you can just make a function that does all of these steps behind the scenes, but we'll use `make_pipeline` from `sklearn`."
   ]
  },
  {
   "cell_type": "code",
   "execution_count": 30,
   "metadata": {},
   "outputs": [
    {
     "data": {
      "text/plain": [
       "(0, 1, 2, 5)"
      ]
     },
     "execution_count": 30,
     "metadata": {},
     "output_type": "execute_result"
    }
   ],
   "source": [
    "subset_ols"
   ]
  },
  {
   "cell_type": "code",
   "execution_count": 87,
   "metadata": {},
   "outputs": [
    {
     "data": {
      "text/plain": [
       "Pipeline(memory=None,\n",
       "         steps=[('columnselector',\n",
       "                 ColumnSelector(cols=[0, 1, 2, 5], drop_axis=False)),\n",
       "                ('standardscaler',\n",
       "                 StandardScaler(copy=True, with_mean=True, with_std=True)),\n",
       "                ('linearregression',\n",
       "                 LinearRegression(copy_X=True, fit_intercept=True, n_jobs=None,\n",
       "                                  normalize=False))],\n",
       "         verbose=False)"
      ]
     },
     "execution_count": 87,
     "metadata": {},
     "output_type": "execute_result"
    }
   ],
   "source": [
    "from sklearn.pipeline import make_pipeline\n",
    "from mlxtend.feature_selection import ColumnSelector\n",
    "\n",
    "ols = make_pipeline(ColumnSelector(cols=subset_ols), StandardScaler(), LinearRegression())\n",
    "ols.fit(train[predictors], y_train)"
   ]
  },
  {
   "cell_type": "markdown",
   "metadata": {},
   "source": [
    "## Aside\n",
    "You'll see then that we only need 2 lines of code to remove the useless columns, rescale, and fit a linear regression model. If you didn't use this `make_pipeline` it would take you a lot longer. Just look at our previous tutorial notebooks to see.\n",
    "\n",
    "But really, pipelines are used at the very end of modeling. They are made and used when you finalise the data-transformations, rescaling, and model selection."
   ]
  },
  {
   "cell_type": "markdown",
   "metadata": {},
   "source": [
    "For kNN:"
   ]
  },
  {
   "cell_type": "code",
   "execution_count": 32,
   "metadata": {},
   "outputs": [
    {
     "data": {
      "text/plain": [
       "[0, 1, 5]"
      ]
     },
     "execution_count": 32,
     "metadata": {},
     "output_type": "execute_result"
    }
   ],
   "source": [
    "subset_knn"
   ]
  },
  {
   "cell_type": "code",
   "execution_count": 139,
   "metadata": {},
   "outputs": [
    {
     "data": {
      "text/plain": [
       "Pipeline(memory=None,\n",
       "         steps=[('columnselector',\n",
       "                 ColumnSelector(cols=[0, 1, 5], drop_axis=False)),\n",
       "                ('kneighborsregressor',\n",
       "                 KNeighborsRegressor(algorithm='auto', leaf_size=30,\n",
       "                                     metric='mahalanobis',\n",
       "                                     metric_params={'V':                Income         Limit    Student\n",
       "Income    1210.189671  6.499956e+04  -0.226186\n",
       "Limit    64999.556494  5.492703e+06 -30.519713\n",
       "Student     -0.226186 -3.051971e+01   0.081605},\n",
       "                                     n_jobs=None, n_neighbors=3, p=2,\n",
       "                                     weights='uniform'))],\n",
       "         verbose=False)"
      ]
     },
     "execution_count": 139,
     "metadata": {},
     "output_type": "execute_result"
    }
   ],
   "source": [
    "knn = make_pipeline(ColumnSelector(cols=subset_knn),\n",
    "                    KNeighborsRegressor(n_neighbors=3, metric='mahalanobis', \n",
    "                                        metric_params={'V': train.iloc[:, subset_knn].cov()}))\n",
    "knn.fit(train[predictors], y_train)"
   ]
  },
  {
   "cell_type": "markdown",
   "metadata": {},
   "source": [
    "## Aside\n",
    "Note that we choose to use K-NN with 3 neighbours. But one could very easily make a pipline that performs the cross-validation to find the best number of neighbours. In the same sense, you can make a pipline that performs the forward variable selection as well. You can even make a pipeline that does it both. (Come to me in my consultation time if you want to do this)\n",
    "\n",
    "So pipelines are kind of cool then, using 1-2 lines of code you can have Python:\n",
    "    1. Transform the data\n",
    "    2. Perform Variable Selection\n",
    "    3. Perform cross-validation\n",
    "    4. Hyper-parameter selection\n",
    "    5. ...\n",
    "    6. Build Model\n",
    "ALL IN 1-2 LINES OF CODE!\n",
    "\n",
    "But this should be expected. If you told me you went running every day for 1 year, and you tell me that you are fitter than when you first started, that is something I'd expect."
   ]
  },
  {
   "cell_type": "markdown",
   "metadata": {},
   "source": [
    "### 4.3 Note\n",
    "\n",
    "Subset selection is one way to avoid overfitting in the number the features. It has the disadvantage of large computational cost. Regularisation is more common but not always applicable. \n",
    "\n",
    " ## 5. Model stacking\n",
    " \n",
    "From the lecture, the recommended approach for selecting the final model is to fit a model average and perhaps consider a more complex model stack. A model average is a special case of a model stack and always a great place to start because we can interpret the weights.\n",
    "\n",
    "### 5.1 Standard analysis\n",
    "\n",
    "We use the [StackingCVRegressor](https://rasbt.github.io/mlxtend/api_subpackages/mlxtend.regressor/#stackingcvregressor) method from the `mlxtend` package. We use a linear regression as the meta-model, which essentially does a model average."
   ]
  },
  {
   "cell_type": "markdown",
   "metadata": {},
   "source": [
    "X Train -> Model1 (OLS)\n",
    "X Train -> Model2 (KNN)\n",
    "X Train -> Model3 (Tree or Boosted Tree)\n",
    "\n",
    "(Model1, Model2, Model3) -> Model (Model stack or meta-model)"
   ]
  },
  {
   "cell_type": "code",
   "execution_count": 140,
   "metadata": {},
   "outputs": [],
   "source": [
    "%%capture \n",
    "\n",
    "from mlxtend.regressor import StackingCVRegressor\n",
    " \n",
    "stack = StackingCVRegressor(regressors=[ols,knn], meta_regressor=LinearRegression(), \n",
    "                           cv=5, random_state=10, store_train_meta_features=True)\n",
    "stack.fit(train[predictors], y_train)"
   ]
  },
  {
   "cell_type": "markdown",
   "metadata": {},
   "source": [
    "Let's check the model weights. They do not sum to one exactly since we do not restrict them, but we can interpret them as saying that meta-model gives about 72% weight to kNN and 28% weight to linear regression.  \n",
    "\n",
    "## Aside\n",
    "Notice how we use the `ols` and `knn` pipelines here."
   ]
  },
  {
   "cell_type": "code",
   "execution_count": 141,
   "metadata": {},
   "outputs": [
    {
     "data": {
      "text/plain": [
       "array([0.30681792, 0.73316533])"
      ]
     },
     "execution_count": 141,
     "metadata": {},
     "output_type": "execute_result"
    }
   ],
   "source": [
    "stack.meta_regr_.coef_"
   ]
  },
  {
   "cell_type": "code",
   "execution_count": 142,
   "metadata": {},
   "outputs": [],
   "source": [
    "prediction = {}\n",
    "prediction['Stack'] = stack.predict(train[predictors])"
   ]
  },
  {
   "cell_type": "markdown",
   "metadata": {},
   "source": [
    "It's also very useful to check how the model stack compares to the individual models. "
   ]
  },
  {
   "cell_type": "code",
   "execution_count": 143,
   "metadata": {},
   "outputs": [
    {
     "data": {
      "text/html": [
       "<div>\n",
       "<style scoped>\n",
       "    .dataframe tbody tr th:only-of-type {\n",
       "        vertical-align: middle;\n",
       "    }\n",
       "\n",
       "    .dataframe tbody tr th {\n",
       "        vertical-align: top;\n",
       "    }\n",
       "\n",
       "    .dataframe thead th {\n",
       "        text-align: right;\n",
       "    }\n",
       "</style>\n",
       "<table border=\"1\" class=\"dataframe\">\n",
       "  <thead>\n",
       "    <tr style=\"text-align: right;\">\n",
       "      <th></th>\n",
       "      <th>CV RMSE</th>\n",
       "      <th>CV R-Squared</th>\n",
       "      <th>CV MAE</th>\n",
       "    </tr>\n",
       "  </thead>\n",
       "  <tbody>\n",
       "    <tr>\n",
       "      <th>Linear Regression</th>\n",
       "      <td>102.63</td>\n",
       "      <td>0.95</td>\n",
       "      <td>81.67</td>\n",
       "    </tr>\n",
       "    <tr>\n",
       "      <th>kNN</th>\n",
       "      <td>76.00</td>\n",
       "      <td>0.97</td>\n",
       "      <td>49.11</td>\n",
       "    </tr>\n",
       "    <tr>\n",
       "      <th>Stack</th>\n",
       "      <td>49.31</td>\n",
       "      <td>0.99</td>\n",
       "      <td>37.71</td>\n",
       "    </tr>\n",
       "  </tbody>\n",
       "</table>\n",
       "</div>"
      ],
      "text/plain": [
       "                   CV RMSE  CV R-Squared  CV MAE\n",
       "Linear Regression   102.63          0.95   81.67\n",
       "kNN                  76.00          0.97   49.11\n",
       "Stack                49.31          0.99   37.71"
      ]
     },
     "execution_count": 143,
     "metadata": {},
     "output_type": "execute_result"
    }
   ],
   "source": [
    "from sklearn.model_selection import cross_val_predict\n",
    "\n",
    "# Initialise table\n",
    "columns=['CV RMSE', 'CV R-Squared', 'CV MAE']\n",
    "rows=['Linear Regression', 'kNN', 'Stack']\n",
    "results = pd.DataFrame(0.0, columns=columns, index=rows)\n",
    "\n",
    "# Get CV predictions\n",
    "y_pred = np.zeros((len(y_train), 4)) # initialising a matrix to store the predictions (one extra on purpose)\n",
    "y_pred[:,:2] = stack.train_meta_features_\n",
    "y_pred[:, 2] = stack.predict(train[predictors])\n",
    "# Fill table with the results\n",
    "for i in range(3):\n",
    "    results.iloc[i, 0] = np.sqrt(mean_squared_error(y_train, y_pred[:,i]))\n",
    "    results.iloc[i, 1] = r2_score(y_train, y_pred[:,i])\n",
    "    results.iloc[i, 2] = mean_absolute_error(y_train, y_pred[:,i])\n",
    "\n",
    "results.round(2)"
   ]
  },
  {
   "cell_type": "markdown",
   "metadata": {},
   "source": [
    "This model stack is very good! \n",
    "\n",
    "It's important to understand what's happening statistically. If we compute the correlation between the prediction errors from kNN and linear regression, it's quite weak in this case. In this situation, a model average is very effective for reducing variance, identically to diversification in finance.  "
   ]
  },
  {
   "cell_type": "code",
   "execution_count": 38,
   "metadata": {},
   "outputs": [
    {
     "data": {
      "text/plain": [
       "array([[1.        , 0.25482234],\n",
       "       [0.25482234, 1.        ]])"
      ]
     },
     "execution_count": 38,
     "metadata": {},
     "output_type": "execute_result"
    }
   ],
   "source": [
    "np.corrcoef((y_train.to_numpy().reshape((-1,1))-y_pred[:,:2]).T)"
   ]
  },
  {
   "cell_type": "markdown",
   "metadata": {},
   "source": [
    "### 5.2 Adjusted predictions\n",
    "\n",
    "We can do even better because of the issue that the linear regression model generates negative predictions that are inconsistent with the range of the response.  Ideally, we should use a model that does not do that in the first place. Nevertheless, we should always make the most out of the tools that we currently have. \n",
    "\n",
    "The disadvantage is that we have to fit the stack and make adjustments manually if we want to avoid coding that is too advanced. "
   ]
  },
  {
   "cell_type": "code",
   "execution_count": 146,
   "metadata": {},
   "outputs": [
    {
     "data": {
      "text/html": [
       "<div>\n",
       "<style scoped>\n",
       "    .dataframe tbody tr th:only-of-type {\n",
       "        vertical-align: middle;\n",
       "    }\n",
       "\n",
       "    .dataframe tbody tr th {\n",
       "        vertical-align: top;\n",
       "    }\n",
       "\n",
       "    .dataframe thead th {\n",
       "        text-align: right;\n",
       "    }\n",
       "</style>\n",
       "<table border=\"1\" class=\"dataframe\">\n",
       "  <thead>\n",
       "    <tr style=\"text-align: right;\">\n",
       "      <th></th>\n",
       "      <th>CV RMSE</th>\n",
       "      <th>CV R-Squared</th>\n",
       "      <th>CV MAE</th>\n",
       "    </tr>\n",
       "  </thead>\n",
       "  <tbody>\n",
       "    <tr>\n",
       "      <th>Linear Regression</th>\n",
       "      <td>74.51</td>\n",
       "      <td>0.97</td>\n",
       "      <td>56.54</td>\n",
       "    </tr>\n",
       "    <tr>\n",
       "      <th>kNN</th>\n",
       "      <td>76.00</td>\n",
       "      <td>0.97</td>\n",
       "      <td>49.11</td>\n",
       "    </tr>\n",
       "    <tr>\n",
       "      <th>Stack</th>\n",
       "      <td>49.31</td>\n",
       "      <td>0.99</td>\n",
       "      <td>37.71</td>\n",
       "    </tr>\n",
       "    <tr>\n",
       "      <th>Stack (adjusted)</th>\n",
       "      <td>40.54</td>\n",
       "      <td>0.99</td>\n",
       "      <td>27.67</td>\n",
       "    </tr>\n",
       "  </tbody>\n",
       "</table>\n",
       "</div>"
      ],
      "text/plain": [
       "                   CV RMSE  CV R-Squared  CV MAE\n",
       "Linear Regression    74.51          0.97   56.54\n",
       "kNN                  76.00          0.97   49.11\n",
       "Stack                49.31          0.99   37.71\n",
       "Stack (adjusted)     40.54          0.99   27.67"
      ]
     },
     "execution_count": 146,
     "metadata": {},
     "output_type": "execute_result"
    }
   ],
   "source": [
    "# Initialise table\n",
    "rows=['Linear Regression', 'kNN', 'Stack', 'Stack (adjusted)']\n",
    "results = pd.DataFrame(0.0, columns=columns, index=rows)\n",
    "\n",
    "# Adjustment in the linear regression predictions\n",
    "y_pred[y_pred[:, 0]<0, 0] = 0\n",
    "\n",
    "# New stack\n",
    "adjstack = LinearRegression().fit(y_pred[:,:2], y_train)\n",
    "y_pred[:, 3] = adjstack.predict(y_pred[:,:2])\n",
    "y_pred[y_pred[:, 3]<0, 3] = 0\n",
    "\n",
    "# Fill table with the results\n",
    "for i in range(4):\n",
    "    results.iloc[i, 0] = np.sqrt(mean_squared_error(y_train, y_pred[:,i]))\n",
    "    results.iloc[i, 1] = r2_score(y_train, y_pred[:,i])\n",
    "    results.iloc[i, 2] = mean_absolute_error(y_train, y_pred[:,i])\n",
    "\n",
    "results.round(2)"
   ]
  },
  {
   "cell_type": "code",
   "execution_count": 144,
   "metadata": {},
   "outputs": [],
   "source": [
    "prediction['Linear Regression'] = stack.train_meta_features_[:, 0]\n",
    "prediction['kNN'] = stack.train_meta_features_[:, 1]\n",
    "\n",
    "linear_prediction = prediction['Linear Regression']\n",
    "linear_prediction[linear_prediction < 0] = 0\n",
    "prediction['Adjusted Linear Regression'] = linear_prediction\n",
    "\n",
    "\n",
    "adj_inputs = np.c_[prediction['Adjusted Linear Regression'], prediction['kNN']]\n",
    "\n",
    "adj_stack_model = LinearRegression().fit(adj_inputs, y_train)\n",
    "adj_stack_pred = adj_stack_model.predict(adj_inputs)\n",
    "adj_stack_pred[adj_stack_pred < 0] = 0\n",
    "\n",
    "prediction['Adjusted Stack'] = adj_stack_pred"
   ]
  },
  {
   "cell_type": "code",
   "execution_count": 145,
   "metadata": {},
   "outputs": [
    {
     "name": "stdout",
     "output_type": "stream",
     "text": [
      "RMSE = 74.51; R2 = 0.97; MAE = 56.54; Model: Linear Regression\n",
      "RMSE = 76.00; R2 = 0.97; MAE = 49.11; Model: kNN\n",
      "RMSE = 49.31; R2 = 0.99; MAE = 37.71; Model: Stack\n",
      "RMSE = 40.54; R2 = 0.99; MAE = 27.67; Model: Adjusted Stack\n"
     ]
    }
   ],
   "source": [
    "rows = ['Linear Regression', 'kNN', 'Stack', 'Adjusted Stack']\n",
    "for r in rows:\n",
    "    working_prediction = prediction[r]\n",
    "    \n",
    "    RMSE = np.sqrt(mean_squared_error(y_train, working_prediction))\n",
    "    R2 = r2_score(y_train, working_prediction)\n",
    "    MAE = mean_absolute_error(y_train, working_prediction)\n",
    "    \n",
    "    print(f\"RMSE = {format(RMSE, '.2f')}; R2 = {format(R2, '.2f')}; MAE = {format(MAE, '.2f')}; Model: {r}\")"
   ]
  },
  {
   "cell_type": "markdown",
   "metadata": {},
   "source": [
    "## Aside\n",
    "Notice that we actually adjust the output of the linear regression before we perform the meta-regression."
   ]
  },
  {
   "cell_type": "markdown",
   "metadata": {},
   "source": [
    "Now it's the linear regression model that gets more weight. "
   ]
  },
  {
   "cell_type": "code",
   "execution_count": 147,
   "metadata": {},
   "outputs": [
    {
     "data": {
      "text/plain": [
       "array([0.76522707, 0.32917987])"
      ]
     },
     "execution_count": 147,
     "metadata": {},
     "output_type": "execute_result"
    }
   ],
   "source": [
    "adjstack.coef_"
   ]
  },
  {
   "cell_type": "code",
   "execution_count": 148,
   "metadata": {},
   "outputs": [
    {
     "data": {
      "text/plain": [
       "array([0.69921621, 0.30078379])"
      ]
     },
     "execution_count": 148,
     "metadata": {},
     "output_type": "execute_result"
    }
   ],
   "source": [
    "adjstack.coef_/np.sum(adjstack.coef_)"
   ]
  },
  {
   "cell_type": "markdown",
   "metadata": {},
   "source": [
    "### 5.3 Final model\n",
    "\n",
    "Before evaluation, it's essential that we identify what the final model is. Based on the above results, we select the adjusted stack. Even though we will show test results for other models, they are only for benchmarking and discussion.\n",
    "\n",
    "## 6. Evaluation - Test Set\n",
    " \n",
    "The key point in this tutorial is that everything that we did to arrive at the final model (hyperparameter optimisation, feature selection, and model stacking) was based exclusively on the training data. If model selection works well, the choices that minimise the cross-validation error should approximately be the choices that minimise the risk. \n",
    "\n",
    "In evaluation, we estimate the risk of the final model to evaluate whether its generalisation performance achieves the objectives of the machine learning project. In practice, these are business objectives that may require achieving a certain test RMSE or reducing the risk by a certain amount relative a benchmark. \n",
    "\n",
    "Since the objective of this project is learning, we take a linear regression based on all the predictors as a benchmark, which was our starting point in this unit.  \n",
    "\n",
    "The main test results are: \n",
    "\n",
    "1. We obtain a large reduction in the risk relative to the benchmark, which achieves the learning goals. For a large final institution, even small improvements in the risk can translate into hundreds of thousands or millions of dollars in business value. \n",
    "\n",
    "2. The final model performs very well relative to other models, just as the cross-validation results suggested. \n",
    "\n",
    "3.  The test set RMSE is similar to the cross-validation RMSE, which reassures us that the final model did not significantly overfit the training data. "
   ]
  },
  {
   "cell_type": "code",
   "execution_count": 149,
   "metadata": {},
   "outputs": [
    {
     "data": {
      "text/html": [
       "<div>\n",
       "<style scoped>\n",
       "    .dataframe tbody tr th:only-of-type {\n",
       "        vertical-align: middle;\n",
       "    }\n",
       "\n",
       "    .dataframe tbody tr th {\n",
       "        vertical-align: top;\n",
       "    }\n",
       "\n",
       "    .dataframe thead th {\n",
       "        text-align: right;\n",
       "    }\n",
       "</style>\n",
       "<table border=\"1\" class=\"dataframe\">\n",
       "  <thead>\n",
       "    <tr style=\"text-align: right;\">\n",
       "      <th></th>\n",
       "      <th>RMSE</th>\n",
       "      <th>R-Squared</th>\n",
       "      <th>MAE</th>\n",
       "    </tr>\n",
       "  </thead>\n",
       "  <tbody>\n",
       "    <tr>\n",
       "      <th>Benchmark</th>\n",
       "      <td>97.19</td>\n",
       "      <td>0.96</td>\n",
       "      <td>80.03</td>\n",
       "    </tr>\n",
       "    <tr>\n",
       "      <th>Linear Regression</th>\n",
       "      <td>78.42</td>\n",
       "      <td>0.97</td>\n",
       "      <td>62.06</td>\n",
       "    </tr>\n",
       "    <tr>\n",
       "      <th>kNN</th>\n",
       "      <td>81.15</td>\n",
       "      <td>0.97</td>\n",
       "      <td>49.34</td>\n",
       "    </tr>\n",
       "    <tr>\n",
       "      <th>Stack</th>\n",
       "      <td>68.30</td>\n",
       "      <td>0.98</td>\n",
       "      <td>49.95</td>\n",
       "    </tr>\n",
       "    <tr>\n",
       "      <th>Final model (adjusted stack)</th>\n",
       "      <td>44.33</td>\n",
       "      <td>0.99</td>\n",
       "      <td>31.63</td>\n",
       "    </tr>\n",
       "  </tbody>\n",
       "</table>\n",
       "</div>"
      ],
      "text/plain": [
       "                               RMSE  R-Squared    MAE\n",
       "Benchmark                     97.19       0.96  80.03\n",
       "Linear Regression             78.42       0.97  62.06\n",
       "kNN                           81.15       0.97  49.34\n",
       "Stack                         68.30       0.98  49.95\n",
       "Final model (adjusted stack)  44.33       0.99  31.63"
      ]
     },
     "execution_count": 149,
     "metadata": {},
     "output_type": "execute_result"
    }
   ],
   "source": [
    "# Initialise table\n",
    "columns=['RMSE', 'R-Squared', 'MAE']\n",
    "rows=['Benchmark', 'Linear Regression', 'kNN', 'Stack', 'Final model (adjusted stack)']\n",
    "results =pd.DataFrame(0.0, columns=columns, index=rows)\n",
    "\n",
    "# Benchmark\n",
    "benchmark = LinearRegression().fit(train[predictors], y_train)\n",
    "\n",
    "# Methods\n",
    "methods=[benchmark, ols, knn, stack]\n",
    "\n",
    "# Compute test predictions\n",
    "y_pred = np.zeros((len(y_test), 5))\n",
    "for i, method in enumerate(methods):\n",
    "    y_pred[:, i] = method.predict(test[predictors])\n",
    "    \n",
    "# adjusted method\n",
    "y_pred[y_pred[:, 1]<0, 1] = 0\n",
    "y_pred[:, 4] = adjstack.predict(y_pred[:,1:3])\n",
    "y_pred[y_pred[:, 4]<0, 4] = 0\n",
    "\n",
    "# Test results\n",
    "for i in range(5):\n",
    "    results.iloc[i, 0] = np.sqrt(mean_squared_error(y_test, y_pred[:,i]))\n",
    "    results.iloc[i, 1] = r2_score(y_test, y_pred[:,i])\n",
    "    results.iloc[i, 2] = mean_absolute_error(y_test, y_pred[:,i])\n",
    "\n",
    "results.round(2)"
   ]
  },
  {
   "cell_type": "markdown",
   "metadata": {},
   "source": [
    "We've come a long way with this data! This application illustrates that there's a lot that we can discover and do even with a small dataset. \n",
    "\n",
    "## 7.  Further tasks\n",
    "\n",
    "If you are looking for a challenge, you can try to modify the code to see if you can improve the models through feature engineering. For example, you can try transforming income and limit and investigate possible interactions. \n",
    "\n",
    "Transforming the response can eliminate the issue of negative predictions. "
   ]
  },
  {
   "cell_type": "markdown",
   "metadata": {},
   "source": [
    "# Aside - PCA and Dimensionality Reduction"
   ]
  },
  {
   "cell_type": "code",
   "execution_count": 45,
   "metadata": {},
   "outputs": [],
   "source": [
    "import matplotlib\n",
    "import matplotlib.pyplot as plt"
   ]
  },
  {
   "cell_type": "markdown",
   "metadata": {},
   "source": [
    "PCA, or principal component analysis, is relatively simple. It is all encoding. Essentially we want to take a given dataset and represent it into its `principal components`, meaning its main modes.\n",
    "\n",
    "As a trivial example let us think of colors. Below I have 9 colors and I want you to order them in a way that makes sense. Meaning that I want you to give me a representation such that I can say that `red > purple > blue`."
   ]
  },
  {
   "cell_type": "code",
   "execution_count": 46,
   "metadata": {},
   "outputs": [
    {
     "data": {
      "image/png": "[encoded data removed]",
      "text/plain": [
       "<Figure size 720x288 with 1 Axes>"
      ]
     },
     "metadata": {
      "needs_background": "light"
     },
     "output_type": "display_data"
    }
   ],
   "source": [
    "fig = plt.figure(figsize = (10, 4))\n",
    "color_map = matplotlib.cm.get_cmap('Set1').colors\n",
    "for i, color in enumerate(color_map):\n",
    "    plt.plot(i, 1, 'D', color = color, markersize = 24)"
   ]
  },
  {
   "cell_type": "markdown",
   "metadata": {},
   "source": [
    "An easy way to do this is to simply look at how much red is in a given color. In this case the amount of red is, in order,\n"
   ]
  },
  {
   "cell_type": "code",
   "execution_count": 47,
   "metadata": {},
   "outputs": [
    {
     "data": {
      "text/plain": [
       "[0.894, 0.216, 0.302, 0.596, 1.0, 1.0, 0.651, 0.969, 0.6]"
      ]
     },
     "execution_count": 47,
     "metadata": {},
     "output_type": "execute_result"
    }
   ],
   "source": [
    "[round(c[0], 3) for c in color_map]"
   ]
  },
  {
   "cell_type": "code",
   "execution_count": 48,
   "metadata": {},
   "outputs": [
    {
     "data": {
      "image/png": "[encoded data removed]",
      "text/plain": [
       "<Figure size 720x288 with 1 Axes>"
      ]
     },
     "metadata": {
      "needs_background": "light"
     },
     "output_type": "display_data"
    }
   ],
   "source": [
    "fig = plt.figure(figsize = (10, 4))\n",
    "color_map = matplotlib.cm.get_cmap('Set1').colors\n",
    "color_map = sorted(color_map, key = lambda x: x[0], reverse = True)\n",
    "\n",
    "for i, color in enumerate(color_map):\n",
    "    plt.plot(i, 1, 'D', color = color, markersize = 24)\n",
    "    plt.text(i-0.2, 0.98, s = format(color[0], '.3f'), fontsize = 12)"
   ]
  },
  {
   "cell_type": "markdown",
   "metadata": {},
   "source": [
    "Visually, of course, we see an issue. This encoding seems to suggest that pink (96.9%) is more red that the color red (89.4%) itself! The problem is that we have a really abstract concept, color, but not using enough components to represent it.\n",
    "\n",
    "Instead we'll use the Red-Green-Blue components."
   ]
  },
  {
   "cell_type": "code",
   "execution_count": 49,
   "metadata": {},
   "outputs": [
    {
     "data": {
      "text/plain": [
       "[['1.000', '0.498', '0.000'],\n",
       " ['1.000', '1.000', '0.200'],\n",
       " ['0.969', '0.506', '0.749'],\n",
       " ['0.894', '0.102', '0.110'],\n",
       " ['0.651', '0.337', '0.157'],\n",
       " ['0.600', '0.600', '0.600'],\n",
       " ['0.596', '0.306', '0.639'],\n",
       " ['0.302', '0.686', '0.290'],\n",
       " ['0.216', '0.494', '0.722']]"
      ]
     },
     "execution_count": 49,
     "metadata": {},
     "output_type": "execute_result"
    }
   ],
   "source": [
    "[[format(c, '.3f') for c in color] for color in color_map]"
   ]
  },
  {
   "cell_type": "markdown",
   "metadata": {},
   "source": [
    "And now everything makes sense. Pink, while having 96.9% red also has 50% Green and 75% Blue. Hence pink looks nothing like the color red.\n",
    "\n",
    "But this is quite amazing. We now have a way to place color in 3 dimensions, how strange is that?\n",
    "\n",
    "Anyways, this is what people mean by projecting an object in some high dimensions into lower dimensions. With color, if you want to project them into the red dimension (or component) you look at the color through a red stained glass. The light that passes through it will tell you the red component of the color, the projection on the red axis. You can do the same for the green and blue components"
   ]
  },
  {
   "cell_type": "code",
   "execution_count": 50,
   "metadata": {},
   "outputs": [
    {
     "ename": "SyntaxError",
     "evalue": "can't assign to literal (<ipython-input-50-c0ab9e3898ea>, line 1)",
     "output_type": "error",
     "traceback": [
      "\u001b[1;36m  File \u001b[1;32m\"<ipython-input-50-c0ab9e3898ea>\"\u001b[1;36m, line \u001b[1;32m1\u001b[0m\n\u001b[1;33m    1 = 2\u001b[0m\n\u001b[1;37m         ^\u001b[0m\n\u001b[1;31mSyntaxError\u001b[0m\u001b[1;31m:\u001b[0m can't assign to literal\n"
     ]
    }
   ],
   "source": [
    "1 = 2"
   ]
  },
  {
   "cell_type": "code",
   "execution_count": 150,
   "metadata": {},
   "outputs": [],
   "source": [
    "%matplotlib notebook"
   ]
  },
  {
   "cell_type": "code",
   "execution_count": 151,
   "metadata": {},
   "outputs": [
    {
     "data": {
      "application/javascript": [
       "/* Put everything inside the global mpl namespace */\n",
       "/* global mpl */\n",
       "window.mpl = {};\n",
       "\n",
       "mpl.get_websocket_type = function () {\n",
       "    if (typeof WebSocket !== 'undefined') {\n",
       "        return WebSocket;\n",
       "    } else if (typeof MozWebSocket !== 'undefined') {\n",
       "        return MozWebSocket;\n",
       "    } else {\n",
       "        alert(\n",
       "            'Your browser does not have WebSocket support. ' +\n",
       "                'Please try Chrome, Safari or Firefox ≥ 6. ' +\n",
       "                'Firefox 4 and 5 are also supported but you ' +\n",
       "                'have to enable WebSockets in about:config.'\n",
       "        );\n",
       "    }\n",
       "};\n",
       "\n",
       "mpl.figure = function (figure_id, websocket, ondownload, parent_element) {\n",
       "    this.id = figure_id;\n",
       "\n",
       "    this.ws = websocket;\n",
       "\n",
       "    this.supports_binary = this.ws.binaryType !== undefined;\n",
       "\n",
       "    if (!this.supports_binary) {\n",
       "        var warnings = document.getElementById('mpl-warnings');\n",
       "        if (warnings) {\n",
       "            warnings.style.display = 'block';\n",
       "            warnings.textContent =\n",
       "                'This browser does not support binary websocket messages. ' +\n",
       "                'Performance may be slow.';\n",
       "        }\n",
       "    }\n",
       "\n",
       "    this.imageObj = new Image();\n",
       "\n",
       "    this.context = undefined;\n",
       "    this.message = undefined;\n",
       "    this.canvas = undefined;\n",
       "    this.rubberband_canvas = undefined;\n",
       "    this.rubberband_context = undefined;\n",
       "    this.format_dropdown = undefined;\n",
       "\n",
       "    this.image_mode = 'full';\n",
       "\n",
       "    this.root = document.createElement('div');\n",
       "    this.root.setAttribute('style', 'display: inline-block');\n",
       "    this._root_extra_style(this.root);\n",
       "\n",
       "    parent_element.appendChild(this.root);\n",
       "\n",
       "    this._init_header(this);\n",
       "    this._init_canvas(this);\n",
       "    this._init_toolbar(this);\n",
       "\n",
       "    var fig = this;\n",
       "\n",
       "    this.waiting = false;\n",
       "\n",
       "    this.ws.onopen = function () {\n",
       "        fig.send_message('supports_binary', { value: fig.supports_binary });\n",
       "        fig.send_message('send_image_mode', {});\n",
       "        if (fig.ratio !== 1) {\n",
       "            fig.send_message('set_dpi_ratio', { dpi_ratio: fig.ratio });\n",
       "        }\n",
       "        fig.send_message('refresh', {});\n",
       "    };\n",
       "\n",
       "    this.imageObj.onload = function () {\n",
       "        if (fig.image_mode === 'full') {\n",
       "            // Full images could contain transparency (where diff images\n",
       "            // almost always do), so we need to clear the canvas so that\n",
       "            // there is no ghosting.\n",
       "            fig.context.clearRect(0, 0, fig.canvas.width, fig.canvas.height);\n",
       "        }\n",
       "        fig.context.drawImage(fig.imageObj, 0, 0);\n",
       "    };\n",
       "\n",
       "    this.imageObj.onunload = function () {\n",
       "        fig.ws.close();\n",
       "    };\n",
       "\n",
       "    this.ws.onmessage = this._make_on_message_function(this);\n",
       "\n",
       "    this.ondownload = ondownload;\n",
       "};\n",
       "\n",
       "mpl.figure.prototype._init_header = function () {\n",
       "    var titlebar = document.createElement('div');\n",
       "    titlebar.classList =\n",
       "        'ui-dialog-titlebar ui-widget-header ui-corner-all ui-helper-clearfix';\n",
       "    var titletext = document.createElement('div');\n",
       "    titletext.classList = 'ui-dialog-title';\n",
       "    titletext.setAttribute(\n",
       "        'style',\n",
       "        'width: 100%; text-align: center; padding: 3px;'\n",
       "    );\n",
       "    titlebar.appendChild(titletext);\n",
       "    this.root.appendChild(titlebar);\n",
       "    this.header = titletext;\n",
       "};\n",
       "\n",
       "mpl.figure.prototype._canvas_extra_style = function (_canvas_div) {};\n",
       "\n",
       "mpl.figure.prototype._root_extra_style = function (_canvas_div) {};\n",
       "\n",
       "mpl.figure.prototype._init_canvas = function () {\n",
       "    var fig = this;\n",
       "\n",
       "    var canvas_div = (this.canvas_div = document.createElement('div'));\n",
       "    canvas_div.setAttribute(\n",
       "        'style',\n",
       "        'border: 1px solid #ddd;' +\n",
       "            'box-sizing: content-box;' +\n",
       "            'clear: both;' +\n",
       "            'min-height: 1px;' +\n",
       "            'min-width: 1px;' +\n",
       "            'outline: 0;' +\n",
       "            'overflow: hidden;' +\n",
       "            'position: relative;' +\n",
       "            'resize: both;'\n",
       "    );\n",
       "\n",
       "    function on_keyboard_event_closure(name) {\n",
       "        return function (event) {\n",
       "            return fig.key_event(event, name);\n",
       "        };\n",
       "    }\n",
       "\n",
       "    canvas_div.addEventListener(\n",
       "        'keydown',\n",
       "        on_keyboard_event_closure('key_press')\n",
       "    );\n",
       "    canvas_div.addEventListener(\n",
       "        'keyup',\n",
       "        on_keyboard_event_closure('key_release')\n",
       "    );\n",
       "\n",
       "    this._canvas_extra_style(canvas_div);\n",
       "    this.root.appendChild(canvas_div);\n",
       "\n",
       "    var canvas = (this.canvas = document.createElement('canvas'));\n",
       "    canvas.classList.add('mpl-canvas');\n",
       "    canvas.setAttribute('style', 'box-sizing: content-box;');\n",
       "\n",
       "    this.context = canvas.getContext('2d');\n",
       "\n",
       "    var backingStore =\n",
       "        this.context.backingStorePixelRatio ||\n",
       "        this.context.webkitBackingStorePixelRatio ||\n",
       "        this.context.mozBackingStorePixelRatio ||\n",
       "        this.context.msBackingStorePixelRatio ||\n",
       "        this.context.oBackingStorePixelRatio ||\n",
       "        this.context.backingStorePixelRatio ||\n",
       "        1;\n",
       "\n",
       "    this.ratio = (window.devicePixelRatio || 1) / backingStore;\n",
       "    if (this.ratio !== 1) {\n",
       "        fig.send_message('set_dpi_ratio', { dpi_ratio: this.ratio });\n",
       "    }\n",
       "\n",
       "    var rubberband_canvas = (this.rubberband_canvas = document.createElement(\n",
       "        'canvas'\n",
       "    ));\n",
       "    rubberband_canvas.setAttribute(\n",
       "        'style',\n",
       "        'box-sizing: content-box; position: absolute; left: 0; top: 0; z-index: 1;'\n",
       "    );\n",
       "\n",
       "    var resizeObserver = new ResizeObserver(function (entries) {\n",
       "        var nentries = entries.length;\n",
       "        for (var i = 0; i < nentries; i++) {\n",
       "            var entry = entries[i];\n",
       "            var width, height;\n",
       "            if (entry.contentBoxSize) {\n",
       "                if (entry.contentBoxSize instanceof Array) {\n",
       "                    // Chrome 84 implements new version of spec.\n",
       "                    width = entry.contentBoxSize[0].inlineSize;\n",
       "                    height = entry.contentBoxSize[0].blockSize;\n",
       "                } else {\n",
       "                    // Firefox implements old version of spec.\n",
       "                    width = entry.contentBoxSize.inlineSize;\n",
       "                    height = entry.contentBoxSize.blockSize;\n",
       "                }\n",
       "            } else {\n",
       "                // Chrome <84 implements even older version of spec.\n",
       "                width = entry.contentRect.width;\n",
       "                height = entry.contentRect.height;\n",
       "            }\n",
       "\n",
       "            // Keep the size of the canvas and rubber band canvas in sync with\n",
       "            // the canvas container.\n",
       "            if (entry.devicePixelContentBoxSize) {\n",
       "                // Chrome 84 implements new version of spec.\n",
       "                canvas.setAttribute(\n",
       "                    'width',\n",
       "                    entry.devicePixelContentBoxSize[0].inlineSize\n",
       "                );\n",
       "                canvas.setAttribute(\n",
       "                    'height',\n",
       "                    entry.devicePixelContentBoxSize[0].blockSize\n",
       "                );\n",
       "            } else {\n",
       "                canvas.setAttribute('width', width * fig.ratio);\n",
       "                canvas.setAttribute('height', height * fig.ratio);\n",
       "            }\n",
       "            canvas.setAttribute(\n",
       "                'style',\n",
       "                'width: ' + width + 'px; height: ' + height + 'px;'\n",
       "            );\n",
       "\n",
       "            rubberband_canvas.setAttribute('width', width);\n",
       "            rubberband_canvas.setAttribute('height', height);\n",
       "\n",
       "            // And update the size in Python. We ignore the initial 0/0 size\n",
       "            // that occurs as the element is placed into the DOM, which should\n",
       "            // otherwise not happen due to the minimum size styling.\n",
       "            if (width != 0 && height != 0) {\n",
       "                fig.request_resize(width, height);\n",
       "            }\n",
       "        }\n",
       "    });\n",
       "    resizeObserver.observe(canvas_div);\n",
       "\n",
       "    function on_mouse_event_closure(name) {\n",
       "        return function (event) {\n",
       "            return fig.mouse_event(event, name);\n",
       "        };\n",
       "    }\n",
       "\n",
       "    rubberband_canvas.addEventListener(\n",
       "        'mousedown',\n",
       "        on_mouse_event_closure('button_press')\n",
       "    );\n",
       "    rubberband_canvas.addEventListener(\n",
       "        'mouseup',\n",
       "        on_mouse_event_closure('button_release')\n",
       "    );\n",
       "    // Throttle sequential mouse events to 1 every 20ms.\n",
       "    rubberband_canvas.addEventListener(\n",
       "        'mousemove',\n",
       "        on_mouse_event_closure('motion_notify')\n",
       "    );\n",
       "\n",
       "    rubberband_canvas.addEventListener(\n",
       "        'mouseenter',\n",
       "        on_mouse_event_closure('figure_enter')\n",
       "    );\n",
       "    rubberband_canvas.addEventListener(\n",
       "        'mouseleave',\n",
       "        on_mouse_event_closure('figure_leave')\n",
       "    );\n",
       "\n",
       "    canvas_div.addEventListener('wheel', function (event) {\n",
       "        if (event.deltaY < 0) {\n",
       "            event.step = 1;\n",
       "        } else {\n",
       "            event.step = -1;\n",
       "        }\n",
       "        on_mouse_event_closure('scroll')(event);\n",
       "    });\n",
       "\n",
       "    canvas_div.appendChild(canvas);\n",
       "    canvas_div.appendChild(rubberband_canvas);\n",
       "\n",
       "    this.rubberband_context = rubberband_canvas.getContext('2d');\n",
       "    this.rubberband_context.strokeStyle = '#000000';\n",
       "\n",
       "    this._resize_canvas = function (width, height, forward) {\n",
       "        if (forward) {\n",
       "            canvas_div.style.width = width + 'px';\n",
       "            canvas_div.style.height = height + 'px';\n",
       "        }\n",
       "    };\n",
       "\n",
       "    // Disable right mouse context menu.\n",
       "    this.rubberband_canvas.addEventListener('contextmenu', function (_e) {\n",
       "        event.preventDefault();\n",
       "        return false;\n",
       "    });\n",
       "\n",
       "    function set_focus() {\n",
       "        canvas.focus();\n",
       "        canvas_div.focus();\n",
       "    }\n",
       "\n",
       "    window.setTimeout(set_focus, 100);\n",
       "};\n",
       "\n",
       "mpl.figure.prototype._init_toolbar = function () {\n",
       "    var fig = this;\n",
       "\n",
       "    var toolbar = document.createElement('div');\n",
       "    toolbar.classList = 'mpl-toolbar';\n",
       "    this.root.appendChild(toolbar);\n",
       "\n",
       "    function on_click_closure(name) {\n",
       "        return function (_event) {\n",
       "            return fig.toolbar_button_onclick(name);\n",
       "        };\n",
       "    }\n",
       "\n",
       "    function on_mouseover_closure(tooltip) {\n",
       "        return function (event) {\n",
       "            if (!event.currentTarget.disabled) {\n",
       "                return fig.toolbar_button_onmouseover(tooltip);\n",
       "            }\n",
       "        };\n",
       "    }\n",
       "\n",
       "    fig.buttons = {};\n",
       "    var buttonGroup = document.createElement('div');\n",
       "    buttonGroup.classList = 'mpl-button-group';\n",
       "    for (var toolbar_ind in mpl.toolbar_items) {\n",
       "        var name = mpl.toolbar_items[toolbar_ind][0];\n",
       "        var tooltip = mpl.toolbar_items[toolbar_ind][1];\n",
       "        var image = mpl.toolbar_items[toolbar_ind][2];\n",
       "        var method_name = mpl.toolbar_items[toolbar_ind][3];\n",
       "\n",
       "        if (!name) {\n",
       "            /* Instead of a spacer, we start a new button group. */\n",
       "            if (buttonGroup.hasChildNodes()) {\n",
       "                toolbar.appendChild(buttonGroup);\n",
       "            }\n",
       "            buttonGroup = document.createElement('div');\n",
       "            buttonGroup.classList = 'mpl-button-group';\n",
       "            continue;\n",
       "        }\n",
       "\n",
       "        var button = (fig.buttons[name] = document.createElement('button'));\n",
       "        button.classList = 'mpl-widget';\n",
       "        button.setAttribute('role', 'button');\n",
       "        button.setAttribute('aria-disabled', 'false');\n",
       "        button.addEventListener('click', on_click_closure(method_name));\n",
       "        button.addEventListener('mouseover', on_mouseover_closure(tooltip));\n",
       "\n",
       "        var icon_img = document.createElement('img');\n",
       "        icon_img.src = '_images/' + image + '.png';\n",
       "        icon_img.srcset = '_images/' + image + '_large.png 2x';\n",
       "        icon_img.alt = tooltip;\n",
       "        button.appendChild(icon_img);\n",
       "\n",
       "        buttonGroup.appendChild(button);\n",
       "    }\n",
       "\n",
       "    if (buttonGroup.hasChildNodes()) {\n",
       "        toolbar.appendChild(buttonGroup);\n",
       "    }\n",
       "\n",
       "    var fmt_picker = document.createElement('select');\n",
       "    fmt_picker.classList = 'mpl-widget';\n",
       "    toolbar.appendChild(fmt_picker);\n",
       "    this.format_dropdown = fmt_picker;\n",
       "\n",
       "    for (var ind in mpl.extensions) {\n",
       "        var fmt = mpl.extensions[ind];\n",
       "        var option = document.createElement('option');\n",
       "        option.selected = fmt === mpl.default_extension;\n",
       "        option.innerHTML = fmt;\n",
       "        fmt_picker.appendChild(option);\n",
       "    }\n",
       "\n",
       "    var status_bar = document.createElement('span');\n",
       "    status_bar.classList = 'mpl-message';\n",
       "    toolbar.appendChild(status_bar);\n",
       "    this.message = status_bar;\n",
       "};\n",
       "\n",
       "mpl.figure.prototype.request_resize = function (x_pixels, y_pixels) {\n",
       "    // Request matplotlib to resize the figure. Matplotlib will then trigger a resize in the client,\n",
       "    // which will in turn request a refresh of the image.\n",
       "    this.send_message('resize', { width: x_pixels, height: y_pixels });\n",
       "};\n",
       "\n",
       "mpl.figure.prototype.send_message = function (type, properties) {\n",
       "    properties['type'] = type;\n",
       "    properties['figure_id'] = this.id;\n",
       "    this.ws.send(JSON.stringify(properties));\n",
       "};\n",
       "\n",
       "mpl.figure.prototype.send_draw_message = function () {\n",
       "    if (!this.waiting) {\n",
       "        this.waiting = true;\n",
       "        this.ws.send(JSON.stringify({ type: 'draw', figure_id: this.id }));\n",
       "    }\n",
       "};\n",
       "\n",
       "mpl.figure.prototype.handle_save = function (fig, _msg) {\n",
       "    var format_dropdown = fig.format_dropdown;\n",
       "    var format = format_dropdown.options[format_dropdown.selectedIndex].value;\n",
       "    fig.ondownload(fig, format);\n",
       "};\n",
       "\n",
       "mpl.figure.prototype.handle_resize = function (fig, msg) {\n",
       "    var size = msg['size'];\n",
       "    if (size[0] !== fig.canvas.width || size[1] !== fig.canvas.height) {\n",
       "        fig._resize_canvas(size[0], size[1], msg['forward']);\n",
       "        fig.send_message('refresh', {});\n",
       "    }\n",
       "};\n",
       "\n",
       "mpl.figure.prototype.handle_rubberband = function (fig, msg) {\n",
       "    var x0 = msg['x0'] / fig.ratio;\n",
       "    var y0 = (fig.canvas.height - msg['y0']) / fig.ratio;\n",
       "    var x1 = msg['x1'] / fig.ratio;\n",
       "    var y1 = (fig.canvas.height - msg['y1']) / fig.ratio;\n",
       "    x0 = Math.floor(x0) + 0.5;\n",
       "    y0 = Math.floor(y0) + 0.5;\n",
       "    x1 = Math.floor(x1) + 0.5;\n",
       "    y1 = Math.floor(y1) + 0.5;\n",
       "    var min_x = Math.min(x0, x1);\n",
       "    var min_y = Math.min(y0, y1);\n",
       "    var width = Math.abs(x1 - x0);\n",
       "    var height = Math.abs(y1 - y0);\n",
       "\n",
       "    fig.rubberband_context.clearRect(\n",
       "        0,\n",
       "        0,\n",
       "        fig.canvas.width / fig.ratio,\n",
       "        fig.canvas.height / fig.ratio\n",
       "    );\n",
       "\n",
       "    fig.rubberband_context.strokeRect(min_x, min_y, width, height);\n",
       "};\n",
       "\n",
       "mpl.figure.prototype.handle_figure_label = function (fig, msg) {\n",
       "    // Updates the figure title.\n",
       "    fig.header.textContent = msg['label'];\n",
       "};\n",
       "\n",
       "mpl.figure.prototype.handle_cursor = function (fig, msg) {\n",
       "    var cursor = msg['cursor'];\n",
       "    switch (cursor) {\n",
       "        case 0:\n",
       "            cursor = 'pointer';\n",
       "            break;\n",
       "        case 1:\n",
       "            cursor = 'default';\n",
       "            break;\n",
       "        case 2:\n",
       "            cursor = 'crosshair';\n",
       "            break;\n",
       "        case 3:\n",
       "            cursor = 'move';\n",
       "            break;\n",
       "    }\n",
       "    fig.rubberband_canvas.style.cursor = cursor;\n",
       "};\n",
       "\n",
       "mpl.figure.prototype.handle_message = function (fig, msg) {\n",
       "    fig.message.textContent = msg['message'];\n",
       "};\n",
       "\n",
       "mpl.figure.prototype.handle_draw = function (fig, _msg) {\n",
       "    // Request the server to send over a new figure.\n",
       "    fig.send_draw_message();\n",
       "};\n",
       "\n",
       "mpl.figure.prototype.handle_image_mode = function (fig, msg) {\n",
       "    fig.image_mode = msg['mode'];\n",
       "};\n",
       "\n",
       "mpl.figure.prototype.handle_history_buttons = function (fig, msg) {\n",
       "    for (var key in msg) {\n",
       "        if (!(key in fig.buttons)) {\n",
       "            continue;\n",
       "        }\n",
       "        fig.buttons[key].disabled = !msg[key];\n",
       "        fig.buttons[key].setAttribute('aria-disabled', !msg[key]);\n",
       "    }\n",
       "};\n",
       "\n",
       "mpl.figure.prototype.handle_navigate_mode = function (fig, msg) {\n",
       "    if (msg['mode'] === 'PAN') {\n",
       "        fig.buttons['Pan'].classList.add('active');\n",
       "        fig.buttons['Zoom'].classList.remove('active');\n",
       "    } else if (msg['mode'] === 'ZOOM') {\n",
       "        fig.buttons['Pan'].classList.remove('active');\n",
       "        fig.buttons['Zoom'].classList.add('active');\n",
       "    } else {\n",
       "        fig.buttons['Pan'].classList.remove('active');\n",
       "        fig.buttons['Zoom'].classList.remove('active');\n",
       "    }\n",
       "};\n",
       "\n",
       "mpl.figure.prototype.updated_canvas_event = function () {\n",
       "    // Called whenever the canvas gets updated.\n",
       "    this.send_message('ack', {});\n",
       "};\n",
       "\n",
       "// A function to construct a web socket function for onmessage handling.\n",
       "// Called in the figure constructor.\n",
       "mpl.figure.prototype._make_on_message_function = function (fig) {\n",
       "    return function socket_on_message(evt) {\n",
       "        if (evt.data instanceof Blob) {\n",
       "            /* FIXME: We get \"Resource interpreted as Image but\n",
       "             * transferred with MIME type text/plain:\" errors on\n",
       "             * Chrome.  But how to set the MIME type?  It doesn't seem\n",
       "             * to be part of the websocket stream */\n",
       "            evt.data.type = 'image/png';\n",
       "\n",
       "            /* Free the memory for the previous frames */\n",
       "            if (fig.imageObj.src) {\n",
       "                (window.URL || window.webkitURL).revokeObjectURL(\n",
       "                    fig.imageObj.src\n",
       "                );\n",
       "            }\n",
       "\n",
       "            fig.imageObj.src = (window.URL || window.webkitURL).createObjectURL(\n",
       "                evt.data\n",
       "            );\n",
       "            fig.updated_canvas_event();\n",
       "            fig.waiting = false;\n",
       "            return;\n",
       "        } else if (\n",
       "            typeof evt.data === 'string' &&\n",
       "            evt.data.slice(0, 21) === 'data:image/png;base64'\n",
       "        ) {\n",
       "            fig.imageObj.src = evt.data;\n",
       "            fig.updated_canvas_event();\n",
       "            fig.waiting = false;\n",
       "            return;\n",
       "        }\n",
       "\n",
       "        var msg = JSON.parse(evt.data);\n",
       "        var msg_type = msg['type'];\n",
       "\n",
       "        // Call the  \"handle_{type}\" callback, which takes\n",
       "        // the figure and JSON message as its only arguments.\n",
       "        try {\n",
       "            var callback = fig['handle_' + msg_type];\n",
       "        } catch (e) {\n",
       "            console.log(\n",
       "                \"No handler for the '\" + msg_type + \"' message type: \",\n",
       "                msg\n",
       "            );\n",
       "            return;\n",
       "        }\n",
       "\n",
       "        if (callback) {\n",
       "            try {\n",
       "                // console.log(\"Handling '\" + msg_type + \"' message: \", msg);\n",
       "                callback(fig, msg);\n",
       "            } catch (e) {\n",
       "                console.log(\n",
       "                    \"Exception inside the 'handler_\" + msg_type + \"' callback:\",\n",
       "                    e,\n",
       "                    e.stack,\n",
       "                    msg\n",
       "                );\n",
       "            }\n",
       "        }\n",
       "    };\n",
       "};\n",
       "\n",
       "// from http://stackoverflow.com/questions/1114465/getting-mouse-location-in-canvas\n",
       "mpl.findpos = function (e) {\n",
       "    //this section is from http://www.quirksmode.org/js/events_properties.html\n",
       "    var targ;\n",
       "    if (!e) {\n",
       "        e = window.event;\n",
       "    }\n",
       "    if (e.target) {\n",
       "        targ = e.target;\n",
       "    } else if (e.srcElement) {\n",
       "        targ = e.srcElement;\n",
       "    }\n",
       "    if (targ.nodeType === 3) {\n",
       "        // defeat Safari bug\n",
       "        targ = targ.parentNode;\n",
       "    }\n",
       "\n",
       "    // pageX,Y are the mouse positions relative to the document\n",
       "    var boundingRect = targ.getBoundingClientRect();\n",
       "    var x = e.pageX - (boundingRect.left + document.body.scrollLeft);\n",
       "    var y = e.pageY - (boundingRect.top + document.body.scrollTop);\n",
       "\n",
       "    return { x: x, y: y };\n",
       "};\n",
       "\n",
       "/*\n",
       " * return a copy of an object with only non-object keys\n",
       " * we need this to avoid circular references\n",
       " * http://stackoverflow.com/a/24161582/3208463\n",
       " */\n",
       "function simpleKeys(original) {\n",
       "    return Object.keys(original).reduce(function (obj, key) {\n",
       "        if (typeof original[key] !== 'object') {\n",
       "            obj[key] = original[key];\n",
       "        }\n",
       "        return obj;\n",
       "    }, {});\n",
       "}\n",
       "\n",
       "mpl.figure.prototype.mouse_event = function (event, name) {\n",
       "    var canvas_pos = mpl.findpos(event);\n",
       "\n",
       "    if (name === 'button_press') {\n",
       "        this.canvas.focus();\n",
       "        this.canvas_div.focus();\n",
       "    }\n",
       "\n",
       "    var x = canvas_pos.x * this.ratio;\n",
       "    var y = canvas_pos.y * this.ratio;\n",
       "\n",
       "    this.send_message(name, {\n",
       "        x: x,\n",
       "        y: y,\n",
       "        button: event.button,\n",
       "        step: event.step,\n",
       "        guiEvent: simpleKeys(event),\n",
       "    });\n",
       "\n",
       "    /* This prevents the web browser from automatically changing to\n",
       "     * the text insertion cursor when the button is pressed.  We want\n",
       "     * to control all of the cursor setting manually through the\n",
       "     * 'cursor' event from matplotlib */\n",
       "    event.preventDefault();\n",
       "    return false;\n",
       "};\n",
       "\n",
       "mpl.figure.prototype._key_event_extra = function (_event, _name) {\n",
       "    // Handle any extra behaviour associated with a key event\n",
       "};\n",
       "\n",
       "mpl.figure.prototype.key_event = function (event, name) {\n",
       "    // Prevent repeat events\n",
       "    if (name === 'key_press') {\n",
       "        if (event.which === this._key) {\n",
       "            return;\n",
       "        } else {\n",
       "            this._key = event.which;\n",
       "        }\n",
       "    }\n",
       "    if (name === 'key_release') {\n",
       "        this._key = null;\n",
       "    }\n",
       "\n",
       "    var value = '';\n",
       "    if (event.ctrlKey && event.which !== 17) {\n",
       "        value += 'ctrl+';\n",
       "    }\n",
       "    if (event.altKey && event.which !== 18) {\n",
       "        value += 'alt+';\n",
       "    }\n",
       "    if (event.shiftKey && event.which !== 16) {\n",
       "        value += 'shift+';\n",
       "    }\n",
       "\n",
       "    value += 'k';\n",
       "    value += event.which.toString();\n",
       "\n",
       "    this._key_event_extra(event, name);\n",
       "\n",
       "    this.send_message(name, { key: value, guiEvent: simpleKeys(event) });\n",
       "    return false;\n",
       "};\n",
       "\n",
       "mpl.figure.prototype.toolbar_button_onclick = function (name) {\n",
       "    if (name === 'download') {\n",
       "        this.handle_save(this, null);\n",
       "    } else {\n",
       "        this.send_message('toolbar_button', { name: name });\n",
       "    }\n",
       "};\n",
       "\n",
       "mpl.figure.prototype.toolbar_button_onmouseover = function (tooltip) {\n",
       "    this.message.textContent = tooltip;\n",
       "};\n",
       "mpl.toolbar_items = [[\"Home\", \"Reset original view\", \"fa fa-home icon-home\", \"home\"], [\"Back\", \"Back to previous view\", \"fa fa-arrow-left icon-arrow-left\", \"back\"], [\"Forward\", \"Forward to next view\", \"fa fa-arrow-right icon-arrow-right\", \"forward\"], [\"\", \"\", \"\", \"\"], [\"Pan\", \"Left button pans, Right button zooms\\nx/y fixes axis, CTRL fixes aspect\", \"fa fa-arrows icon-move\", \"pan\"], [\"Zoom\", \"Zoom to rectangle\\nx/y fixes axis, CTRL fixes aspect\", \"fa fa-square-o icon-check-empty\", \"zoom\"], [\"\", \"\", \"\", \"\"], [\"Download\", \"Download plot\", \"fa fa-floppy-o icon-save\", \"download\"]];\n",
       "\n",
       "mpl.extensions = [\"eps\", \"jpeg\", \"pdf\", \"png\", \"ps\", \"raw\", \"svg\", \"tif\"];\n",
       "\n",
       "mpl.default_extension = \"png\";/* global mpl */\n",
       "\n",
       "var comm_websocket_adapter = function (comm) {\n",
       "    // Create a \"websocket\"-like object which calls the given IPython comm\n",
       "    // object with the appropriate methods. Currently this is a non binary\n",
       "    // socket, so there is still some room for performance tuning.\n",
       "    var ws = {};\n",
       "\n",
       "    ws.close = function () {\n",
       "        comm.close();\n",
       "    };\n",
       "    ws.send = function (m) {\n",
       "        //console.log('sending', m);\n",
       "        comm.send(m);\n",
       "    };\n",
       "    // Register the callback with on_msg.\n",
       "    comm.on_msg(function (msg) {\n",
       "        //console.log('receiving', msg['content']['data'], msg);\n",
       "        // Pass the mpl event to the overridden (by mpl) onmessage function.\n",
       "        ws.onmessage(msg['content']['data']);\n",
       "    });\n",
       "    return ws;\n",
       "};\n",
       "\n",
       "mpl.mpl_figure_comm = function (comm, msg) {\n",
       "    // This is the function which gets called when the mpl process\n",
       "    // starts-up an IPython Comm through the \"matplotlib\" channel.\n",
       "\n",
       "    var id = msg.content.data.id;\n",
       "    // Get hold of the div created by the display call when the Comm\n",
       "    // socket was opened in Python.\n",
       "    var element = document.getElementById(id);\n",
       "    var ws_proxy = comm_websocket_adapter(comm);\n",
       "\n",
       "    function ondownload(figure, _format) {\n",
       "        window.open(figure.canvas.toDataURL());\n",
       "    }\n",
       "\n",
       "    var fig = new mpl.figure(id, ws_proxy, ondownload, element);\n",
       "\n",
       "    // Call onopen now - mpl needs it, as it is assuming we've passed it a real\n",
       "    // web socket which is closed, not our websocket->open comm proxy.\n",
       "    ws_proxy.onopen();\n",
       "\n",
       "    fig.parent_element = element;\n",
       "    fig.cell_info = mpl.find_output_cell(\"<div id='\" + id + \"'></div>\");\n",
       "    if (!fig.cell_info) {\n",
       "        console.error('Failed to find cell for figure', id, fig);\n",
       "        return;\n",
       "    }\n",
       "    fig.cell_info[0].output_area.element.one(\n",
       "        'cleared',\n",
       "        { fig: fig },\n",
       "        fig._remove_fig_handler\n",
       "    );\n",
       "};\n",
       "\n",
       "mpl.figure.prototype.handle_close = function (fig, msg) {\n",
       "    var width = fig.canvas.width / fig.ratio;\n",
       "    fig.cell_info[0].output_area.element.off(\n",
       "        'cleared',\n",
       "        fig._remove_fig_handler\n",
       "    );\n",
       "\n",
       "    // Update the output cell to use the data from the current canvas.\n",
       "    fig.push_to_output();\n",
       "    var dataURL = fig.canvas.toDataURL();\n",
       "    // Re-enable the keyboard manager in IPython - without this line, in FF,\n",
       "    // the notebook keyboard shortcuts fail.\n",
       "    IPython.keyboard_manager.enable();\n",
       "    fig.parent_element.innerHTML =\n",
       "        '<img src=\"' + dataURL + '\" width=\"' + width + '\">';\n",
       "    fig.close_ws(fig, msg);\n",
       "};\n",
       "\n",
       "mpl.figure.prototype.close_ws = function (fig, msg) {\n",
       "    fig.send_message('closing', msg);\n",
       "    // fig.ws.close()\n",
       "};\n",
       "\n",
       "mpl.figure.prototype.push_to_output = function (_remove_interactive) {\n",
       "    // Turn the data on the canvas into data in the output cell.\n",
       "    var width = this.canvas.width / this.ratio;\n",
       "    var dataURL = this.canvas.toDataURL();\n",
       "    this.cell_info[1]['text/html'] =\n",
       "        '<img src=\"' + dataURL + '\" width=\"' + width + '\">';\n",
       "};\n",
       "\n",
       "mpl.figure.prototype.updated_canvas_event = function () {\n",
       "    // Tell IPython that the notebook contents must change.\n",
       "    IPython.notebook.set_dirty(true);\n",
       "    this.send_message('ack', {});\n",
       "    var fig = this;\n",
       "    // Wait a second, then push the new image to the DOM so\n",
       "    // that it is saved nicely (might be nice to debounce this).\n",
       "    setTimeout(function () {\n",
       "        fig.push_to_output();\n",
       "    }, 1000);\n",
       "};\n",
       "\n",
       "mpl.figure.prototype._init_toolbar = function () {\n",
       "    var fig = this;\n",
       "\n",
       "    var toolbar = document.createElement('div');\n",
       "    toolbar.classList = 'btn-toolbar';\n",
       "    this.root.appendChild(toolbar);\n",
       "\n",
       "    function on_click_closure(name) {\n",
       "        return function (_event) {\n",
       "            return fig.toolbar_button_onclick(name);\n",
       "        };\n",
       "    }\n",
       "\n",
       "    function on_mouseover_closure(tooltip) {\n",
       "        return function (event) {\n",
       "            if (!event.currentTarget.disabled) {\n",
       "                return fig.toolbar_button_onmouseover(tooltip);\n",
       "            }\n",
       "        };\n",
       "    }\n",
       "\n",
       "    fig.buttons = {};\n",
       "    var buttonGroup = document.createElement('div');\n",
       "    buttonGroup.classList = 'btn-group';\n",
       "    var button;\n",
       "    for (var toolbar_ind in mpl.toolbar_items) {\n",
       "        var name = mpl.toolbar_items[toolbar_ind][0];\n",
       "        var tooltip = mpl.toolbar_items[toolbar_ind][1];\n",
       "        var image = mpl.toolbar_items[toolbar_ind][2];\n",
       "        var method_name = mpl.toolbar_items[toolbar_ind][3];\n",
       "\n",
       "        if (!name) {\n",
       "            /* Instead of a spacer, we start a new button group. */\n",
       "            if (buttonGroup.hasChildNodes()) {\n",
       "                toolbar.appendChild(buttonGroup);\n",
       "            }\n",
       "            buttonGroup = document.createElement('div');\n",
       "            buttonGroup.classList = 'btn-group';\n",
       "            continue;\n",
       "        }\n",
       "\n",
       "        button = fig.buttons[name] = document.createElement('button');\n",
       "        button.classList = 'btn btn-default';\n",
       "        button.href = '#';\n",
       "        button.title = name;\n",
       "        button.innerHTML = '<i class=\"fa ' + image + ' fa-lg\"></i>';\n",
       "        button.addEventListener('click', on_click_closure(method_name));\n",
       "        button.addEventListener('mouseover', on_mouseover_closure(tooltip));\n",
       "        buttonGroup.appendChild(button);\n",
       "    }\n",
       "\n",
       "    if (buttonGroup.hasChildNodes()) {\n",
       "        toolbar.appendChild(buttonGroup);\n",
       "    }\n",
       "\n",
       "    // Add the status bar.\n",
       "    var status_bar = document.createElement('span');\n",
       "    status_bar.classList = 'mpl-message pull-right';\n",
       "    toolbar.appendChild(status_bar);\n",
       "    this.message = status_bar;\n",
       "\n",
       "    // Add the close button to the window.\n",
       "    var buttongrp = document.createElement('div');\n",
       "    buttongrp.classList = 'btn-group inline pull-right';\n",
       "    button = document.createElement('button');\n",
       "    button.classList = 'btn btn-mini btn-primary';\n",
       "    button.href = '#';\n",
       "    button.title = 'Stop Interaction';\n",
       "    button.innerHTML = '<i class=\"fa fa-power-off icon-remove icon-large\"></i>';\n",
       "    button.addEventListener('click', function (_evt) {\n",
       "        fig.handle_close(fig, {});\n",
       "    });\n",
       "    button.addEventListener(\n",
       "        'mouseover',\n",
       "        on_mouseover_closure('Stop Interaction')\n",
       "    );\n",
       "    buttongrp.appendChild(button);\n",
       "    var titlebar = this.root.querySelector('.ui-dialog-titlebar');\n",
       "    titlebar.insertBefore(buttongrp, titlebar.firstChild);\n",
       "};\n",
       "\n",
       "mpl.figure.prototype._remove_fig_handler = function (event) {\n",
       "    var fig = event.data.fig;\n",
       "    fig.close_ws(fig, {});\n",
       "};\n",
       "\n",
       "mpl.figure.prototype._root_extra_style = function (el) {\n",
       "    el.style.boxSizing = 'content-box'; // override notebook setting of border-box.\n",
       "};\n",
       "\n",
       "mpl.figure.prototype._canvas_extra_style = function (el) {\n",
       "    // this is important to make the div 'focusable\n",
       "    el.setAttribute('tabindex', 0);\n",
       "    // reach out to IPython and tell the keyboard manager to turn it's self\n",
       "    // off when our div gets focus\n",
       "\n",
       "    // location in version 3\n",
       "    if (IPython.notebook.keyboard_manager) {\n",
       "        IPython.notebook.keyboard_manager.register_events(el);\n",
       "    } else {\n",
       "        // location in version 2\n",
       "        IPython.keyboard_manager.register_events(el);\n",
       "    }\n",
       "};\n",
       "\n",
       "mpl.figure.prototype._key_event_extra = function (event, _name) {\n",
       "    var manager = IPython.notebook.keyboard_manager;\n",
       "    if (!manager) {\n",
       "        manager = IPython.keyboard_manager;\n",
       "    }\n",
       "\n",
       "    // Check for shift+enter\n",
       "    if (event.shiftKey && event.which === 13) {\n",
       "        this.canvas_div.blur();\n",
       "        // select the cell after this one\n",
       "        var index = IPython.notebook.find_cell_index(this.cell_info[0]);\n",
       "        IPython.notebook.select(index + 1);\n",
       "    }\n",
       "};\n",
       "\n",
       "mpl.figure.prototype.handle_save = function (fig, _msg) {\n",
       "    fig.ondownload(fig, null);\n",
       "};\n",
       "\n",
       "mpl.find_output_cell = function (html_output) {\n",
       "    // Return the cell and output element which can be found *uniquely* in the notebook.\n",
       "    // Note - this is a bit hacky, but it is done because the \"notebook_saving.Notebook\"\n",
       "    // IPython event is triggered only after the cells have been serialised, which for\n",
       "    // our purposes (turning an active figure into a static one), is too late.\n",
       "    var cells = IPython.notebook.get_cells();\n",
       "    var ncells = cells.length;\n",
       "    for (var i = 0; i < ncells; i++) {\n",
       "        var cell = cells[i];\n",
       "        if (cell.cell_type === 'code') {\n",
       "            for (var j = 0; j < cell.output_area.outputs.length; j++) {\n",
       "                var data = cell.output_area.outputs[j];\n",
       "                if (data.data) {\n",
       "                    // IPython >= 3 moved mimebundle to data attribute of output\n",
       "                    data = data.data;\n",
       "                }\n",
       "                if (data['text/html'] === html_output) {\n",
       "                    return [cell, data, j];\n",
       "                }\n",
       "            }\n",
       "        }\n",
       "    }\n",
       "};\n",
       "\n",
       "// Register the function which deals with the matplotlib target/channel.\n",
       "// The kernel may be null if the page has been refreshed.\n",
       "if (IPython.notebook.kernel !== null) {\n",
       "    IPython.notebook.kernel.comm_manager.register_target(\n",
       "        'matplotlib',\n",
       "        mpl.mpl_figure_comm\n",
       "    );\n",
       "}\n"
      ],
      "text/plain": [
       "<IPython.core.display.Javascript object>"
      ]
     },
     "metadata": {},
     "output_type": "display_data"
    },
    {
     "data": {
      "text/html": [
       "<img src=\"data:image/png;base64,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\" width=\"648\">"
      ],
      "text/plain": [
       "<IPython.core.display.HTML object>"
      ]
     },
     "metadata": {},
     "output_type": "display_data"
    }
   ],
   "source": [
    "fig = plt.figure()\n",
    "ax = fig.add_subplot(111, projection='3d')\n",
    "\n",
    "for x, y, z in color_map:\n",
    "    ax.scatter(x, y, z, 'D', color = (x, y, z), s = 40)\n",
    "\n",
    "ax.set_xlabel('Red')\n",
    "ax.set_ylabel('Green')\n",
    "ax.set_zlabel('Blue')\n",
    "\n",
    "for angle in range(0, 360):\n",
    "    ax.view_init(30, angle)\n",
    "    plt.draw()\n",
    "    plt.pause(.001)"
   ]
  },
  {
   "cell_type": "markdown",
   "metadata": {},
   "source": [
    "So this is, in essence, what principal component analysis does. Given a dataset it finds the main principal components on which you can project your image on.\n",
    "\n",
    "One of the problem is that the principal components can be anything. For example, instead of using red-green-blue you can also use yellow-cyan-magenta.\n",
    "\n",
    "Being a bit more pragmatic about PCA, cars are a very high-dimensional object. But we can break down a car into different main components\n",
    "\n",
    "    Number of Tires - Number of Doors - Year Built OR\n",
    "    Number of Cylinders - Type of Engine - Safety Rating etc.\n",
    "Here we project a car by looking through a lense which makes everything invisible except for the number of tires, another lense that makes everything invisible except for the doors, etc.\n",
    "\n",
    "Now PCA is a bit more mathematical with how it finds these main components, but the general idea is still the same. That you take some object in some high dimension and break it down into its principal components. Then you can take something like an image and say that is has \n",
    "\n",
    "    1.03 of component 1, 0.42 of component 2, 3.41 of component 3, 2.78 of component 4\n",
    "And so we have broken down something of very high dimensions, like an image, into 4 main components.\n",
    "\n",
    "As a final example, below I have handwritten numbers (0, 1, 2, ... 9). Now of course one can break it into 10 components, that's easy (I'm actually not sure if this is easy). But an important question is, can you break it down into 3 dimensions?"
   ]
  },
  {
   "cell_type": "code",
   "execution_count": 152,
   "metadata": {},
   "outputs": [
    {
     "name": "stderr",
     "output_type": "stream",
     "text": [
      "Using TensorFlow backend.\n"
     ]
    }
   ],
   "source": [
    "%matplotlib inline\n",
    "from keras.datasets import mnist"
   ]
  },
  {
   "cell_type": "code",
   "execution_count": 153,
   "metadata": {},
   "outputs": [],
   "source": [
    "(X_train, _), _ = mnist.load_data()"
   ]
  },
  {
   "cell_type": "code",
   "execution_count": 154,
   "metadata": {},
   "outputs": [
    {
     "data": {
      "image/png": "[encoded data removed]",
      "text/plain": [
       "<Figure size 432x288 with 8 Axes>"
      ]
     },
     "metadata": {
      "needs_background": "light"
     },
     "output_type": "display_data"
    }
   ],
   "source": [
    "fig = plt.figure()\n",
    "for i in range(8):\n",
    "    plt.subplot(2, 4, i + 1)\n",
    "    plt.imshow(X_train[i], cmap = 'gray')"
   ]
  },
  {
   "cell_type": "markdown",
   "metadata": {},
   "source": [
    "https://colah.github.io/posts/2014-10-Visualizing-MNIST/"
   ]
  },
  {
   "cell_type": "code",
   "execution_count": null,
   "metadata": {},
   "outputs": [],
   "source": []
  },
  {
   "cell_type": "code",
   "execution_count": null,
   "metadata": {},
   "outputs": [],
   "source": []
  },
  {
   "cell_type": "code",
   "execution_count": null,
   "metadata": {},
   "outputs": [],
   "source": []
  },
  {
   "cell_type": "code",
   "execution_count": null,
   "metadata": {},
   "outputs": [],
   "source": [
    "np.arange(1, 51)"
   ]
  },
  {
   "cell_type": "code",
   "execution_count": null,
   "metadata": {},
   "outputs": [],
   "source": [
    "import random\n",
    "random.sample(list(np.arange(1, 51)), 20)"
   ]
  },
  {
   "cell_type": "markdown",
   "metadata": {},
   "source": [
    "0 < parameter < 10"
   ]
  },
  {
   "cell_type": "code",
   "execution_count": null,
   "metadata": {},
   "outputs": [],
   "source": [
    "np.arange(0, 10, 0.1)"
   ]
  },
  {
   "cell_type": "code",
   "execution_count": null,
   "metadata": {},
   "outputs": [],
   "source": [
    "np.random.rand(10)*10 "
   ]
  },
  {
   "cell_type": "code",
   "execution_count": null,
   "metadata": {},
   "outputs": [],
   "source": []
  },
  {
   "cell_type": "code",
   "execution_count": null,
   "metadata": {},
   "outputs": [],
   "source": []
  }
 ],
 "metadata": {
  "kernelspec": {
   "display_name": "Python 3",
   "language": "python",
   "name": "python3"
  },
  "language_info": {
   "codemirror_mode": {
    "name": "ipython",
    "version": 3
   },
   "file_extension": ".py",
   "mimetype": "text/x-python",
   "name": "python",
   "nbconvert_exporter": "python",
   "pygments_lexer": "ipython3",
   "version": "3.7.6"
  }
 },
 "nbformat": 4,
 "nbformat_minor": 4
}

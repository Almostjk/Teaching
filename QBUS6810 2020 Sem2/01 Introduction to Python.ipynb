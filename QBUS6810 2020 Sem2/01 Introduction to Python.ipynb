{
 "cells": [
  {
   "cell_type": "markdown",
   "metadata": {},
   "source": [
    "<img align=\"center\" src=\"http://sydney.edu.au/images/content/about/logo-mono.jpg\">\n",
    "<h1 align=\"center\" style=\"margin-top:10px\">Statistical Learning and Data Mining</h1>\n",
    "<h3 align=\"center\" style=\"margin-top:20px\">Week 1 Tutorial: Python for Data Science (Part 1)</h3>\n",
    "<br>\n",
    "\n",
    "This tutorial is the first part of an introduction to the essentials of the Python programming language for the course. This part will focus on the basics of the language, while the second will discuss how we work with data using Python. This is all preparatory work before we start using statistical learning methods.  \n",
    "\n",
    "The [Learning with Python](https://canvas.sydney.edu.au/courses/26621/pages/learning-with-python) module has comprehensive information about the use of Python in this unit, in particular the expected learning outcomes in relation to it. \n",
    "\n",
    "We assume that you followed the instructions for installing Python and have your notebook ready to go."
   ]
  },
  {
   "cell_type": "markdown",
   "metadata": {},
   "source": [
    "<a href=\"#1.-Getting-Started\">Getting Started</a> <br> \n",
    "<a href=\"#2.-Debugging\">Debugging</a> <br> \n",
    "<a href=\"#3.-Modules\">Modules</a> <br>\n",
    "<a href=\"#4.-Data-Types\">Data Types</a> <br>\n",
    "<a href=\"#5.-Data-Structures\">Data Structures</a> <br>\n",
    "<a  style=\"margin-left:20px\" href=\"#5.-Data-Structures\">Lists</a><br>\n",
    "<a  style=\"margin-left:20px\" href=\"#5.-Data-Structures\">Dictionaries</a><br>\n",
    "<a  style=\"margin-left:20px\" href=\"#5.-Data-Structures\">Tuples</a><br>\n",
    "<a href=\"#6.-For-Loops\">For Loops</a> <br>\n",
    "<a href=\"#7.-List-Comprehensions\">List Comprehensions</a> <br>\n",
    "<a href=\"#8.-Functions\">Functions</a> <br>\n",
    "<a href=\"#9.-If-Statements\">If Statements</a> <br>"
   ]
  },
  {
   "cell_type": "markdown",
   "metadata": {},
   "source": [
    "### 1. Getting Started\n",
    "\n",
    "To get started, you can use your notebook as a calculator. For example:"
   ]
  },
  {
   "cell_type": "code",
   "execution_count": 76,
   "metadata": {},
   "outputs": [
    {
     "data": {
      "text/plain": [
       "4"
      ]
     },
     "execution_count": 76,
     "metadata": {},
     "output_type": "execute_result"
    }
   ],
   "source": [
    "2 + 2"
   ]
  },
  {
   "cell_type": "code",
   "execution_count": 77,
   "metadata": {},
   "outputs": [
    {
     "data": {
      "text/plain": [
       "1.5"
      ]
     },
     "execution_count": 77,
     "metadata": {},
     "output_type": "execute_result"
    }
   ],
   "source": [
    "3/2"
   ]
  },
  {
   "cell_type": "markdown",
   "metadata": {},
   "source": [
    "Exercise: identify the use of following arithmetic operators: `+`,`−`,`∗`,`/`,`∗∗`,`%`.\n",
    "\n",
    "The following statement assigns a value to the variable `x`. Because the variable does not yet exist, the assignment statements creates the variable."
   ]
  },
  {
   "cell_type": "code",
   "execution_count": 86,
   "metadata": {},
   "outputs": [
    {
     "data": {
      "text/plain": [
       "1"
      ]
     },
     "execution_count": 86,
     "metadata": {},
     "output_type": "execute_result"
    }
   ],
   "source": [
    "5 % 2"
   ]
  },
  {
   "cell_type": "code",
   "execution_count": 87,
   "metadata": {},
   "outputs": [
    {
     "data": {
      "text/plain": [
       "5"
      ]
     },
     "execution_count": 87,
     "metadata": {},
     "output_type": "execute_result"
    }
   ],
   "source": [
    "x = 5\n",
    "x"
   ]
  },
  {
   "cell_type": "code",
   "execution_count": 88,
   "metadata": {},
   "outputs": [
    {
     "data": {
      "text/plain": [
       "7"
      ]
     },
     "execution_count": 88,
     "metadata": {},
     "output_type": "execute_result"
    }
   ],
   "source": [
    "x + 2"
   ]
  },
  {
   "cell_type": "markdown",
   "metadata": {},
   "source": [
    "Exercise: identify what the syntax `x += 2` does (we say that `+=` is an assignment operator).\n",
    "\n",
    "The `print` function allows you to display output."
   ]
  },
  {
   "cell_type": "code",
   "execution_count": 91,
   "metadata": {},
   "outputs": [
    {
     "name": "stdout",
     "output_type": "stream",
     "text": [
      "5\n",
      "7\n"
     ]
    }
   ],
   "source": [
    "x = 5\n",
    "print(x)\n",
    "x += 2 # x = x + 2\n",
    "print(x)"
   ]
  },
  {
   "cell_type": "code",
   "execution_count": 92,
   "metadata": {
    "scrolled": true
   },
   "outputs": [
    {
     "name": "stdout",
     "output_type": "stream",
     "text": [
      "For truth is always strange; stranger than fiction.\n"
     ]
    }
   ],
   "source": [
    "print('For truth is always strange; stranger than fiction.') # Lord Byron (the # starts a comment)"
   ]
  },
  {
   "cell_type": "code",
   "execution_count": 8,
   "metadata": {},
   "outputs": [
    {
     "name": "stdout",
     "output_type": "stream",
     "text": [
      "10\n"
     ]
    }
   ],
   "source": [
    "x = 10\n",
    "print(x)"
   ]
  },
  {
   "cell_type": "markdown",
   "metadata": {},
   "source": [
    "The `print` function is a built-in function which is part of the core of the Python programming language. Another example of a built-in function is `abs`, which computes the absolute value of a number."
   ]
  },
  {
   "cell_type": "code",
   "execution_count": 94,
   "metadata": {},
   "outputs": [
    {
     "data": {
      "text/plain": [
       "2"
      ]
     },
     "execution_count": 94,
     "metadata": {},
     "output_type": "execute_result"
    }
   ],
   "source": [
    "abs(-2)"
   ]
  },
  {
   "cell_type": "markdown",
   "metadata": {},
   "source": [
    "The `help` function describes an object and its syntax."
   ]
  },
  {
   "cell_type": "code",
   "execution_count": 99,
   "metadata": {},
   "outputs": [
    {
     "name": "stdout",
     "output_type": "stream",
     "text": [
      "Help on built-in function abs in module builtins:\n",
      "\n",
      "abs(x, /)\n",
      "    Return the absolute value of the argument.\n",
      "\n"
     ]
    }
   ],
   "source": [
    "help(abs) # ?abs also works"
   ]
  },
  {
   "cell_type": "markdown",
   "metadata": {},
   "source": [
    "To get help for operators you need to use quotation marks, for example `help('+')`."
   ]
  },
  {
   "cell_type": "markdown",
   "metadata": {},
   "source": [
    "### 2. Debugging\n",
    "\n",
    "Remove the comment syntax `#` from the next cell and run it.  "
   ]
  },
  {
   "cell_type": "code",
   "execution_count": 100,
   "metadata": {},
   "outputs": [],
   "source": [
    "x = 0\n",
    "# 1/x"
   ]
  },
  {
   "cell_type": "markdown",
   "metadata": {},
   "source": [
    "You got an error message. It tells you what the problem is so that you can fix it. \n",
    "\n",
    "Your code will only generate the correct result if it is entirely correct, both in terms of the syntax and the logical consistency of what you are trying to do. Otherwise, you get an error message or an incorrect result.  \n",
    "\n",
    "**Mistakes and error messages are normal and occur frequently regardless of your programming experience.**  \n",
    "\n",
    "**Troubleshooting is an essential skill**. You can and should develop it. Because error messages are frequent and typically related to details rather than the main learning outcomes of this unit, in this unit we will encourage you to try to fix any issues by yourself at first. If you are not successful then we will be here to help you. \n",
    "  \n",
    "Here's what you should do if you get an an error message:\n",
    "\n",
    "<ul>\n",
    "<li style=\"margin-bottom:10px\">Carefully read the error message and try to identify information that would allow you to fix your code, like it the example above.</li>\n",
    "<li style=\"margin-bottom:10px\">Check the code again to try to spot the mistake.</li>\n",
    "<li style=\"margin-bottom:10px\">Use the<span>&nbsp;</span><code>help</code><span>&nbsp;</span>function.</li>\n",
    "<li style=\"margin-bottom:10px\">Verify the syntax by looking up the package documentation.</li>\n",
    "<li style=\"margin-bottom:10px\">Use a search engine to try to find a solution, for example by copying and pasting the key part of the error message. You will often find that the solution to your problem was posted an online communities like Stack Overflow.</li>\n",
    "<li style=\"margin-bottom:10px\">Ask on Ed. When doing so, it is important to provide the full context by posting the full error message as well as the code that generated it.</li>\n",
    "<li style=\"margin-bottom:10px\">You can of course ask any questions during tutorials, but please be mindful so that tutors can focus primarily on statistical learning.</li>\n",
    "<li>Consider if it's better to use an alternative or simply move on, so that you do not spend time on programming details that have limited relevance to the main material.</li>\n",
    "</ul>"
   ]
  },
  {
   "cell_type": "markdown",
   "metadata": {},
   "source": [
    "### 3. Modules\n",
    "\n",
    "The Python language by design has a small core. Most of the fuctionality that we need is in modules or packages that we need to explicity load into our session. There are two ways to do this: either by loading the entire module (or a submodule) or a specific function that we need."
   ]
  },
  {
   "cell_type": "code",
   "execution_count": 106,
   "metadata": {},
   "outputs": [
    {
     "data": {
      "text/plain": [
       "2.0"
      ]
     },
     "execution_count": 106,
     "metadata": {},
     "output_type": "execute_result"
    }
   ],
   "source": [
    "import math\n",
    "math.sqrt(4)"
   ]
  },
  {
   "cell_type": "code",
   "execution_count": 102,
   "metadata": {},
   "outputs": [
    {
     "data": {
      "text/html": [
       "<div>\n",
       "<style scoped>\n",
       "    .dataframe tbody tr th:only-of-type {\n",
       "        vertical-align: middle;\n",
       "    }\n",
       "\n",
       "    .dataframe tbody tr th {\n",
       "        vertical-align: top;\n",
       "    }\n",
       "\n",
       "    .dataframe thead th {\n",
       "        text-align: right;\n",
       "    }\n",
       "</style>\n",
       "<table border=\"1\" class=\"dataframe\">\n",
       "  <thead>\n",
       "    <tr style=\"text-align: right;\">\n",
       "      <th></th>\n",
       "      <th>Class 000 – Computer science, information &amp; general works</th>\n",
       "      <th>Class 100 – Philosophy &amp; psychology</th>\n",
       "      <th>Class 200 – Religion</th>\n",
       "      <th>Class 300 – Social sciences</th>\n",
       "      <th>Class 400 – Language</th>\n",
       "      <th>Class 500 – Science</th>\n",
       "      <th>Class 600 – Technology</th>\n",
       "    </tr>\n",
       "  </thead>\n",
       "  <tbody>\n",
       "    <tr>\n",
       "      <th>0</th>\n",
       "      <td>000 Computer science, knowledge &amp; systems</td>\n",
       "      <td>100 Philosophy &amp; psychology</td>\n",
       "      <td>200 Religion</td>\n",
       "      <td>300 Social sciences</td>\n",
       "      <td>400 Language</td>\n",
       "      <td>500 Natural sciences &amp; mathematics</td>\n",
       "      <td>600 Technology (Applied sciences)</td>\n",
       "    </tr>\n",
       "    <tr>\n",
       "      <th>1</th>\n",
       "      <td>010 Bibliographies</td>\n",
       "      <td>110 Metaphysics</td>\n",
       "      <td>210 Philosophy &amp; theory of religion</td>\n",
       "      <td>310 Statistics</td>\n",
       "      <td>410 Linguistics</td>\n",
       "      <td>510 Mathematics</td>\n",
       "      <td>610 Medicine &amp; health</td>\n",
       "    </tr>\n",
       "    <tr>\n",
       "      <th>2</th>\n",
       "      <td>020 Library &amp; information sciences</td>\n",
       "      <td>120 Epistemology, causation, and humankind</td>\n",
       "      <td>220 Bible</td>\n",
       "      <td>320 Political science (Politics &amp; government)</td>\n",
       "      <td>420 English &amp; Old English (Anglo-Saxon)</td>\n",
       "      <td>520 Astronomy &amp; allied sciences</td>\n",
       "      <td>620 Engineering &amp; Applied operations</td>\n",
       "    </tr>\n",
       "    <tr>\n",
       "      <th>3</th>\n",
       "      <td>030 Encyclopedias &amp; books of facts</td>\n",
       "      <td>130 Parapsychology &amp; occultism</td>\n",
       "      <td>230 Christianity</td>\n",
       "      <td>330 Economics</td>\n",
       "      <td>430 German and related languages</td>\n",
       "      <td>530 Physics</td>\n",
       "      <td>630 Agriculture &amp; related technologies</td>\n",
       "    </tr>\n",
       "    <tr>\n",
       "      <th>4</th>\n",
       "      <td>040 Unassigned (formerly Biographies)</td>\n",
       "      <td>140 Specific philosophical schools and viewpoints</td>\n",
       "      <td>240 Christian practice &amp; observance</td>\n",
       "      <td>340 Law</td>\n",
       "      <td>440 French &amp; related Romance languages</td>\n",
       "      <td>540 Chemistry &amp; allied sciences</td>\n",
       "      <td>640 Home &amp; family management</td>\n",
       "    </tr>\n",
       "  </tbody>\n",
       "</table>\n",
       "</div>"
      ],
      "text/plain": [
       "  Class 000 – Computer science, information & general works  \\\n",
       "0          000 Computer science, knowledge & systems          \n",
       "1                                 010 Bibliographies          \n",
       "2                 020 Library & information sciences          \n",
       "3                 030 Encyclopedias & books of facts          \n",
       "4              040 Unassigned (formerly Biographies)          \n",
       "\n",
       "                 Class 100 – Philosophy & psychology  \\\n",
       "0                        100 Philosophy & psychology   \n",
       "1                                    110 Metaphysics   \n",
       "2         120 Epistemology, causation, and humankind   \n",
       "3                     130 Parapsychology & occultism   \n",
       "4  140 Specific philosophical schools and viewpoints   \n",
       "\n",
       "                  Class 200 – Religion  \\\n",
       "0                         200 Religion   \n",
       "1  210 Philosophy & theory of religion   \n",
       "2                            220 Bible   \n",
       "3                     230 Christianity   \n",
       "4  240 Christian practice & observance   \n",
       "\n",
       "                     Class 300 – Social sciences  \\\n",
       "0                            300 Social sciences   \n",
       "1                                 310 Statistics   \n",
       "2  320 Political science (Politics & government)   \n",
       "3                                  330 Economics   \n",
       "4                                        340 Law   \n",
       "\n",
       "                      Class 400 – Language  \\\n",
       "0                             400 Language   \n",
       "1                          410 Linguistics   \n",
       "2  420 English & Old English (Anglo-Saxon)   \n",
       "3         430 German and related languages   \n",
       "4   440 French & related Romance languages   \n",
       "\n",
       "                  Class 500 – Science                  Class 600 – Technology  \n",
       "0  500 Natural sciences & mathematics       600 Technology (Applied sciences)  \n",
       "1                     510 Mathematics                   610 Medicine & health  \n",
       "2     520 Astronomy & allied sciences    620 Engineering & Applied operations  \n",
       "3                         530 Physics  630 Agriculture & related technologies  \n",
       "4     540 Chemistry & allied sciences            640 Home & family management  "
      ]
     },
     "execution_count": 102,
     "metadata": {},
     "output_type": "execute_result"
    }
   ],
   "source": [
    "import pandas as pd\n",
    "dewey = pd.read_csv('dewey_decimal.csv')\n",
    "dewey.head(5)"
   ]
  },
  {
   "cell_type": "markdown",
   "metadata": {},
   "source": [
    "- math\n",
    "    - asd\n",
    "    - ceil\n",
    "    - copysign\n",
    "    - fabs\n",
    "    - factorial\n",
    "    - floor\n",
    "    - fmod\n",
    "    - frexp\n",
    "    - fsum\n",
    "    - isinf\n",
    "    - isnan"
   ]
  },
  {
   "cell_type": "code",
   "execution_count": 14,
   "metadata": {},
   "outputs": [
    {
     "data": {
      "text/plain": [
       "2.0"
      ]
     },
     "execution_count": 14,
     "metadata": {},
     "output_type": "execute_result"
    }
   ],
   "source": [
    "from math import sqrt\n",
    "sqrt(4)"
   ]
  },
  {
   "cell_type": "markdown",
   "metadata": {},
   "source": [
    "We will use a number of different Python libraries thoughout this course, including Pandas (data processing),  Matplotlib (plotting), Seaborn (to make plots elegant), StatsModels (statistics), NumPy (scientific computing), and Scikit-Learn (machine learning)."
   ]
  },
  {
   "cell_type": "markdown",
   "metadata": {},
   "source": [
    "- sklearn\n",
    "    - model_selection\n",
    "        - train_test_split\n",
    "        - cross_validate\n",
    "        - cross_val_predict\n",
    "        - GridSearchCV\n",
    "    - linear_model \n",
    "        - LinearRegression\n",
    "        - LogisticRegression\n",
    "        - LogisticRegressionCV\n",
    "        - Ridge\n",
    "        - RidgeCV\n",
    "        - LassoCV\n",
    "    - neighbors \n",
    "        - KNeighborsRegressor"
   ]
  },
  {
   "cell_type": "code",
   "execution_count": 110,
   "metadata": {},
   "outputs": [],
   "source": [
    "#from sklearn import model_selection\n",
    "from sklearn.linear_model import Ridge"
   ]
  },
  {
   "cell_type": "code",
   "execution_count": 111,
   "metadata": {},
   "outputs": [
    {
     "data": {
      "text/plain": [
       "sklearn.linear_model._ridge.Ridge"
      ]
     },
     "execution_count": 111,
     "metadata": {},
     "output_type": "execute_result"
    }
   ],
   "source": [
    "#model_selection.train_test_split\n",
    "Ridge"
   ]
  },
  {
   "cell_type": "markdown",
   "metadata": {},
   "source": [
    "### 4. Data Types\n",
    "\n",
    "**4.1 Boolean variables**\n",
    "\n",
    "The most basic data type is a `Boolean` variable, which can be either `True` or `False`."
   ]
  },
  {
   "cell_type": "code",
   "execution_count": 17,
   "metadata": {},
   "outputs": [
    {
     "name": "stdout",
     "output_type": "stream",
     "text": [
      "False\n"
     ]
    }
   ],
   "source": [
    "x = False\n",
    "print(x)"
   ]
  },
  {
   "cell_type": "code",
   "execution_count": 112,
   "metadata": {},
   "outputs": [
    {
     "name": "stdout",
     "output_type": "stream",
     "text": [
      "False\n"
     ]
    }
   ],
   "source": [
    "x = 2 < 0 \n",
    "print(x)"
   ]
  },
  {
   "cell_type": "markdown",
   "metadata": {},
   "source": [
    "Exercise: identify the use of following comparison operators: `==`, `!=`, `>=`, `<=`.\n",
    "\n",
    "Exercise: try to make sense of the code below. You may want to break this down into four steps and print the output of intermediate steps. "
   ]
  },
  {
   "cell_type": "code",
   "execution_count": 122,
   "metadata": {},
   "outputs": [
    {
     "name": "stdout",
     "output_type": "stream",
     "text": [
      "True\n"
     ]
    }
   ],
   "source": [
    "x = 4 % 2 == 0\n",
    "print (x)"
   ]
  },
  {
   "cell_type": "markdown",
   "metadata": {},
   "source": [
    "In numerical expressions, a `False` is automatically converted to zero and a `True` is converted to one. For example:"
   ]
  },
  {
   "cell_type": "code",
   "execution_count": 124,
   "metadata": {},
   "outputs": [
    {
     "name": "stdout",
     "output_type": "stream",
     "text": [
      "0\n"
     ]
    }
   ],
   "source": [
    "x = False\n",
    "y = 2*x\n",
    "print(y)"
   ]
  },
  {
   "cell_type": "markdown",
   "metadata": {},
   "source": [
    "**4.2 Numbers**\n",
    "\n",
    "There are two main built-in numerical data types, signed integers (`int`) and floating point real values (`float`)."
   ]
  },
  {
   "cell_type": "code",
   "execution_count": 125,
   "metadata": {},
   "outputs": [
    {
     "data": {
      "text/plain": [
       "int"
      ]
     },
     "execution_count": 125,
     "metadata": {},
     "output_type": "execute_result"
    }
   ],
   "source": [
    "x = 1 \n",
    "type(x)"
   ]
  },
  {
   "cell_type": "code",
   "execution_count": 126,
   "metadata": {
    "scrolled": true
   },
   "outputs": [
    {
     "data": {
      "text/plain": [
       "float"
      ]
     },
     "execution_count": 126,
     "metadata": {},
     "output_type": "execute_result"
    }
   ],
   "source": [
    "x = 1.0\n",
    "type(x)"
   ]
  },
  {
   "cell_type": "markdown",
   "metadata": {},
   "source": [
    "Sometimes, we need to do a explicit type conversion (typecasting), as the next example shows."
   ]
  },
  {
   "cell_type": "code",
   "execution_count": 127,
   "metadata": {},
   "outputs": [
    {
     "name": "stdout",
     "output_type": "stream",
     "text": [
      "True\n",
      "1\n"
     ]
    }
   ],
   "source": [
    "a = 2\n",
    "x = a > 0\n",
    "print(x)\n",
    "y = int(x)\n",
    "print(y)"
   ]
  },
  {
   "cell_type": "markdown",
   "metadata": {},
   "source": [
    "**4.3 Strings**\n",
    "\n",
    "String variables represent text data."
   ]
  },
  {
   "cell_type": "code",
   "execution_count": 128,
   "metadata": {},
   "outputs": [
    {
     "data": {
      "text/plain": [
       "str"
      ]
     },
     "execution_count": 128,
     "metadata": {},
     "output_type": "execute_result"
    }
   ],
   "source": [
    "sentence = 'For truth is always strange; stranger than fiction.'\n",
    "type(sentence)"
   ]
  },
  {
   "cell_type": "code",
   "execution_count": 135,
   "metadata": {},
   "outputs": [
    {
     "data": {
      "text/plain": [
       "float"
      ]
     },
     "execution_count": 135,
     "metadata": {},
     "output_type": "execute_result"
    }
   ],
   "source": [
    "temp = 1.0\n",
    "type(temp)"
   ]
  },
  {
   "cell_type": "markdown",
   "metadata": {},
   "source": [
    "As we are going to see in a text analytics application, Python has sophisticated capability for string manipulation. "
   ]
  },
  {
   "cell_type": "markdown",
   "metadata": {},
   "source": [
    "### 5. Data Structures\n",
    "\n",
    "In computer science, a data structure is a way to store and organise data for efficient retrieval and modification. The four basic Python data structures lists, dictionaries, tuples and arrays. We introduce the first three in this section."
   ]
  },
  {
   "cell_type": "markdown",
   "metadata": {},
   "source": [
    "**5.1 Lists**\n",
    "\n",
    "A list is a sequence of values. The values in a list, known as elements or items, can be of any type. To create a list, we enclose the elements in brackets `[ ]`. "
   ]
  },
  {
   "cell_type": "code",
   "execution_count": 141,
   "metadata": {},
   "outputs": [],
   "source": [
    "a = [ ] # empty list\n",
    "b = [1, 2, 5, 10] # list of four numbers\n",
    "cities = ['Sydney', 'Melbourne', 'Brisbane']\n",
    "c = [2, 4, 'Sydney'] # list mixing different variable types."
   ]
  },
  {
   "cell_type": "markdown",
   "metadata": {},
   "source": [
    "There are several list methods and operations that you should be familiar with.  The `append` method inserts a new element to the end of the list."
   ]
  },
  {
   "cell_type": "code",
   "execution_count": 142,
   "metadata": {},
   "outputs": [
    {
     "name": "stdout",
     "output_type": "stream",
     "text": [
      "['Sydney', 'Melbourne', 'Brisbane', 'Perth']\n"
     ]
    }
   ],
   "source": [
    "cities.append('Perth')\n",
    "print(cities)"
   ]
  },
  {
   "cell_type": "markdown",
   "metadata": {},
   "source": [
    "The `len` function counts the number of items in a list. It also works for counting the number of items in other types of containers."
   ]
  },
  {
   "cell_type": "code",
   "execution_count": 143,
   "metadata": {},
   "outputs": [
    {
     "data": {
      "text/plain": [
       "4"
      ]
     },
     "execution_count": 143,
     "metadata": {},
     "output_type": "execute_result"
    }
   ],
   "source": [
    "len(cities)"
   ]
  },
  {
   "cell_type": "markdown",
   "metadata": {},
   "source": [
    "We retrieve elements by passing the numerical index. What is crucial for you to know is that numerical indexes start from zero in Python. Here are some examples: "
   ]
  },
  {
   "cell_type": "code",
   "execution_count": 29,
   "metadata": {},
   "outputs": [
    {
     "data": {
      "text/plain": [
       "'Sydney'"
      ]
     },
     "execution_count": 29,
     "metadata": {},
     "output_type": "execute_result"
    }
   ],
   "source": [
    "cities[0] # first element"
   ]
  },
  {
   "cell_type": "code",
   "execution_count": 30,
   "metadata": {},
   "outputs": [
    {
     "data": {
      "text/plain": [
       "'Brisbane'"
      ]
     },
     "execution_count": 30,
     "metadata": {},
     "output_type": "execute_result"
    }
   ],
   "source": [
    "cities[2] # third element"
   ]
  },
  {
   "cell_type": "code",
   "execution_count": 145,
   "metadata": {},
   "outputs": [
    {
     "data": {
      "text/plain": [
       "'Perth'"
      ]
     },
     "execution_count": 145,
     "metadata": {},
     "output_type": "execute_result"
    }
   ],
   "source": [
    "cities[-1] # last element"
   ]
  },
  {
   "cell_type": "markdown",
   "metadata": {},
   "source": [
    "Often, we need to retrieve a slice of a list. This can be a bit confusing initially, so here are several examples. "
   ]
  },
  {
   "cell_type": "code",
   "execution_count": 32,
   "metadata": {},
   "outputs": [
    {
     "data": {
      "text/plain": [
       "['Sydney', 'Melbourne']"
      ]
     },
     "execution_count": 32,
     "metadata": {},
     "output_type": "execute_result"
    }
   ],
   "source": [
    "cities[:2] # first two elements/all elements up to index 1 "
   ]
  },
  {
   "cell_type": "code",
   "execution_count": 33,
   "metadata": {},
   "outputs": [
    {
     "data": {
      "text/plain": [
       "['Melbourne', 'Brisbane']"
      ]
     },
     "execution_count": 33,
     "metadata": {},
     "output_type": "execute_result"
    }
   ],
   "source": [
    "cities[1:3] # elements in indexes 1 to 2 (the element in index 3 is not part of the slice)"
   ]
  },
  {
   "cell_type": "code",
   "execution_count": 34,
   "metadata": {},
   "outputs": [
    {
     "data": {
      "text/plain": [
       "['Melbourne', 'Brisbane', 'Perth']"
      ]
     },
     "execution_count": 34,
     "metadata": {},
     "output_type": "execute_result"
    }
   ],
   "source": [
    "cities[1:] # all elements from index 1 onwards"
   ]
  },
  {
   "cell_type": "code",
   "execution_count": 35,
   "metadata": {},
   "outputs": [
    {
     "data": {
      "text/plain": [
       "['Brisbane', 'Perth']"
      ]
     },
     "execution_count": 35,
     "metadata": {},
     "output_type": "execute_result"
    }
   ],
   "source": [
    "cities[-2:] # last two elements"
   ]
  },
  {
   "cell_type": "markdown",
   "metadata": {},
   "source": [
    "The `+` operator concatenates lists. "
   ]
  },
  {
   "cell_type": "code",
   "execution_count": 147,
   "metadata": {},
   "outputs": [
    {
     "data": {
      "text/plain": [
       "[3, 5, 10, 1, 2]"
      ]
     },
     "execution_count": 147,
     "metadata": {},
     "output_type": "execute_result"
    }
   ],
   "source": [
    "a = [1, 2]\n",
    "b = [3, 5, 10]\n",
    "b + a"
   ]
  },
  {
   "cell_type": "markdown",
   "metadata": {},
   "source": [
    "The `in` expression allows to check if a certain item is present in a list. "
   ]
  },
  {
   "cell_type": "code",
   "execution_count": 148,
   "metadata": {},
   "outputs": [
    {
     "data": {
      "text/plain": [
       "True"
      ]
     },
     "execution_count": 148,
     "metadata": {},
     "output_type": "execute_result"
    }
   ],
   "source": [
    "'Sydney' in cities"
   ]
  },
  {
   "cell_type": "code",
   "execution_count": 149,
   "metadata": {},
   "outputs": [
    {
     "data": {
      "text/plain": [
       "False"
      ]
     },
     "execution_count": 149,
     "metadata": {},
     "output_type": "execute_result"
    }
   ],
   "source": [
    "'Copenhagen' in cities"
   ]
  },
  {
   "cell_type": "markdown",
   "metadata": {},
   "source": [
    "It is also useful to know how to sort lists. The sorted function will return a sorted copy of an object. "
   ]
  },
  {
   "cell_type": "code",
   "execution_count": 150,
   "metadata": {},
   "outputs": [
    {
     "data": {
      "text/plain": [
       "['Sydney', 'Melbourne', 'Brisbane', 'Perth']"
      ]
     },
     "execution_count": 150,
     "metadata": {},
     "output_type": "execute_result"
    }
   ],
   "source": [
    "cities"
   ]
  },
  {
   "cell_type": "code",
   "execution_count": 151,
   "metadata": {},
   "outputs": [
    {
     "data": {
      "text/plain": [
       "['Brisbane', 'Melbourne', 'Perth', 'Sydney']"
      ]
     },
     "execution_count": 151,
     "metadata": {},
     "output_type": "execute_result"
    }
   ],
   "source": [
    "sorted(cities)"
   ]
  },
  {
   "cell_type": "code",
   "execution_count": 152,
   "metadata": {},
   "outputs": [
    {
     "data": {
      "text/plain": [
       "['Sydney', 'Melbourne', 'Brisbane', 'Perth']"
      ]
     },
     "execution_count": 152,
     "metadata": {},
     "output_type": "execute_result"
    }
   ],
   "source": [
    "cities"
   ]
  },
  {
   "cell_type": "markdown",
   "metadata": {},
   "source": [
    "In contrast, the `sort()` method will modify the list itself by sorting it. "
   ]
  },
  {
   "cell_type": "code",
   "execution_count": 153,
   "metadata": {},
   "outputs": [
    {
     "name": "stdout",
     "output_type": "stream",
     "text": [
      "['Sydney', 'Melbourne', 'Brisbane', 'Perth']\n",
      "['Brisbane', 'Melbourne', 'Perth', 'Sydney']\n"
     ]
    }
   ],
   "source": [
    "print(cities)\n",
    "cities.sort()\n",
    "print(cities)"
   ]
  },
  {
   "cell_type": "markdown",
   "metadata": {},
   "source": [
    "**5.2 Dictionaries**\n",
    "\n",
    "A dictionary is a collection of key-value pairs. We create a dictionary by providing the key-value pairs within curly brackets `{ }`. For example, in the dictionary below the keys are the names of the cities and the values are the population of each city.\n",
    "\n",
    "https://image.slidesharecdn.com/pythonprogrammingessentials-m14-dictionaries-140819043205-phpapp01/95/python-programming-essentials-m14-dictionaries-20-638.jpg?cb=1408424433\n",
    "\n",
    "https://developers.google.com/edu/python/images/dict.png"
   ]
  },
  {
   "cell_type": "code",
   "execution_count": 154,
   "metadata": {},
   "outputs": [],
   "source": [
    "population = {'Sydney': 5230330, 'Melbourne': 4936349, 'Brisbane' : 2462637}"
   ]
  },
  {
   "cell_type": "markdown",
   "metadata": {},
   "source": [
    "We retrieve a value by referring to the key."
   ]
  },
  {
   "cell_type": "code",
   "execution_count": 155,
   "metadata": {},
   "outputs": [
    {
     "data": {
      "text/plain": [
       "5230330"
      ]
     },
     "execution_count": 155,
     "metadata": {},
     "output_type": "execute_result"
    }
   ],
   "source": [
    "population['Sydney']"
   ]
  },
  {
   "cell_type": "markdown",
   "metadata": {},
   "source": [
    "Another way to create a dictionary is as follows. "
   ]
  },
  {
   "cell_type": "code",
   "execution_count": 156,
   "metadata": {},
   "outputs": [
    {
     "name": "stdout",
     "output_type": "stream",
     "text": [
      "{'country': 'Australia', 'state': 'NSW', 'postcode': 2006}\n"
     ]
    }
   ],
   "source": [
    "address = {} # empty dictionary\n",
    "address['country'] = 'Australia'\n",
    "address['state'] = 'NSW'\n",
    "address['postcode'] = 2006\n",
    "print(address)"
   ]
  },
  {
   "cell_type": "markdown",
   "metadata": {},
   "source": [
    "**5.3 Tuples**\n",
    "\n",
    "A tuple is an immutable list: we can neither modify the elements of a tuple nor insert or remove items from it. We usually create a tuple by enclosing the elements in parentheses `( )`. "
   ]
  },
  {
   "cell_type": "code",
   "execution_count": 157,
   "metadata": {},
   "outputs": [
    {
     "name": "stdout",
     "output_type": "stream",
     "text": [
      "(1, 2, 'cat', 'dog')\n"
     ]
    }
   ],
   "source": [
    "a = (1, 2, 'cat', 'dog')\n",
    "print(a)"
   ]
  },
  {
   "cell_type": "code",
   "execution_count": 159,
   "metadata": {},
   "outputs": [],
   "source": [
    "temp_list = [1, 2, 3]\n",
    "temp_set = (1, 2, 3)"
   ]
  },
  {
   "cell_type": "code",
   "execution_count": 160,
   "metadata": {},
   "outputs": [
    {
     "data": {
      "text/plain": [
       "[1, 10, 3]"
      ]
     },
     "execution_count": 160,
     "metadata": {},
     "output_type": "execute_result"
    }
   ],
   "source": [
    "temp_list[1] = 10\n",
    "temp_list"
   ]
  },
  {
   "cell_type": "code",
   "execution_count": 161,
   "metadata": {},
   "outputs": [
    {
     "ename": "TypeError",
     "evalue": "'tuple' object does not support item assignment",
     "output_type": "error",
     "traceback": [
      "\u001b[1;31m---------------------------------------------------------------------------\u001b[0m",
      "\u001b[1;31mTypeError\u001b[0m                                 Traceback (most recent call last)",
      "\u001b[1;32m<ipython-input-161-62ba4fa7c8dd>\u001b[0m in \u001b[0;36m<module>\u001b[1;34m\u001b[0m\n\u001b[1;32m----> 1\u001b[1;33m \u001b[0mtemp_set\u001b[0m\u001b[1;33m[\u001b[0m\u001b[1;36m1\u001b[0m\u001b[1;33m]\u001b[0m \u001b[1;33m=\u001b[0m \u001b[1;36m10\u001b[0m\u001b[1;33m\u001b[0m\u001b[1;33m\u001b[0m\u001b[0m\n\u001b[0m",
      "\u001b[1;31mTypeError\u001b[0m: 'tuple' object does not support item assignment"
     ]
    }
   ],
   "source": [
    "temp_set[1] = 10"
   ]
  },
  {
   "cell_type": "code",
   "execution_count": 162,
   "metadata": {},
   "outputs": [
    {
     "data": {
      "text/plain": [
       "(1, 2, 3)"
      ]
     },
     "execution_count": 162,
     "metadata": {},
     "output_type": "execute_result"
    }
   ],
   "source": [
    "temp_set"
   ]
  },
  {
   "cell_type": "markdown",
   "metadata": {},
   "source": [
    "It's also possible to create a tuple without the parentheses in the syntax, though this can make the code less clear. "
   ]
  },
  {
   "cell_type": "code",
   "execution_count": 51,
   "metadata": {},
   "outputs": [
    {
     "name": "stdout",
     "output_type": "stream",
     "text": [
      "(1, 2, 'cat', 'dog')\n"
     ]
    }
   ],
   "source": [
    "a = 1, 2, 'cat', 'dog'\n",
    "print(a)"
   ]
  },
  {
   "cell_type": "markdown",
   "metadata": {},
   "source": [
    "A useful operation is tuple unpacking, shown in the next two examples. "
   ]
  },
  {
   "cell_type": "code",
   "execution_count": 167,
   "metadata": {},
   "outputs": [
    {
     "name": "stdout",
     "output_type": "stream",
     "text": [
      "1\n",
      "2\n"
     ]
    }
   ],
   "source": [
    "numbers = (1, 2)\n",
    "a, b = numbers\n",
    "print(a)\n",
    "print(b)"
   ]
  },
  {
   "cell_type": "markdown",
   "metadata": {},
   "source": [
    "### 6. For Loops\n",
    "\n",
    "Often, we need to traverse a list and run code that takes each item as an input. We use a `for` block to do this."
   ]
  },
  {
   "cell_type": "code",
   "execution_count": 53,
   "metadata": {},
   "outputs": [],
   "source": [
    "import pandas as pd\n",
    "import numpy as np"
   ]
  },
  {
   "cell_type": "code",
   "execution_count": 168,
   "metadata": {},
   "outputs": [
    {
     "name": "stdout",
     "output_type": "stream",
     "text": [
      "Sydney\n",
      "Melbourne\n",
      "Brisbane\n",
      "Perth\n"
     ]
    }
   ],
   "source": [
    "cities = ['Sydney', 'Melbourne', 'Brisbane', 'Perth']\n",
    "\n",
    "for city in cities:\n",
    "    print(city)"
   ]
  },
  {
   "cell_type": "markdown",
   "metadata": {},
   "source": [
    "There are two important details to note in this syntax. The `for` loop would work with any alias instead of `city`, as long as we use it consistently. However, we say that choosing a meaningful alias makes the code more *Pythonic* (clean and readable).  \n",
    "\n",
    "Each iteration of the loop will repeat the code in the indented part of the block, below the `for` statement. In order for the syntax to be correct, the indentation needs to be four spaces. The editor adds it automatically.\n",
    "\n",
    "Here's another example. "
   ]
  },
  {
   "cell_type": "code",
   "execution_count": 55,
   "metadata": {},
   "outputs": [
    {
     "name": "stdout",
     "output_type": "stream",
     "text": [
      "1\n",
      "4\n",
      "25\n",
      "100\n",
      "The execution then continues from here\n"
     ]
    }
   ],
   "source": [
    "numbers = [1, 2, 5, 10]\n",
    "\n",
    "for number in numbers:\n",
    "    x = number**2\n",
    "    print(x) \n",
    "    \n",
    "print('The execution then continues from here') # outside the for block"
   ]
  },
  {
   "cell_type": "markdown",
   "metadata": {},
   "source": [
    "For loops are applicable to any iterable objects. We commonly write loops over a numerical range, as the next two examples show. "
   ]
  },
  {
   "cell_type": "code",
   "execution_count": 171,
   "metadata": {},
   "outputs": [
    {
     "name": "stdout",
     "output_type": "stream",
     "text": [
      "0\n",
      "1\n",
      "2\n"
     ]
    }
   ],
   "source": [
    "for i in range(3):\n",
    "    print(i)"
   ]
  },
  {
   "cell_type": "code",
   "execution_count": 57,
   "metadata": {},
   "outputs": [
    {
     "name": "stdout",
     "output_type": "stream",
     "text": [
      "1\n",
      "3\n",
      "5\n",
      "7\n",
      "9\n"
     ]
    }
   ],
   "source": [
    "for i in range(1, 11, 2): # starts at 1, ends before 11, step size 2\n",
    "    print(i)"
   ]
  },
  {
   "cell_type": "markdown",
   "metadata": {},
   "source": [
    "# An Aside: The Zen of Python"
   ]
  },
  {
   "cell_type": "code",
   "execution_count": 172,
   "metadata": {},
   "outputs": [
    {
     "name": "stdout",
     "output_type": "stream",
     "text": [
      "The Zen of Python, by Tim Peters\n",
      "\n",
      "Beautiful is better than ugly.\n",
      "Explicit is better than implicit.\n",
      "Simple is better than complex.\n",
      "Complex is better than complicated.\n",
      "Flat is better than nested.\n",
      "Sparse is better than dense.\n",
      "Readability counts.\n",
      "Special cases aren't special enough to break the rules.\n",
      "Although practicality beats purity.\n",
      "Errors should never pass silently.\n",
      "Unless explicitly silenced.\n",
      "In the face of ambiguity, refuse the temptation to guess.\n",
      "There should be one-- and preferably only one --obvious way to do it.\n",
      "Although that way may not be obvious at first unless you're Dutch.\n",
      "Now is better than never.\n",
      "Although never is often better than *right* now.\n",
      "If the implementation is hard to explain, it's a bad idea.\n",
      "If the implementation is easy to explain, it may be a good idea.\n",
      "Namespaces are one honking great idea -- let's do more of those!\n"
     ]
    }
   ],
   "source": [
    "import this"
   ]
  },
  {
   "cell_type": "code",
   "execution_count": 173,
   "metadata": {},
   "outputs": [],
   "source": [
    "import antigravity"
   ]
  },
  {
   "cell_type": "markdown",
   "metadata": {},
   "source": [
    "# Back To The Tutorial"
   ]
  },
  {
   "cell_type": "markdown",
   "metadata": {},
   "source": [
    "The `enumerate` function is useful for obtaining an indexed list: "
   ]
  },
  {
   "cell_type": "code",
   "execution_count": 223,
   "metadata": {},
   "outputs": [
    {
     "name": "stdout",
     "output_type": "stream",
     "text": [
      "City 1: Sydney\n",
      "City 2: Melbourne\n",
      "City 3: Brisbane\n",
      "City 4: Perth\n"
     ]
    }
   ],
   "source": [
    "cities = ['Sydney', 'Melbourne', 'Brisbane', 'Perth']\n",
    "\n",
    "for i, city in enumerate(cities):\n",
    "    print(f'City {i + 1}: {city}') "
   ]
  },
  {
   "cell_type": "markdown",
   "metadata": {},
   "source": [
    "Another function that we will use is `zip`."
   ]
  },
  {
   "cell_type": "code",
   "execution_count": 61,
   "metadata": {},
   "outputs": [
    {
     "name": "stdout",
     "output_type": "stream",
     "text": [
      "Sydney, NSW\n",
      "Melbourne, VIC\n",
      "Brisbane, QLD\n",
      "Perth, WA\n"
     ]
    }
   ],
   "source": [
    "cities = ['Sydney', 'Melbourne', 'Brisbane', 'Perth']\n",
    "states = ['NSW', 'VIC', 'QLD', 'WA']\n",
    "\n",
    "for city, state in zip(cities, states):\n",
    "    print(f'{city}, {state}')"
   ]
  },
  {
   "cell_type": "code",
   "execution_count": 177,
   "metadata": {},
   "outputs": [
    {
     "name": "stdout",
     "output_type": "stream",
     "text": [
      "NSW, Sydney\n",
      "VIC, Melbourne\n",
      "QLD, Brisbane\n",
      "WA, Perth\n"
     ]
    }
   ],
   "source": [
    "for a, b in zip(cities, states):\n",
    "    print(f'{a}, {b}')"
   ]
  },
  {
   "cell_type": "markdown",
   "metadata": {},
   "source": [
    "### 7. List Comprehensions\n",
    "\n",
    "A list comprehension is an abbreviated syntax for building a list using a loop. Here is an example: "
   ]
  },
  {
   "cell_type": "code",
   "execution_count": 178,
   "metadata": {},
   "outputs": [
    {
     "name": "stdout",
     "output_type": "stream",
     "text": [
      "[1, 4, 9, 16]\n"
     ]
    }
   ],
   "source": [
    "numbers = [1, 2, 3, 4]\n",
    "powers  = [x**2 for x in numbers]\n",
    "print(powers)"
   ]
  },
  {
   "cell_type": "markdown",
   "metadata": {},
   "source": [
    "This is the same as: "
   ]
  },
  {
   "cell_type": "code",
   "execution_count": 179,
   "metadata": {
    "scrolled": true
   },
   "outputs": [
    {
     "name": "stdout",
     "output_type": "stream",
     "text": [
      "[1, 4, 9, 16]\n"
     ]
    }
   ],
   "source": [
    "powers = []\n",
    "for x in numbers:\n",
    "    powers.append(x**2)\n",
    "\n",
    "print(powers)"
   ]
  },
  {
   "cell_type": "markdown",
   "metadata": {},
   "source": [
    "### 8. Functions\n",
    "\n",
    "In programming, a function is a piece of code that (optionally) takes inputs, performs a set of instructions, and (optionally) returns an output. \n",
    "\n",
    "https://etc.usf.edu/clipart/41800/41849/function_41849_lg.gif"
   ]
  },
  {
   "cell_type": "markdown",
   "metadata": {},
   "source": [
    "Function that takes input x, returns x**3"
   ]
  },
  {
   "cell_type": "code",
   "execution_count": 196,
   "metadata": {},
   "outputs": [],
   "source": [
    "def cube(x):\n",
    "    return x**3"
   ]
  },
  {
   "cell_type": "code",
   "execution_count": 197,
   "metadata": {},
   "outputs": [
    {
     "data": {
      "text/plain": [
       "8"
      ]
     },
     "execution_count": 197,
     "metadata": {},
     "output_type": "execute_result"
    }
   ],
   "source": [
    "cube(2)"
   ]
  },
  {
   "cell_type": "code",
   "execution_count": 180,
   "metadata": {},
   "outputs": [
    {
     "name": "stdout",
     "output_type": "stream",
     "text": [
      "16\n"
     ]
    }
   ],
   "source": [
    "def square(x):\n",
    "    return x**2\n",
    "\n",
    "y = square(4)\n",
    "print(y)"
   ]
  },
  {
   "cell_type": "code",
   "execution_count": 181,
   "metadata": {},
   "outputs": [
    {
     "name": "stdout",
     "output_type": "stream",
     "text": [
      "None\n"
     ]
    }
   ],
   "source": [
    "def square(x):\n",
    "    x**2\n",
    "\n",
    "y = square(4)\n",
    "print(y)"
   ]
  },
  {
   "cell_type": "markdown",
   "metadata": {},
   "source": [
    "Here's an example of a function that has no input or output. "
   ]
  },
  {
   "cell_type": "code",
   "execution_count": 183,
   "metadata": {},
   "outputs": [
    {
     "name": "stdout",
     "output_type": "stream",
     "text": [
      "Today is 28/08/2020\n"
     ]
    }
   ],
   "source": [
    "import time \n",
    "\n",
    "def today():\n",
    "    date = time.strftime(\"%d/%m/%Y\")\n",
    "    print(f'Today is {date}')\n",
    "    \n",
    "today()"
   ]
  },
  {
   "cell_type": "markdown",
   "metadata": {},
   "source": [
    "When calling a function, we can use positional and keyword arguments. In this next example, we use positional arguments only, which means that Python will assign 2 and 3 to parameters`x` and `p` respectively."
   ]
  },
  {
   "cell_type": "code",
   "execution_count": 185,
   "metadata": {},
   "outputs": [
    {
     "name": "stdout",
     "output_type": "stream",
     "text": [
      "8\n"
     ]
    }
   ],
   "source": [
    "def power(x, p):\n",
    "    return x**p\n",
    "\n",
    "y = power(2, 3)\n",
    "print(y)"
   ]
  },
  {
   "cell_type": "code",
   "execution_count": 186,
   "metadata": {},
   "outputs": [
    {
     "data": {
      "text/plain": [
       "9"
      ]
     },
     "execution_count": 186,
     "metadata": {},
     "output_type": "execute_result"
    }
   ],
   "source": [
    "power(3, 2)"
   ]
  },
  {
   "cell_type": "markdown",
   "metadata": {},
   "source": [
    "The next example does exactly the same, but based on keyword arguments. "
   ]
  },
  {
   "cell_type": "code",
   "execution_count": 187,
   "metadata": {},
   "outputs": [
    {
     "name": "stdout",
     "output_type": "stream",
     "text": [
      "8\n"
     ]
    }
   ],
   "source": [
    "y = power(x=2,p=3)\n",
    "print(y)"
   ]
  },
  {
   "cell_type": "markdown",
   "metadata": {},
   "source": [
    "When using keyword arguments, the inputs do not need to be in any particular order. "
   ]
  },
  {
   "cell_type": "code",
   "execution_count": 188,
   "metadata": {},
   "outputs": [
    {
     "name": "stdout",
     "output_type": "stream",
     "text": [
      "8\n"
     ]
    }
   ],
   "source": [
    "y = power(p=3,x=2)\n",
    "print(y)"
   ]
  },
  {
   "cell_type": "markdown",
   "metadata": {},
   "source": [
    "We can also mix positional and keyword arguments, but in this case the positional arguments need to come first. "
   ]
  },
  {
   "cell_type": "code",
   "execution_count": 72,
   "metadata": {},
   "outputs": [
    {
     "name": "stdout",
     "output_type": "stream",
     "text": [
      "8\n"
     ]
    }
   ],
   "source": [
    "y = power(2, p=3)\n",
    "print(y)"
   ]
  },
  {
   "cell_type": "markdown",
   "metadata": {},
   "source": [
    "Many functions that you will be using have default arguments. It's important for you to pay attention to these default values and ask if they make sense for your current application. "
   ]
  },
  {
   "cell_type": "code",
   "execution_count": 73,
   "metadata": {},
   "outputs": [
    {
     "name": "stdout",
     "output_type": "stream",
     "text": [
      "Hello John!\n",
      "Hello user!\n"
     ]
    }
   ],
   "source": [
    "def hello(name='user'):\n",
    "    print(f'Hello {name}!')\n",
    "\n",
    "hello('John')\n",
    "hello()"
   ]
  },
  {
   "cell_type": "markdown",
   "metadata": {},
   "source": [
    "### 9. If Statements\n",
    "\n",
    "An if statement evaluates if an expression is `True` or `False`, and executes different code accordingly. For example, suppose that we want to code a function to calculate the absolute value of a number, defined as\n",
    "\n",
    "\\begin{equation}\n",
    "|x|=\\begin{cases}\n",
    "x & \\text{if $x\\geq0$}\\\\\n",
    "-x & \\text{if $x<0$}.\n",
    "\\end{cases}\n",
    "\\end{equation}"
   ]
  },
  {
   "cell_type": "code",
   "execution_count": 198,
   "metadata": {},
   "outputs": [
    {
     "data": {
      "text/plain": [
       "['Sydney', 'Melbourne', 'Brisbane', 'Perth']"
      ]
     },
     "execution_count": 198,
     "metadata": {},
     "output_type": "execute_result"
    }
   ],
   "source": [
    "cities"
   ]
  },
  {
   "cell_type": "code",
   "execution_count": 204,
   "metadata": {},
   "outputs": [],
   "source": [
    "def city_in_cities(city):\n",
    "    if city in cities:\n",
    "        print('CITY IS IN CITIES')\n",
    "    else:\n",
    "        print('IT IS NOT IN CITIES')"
   ]
  },
  {
   "cell_type": "code",
   "execution_count": 206,
   "metadata": {},
   "outputs": [
    {
     "name": "stdout",
     "output_type": "stream",
     "text": [
      "IT IS NOT IN CITIES\n"
     ]
    }
   ],
   "source": [
    "city_in_cities('Syd')"
   ]
  },
  {
   "cell_type": "markdown",
   "metadata": {},
   "source": [
    "Data analytics in Python"
   ]
  },
  {
   "cell_type": "code",
   "execution_count": null,
   "metadata": {},
   "outputs": [],
   "source": []
  },
  {
   "cell_type": "code",
   "execution_count": 190,
   "metadata": {},
   "outputs": [
    {
     "name": "stdout",
     "output_type": "stream",
     "text": [
      "IN >= 0\n",
      "2\n"
     ]
    }
   ],
   "source": [
    "def absolute(x):\n",
    "    if x >= 0:\n",
    "        print('IN >= 0')\n",
    "        return x\n",
    "    else:\n",
    "        print('IN ELSE')\n",
    "        return -x\n",
    "\n",
    "y = absolute(2)\n",
    "print(y)"
   ]
  },
  {
   "cell_type": "markdown",
   "metadata": {},
   "source": [
    "As another example, below we code a function that raises a customised error message if the input is invalid."
   ]
  },
  {
   "cell_type": "code",
   "execution_count": 193,
   "metadata": {},
   "outputs": [
    {
     "ename": "ValueError",
     "evalue": "Wake up mate! The log of zero or a negative number does not exist.",
     "output_type": "error",
     "traceback": [
      "\u001b[1;31m---------------------------------------------------------------------------\u001b[0m",
      "\u001b[1;31mValueError\u001b[0m                                Traceback (most recent call last)",
      "\u001b[1;32m<ipython-input-193-7102b7f29f25>\u001b[0m in \u001b[0;36m<module>\u001b[1;34m\u001b[0m\n\u001b[0;32m      5\u001b[0m         \u001b[1;32mreturn\u001b[0m \u001b[0mmath\u001b[0m\u001b[1;33m.\u001b[0m\u001b[0mlog\u001b[0m\u001b[1;33m(\u001b[0m\u001b[0mx\u001b[0m\u001b[1;33m)\u001b[0m\u001b[1;33m\u001b[0m\u001b[1;33m\u001b[0m\u001b[0m\n\u001b[0;32m      6\u001b[0m \u001b[1;33m\u001b[0m\u001b[0m\n\u001b[1;32m----> 7\u001b[1;33m \u001b[0mlog\u001b[0m\u001b[1;33m(\u001b[0m\u001b[1;36m0\u001b[0m\u001b[1;33m)\u001b[0m\u001b[1;33m\u001b[0m\u001b[1;33m\u001b[0m\u001b[0m\n\u001b[0m",
      "\u001b[1;32m<ipython-input-193-7102b7f29f25>\u001b[0m in \u001b[0;36mlog\u001b[1;34m(x)\u001b[0m\n\u001b[0;32m      1\u001b[0m \u001b[1;32mdef\u001b[0m \u001b[0mlog\u001b[0m\u001b[1;33m(\u001b[0m\u001b[0mx\u001b[0m\u001b[1;33m)\u001b[0m\u001b[1;33m:\u001b[0m\u001b[1;33m\u001b[0m\u001b[1;33m\u001b[0m\u001b[0m\n\u001b[0;32m      2\u001b[0m     \u001b[1;32mif\u001b[0m \u001b[0mx\u001b[0m \u001b[1;33m<=\u001b[0m \u001b[1;36m0\u001b[0m\u001b[1;33m:\u001b[0m\u001b[1;33m\u001b[0m\u001b[1;33m\u001b[0m\u001b[0m\n\u001b[1;32m----> 3\u001b[1;33m         \u001b[1;32mraise\u001b[0m \u001b[0mValueError\u001b[0m\u001b[1;33m(\u001b[0m\u001b[1;34m'Wake up mate! The log of zero or a negative number does not exist.'\u001b[0m\u001b[1;33m)\u001b[0m\u001b[1;33m\u001b[0m\u001b[1;33m\u001b[0m\u001b[0m\n\u001b[0m\u001b[0;32m      4\u001b[0m     \u001b[1;32melse\u001b[0m\u001b[1;33m:\u001b[0m\u001b[1;33m\u001b[0m\u001b[1;33m\u001b[0m\u001b[0m\n\u001b[0;32m      5\u001b[0m         \u001b[1;32mreturn\u001b[0m \u001b[0mmath\u001b[0m\u001b[1;33m.\u001b[0m\u001b[0mlog\u001b[0m\u001b[1;33m(\u001b[0m\u001b[0mx\u001b[0m\u001b[1;33m)\u001b[0m\u001b[1;33m\u001b[0m\u001b[1;33m\u001b[0m\u001b[0m\n",
      "\u001b[1;31mValueError\u001b[0m: Wake up mate! The log of zero or a negative number does not exist."
     ]
    }
   ],
   "source": [
    "def log(x):\n",
    "    if x <= 0:\n",
    "        raise ValueError('Wake up mate! The log of zero or a negative number does not exist.')\n",
    "    else:\n",
    "        return math.log(x)\n",
    "\n",
    "log(0)"
   ]
  },
  {
   "cell_type": "markdown",
   "metadata": {},
   "source": [
    "Now, try taking the log of zero and see what happens. "
   ]
  },
  {
   "cell_type": "markdown",
   "metadata": {},
   "source": [
    "### Formatting\n",
    "\n",
    "The two cells below format the notebook for display online. Please omit them from your work."
   ]
  },
  {
   "cell_type": "code",
   "execution_count": null,
   "metadata": {},
   "outputs": [],
   "source": [
    "%%html\n",
    "<style>\n",
    "@import url('https://fonts.googleapis.com/css?family=Source+Sans+Pro|Open+Sans:800&display=swap');\n",
    "</style>"
   ]
  },
  {
   "cell_type": "code",
   "execution_count": null,
   "metadata": {},
   "outputs": [],
   "source": [
    "from IPython.core.display import HTML\n",
    "style = open('css\\jupyter.css', \"r\").read()\n",
    "HTML('<style>'+ style +'</style>')"
   ]
  },
  {
   "cell_type": "code",
   "execution_count": null,
   "metadata": {},
   "outputs": [],
   "source": []
  },
  {
   "cell_type": "code",
   "execution_count": null,
   "metadata": {},
   "outputs": [],
   "source": []
  },
  {
   "cell_type": "code",
   "execution_count": null,
   "metadata": {},
   "outputs": [],
   "source": []
  },
  {
   "cell_type": "code",
   "execution_count": null,
   "metadata": {},
   "outputs": [],
   "source": []
  },
  {
   "cell_type": "code",
   "execution_count": 214,
   "metadata": {},
   "outputs": [],
   "source": [
    "x = 100"
   ]
  },
  {
   "cell_type": "code",
   "execution_count": 216,
   "metadata": {},
   "outputs": [
    {
     "data": {
      "text/plain": [
       "'x is equal to 100'"
      ]
     },
     "execution_count": 216,
     "metadata": {},
     "output_type": "execute_result"
    }
   ],
   "source": [
    "f'x is equal to {x}'"
   ]
  },
  {
   "cell_type": "code",
   "execution_count": null,
   "metadata": {},
   "outputs": [],
   "source": []
  }
 ],
 "metadata": {
  "kernelspec": {
   "display_name": "Python 3",
   "language": "python",
   "name": "python3"
  },
  "language_info": {
   "codemirror_mode": {
    "name": "ipython",
    "version": 3
   },
   "file_extension": ".py",
   "mimetype": "text/x-python",
   "name": "python",
   "nbconvert_exporter": "python",
   "pygments_lexer": "ipython3",
   "version": "3.7.6"
  }
 },
 "nbformat": 4,
 "nbformat_minor": 1
}

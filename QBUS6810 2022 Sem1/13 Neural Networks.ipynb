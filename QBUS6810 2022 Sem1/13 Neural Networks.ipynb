{
 "cells": [
  {
   "cell_type": "markdown",
   "metadata": {},
   "source": [
    "<center>\n",
    "<img align=\"center\" src=\"http://sydney.edu.au/images/content/about/logo-mono.jpg\">\n",
    "</center>\n",
    "<h1 align=\"center\" style=\"margin-top:10px\">Statistical Learning and Data Mining</h1>\n",
    "<h2 align=\"center\" style=\"margin-top:20px\">Week 13 Tutorial: Deep Learning with PyTorch</h2>\n",
    "<br>\n",
    "\n",
    "This tutorial is an introduction to building and training neural networks with [PyTorch](https://pytorch.org/). We'll build a simple feedforward network for fraud detection and train it by stochastic gradient descent.\n",
    "\n",
    "<a href=\"#1.-Credit-Card-Fraud-Data\">Credit card fraud data</a> <br>\n",
    "<a href=\"#2.-Dataset-and-DataLoader\">Dataset and DataLoader</a> <br>\n",
    "<a href=\"#3.-Building-a-neural-network\">Building a neural network</a> <br>\n",
    "<a href=\"#4.-Training\">Training</a> <br>\n",
    "<a href=\"#5.-Logistic-Regression\">Logistic regression</a> <br>\n",
    "<a href=\"#6.-Validation-results\">Validation results</a> <br>\n",
    "\n",
    "This notebook relies on the following libraries and settings."
   ]
  },
  {
   "cell_type": "code",
   "execution_count": 1,
   "metadata": {},
   "outputs": [
    {
     "name": "stdout",
     "output_type": "stream",
     "text": [
      "Package versions: \n",
      "\n",
      "numpy 1.20.3\n",
      "scipy 1.7.3\n",
      "pandas 1.2.5\n",
      "scikit-learn 1.0.2\n",
      "torch 1.10.0\n"
     ]
    }
   ],
   "source": [
    "# Requirements \n",
    "\n",
    "import numpy as np\n",
    "import scipy \n",
    "import pandas as pd\n",
    "import sklearn\n",
    "import torch \n",
    "\n",
    "print(f'Package versions: \\n')\n",
    "\n",
    "print(f'numpy {np.__version__}')\n",
    "print(f'scipy {scipy.__version__}')\n",
    "print(f'pandas {pd.__version__}')\n",
    "print(f'scikit-learn {sklearn.__version__}')\n",
    "print(f'torch {torch.__version__}')\n",
    "\n",
    "# Notebook tested on:\n",
    "\n",
    "# numpy 1.21.5\n",
    "# scipy 1.7.1\n",
    "# pandas 1.3.4\n",
    "# scikit-learn 1.0.2\n",
    "# torch 1.11.0"
   ]
  },
  {
   "cell_type": "code",
   "execution_count": 2,
   "metadata": {},
   "outputs": [],
   "source": [
    "# Optional configuration\n",
    "\n",
    "import warnings\n",
    "warnings.filterwarnings('ignore') "
   ]
  },
  {
   "cell_type": "code",
   "execution_count": 3,
   "metadata": {},
   "outputs": [],
   "source": [
    "from sklearn.preprocessing import StandardScaler\n",
    "from sklearn.model_selection import train_test_split\n",
    "from sklearn.linear_model import LogisticRegression, LogisticRegressionCV"
   ]
  },
  {
   "cell_type": "markdown",
   "metadata": {},
   "source": [
    "# 1. Credit card fraud data\n",
    "\n",
    "This tutorial will be based on the [credit card fraud dataset](hhttps://www.kaggle.com/mlg-ulb/creditcardfraud) available from [Kaggle Datasets](https://www.kaggle.com/datasets). Our objective is to detect fraudulent credit card transactions using classification methods. \n",
    "\n",
    "Let's assume the following loss matrix: \n",
    "\n",
    "<table>\n",
    "  <tr>\n",
    "    <th>Actual/Predicted</th>\n",
    "    <th>Legitimate</th>\n",
    "     <th>Fraud</th>\n",
    "  </tr>\n",
    "  <tr>\n",
    "    <th>Legitimate</th>\n",
    "    <td>0</td>\n",
    "    <td>1</td>\n",
    "  </tr>\n",
    "  <tr>\n",
    "    <th>Fraud</th>\n",
    "    <td>10</td>\n",
    "    <td>0</td>\n",
    "  </tr>\n",
    "</table>\n",
    "\n",
    "That is, we assume that it is much worse for the financial institution to miss a fraudulent transaction than to flag a legitimate transaction as potential fraud.\n",
    "\n",
    "We start by loading and inspecting the data. All features except the transaction amount are the result of a principal components analysis (PCA) transformation of undisclosed predictors."
   ]
  },
  {
   "cell_type": "code",
   "execution_count": 4,
   "metadata": {},
   "outputs": [
    {
     "data": {
      "text/html": [
       "<div>\n",
       "<style scoped>\n",
       "    .dataframe tbody tr th:only-of-type {\n",
       "        vertical-align: middle;\n",
       "    }\n",
       "\n",
       "    .dataframe tbody tr th {\n",
       "        vertical-align: top;\n",
       "    }\n",
       "\n",
       "    .dataframe thead th {\n",
       "        text-align: right;\n",
       "    }\n",
       "</style>\n",
       "<table border=\"1\" class=\"dataframe\">\n",
       "  <thead>\n",
       "    <tr style=\"text-align: right;\">\n",
       "      <th></th>\n",
       "      <th>Time</th>\n",
       "      <th>V1</th>\n",
       "      <th>V2</th>\n",
       "      <th>V3</th>\n",
       "      <th>V4</th>\n",
       "      <th>V5</th>\n",
       "      <th>V6</th>\n",
       "      <th>V7</th>\n",
       "      <th>V8</th>\n",
       "      <th>V9</th>\n",
       "      <th>...</th>\n",
       "      <th>V21</th>\n",
       "      <th>V22</th>\n",
       "      <th>V23</th>\n",
       "      <th>V24</th>\n",
       "      <th>V25</th>\n",
       "      <th>V26</th>\n",
       "      <th>V27</th>\n",
       "      <th>V28</th>\n",
       "      <th>Amount</th>\n",
       "      <th>Class</th>\n",
       "    </tr>\n",
       "  </thead>\n",
       "  <tbody>\n",
       "    <tr>\n",
       "      <th>0</th>\n",
       "      <td>0.0</td>\n",
       "      <td>-1.359807</td>\n",
       "      <td>-0.072781</td>\n",
       "      <td>2.536347</td>\n",
       "      <td>1.378155</td>\n",
       "      <td>-0.338321</td>\n",
       "      <td>0.462388</td>\n",
       "      <td>0.239599</td>\n",
       "      <td>0.098698</td>\n",
       "      <td>0.363787</td>\n",
       "      <td>...</td>\n",
       "      <td>-0.018307</td>\n",
       "      <td>0.277838</td>\n",
       "      <td>-0.110474</td>\n",
       "      <td>0.066928</td>\n",
       "      <td>0.128539</td>\n",
       "      <td>-0.189115</td>\n",
       "      <td>0.133558</td>\n",
       "      <td>-0.021053</td>\n",
       "      <td>149.62</td>\n",
       "      <td>0</td>\n",
       "    </tr>\n",
       "    <tr>\n",
       "      <th>1</th>\n",
       "      <td>0.0</td>\n",
       "      <td>1.191857</td>\n",
       "      <td>0.266151</td>\n",
       "      <td>0.166480</td>\n",
       "      <td>0.448154</td>\n",
       "      <td>0.060018</td>\n",
       "      <td>-0.082361</td>\n",
       "      <td>-0.078803</td>\n",
       "      <td>0.085102</td>\n",
       "      <td>-0.255425</td>\n",
       "      <td>...</td>\n",
       "      <td>-0.225775</td>\n",
       "      <td>-0.638672</td>\n",
       "      <td>0.101288</td>\n",
       "      <td>-0.339846</td>\n",
       "      <td>0.167170</td>\n",
       "      <td>0.125895</td>\n",
       "      <td>-0.008983</td>\n",
       "      <td>0.014724</td>\n",
       "      <td>2.69</td>\n",
       "      <td>0</td>\n",
       "    </tr>\n",
       "    <tr>\n",
       "      <th>2</th>\n",
       "      <td>1.0</td>\n",
       "      <td>-1.358354</td>\n",
       "      <td>-1.340163</td>\n",
       "      <td>1.773209</td>\n",
       "      <td>0.379780</td>\n",
       "      <td>-0.503198</td>\n",
       "      <td>1.800499</td>\n",
       "      <td>0.791461</td>\n",
       "      <td>0.247676</td>\n",
       "      <td>-1.514654</td>\n",
       "      <td>...</td>\n",
       "      <td>0.247998</td>\n",
       "      <td>0.771679</td>\n",
       "      <td>0.909412</td>\n",
       "      <td>-0.689281</td>\n",
       "      <td>-0.327642</td>\n",
       "      <td>-0.139097</td>\n",
       "      <td>-0.055353</td>\n",
       "      <td>-0.059752</td>\n",
       "      <td>378.66</td>\n",
       "      <td>0</td>\n",
       "    </tr>\n",
       "    <tr>\n",
       "      <th>3</th>\n",
       "      <td>1.0</td>\n",
       "      <td>-0.966272</td>\n",
       "      <td>-0.185226</td>\n",
       "      <td>1.792993</td>\n",
       "      <td>-0.863291</td>\n",
       "      <td>-0.010309</td>\n",
       "      <td>1.247203</td>\n",
       "      <td>0.237609</td>\n",
       "      <td>0.377436</td>\n",
       "      <td>-1.387024</td>\n",
       "      <td>...</td>\n",
       "      <td>-0.108300</td>\n",
       "      <td>0.005274</td>\n",
       "      <td>-0.190321</td>\n",
       "      <td>-1.175575</td>\n",
       "      <td>0.647376</td>\n",
       "      <td>-0.221929</td>\n",
       "      <td>0.062723</td>\n",
       "      <td>0.061458</td>\n",
       "      <td>123.50</td>\n",
       "      <td>0</td>\n",
       "    </tr>\n",
       "    <tr>\n",
       "      <th>4</th>\n",
       "      <td>2.0</td>\n",
       "      <td>-1.158233</td>\n",
       "      <td>0.877737</td>\n",
       "      <td>1.548718</td>\n",
       "      <td>0.403034</td>\n",
       "      <td>-0.407193</td>\n",
       "      <td>0.095921</td>\n",
       "      <td>0.592941</td>\n",
       "      <td>-0.270533</td>\n",
       "      <td>0.817739</td>\n",
       "      <td>...</td>\n",
       "      <td>-0.009431</td>\n",
       "      <td>0.798278</td>\n",
       "      <td>-0.137458</td>\n",
       "      <td>0.141267</td>\n",
       "      <td>-0.206010</td>\n",
       "      <td>0.502292</td>\n",
       "      <td>0.219422</td>\n",
       "      <td>0.215153</td>\n",
       "      <td>69.99</td>\n",
       "      <td>0</td>\n",
       "    </tr>\n",
       "  </tbody>\n",
       "</table>\n",
       "<p>5 rows × 31 columns</p>\n",
       "</div>"
      ],
      "text/plain": [
       "   Time        V1        V2        V3        V4        V5        V6        V7  \\\n",
       "0   0.0 -1.359807 -0.072781  2.536347  1.378155 -0.338321  0.462388  0.239599   \n",
       "1   0.0  1.191857  0.266151  0.166480  0.448154  0.060018 -0.082361 -0.078803   \n",
       "2   1.0 -1.358354 -1.340163  1.773209  0.379780 -0.503198  1.800499  0.791461   \n",
       "3   1.0 -0.966272 -0.185226  1.792993 -0.863291 -0.010309  1.247203  0.237609   \n",
       "4   2.0 -1.158233  0.877737  1.548718  0.403034 -0.407193  0.095921  0.592941   \n",
       "\n",
       "         V8        V9  ...       V21       V22       V23       V24       V25  \\\n",
       "0  0.098698  0.363787  ... -0.018307  0.277838 -0.110474  0.066928  0.128539   \n",
       "1  0.085102 -0.255425  ... -0.225775 -0.638672  0.101288 -0.339846  0.167170   \n",
       "2  0.247676 -1.514654  ...  0.247998  0.771679  0.909412 -0.689281 -0.327642   \n",
       "3  0.377436 -1.387024  ... -0.108300  0.005274 -0.190321 -1.175575  0.647376   \n",
       "4 -0.270533  0.817739  ... -0.009431  0.798278 -0.137458  0.141267 -0.206010   \n",
       "\n",
       "        V26       V27       V28  Amount  Class  \n",
       "0 -0.189115  0.133558 -0.021053  149.62      0  \n",
       "1  0.125895 -0.008983  0.014724    2.69      0  \n",
       "2 -0.139097 -0.055353 -0.059752  378.66      0  \n",
       "3 -0.221929  0.062723  0.061458  123.50      0  \n",
       "4  0.502292  0.219422  0.215153   69.99      0  \n",
       "\n",
       "[5 rows x 31 columns]"
      ]
     },
     "execution_count": 4,
     "metadata": {},
     "output_type": "execute_result"
    }
   ],
   "source": [
    "data = pd.read_csv('creditcard.csv')\n",
    "data.head()"
   ]
  },
  {
   "cell_type": "markdown",
   "metadata": {},
   "source": [
    "This is a relatively large dataset with 284,807 transactions:"
   ]
  },
  {
   "cell_type": "code",
   "execution_count": 5,
   "metadata": {},
   "outputs": [
    {
     "name": "stdout",
     "output_type": "stream",
     "text": [
      "(284807, 31)\n"
     ]
    }
   ],
   "source": [
    "print(data.shape)"
   ]
  },
  {
   "cell_type": "markdown",
   "metadata": {},
   "source": [
    "The classes are highly imbalanced: only 492 transactions (0.17%) are fraudulent.  This makes the problem much more challenging than the total number of observations would suggest."
   ]
  },
  {
   "cell_type": "code",
   "execution_count": 6,
   "metadata": {},
   "outputs": [
    {
     "data": {
      "text/plain": [
       "0    284315\n",
       "1       492\n",
       "Name: Class, dtype: int64"
      ]
     },
     "execution_count": 6,
     "metadata": {},
     "output_type": "execute_result"
    }
   ],
   "source": [
    "data['Class'].value_counts()"
   ]
  },
  {
   "cell_type": "markdown",
   "metadata": {},
   "source": [
    "With so few observations in the fraud class, we should ideally use cross-validation throughout the analysis. However, this would excessively complicate the code, and we simply create a validation set."
   ]
  },
  {
   "cell_type": "code",
   "execution_count": 7,
   "metadata": {},
   "outputs": [],
   "source": [
    "response = 'Class'\n",
    "index_train, index_val = train_test_split(np.array(data.index), stratify=data[response], \n",
    "                                          train_size=0.8, random_state=1)\n",
    "\n",
    "predictors = list(data.columns[1:-1])  # we won't use the  time variable\n",
    "\n",
    "X_train = data.loc[index_train, predictors].to_numpy()\n",
    "y_train = data.loc[index_train, response].to_numpy()\n",
    "\n",
    "X_valid = data.loc[index_val, predictors].to_numpy()\n",
    "y_valid = data.loc[index_val, response].to_numpy()"
   ]
  },
  {
   "cell_type": "markdown",
   "metadata": {},
   "source": [
    "The last step that we need to prepare the data is to standardise the predictors."
   ]
  },
  {
   "cell_type": "code",
   "execution_count": 8,
   "metadata": {},
   "outputs": [],
   "source": [
    "scaler = StandardScaler()\n",
    "scaler.fit(X_train)\n",
    "\n",
    "X_train = scaler.transform(X_train)\n",
    "X_valid = scaler.transform(X_valid)"
   ]
  },
  {
   "cell_type": "markdown",
   "metadata": {},
   "source": [
    "# 2. Dataset and DataLoader\n",
    "\n",
    "When working with PyTorch, we need to tell it how to process the data and construct minibatches for stochastic gradient descent. \n",
    "\n",
    "The first step is to create a PyTorch dataset object. The easiest way to do this in our case is to convert the original NumPy arrays into PyTorch [tensors](https://pytorch.org/docs/stable/tensors.html), the format required by the package, and then use the [TensorDataset](https://pytorch.org/docs/stable/data.html#torch.utils.data.TensorDataset) function to create the dataset.\n",
    "\n",
    "A tensor in this context is just another name for an array. The PyTorch documentation writes:\n",
    "\n",
    "> A `torch.Tensor` is a multi-dimensional matrix containing elements of a single data type."
   ]
  },
  {
   "cell_type": "code",
   "execution_count": 9,
   "metadata": {},
   "outputs": [],
   "source": [
    "from torch.utils.data import TensorDataset\n",
    "\n",
    "trainset = TensorDataset(torch.from_numpy(X_train).float(), torch.from_numpy(y_train).float())\n",
    "validset = TensorDataset(torch.from_numpy(X_valid).float(), torch.from_numpy(y_valid).float())"
   ]
  },
  {
   "cell_type": "markdown",
   "metadata": {},
   "source": [
    " In many cases, you'll need to create a custom dataset. A PyTorch dataset must be a class that implements three methods: `__init__`, `__len__`, and `__getitem__`. The first takes data as an input, processes it as required, and instantiates the `DataSet` object. The second returns the number of observations. The third takes an index as an input and returns the observation that corresponds to that index."
   ]
  },
  {
   "cell_type": "code",
   "execution_count": 10,
   "metadata": {},
   "outputs": [],
   "source": [
    "from torch.utils.data import Dataset\n",
    "\n",
    "class FraudDataset(Dataset):\n",
    "    \n",
    "    def __init__(self, X, y):\n",
    "        self.input = torch.from_numpy(X).float()\n",
    "        self.target = torch.from_numpy(y).float()\n",
    "\n",
    "    def __len__(self):\n",
    "        return len(self.target)\n",
    "\n",
    "    def __getitem__(self, idx):\n",
    "        return self.input[idx, :], self.target[idx]\n",
    "    \n",
    "trainset = FraudDataset(X_train, y_train)"
   ]
  },
  {
   "cell_type": "markdown",
   "metadata": {},
   "source": [
    "A [DataLoader](https://pytorch.org/docs/stable/data.html?highlight=dataloader#torch.utils.data.DataLoader) takes a `DataSet` as an input and creates an iterator that allows PyTorch to process the data in batches.\n",
    "\n",
    " Setting the `shuffle` option to `True` makes the DataLoader reshuffle the data at every epoch."
   ]
  },
  {
   "cell_type": "code",
   "execution_count": 11,
   "metadata": {},
   "outputs": [],
   "source": [
    "from torch.utils.data import DataLoader\n",
    "\n",
    "trainloader = DataLoader(trainset, batch_size=1024, shuffle=True)"
   ]
  },
  {
   "cell_type": "markdown",
   "metadata": {},
   "source": [
    "The next cell grabs a randomly sampled mini-batch for inspection."
   ]
  },
  {
   "cell_type": "code",
   "execution_count": 16,
   "metadata": {},
   "outputs": [
    {
     "data": {
      "text/plain": [
       "tensor([[-0.1361,  0.6230,  0.3034,  ..., -0.0970, -0.2962, -0.3064],\n",
       "        [-0.8357,  0.3011,  0.9927,  ..., -0.1898, -0.0802,  0.1593],\n",
       "        [-0.4191,  0.6526,  0.7345,  ...,  0.5310,  0.4235, -0.1149],\n",
       "        ...,\n",
       "        [-1.6528,  0.4803,  0.5746,  ..., -1.0794, -1.3220,  0.0580],\n",
       "        [-0.3112,  0.2711,  0.8499,  ..., -0.8057, -1.0689, -0.2748],\n",
       "        [-0.1912,  0.3677, -1.1958,  ..., -0.9205, -1.0006, -0.1599]])"
      ]
     },
     "execution_count": 16,
     "metadata": {},
     "output_type": "execute_result"
    }
   ],
   "source": [
    "X, y = next(iter(trainloader))\n",
    "\n",
    "X"
   ]
  },
  {
   "cell_type": "code",
   "execution_count": 17,
   "metadata": {},
   "outputs": [
    {
     "data": {
      "text/plain": [
       "tensor([0., 0., 0.,  ..., 0., 0., 0.])"
      ]
     },
     "execution_count": 17,
     "metadata": {},
     "output_type": "execute_result"
    }
   ],
   "source": [
    "y"
   ]
  },
  {
   "cell_type": "code",
   "execution_count": 13,
   "metadata": {},
   "outputs": [
    {
     "data": {
      "text/plain": [
       "torch.Size([1024, 29])"
      ]
     },
     "execution_count": 13,
     "metadata": {},
     "output_type": "execute_result"
    }
   ],
   "source": [
    "X.shape"
   ]
  },
  {
   "cell_type": "code",
   "execution_count": 14,
   "metadata": {},
   "outputs": [
    {
     "data": {
      "text/plain": [
       "torch.Size([1024])"
      ]
     },
     "execution_count": 14,
     "metadata": {},
     "output_type": "execute_result"
    }
   ],
   "source": [
    "y.shape"
   ]
  },
  {
   "cell_type": "markdown",
   "metadata": {},
   "source": [
    "# 3. Building a neural network\n",
    "\n",
    "Our neural network model will be a multilayer perceptron (MLP) with three hidden layers. Each layer will have 128 hidden units and the activation function will be the rectified linear unit (ReLU).\n",
    "\n",
    "We code the model as a PyTorch neural network module that is a subclass of [nn.Module](https://pytorch.org/docs/stable/generated/torch.nn.Module.html). The model class needs to have an `__init__` method that initialises the neural network layers and a `forward` method that implements the operations to be performed on the inputs.\n",
    "\n",
    "The following code takes advantage of the `nn.Sequential` class, which allows us to quickly stack standard layers."
   ]
  },
  {
   "cell_type": "code",
   "execution_count": 19,
   "metadata": {},
   "outputs": [
    {
     "data": {
      "text/plain": [
       "(227845, 29)"
      ]
     },
     "execution_count": 19,
     "metadata": {},
     "output_type": "execute_result"
    }
   ],
   "source": [
    "X_train.shape"
   ]
  },
  {
   "cell_type": "code",
   "execution_count": 26,
   "metadata": {},
   "outputs": [],
   "source": [
    "from torch import nn\n",
    "   \n",
    "class NeuralNetwork(nn.Module):\n",
    "    \n",
    "    def __init__(self):\n",
    "        super(NeuralNetwork, self).__init__()\n",
    "        \n",
    "        self.feedforward = nn.Sequential(            \n",
    "            nn.Linear(29, 128),  # 28 -> 128 -> ReLU -> 128 -> ReLU -> 128 -> ReLU -> 1 -> Sigmoid\n",
    "            nn.ReLU(),                       \n",
    "            nn.Linear(128, 128),\n",
    "            nn.ReLU(),  \n",
    "            nn.Linear(128, 128),\n",
    "            nn.ReLU(),\n",
    "            nn.Linear(128, 1),\n",
    "            nn.Sigmoid()\n",
    "        )                        \n",
    "\n",
    "    def forward(self, X):        \n",
    "        return self.feedforward(X).flatten() # returns a flat array as desired"
   ]
  },
  {
   "cell_type": "markdown",
   "metadata": {},
   "source": [
    "We instantiate the model as follows."
   ]
  },
  {
   "cell_type": "code",
   "execution_count": 27,
   "metadata": {},
   "outputs": [
    {
     "name": "stdout",
     "output_type": "stream",
     "text": [
      "NeuralNetwork(\n",
      "  (feedforward): Sequential(\n",
      "    (0): Linear(in_features=29, out_features=128, bias=True)\n",
      "    (1): ReLU()\n",
      "    (2): Linear(in_features=128, out_features=128, bias=True)\n",
      "    (3): ReLU()\n",
      "    (4): Linear(in_features=128, out_features=128, bias=True)\n",
      "    (5): ReLU()\n",
      "    (6): Linear(in_features=128, out_features=1, bias=True)\n",
      "    (7): Sigmoid()\n",
      "  )\n",
      ")\n"
     ]
    }
   ],
   "source": [
    "mlp = NeuralNetwork()\n",
    "\n",
    "print(mlp)"
   ]
  },
  {
   "cell_type": "markdown",
   "metadata": {},
   "source": [
    "The [torchinfo](https://github.com/TylerYep/torchinfo) package provides a more detailed model summary.  We need to pass the input size (including the batch size) for it to work out how each layer processes the data."
   ]
  },
  {
   "cell_type": "code",
   "execution_count": 28,
   "metadata": {},
   "outputs": [
    {
     "data": {
      "text/plain": [
       "==========================================================================================\n",
       "Layer (type:depth-idx)                   Output Shape              Param #\n",
       "==========================================================================================\n",
       "NeuralNetwork                            --                        --\n",
       "├─Sequential: 1-1                        [64, 1]                   --\n",
       "│    └─Linear: 2-1                       [64, 128]                 3,840\n",
       "│    └─ReLU: 2-2                         [64, 128]                 --\n",
       "│    └─Linear: 2-3                       [64, 128]                 16,512\n",
       "│    └─ReLU: 2-4                         [64, 128]                 --\n",
       "│    └─Linear: 2-5                       [64, 128]                 16,512\n",
       "│    └─ReLU: 2-6                         [64, 128]                 --\n",
       "│    └─Linear: 2-7                       [64, 1]                   129\n",
       "│    └─Sigmoid: 2-8                      [64, 1]                   --\n",
       "==========================================================================================\n",
       "Total params: 36,993\n",
       "Trainable params: 36,993\n",
       "Non-trainable params: 0\n",
       "Total mult-adds (M): 2.37\n",
       "==========================================================================================\n",
       "Input size (MB): 0.01\n",
       "Forward/backward pass size (MB): 0.20\n",
       "Params size (MB): 0.15\n",
       "Estimated Total Size (MB): 0.35\n",
       "=========================================================================================="
      ]
     },
     "execution_count": 28,
     "metadata": {},
     "output_type": "execute_result"
    }
   ],
   "source": [
    "from torchinfo import summary\n",
    "\n",
    "summary(mlp, input_size=(64, 29))"
   ]
  },
  {
   "cell_type": "markdown",
   "metadata": {},
   "source": [
    "# 4. Computing predictions\n",
    "\n",
    "At the most basic level, computing the output of the model given input data is just a matter of running a command such as `output = model(X)`. \n",
    "\n",
    "In practice, we need to handle a few practical details such as moving the data to the GPU memory. We write a function to take care of the details."
   ]
  },
  {
   "cell_type": "code",
   "execution_count": 29,
   "metadata": {},
   "outputs": [
    {
     "data": {
      "text/plain": [
       "array([[ 0.58867204, -0.00190627, -0.15430595, ..., -0.02083907,\n",
       "        -0.03400482, -0.11962486],\n",
       "       [-0.46600498, -0.59279613,  0.68102923, ..., -0.32153323,\n",
       "        -0.48878674,  0.21434073],\n",
       "       [ 0.62651986,  0.30118025, -0.05618417, ..., -0.01819322,\n",
       "         0.01123113, -0.32284392],\n",
       "       ...,\n",
       "       [ 1.01467248,  0.06443548, -0.61140049, ...,  0.18057578,\n",
       "        -0.01692782, -0.32320388],\n",
       "       [ 0.96789021, -0.12132428, -0.26700661, ...,  0.12197599,\n",
       "        -0.10052038, -0.32020419],\n",
       "       [ 0.53491683, -1.0159783 , -0.26833026, ..., -0.12881622,\n",
       "         0.1339857 ,  0.70081061]])"
      ]
     },
     "execution_count": 29,
     "metadata": {},
     "output_type": "execute_result"
    }
   ],
   "source": [
    "X_train"
   ]
  },
  {
   "cell_type": "code",
   "execution_count": 30,
   "metadata": {},
   "outputs": [],
   "source": [
    "def predict(net, X):\n",
    "    \n",
    "    # Use GPU if available\n",
    "    device = 'cuda' if torch.cuda.is_available() else 'cpu'\n",
    "    \n",
    "    # Move data to device\n",
    "    X_g = X.to(device)\n",
    "    \n",
    "    # Put model on evaluation mode (it makes no difference but needed in some cases)\n",
    "    net.eval()\n",
    "    \n",
    "    # Disable gradient computation\n",
    "    with torch.no_grad():\n",
    "        \n",
    "        # Predicted probabilities \n",
    "        # the .cpu().detach() part transfers the result to the cpu\n",
    "        output = net(X_g).cpu().detach()\n",
    "    \n",
    "    return output # the output is a tensor"
   ]
  },
  {
   "cell_type": "markdown",
   "metadata": {},
   "source": [
    "# 4. Training\n",
    "\n",
    "Let's train our neural network! \n",
    "\n",
    "So far in this unit, we trained our models using simple commands such as `model.fit(X_train, y_train)`. Training models with PyTorch more coding, so we implement a function to train the model. I annotated all the steps are annotated so that you can understand the details."
   ]
  },
  {
   "cell_type": "code",
   "execution_count": 19,
   "metadata": {},
   "outputs": [],
   "source": [
    "import time\n",
    "\n",
    "def train(model, trainloader, validset, num_epochs = 5 , lr = 1e-3):\n",
    "    \n",
    "    # Get device\n",
    "    device = 'cuda' if torch.cuda.is_available() else 'cpu'\n",
    "    \n",
    "    # Instantiate model and move to device\n",
    "    net = model().to(device)\n",
    "    \n",
    "    # Loss function\n",
    "    loss_fn = nn.BCELoss() # binary cross-entropy loss, assumes that the output of the network is a probability\n",
    "    \n",
    "    # Instantiate optimiser\n",
    "    # Adam is a variant of SGD that often works well for training neural networks\n",
    "    # https://pytorch.org/docs/stable/generated/torch.optim.Adam.html\n",
    "    optimiser = torch.optim.Adam(net.parameters(), lr=lr) \n",
    "    \n",
    "    # Addding a learning rate scheduler to improve training\n",
    "    # Adam + OneCycleLR is a good default for many problems\n",
    "    # Learn more: https://sgugger.github.io/the-1cycle-policy.html\n",
    "    scheduler = torch.optim.lr_scheduler.OneCycleLR(optimiser, max_lr=lr, \n",
    "                                                    steps_per_epoch=len(trainloader), epochs=num_epochs,\n",
    "                                                    three_phase=True)\n",
    "    # Number of training samples\n",
    "    num_samples = len(trainloader.dataset)\n",
    "    \n",
    "    # Initialise table to track training\n",
    "    table = init_training_table(num_epochs)\n",
    "    \n",
    "    # Training loop\n",
    "    print('Running first epoch')\n",
    "    for epoch in range(num_epochs):\n",
    "        \n",
    "        # Make sure that the model is on training mode\n",
    "        net.train()\n",
    "        \n",
    "        # Initialise timer\n",
    "        epoch_start = time.time()\n",
    "        \n",
    "        # Initialise metric\n",
    "        train_loss = 0.0\n",
    "        \n",
    "        # Iterate over minibatches\n",
    "        for X, y in trainloader:\n",
    "\n",
    "            # Move minibatch to device\n",
    "            X_g = X.to(device)\n",
    "            y_g = y.to(device)\n",
    "\n",
    "            # Reset the gradient\n",
    "            optimiser.zero_grad()\n",
    "\n",
    "            # Compute predictions\n",
    "            output = net(X_g)\n",
    "\n",
    "            # Evaluate cost function\n",
    "            loss = loss_fn(output, y_g)\n",
    "\n",
    "            # Compute gradient \n",
    "            loss.backward()\n",
    "\n",
    "            # Update parameters\n",
    "            optimiser.step()\n",
    "            \n",
    "            # Update scheduler\n",
    "            scheduler.step()\n",
    "            \n",
    "            # Keep track of the training loss\n",
    "            l = loss.cpu().detach().numpy()\n",
    "            train_loss +=  l*(len(y)/num_samples)\n",
    "  \n",
    "        # Epoch length\n",
    "        duration = time.time() - epoch_start \n",
    "        \n",
    "        # Display metrics\n",
    "        table.iloc[epoch, 1] = np.round(10*train_loss, 3)\n",
    "        table = update_training_table(table, net, validset, epoch, duration)\n",
    "    \n",
    "    return net"
   ]
  },
  {
   "cell_type": "markdown",
   "metadata": {},
   "source": [
    "The following is auxiliary code to display the training progress. This code is not important, so let's just run it and proceed."
   ]
  },
  {
   "cell_type": "code",
   "execution_count": 20,
   "metadata": {},
   "outputs": [],
   "source": [
    "# auxiliary code\n",
    "\n",
    "from torch.nn import functional as F\n",
    "from sklearn.metrics import recall_score, average_precision_score\n",
    "\n",
    "def evaluate(net, validset):\n",
    "    \n",
    "    # Use GPU if available\n",
    "    device = 'cuda' if torch.cuda.is_available() else 'cpu'\n",
    "    \n",
    "    # Set model to evaluation mode (not necessary here but required in general)\n",
    "    net.eval()\n",
    "    \n",
    "    # Get input and target\n",
    "    X, y = validset[:]\n",
    "        \n",
    "    # Predicted probabilities \n",
    "    output = predict(net, X)\n",
    "        \n",
    "    # Validation loss\n",
    "    loss = F.binary_cross_entropy(output, y).item()\n",
    "    \n",
    "    # Convert output to numpy\n",
    "    y_prob = output.numpy()\n",
    "     \n",
    "    # Classification using the decision threshold\n",
    "    tau = 1/11\n",
    "    y_pred = (y_prob > tau).astype(int)\n",
    "    \n",
    "    # Validation metrics\n",
    "    recall = recall_score(y_valid, y_pred)\n",
    "    average_precision = average_precision_score(y_valid, y_prob)\n",
    "    \n",
    "    return loss, recall, average_precision \n",
    "\n",
    "\n",
    "from IPython.display import clear_output\n",
    "from IPython.display import display, HTML\n",
    "\n",
    "def init_training_table(num_epochs):\n",
    "    table = pd.DataFrame(np.arange(1, num_epochs+1), columns = ['epoch'])\n",
    "    table['train loss'] = 0.0\n",
    "    table['valid loss'] = 0.0\n",
    "    table['valid recall'] = 0.0\n",
    "    table['valid average precision'] = 0.0\n",
    "    table['time'] = ''\n",
    "    return table\n",
    "\n",
    "def update_training_table(table, net, validset, epoch, duration):\n",
    "    \n",
    "    # Run evaluation function to get validation metrics\n",
    "    valid_loss, valid_recall, valid_ave_precision = evaluate(net, validset)\n",
    "        \n",
    "    # Update table\n",
    "    table.iloc[epoch, 2] = np.round(10*valid_loss, 3)\n",
    "    table.iloc[epoch, 3] = np.round(valid_recall, 3)\n",
    "    table.iloc[epoch, 4] = np.round(valid_ave_precision, 3)\n",
    "     \n",
    "    # Epoch length   \n",
    "    if duration > 3600:\n",
    "        table.iloc[epoch, 5] = time.strftime('%H:%M:%S', time.gmtime(duration))\n",
    "    else:\n",
    "        table.iloc[epoch, 5] = time.strftime('%M:%S', time.gmtime(duration))\n",
    "        \n",
    "    clear_output(wait=True)\n",
    "    display(HTML(table.iloc[:epoch+1, :].to_html(index=False)))\n",
    "    \n",
    "    return table"
   ]
  },
  {
   "cell_type": "markdown",
   "metadata": {},
   "source": [
    "Choosing a good learning rate is critical in deep learning. Fortunately, the [learning rate finder](https://github.com/davidtvs/pytorch-lr-finder) proposed in [Cyclical Learning Rates for Training Neural Networks](https://arxiv.org/abs/1506.01186) by Leslie N. Smith can help us with this.\n",
    "\n",
    "The idea is to start training the model with a learning rates that range from very small to somewhat large. We then plot the training error against the learning rate and pick a value before the minimum. We want to choose a value in a range where there's a good improvement in the loss, but not so high that the learning rate may cause instability.  The minimum is too high since it's on the edge of instability, so we choose a learning rate one order of magnitude below.\n",
    "\n",
    "See this [blog post](https://sgugger.github.io/how-do-you-find-a-good-learning-rate.html#how-do-you-find-a-good-learning-rate) for a detailed explanation.\n"
   ]
  },
  {
   "cell_type": "code",
   "execution_count": 21,
   "metadata": {},
   "outputs": [
    {
     "data": {
      "application/vnd.jupyter.widget-view+json": {
       "model_id": "4546273ba15743a4b6d68a37e097dfa8",
       "version_major": 2,
       "version_minor": 0
      },
      "text/plain": [
       "  0%|          | 0/100 [00:00<?, ?it/s]"
      ]
     },
     "metadata": {},
     "output_type": "display_data"
    },
    {
     "name": "stdout",
     "output_type": "stream",
     "text": [
      "Learning rate search finished. See the graph with {finder_name}.plot()\n",
      "LR suggestion: steepest gradient\n",
      "Suggested LR: 2.85E-03\n"
     ]
    },
    {
     "data": {
      "image/png": "[encoded data removed]",
      "text/plain": [
       "<Figure size 432x288 with 1 Axes>"
      ]
     },
     "metadata": {
      "needs_background": "light"
     },
     "output_type": "display_data"
    }
   ],
   "source": [
    "from torch_lr_finder import LRFinder\n",
    "\n",
    "device = 'cuda' if torch.cuda.is_available() else 'cpu'\n",
    "\n",
    "model = NeuralNetwork()\n",
    "loss_fn =  nn.BCELoss()\n",
    "optimiser = torch.optim.Adam(model.parameters(), lr=1e-7)\n",
    "lr_finder = LRFinder(model, optimiser, loss_fn, device = device)\n",
    "lr_finder.range_test(trainloader, end_lr=1, num_iter=100)\n",
    "lr_finder.plot() \n",
    "lr_finder.reset() "
   ]
  },
  {
   "cell_type": "markdown",
   "metadata": {},
   "source": [
    "Now we can finally train the model."
   ]
  },
  {
   "cell_type": "code",
   "execution_count": 22,
   "metadata": {},
   "outputs": [
    {
     "data": {
      "text/html": [
       "<table border=\"1\" class=\"dataframe\">\n",
       "  <thead>\n",
       "    <tr style=\"text-align: right;\">\n",
       "      <th>epoch</th>\n",
       "      <th>train loss</th>\n",
       "      <th>valid loss</th>\n",
       "      <th>valid recall</th>\n",
       "      <th>valid average precision</th>\n",
       "      <th>time</th>\n",
       "    </tr>\n",
       "  </thead>\n",
       "  <tbody>\n",
       "    <tr>\n",
       "      <td>1</td>\n",
       "      <td>1.740</td>\n",
       "      <td>0.066</td>\n",
       "      <td>0.694</td>\n",
       "      <td>0.704</td>\n",
       "      <td>00:02</td>\n",
       "    </tr>\n",
       "    <tr>\n",
       "      <td>2</td>\n",
       "      <td>0.044</td>\n",
       "      <td>0.025</td>\n",
       "      <td>0.857</td>\n",
       "      <td>0.850</td>\n",
       "      <td>00:02</td>\n",
       "    </tr>\n",
       "    <tr>\n",
       "      <td>3</td>\n",
       "      <td>0.034</td>\n",
       "      <td>0.023</td>\n",
       "      <td>0.888</td>\n",
       "      <td>0.879</td>\n",
       "      <td>00:02</td>\n",
       "    </tr>\n",
       "    <tr>\n",
       "      <td>4</td>\n",
       "      <td>0.031</td>\n",
       "      <td>0.023</td>\n",
       "      <td>0.878</td>\n",
       "      <td>0.882</td>\n",
       "      <td>00:02</td>\n",
       "    </tr>\n",
       "    <tr>\n",
       "      <td>5</td>\n",
       "      <td>0.025</td>\n",
       "      <td>0.022</td>\n",
       "      <td>0.898</td>\n",
       "      <td>0.889</td>\n",
       "      <td>00:02</td>\n",
       "    </tr>\n",
       "    <tr>\n",
       "      <td>6</td>\n",
       "      <td>0.022</td>\n",
       "      <td>0.022</td>\n",
       "      <td>0.898</td>\n",
       "      <td>0.889</td>\n",
       "      <td>00:02</td>\n",
       "    </tr>\n",
       "    <tr>\n",
       "      <td>7</td>\n",
       "      <td>0.020</td>\n",
       "      <td>0.021</td>\n",
       "      <td>0.898</td>\n",
       "      <td>0.891</td>\n",
       "      <td>00:02</td>\n",
       "    </tr>\n",
       "    <tr>\n",
       "      <td>8</td>\n",
       "      <td>0.020</td>\n",
       "      <td>0.021</td>\n",
       "      <td>0.898</td>\n",
       "      <td>0.890</td>\n",
       "      <td>00:02</td>\n",
       "    </tr>\n",
       "    <tr>\n",
       "      <td>9</td>\n",
       "      <td>0.020</td>\n",
       "      <td>0.021</td>\n",
       "      <td>0.898</td>\n",
       "      <td>0.890</td>\n",
       "      <td>00:02</td>\n",
       "    </tr>\n",
       "    <tr>\n",
       "      <td>10</td>\n",
       "      <td>0.020</td>\n",
       "      <td>0.021</td>\n",
       "      <td>0.898</td>\n",
       "      <td>0.890</td>\n",
       "      <td>00:02</td>\n",
       "    </tr>\n",
       "  </tbody>\n",
       "</table>"
      ],
      "text/plain": [
       "<IPython.core.display.HTML object>"
      ]
     },
     "metadata": {},
     "output_type": "display_data"
    }
   ],
   "source": [
    "mlp = train(NeuralNetwork, trainloader, validset, num_epochs=10, lr=3e-3)"
   ]
  },
  {
   "cell_type": "markdown",
   "metadata": {},
   "source": [
    "You will not get the same numbers because of the randomness in the learning algorithm. When using the CPU for training, it's possible to achieve reproducibility by following the [recommendations](https://pytorch.org/docs/stable/notes/randomness.html) in the PyTorch documentation. With GPU training, reproducibility is difficult and often not possible. "
   ]
  },
  {
   "cell_type": "markdown",
   "metadata": {},
   "source": [
    "#  5. Logistic Regression"
   ]
  },
  {
   "cell_type": "code",
   "execution_count": 24,
   "metadata": {},
   "outputs": [
    {
     "data": {
      "text/plain": [
       "LogisticRegressionCV(Cs=50, scoring='neg_log_loss')"
      ]
     },
     "execution_count": 24,
     "metadata": {},
     "output_type": "execute_result"
    }
   ],
   "source": [
    "from sklearn.linear_model import LogisticRegression\n",
    "\n",
    "# No regularisation\n",
    "logit = LogisticRegression(penalty='none', solver='lbfgs')\n",
    "logit.fit(X_train, y_train)\n",
    "\n",
    "# L2 regularisation\n",
    "# logit_l2= LogisticRegressionCV(Cs = 50, penalty='l2', solver='lbfgs', scoring='neg_log_loss', n_jobs=-1)\n",
    "logit_l2= LogisticRegressionCV(Cs=50, penalty='l2', solver='lbfgs', scoring='neg_log_loss')\n",
    "logit_l2.fit(X_train, y_train)"
   ]
  },
  {
   "cell_type": "markdown",
   "metadata": {},
   "source": [
    "# 6. Validation results\n",
    "\n",
    "The next cell compares the validation performance of the neural network against the logistic regression benchmark. The neural network outperforms the logistic regression in terms of the actual loss, average precision, and cross-entropy. \n",
    "\n",
    "Some important comments:\n",
    "\n",
    "(i) As noted above, you will not get the same numbers because of the randomness in the optimisation process. \n",
    "\n",
    "(ii) A useful trick for training neural networks is to re-run the learning algorithm if necessary. You can then select and save a model that performs well on the validation set. The disadvantage of this approach is that it can overfit the validation set. If possible, it's better to average multiple neural networks trained on different training-validation splits, discarding those with poor validation performance. \n",
    "\n",
    "(iii) The comparison with the logistic regression is not entirely rigorous since we looked at the validation performance to select a reasonable number of epochs for training the neural network.\n",
    "\n",
    "(iv) It's not clear why the neural networks performs better. As earlier in the unit, it's important to use EDA and interpretability tools to understand what's happening. "
   ]
  },
  {
   "cell_type": "code",
   "execution_count": 25,
   "metadata": {},
   "outputs": [
    {
     "data": {
      "text/html": [
       "<div>\n",
       "<style scoped>\n",
       "    .dataframe tbody tr th:only-of-type {\n",
       "        vertical-align: middle;\n",
       "    }\n",
       "\n",
       "    .dataframe tbody tr th {\n",
       "        vertical-align: top;\n",
       "    }\n",
       "\n",
       "    .dataframe thead th {\n",
       "        text-align: right;\n",
       "    }\n",
       "</style>\n",
       "<table border=\"1\" class=\"dataframe\">\n",
       "  <thead>\n",
       "    <tr style=\"text-align: right;\">\n",
       "      <th></th>\n",
       "      <th>Actual loss</th>\n",
       "      <th>Error rate</th>\n",
       "      <th>Sensitivity</th>\n",
       "      <th>Specificity</th>\n",
       "      <th>Precision</th>\n",
       "      <th>Average Precision</th>\n",
       "      <th>Cross-entropy</th>\n",
       "    </tr>\n",
       "  </thead>\n",
       "  <tbody>\n",
       "    <tr>\n",
       "      <th>Logistic</th>\n",
       "      <td>1.000</td>\n",
       "      <td>0.001</td>\n",
       "      <td>0.827</td>\n",
       "      <td>1.000</td>\n",
       "      <td>0.802</td>\n",
       "      <td>0.811</td>\n",
       "      <td>0.033</td>\n",
       "    </tr>\n",
       "    <tr>\n",
       "      <th>Logistic $\\ell_2$</th>\n",
       "      <td>1.000</td>\n",
       "      <td>0.001</td>\n",
       "      <td>0.827</td>\n",
       "      <td>1.000</td>\n",
       "      <td>0.802</td>\n",
       "      <td>0.815</td>\n",
       "      <td>0.033</td>\n",
       "    </tr>\n",
       "    <tr>\n",
       "      <th>Neural network</th>\n",
       "      <td>0.695</td>\n",
       "      <td>0.001</td>\n",
       "      <td>0.898</td>\n",
       "      <td>0.999</td>\n",
       "      <td>0.733</td>\n",
       "      <td>0.890</td>\n",
       "      <td>0.021</td>\n",
       "    </tr>\n",
       "  </tbody>\n",
       "</table>\n",
       "</div>"
      ],
      "text/plain": [
       "                   Actual loss  Error rate  Sensitivity  Specificity  \\\n",
       "Logistic                 1.000       0.001        0.827        1.000   \n",
       "Logistic $\\ell_2$        1.000       0.001        0.827        1.000   \n",
       "Neural network           0.695       0.001        0.898        0.999   \n",
       "\n",
       "                   Precision  Average Precision  Cross-entropy  \n",
       "Logistic               0.802              0.811          0.033  \n",
       "Logistic $\\ell_2$      0.802              0.815          0.033  \n",
       "Neural network         0.733              0.890          0.021  "
      ]
     },
     "execution_count": 25,
     "metadata": {},
     "output_type": "execute_result"
    }
   ],
   "source": [
    "from sklearn.metrics import accuracy_score, precision_score, confusion_matrix, log_loss\n",
    "\n",
    "columns=['Actual loss', 'Error rate', 'Sensitivity', 'Specificity', \n",
    "         'Precision', 'Average Precision', 'Cross-entropy']\n",
    "rows=['Logistic', 'Logistic $\\ell_2$', 'Neural network']\n",
    "results=pd.DataFrame(0.0, columns=columns, index=rows) \n",
    "\n",
    "methods=[logit, logit_l2, None]\n",
    "\n",
    "lfp = 1\n",
    "lfn = 10\n",
    "tau = lfp/(lfp+lfn)\n",
    "\n",
    "for i, method in enumerate(methods):\n",
    "    \n",
    "    if i<2:\n",
    "        y_prob = method.predict_proba(X_valid)[:, 1]\n",
    "    else:\n",
    "        X = validset[:][0]\n",
    "        y_prob = predict(mlp, X).numpy()\n",
    "        y_prob[y_prob < 1e-5] = 1e-5 # Log-loss returns NaN if too close to zero or one\n",
    "        y_prob[y_prob > 1 - 1e-5] =  1- 1e-5\n",
    "        \n",
    "\n",
    "    y_pred = (y_prob > tau).astype(int)\n",
    "       \n",
    "    tn, fp, fn, tp = confusion_matrix(y_valid, y_pred).ravel()\n",
    "    \n",
    "    results.iloc[i,0] = (fp*lfp+fn*lfn)/len(y_valid)\n",
    "    results.iloc[i,1] = 1 - accuracy_score(y_valid, y_pred)\n",
    "    results.iloc[i,2] = tp/(tp+fn)\n",
    "    results.iloc[i,3] = tn/(tn+fp)\n",
    "    results.iloc[i,4] = precision_score(y_valid, y_pred)\n",
    "    results.iloc[i,5] = average_precision_score(y_valid, y_prob)\n",
    "    results.iloc[i,6] = 10*log_loss(y_valid, y_prob)\n",
    "\n",
    "results.iloc[:,0] /= results.iloc[0,0]\n",
    "results.round(3)"
   ]
  }
 ],
 "metadata": {
  "kernelspec": {
   "display_name": "Python 3",
   "language": "python",
   "name": "python3"
  },
  "language_info": {
   "codemirror_mode": {
    "name": "ipython",
    "version": 3
   },
   "file_extension": ".py",
   "mimetype": "text/x-python",
   "name": "python",
   "nbconvert_exporter": "python",
   "pygments_lexer": "ipython3",
   "version": "3.7.6"
  }
 },
 "nbformat": 4,
 "nbformat_minor": 2
}

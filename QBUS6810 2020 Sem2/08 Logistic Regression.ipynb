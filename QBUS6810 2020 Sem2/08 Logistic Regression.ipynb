{
 "cells": [
  {
   "cell_type": "markdown",
   "metadata": {},
   "source": [
    "# Clasification! - Extra\n",
    "\n",
    "Suppose I told you my model had a 98% accuracy rate. The question is, is the model good or bad?\n",
    "\n",
    "The real answer is that it depends. If I told you that in the dataset, 98% had the label 0 and 2% had the label 1 this result is not impressive anymore (highly imbalanced data). Because your model can simply be $\\hat{y} = 0$ and you get a 98% accuracy rate. Now lets look at the confusion matrix\n",
    "\n",
    "|            | $Y_{pred} = 0$ | $Y_{pred} = 1$ |\n",
    "|------------|--------------|--------------|\n",
    "|$Y_{true} = 0$|        True Negatives     |     False Positives      | \n",
    "|$Y_{true} = 1$|  False Negatives         |      True Positives       |\n",
    "\n",
    "$$\\textrm{Accuracy} = \\frac{\\textrm{True Negatives} + \\textrm{True Positives}}{\\textrm{Number of Samples}}$$\n",
    "\n",
    "$$ \\textrm{Precision} = \\frac{\\textrm{True Positives}}{\\textrm{True Positives + False Positives}}$$\n",
    "\n",
    "\n",
    "### Ideal Model (Accuracy 100%)\n",
    "\n",
    "|            | $Y_{pred} = 0$ | $Y_{pred} = 1$ |\n",
    "|------------|--------------|--------------|\n",
    "|$Y_{true} = 0$|        98     |     0      | \n",
    "|$Y_{true} = 1$|  0        |      2       |\n",
    "\n",
    "\n",
    "$$ \\textrm{Precision} = \\frac{2}{2}=1$$\n",
    "<br>\n",
    "<br>\n",
    "\n",
    " \n",
    "### Model: `y = 0` (Accuracy 98%)\n",
    "\n",
    "|            | $Y_{pred} = 0$ | $Y_{pred} = 1$ |\n",
    "|------------|--------------|--------------|\n",
    "|$Y_{true} = 0$|        98     |     0      | \n",
    "|$Y_{true} = 1$|  2         |      0       |\n",
    "\n",
    "\n",
    "$$ \\textrm{Precision} = \\frac{0}{0 + 0}=... \\textrm{math}...=0$$\n",
    "<br>\n",
    "<br>\n",
    "### Model: Flipping a Coin (Accuracy 50%)\n",
    "|            | $Y_{pred} = 0$ | $Y_{pred} = 1$ |\n",
    "|------------|--------------|--------------|\n",
    "|$Y_{true} = 0$|        49     |     49      | \n",
    "|$Y_{true} = 1$|  1         |      1       |\n",
    "\n",
    "$$ \\textrm{Precision} = \\frac{1}{1 + 49}=0.02$$\n",
    "\n",
    "\n",
    "Now, if I ask you that this data was on cancer cells\n",
    "- label 0: No Cancer\n",
    "- label 1: Has Cancer\n",
    "\n",
    "It would seem that flipping a coin (50% accuracy) is much better than 99% accuracy.\n",
    "\n",
    "### Model: High Bias (Accuracy 2%)\n",
    "|            | $Y_{pred} = 0$ | $Y_{pred} = 1$ |\n",
    "|------------|--------------|--------------|\n",
    "|$Y_{true} = 0$|        0     |     98      | \n",
    "|$Y_{true} = 1$|  0         |      2       |\n",
    "\n",
    "$$ \\textrm{Precision} = \\frac{2}{2 + 98}=0.02$$\n",
    "\n",
    "Once again, having a model with high bias proves to be the winner again. But, once again, we need to think if this makes sense or not. In this model with high bias, all patients who have cancer have been correctly identified as having cancer. But, this comes at the cost of all patients who DON'T have cancer being identified as having cancer. As such, patients who have cancer are given need treatment, like radio-therapy, while patients who don't have cancer are also given radio-therapy. \n",
    "\n",
    "Once again, real world modelling is no longer a question of statistics. It is a question of morality and ethics. The real question is, what percentage of error do we accept as being okay, or morally good?"
   ]
  },
  {
   "cell_type": "markdown",
   "metadata": {},
   "source": [
    "<img align=\"center\" src=\"http://sydney.edu.au/images/content/about/logo-mono.jpg\">\n",
    "<h1 align=\"center\" style=\"margin-top:10px\">Statistical Learning and Data Mining</h1>\n",
    "<h2 align=\"center\" style=\"margin-top:20px\">Tutorial 8: Logistic Regression</h2>\n",
    "<br>\n",
    "\n",
    "In this tutorial we discuss how we you can use the logistic regression method in practical business decision-making application to credit risk. \n",
    "\n",
    "<a href=\"#1.-German-Credit-Data\">German credit data</a> <br>\n",
    "<a href=\"#2.-Business-understanding\">Business understanding</a> <br>\n",
    "<a href=\"#3.-Exploratory-Data-Analysis\">Exploratory data analysis</a> <br>\n",
    "<a href=\"#4.-Feature-engineering\">Feature Engineering</a> <br>\n",
    "<a href=\"#5.-Logistic-regression\">Logistic Regression</a> <br>\n",
    "<a href=\"#6.-Feature-selection\">Feature selection</a> <br>\n",
    "<a href=\"#7.-Evaluation\">Evaluation</a> <br>"
   ]
  },
  {
   "cell_type": "code",
   "execution_count": 1,
   "metadata": {},
   "outputs": [],
   "source": [
    "# Packages\n",
    "import pandas as pd\n",
    "import numpy as np\n",
    "import matplotlib.pyplot as plt\n",
    "import seaborn as sns\n",
    "import warnings\n",
    "warnings.filterwarnings('ignore') "
   ]
  },
  {
   "cell_type": "code",
   "execution_count": 2,
   "metadata": {},
   "outputs": [],
   "source": [
    "# Plot settings\n",
    "sns.set_context('notebook') # optimises figures for notebook display\n",
    "sns.set_style('ticks') # set default plot style\n",
    "crayon = ['#4E79A7','#F28E2C','#E15759','#76B7B2','#59A14F', \n",
    "          '#EDC949','#AF7AA1','#FF9DA7','#9C755F','#BAB0AB']\n",
    "sns.set_palette(crayon) # set custom color scheme\n",
    "%matplotlib inline\n",
    "plt.rcParams['figure.figsize'] = (9, 6)"
   ]
  },
  {
   "cell_type": "code",
   "execution_count": 3,
   "metadata": {},
   "outputs": [],
   "source": [
    "# Model selection and evaluation tools\n",
    "from sklearn.model_selection import train_test_split, cross_val_predict\n",
    "from sklearn.metrics import confusion_matrix, roc_auc_score\n",
    "from sklearn.metrics import precision_score, log_loss"
   ]
  },
  {
   "cell_type": "markdown",
   "metadata": {},
   "source": [
    "## 1. German credit data\n",
    "\n",
    "This tutorial is based on the [German Credit Data](https://archive.ics.uci.edu/ml/datasets/Statlog+%28German+Credit+Data%29) available from the UCI Machine Learning repository. Each observation in the dataset represents a loan. The response variable is `default`, which indicates whether the client defaulted on the loan. "
   ]
  },
  {
   "cell_type": "code",
   "execution_count": 4,
   "metadata": {},
   "outputs": [
    {
     "data": {
      "text/html": [
       "<div>\n",
       "<style scoped>\n",
       "    .dataframe tbody tr th:only-of-type {\n",
       "        vertical-align: middle;\n",
       "    }\n",
       "\n",
       "    .dataframe tbody tr th {\n",
       "        vertical-align: top;\n",
       "    }\n",
       "\n",
       "    .dataframe thead th {\n",
       "        text-align: right;\n",
       "    }\n",
       "</style>\n",
       "<table border=\"1\" class=\"dataframe\">\n",
       "  <thead>\n",
       "    <tr style=\"text-align: right;\">\n",
       "      <th></th>\n",
       "      <th>status</th>\n",
       "      <th>duration</th>\n",
       "      <th>history</th>\n",
       "      <th>purpose</th>\n",
       "      <th>amount</th>\n",
       "      <th>savings</th>\n",
       "      <th>employment</th>\n",
       "      <th>installment_rate</th>\n",
       "      <th>personal</th>\n",
       "      <th>other_debtors</th>\n",
       "      <th>...</th>\n",
       "      <th>property</th>\n",
       "      <th>age</th>\n",
       "      <th>other_installment_plans</th>\n",
       "      <th>housing</th>\n",
       "      <th>existing_credits</th>\n",
       "      <th>job</th>\n",
       "      <th>people_under_maintenance</th>\n",
       "      <th>telephone</th>\n",
       "      <th>foreign_worker</th>\n",
       "      <th>default</th>\n",
       "    </tr>\n",
       "  </thead>\n",
       "  <tbody>\n",
       "    <tr>\n",
       "      <th>0</th>\n",
       "      <td>A11</td>\n",
       "      <td>6</td>\n",
       "      <td>A34</td>\n",
       "      <td>A43</td>\n",
       "      <td>1169</td>\n",
       "      <td>A65</td>\n",
       "      <td>A75</td>\n",
       "      <td>4</td>\n",
       "      <td>A93</td>\n",
       "      <td>A101</td>\n",
       "      <td>...</td>\n",
       "      <td>A121</td>\n",
       "      <td>67</td>\n",
       "      <td>A143</td>\n",
       "      <td>A152</td>\n",
       "      <td>2</td>\n",
       "      <td>A173</td>\n",
       "      <td>1</td>\n",
       "      <td>1</td>\n",
       "      <td>1</td>\n",
       "      <td>0</td>\n",
       "    </tr>\n",
       "    <tr>\n",
       "      <th>1</th>\n",
       "      <td>A12</td>\n",
       "      <td>48</td>\n",
       "      <td>A32</td>\n",
       "      <td>A43</td>\n",
       "      <td>5951</td>\n",
       "      <td>A61</td>\n",
       "      <td>A73</td>\n",
       "      <td>2</td>\n",
       "      <td>A92</td>\n",
       "      <td>A101</td>\n",
       "      <td>...</td>\n",
       "      <td>A121</td>\n",
       "      <td>22</td>\n",
       "      <td>A143</td>\n",
       "      <td>A152</td>\n",
       "      <td>1</td>\n",
       "      <td>A173</td>\n",
       "      <td>1</td>\n",
       "      <td>0</td>\n",
       "      <td>1</td>\n",
       "      <td>1</td>\n",
       "    </tr>\n",
       "    <tr>\n",
       "      <th>2</th>\n",
       "      <td>A14</td>\n",
       "      <td>12</td>\n",
       "      <td>A34</td>\n",
       "      <td>A46</td>\n",
       "      <td>2096</td>\n",
       "      <td>A61</td>\n",
       "      <td>A74</td>\n",
       "      <td>2</td>\n",
       "      <td>A93</td>\n",
       "      <td>A101</td>\n",
       "      <td>...</td>\n",
       "      <td>A121</td>\n",
       "      <td>49</td>\n",
       "      <td>A143</td>\n",
       "      <td>A152</td>\n",
       "      <td>1</td>\n",
       "      <td>A172</td>\n",
       "      <td>2</td>\n",
       "      <td>0</td>\n",
       "      <td>1</td>\n",
       "      <td>0</td>\n",
       "    </tr>\n",
       "    <tr>\n",
       "      <th>3</th>\n",
       "      <td>A11</td>\n",
       "      <td>42</td>\n",
       "      <td>A32</td>\n",
       "      <td>A42</td>\n",
       "      <td>7882</td>\n",
       "      <td>A61</td>\n",
       "      <td>A74</td>\n",
       "      <td>2</td>\n",
       "      <td>A93</td>\n",
       "      <td>A103</td>\n",
       "      <td>...</td>\n",
       "      <td>A122</td>\n",
       "      <td>45</td>\n",
       "      <td>A143</td>\n",
       "      <td>A153</td>\n",
       "      <td>1</td>\n",
       "      <td>A173</td>\n",
       "      <td>2</td>\n",
       "      <td>0</td>\n",
       "      <td>1</td>\n",
       "      <td>0</td>\n",
       "    </tr>\n",
       "    <tr>\n",
       "      <th>4</th>\n",
       "      <td>A11</td>\n",
       "      <td>24</td>\n",
       "      <td>A33</td>\n",
       "      <td>A40</td>\n",
       "      <td>4870</td>\n",
       "      <td>A61</td>\n",
       "      <td>A73</td>\n",
       "      <td>3</td>\n",
       "      <td>A93</td>\n",
       "      <td>A101</td>\n",
       "      <td>...</td>\n",
       "      <td>A124</td>\n",
       "      <td>53</td>\n",
       "      <td>A143</td>\n",
       "      <td>A153</td>\n",
       "      <td>2</td>\n",
       "      <td>A173</td>\n",
       "      <td>2</td>\n",
       "      <td>0</td>\n",
       "      <td>1</td>\n",
       "      <td>1</td>\n",
       "    </tr>\n",
       "  </tbody>\n",
       "</table>\n",
       "<p>5 rows × 21 columns</p>\n",
       "</div>"
      ],
      "text/plain": [
       "  status  duration history purpose  amount savings employment  \\\n",
       "0    A11         6     A34     A43    1169     A65        A75   \n",
       "1    A12        48     A32     A43    5951     A61        A73   \n",
       "2    A14        12     A34     A46    2096     A61        A74   \n",
       "3    A11        42     A32     A42    7882     A61        A74   \n",
       "4    A11        24     A33     A40    4870     A61        A73   \n",
       "\n",
       "   installment_rate personal other_debtors  ...  property age  \\\n",
       "0                 4      A93          A101  ...      A121  67   \n",
       "1                 2      A92          A101  ...      A121  22   \n",
       "2                 2      A93          A101  ...      A121  49   \n",
       "3                 2      A93          A103  ...      A122  45   \n",
       "4                 3      A93          A101  ...      A124  53   \n",
       "\n",
       "   other_installment_plans housing existing_credits   job  \\\n",
       "0                     A143    A152                2  A173   \n",
       "1                     A143    A152                1  A173   \n",
       "2                     A143    A152                1  A172   \n",
       "3                     A143    A153                1  A173   \n",
       "4                     A143    A153                2  A173   \n",
       "\n",
       "  people_under_maintenance  telephone  foreign_worker  default  \n",
       "0                        1          1               1        0  \n",
       "1                        1          0               1        1  \n",
       "2                        2          0               1        0  \n",
       "3                        2          0               1        0  \n",
       "4                        2          0               1        1  \n",
       "\n",
       "[5 rows x 21 columns]"
      ]
     },
     "execution_count": 4,
     "metadata": {},
     "output_type": "execute_result"
    }
   ],
   "source": [
    "data = pd.read_csv('Data/german_credit.csv')\n",
    "data.head()"
   ]
  },
  {
   "cell_type": "markdown",
   "metadata": {},
   "source": [
    "There are 13 categorical predictors (two of them binary and already coded numerically) and 7 numerical predictors in the dataset. Refer to the [documentation](https://archive.ics.uci.edu/ml/datasets/Statlog+%28German+Credit+Data%29) for the explanation of the variables and the meaning of the levels for the categorical variables. "
   ]
  },
  {
   "cell_type": "code",
   "execution_count": 5,
   "metadata": {},
   "outputs": [
    {
     "data": {
      "text/plain": [
       "categorical    11\n",
       "discrete        4\n",
       "continuous      3\n",
       "binary          2\n",
       "response        1\n",
       "Name: type, dtype: int64"
      ]
     },
     "execution_count": 5,
     "metadata": {},
     "output_type": "execute_result"
    }
   ],
   "source": [
    "variables = pd.read_csv('Data/german_credit_variables.csv', index_col='variable')\n",
    "variables = variables['type']\n",
    "\n",
    "continuous = variables[variables == 'continuous'].index.tolist()\n",
    "discrete = variables[variables == 'discrete'].index.tolist()\n",
    "categorical = variables[variables == 'categorical'].index.tolist()\n",
    "binary = variables[variables == 'binary'].index.tolist()\n",
    "response = variables[variables == 'response'].index.tolist()\n",
    "   \n",
    "variables.value_counts()"
   ]
  },
  {
   "cell_type": "markdown",
   "metadata": {},
   "source": [
    "As usual, we first split the data. For now we only need to create an unprocessed version of the training data. "
   ]
  },
  {
   "cell_type": "code",
   "execution_count": 6,
   "metadata": {},
   "outputs": [],
   "source": [
    "index_train, index_test  = train_test_split(np.array(data.index), stratify=data[response], \n",
    "                                            train_size=0.7, random_state=5)\n",
    "train = data.loc[index_train,:].copy()"
   ]
  },
  {
   "cell_type": "markdown",
   "metadata": {},
   "source": [
    "## 2. Business understanding\n",
    "\n",
    "The data documentation specifies the following loss matrix: \n",
    "\n",
    "<table>\n",
    "  <tr>\n",
    "    <th>Actual/ Predicted</th>\n",
    "    <th>Repayment</th>\n",
    "     <th>Default</th>\n",
    "  </tr>\n",
    "  <tr>\n",
    "    <th>Repayment</th>\n",
    "    <td>0</td>\n",
    "    <td>1</td>\n",
    "  </tr>\n",
    "  <tr>\n",
    "    <th>Default</th>\n",
    "    <td>5</td>\n",
    "    <td>0</td>\n",
    "  </tr>\n",
    "</table>\n",
    "\n",
    "That is, if we predict a default but the client is a good credit, the loss is 1.  If we predict that the client will repay the loan but there is a default, the loss is 5. The loss for a correct classification is 0. In general terminology, we say that the loss from a false positive is 1, the loss from a false negative is 5, and the loss from both true positives and true negatives is zero. \n",
    "\n",
    "Using the formula from the lecture, the decision threshold is: "
   ]
  },
  {
   "cell_type": "code",
   "execution_count": 7,
   "metadata": {},
   "outputs": [
    {
     "name": "stdout",
     "output_type": "stream",
     "text": [
      "Decision threshold: tau=0.167\n"
     ]
    }
   ],
   "source": [
    "tau = 1/(1+5)\n",
    "print(f'Decision threshold: tau={round(tau,3)}')"
   ]
  },
  {
   "cell_type": "markdown",
   "metadata": {},
   "source": [
    "If the probability of default is lower than 0.167, then we should classify the client as creditworthy. If the probability of default is higher than 0.167, then we should classify the loan as high risk. "
   ]
  },
  {
   "cell_type": "markdown",
   "metadata": {},
   "source": [
    "## 3. Exploratory Data Analysis\n",
    "\n",
    "\n",
    "### 3.1 Descriptive statistics\n",
    "\n",
    "The descriptive statistics allows us to verify that there are no missing values or apparent errors in the numerical variables."
   ]
  },
  {
   "cell_type": "code",
   "execution_count": 8,
   "metadata": {
    "scrolled": true
   },
   "outputs": [
    {
     "data": {
      "text/html": [
       "<div>\n",
       "<style scoped>\n",
       "    .dataframe tbody tr th:only-of-type {\n",
       "        vertical-align: middle;\n",
       "    }\n",
       "\n",
       "    .dataframe tbody tr th {\n",
       "        vertical-align: top;\n",
       "    }\n",
       "\n",
       "    .dataframe thead th {\n",
       "        text-align: right;\n",
       "    }\n",
       "</style>\n",
       "<table border=\"1\" class=\"dataframe\">\n",
       "  <thead>\n",
       "    <tr style=\"text-align: right;\">\n",
       "      <th></th>\n",
       "      <th>duration</th>\n",
       "      <th>amount</th>\n",
       "      <th>installment_rate</th>\n",
       "      <th>residence</th>\n",
       "      <th>age</th>\n",
       "      <th>existing_credits</th>\n",
       "      <th>people_under_maintenance</th>\n",
       "      <th>telephone</th>\n",
       "      <th>foreign_worker</th>\n",
       "      <th>default</th>\n",
       "    </tr>\n",
       "  </thead>\n",
       "  <tbody>\n",
       "    <tr>\n",
       "      <th>count</th>\n",
       "      <td>700.00</td>\n",
       "      <td>700.00</td>\n",
       "      <td>700.00</td>\n",
       "      <td>700.00</td>\n",
       "      <td>700.00</td>\n",
       "      <td>700.00</td>\n",
       "      <td>700.00</td>\n",
       "      <td>700.00</td>\n",
       "      <td>700.00</td>\n",
       "      <td>700.00</td>\n",
       "    </tr>\n",
       "    <tr>\n",
       "      <th>mean</th>\n",
       "      <td>21.12</td>\n",
       "      <td>3346.50</td>\n",
       "      <td>2.97</td>\n",
       "      <td>2.84</td>\n",
       "      <td>35.67</td>\n",
       "      <td>1.43</td>\n",
       "      <td>1.16</td>\n",
       "      <td>0.41</td>\n",
       "      <td>0.97</td>\n",
       "      <td>0.30</td>\n",
       "    </tr>\n",
       "    <tr>\n",
       "      <th>std</th>\n",
       "      <td>12.26</td>\n",
       "      <td>2870.26</td>\n",
       "      <td>1.13</td>\n",
       "      <td>1.11</td>\n",
       "      <td>11.60</td>\n",
       "      <td>0.59</td>\n",
       "      <td>0.37</td>\n",
       "      <td>0.49</td>\n",
       "      <td>0.18</td>\n",
       "      <td>0.46</td>\n",
       "    </tr>\n",
       "    <tr>\n",
       "      <th>min</th>\n",
       "      <td>4.00</td>\n",
       "      <td>250.00</td>\n",
       "      <td>1.00</td>\n",
       "      <td>1.00</td>\n",
       "      <td>20.00</td>\n",
       "      <td>1.00</td>\n",
       "      <td>1.00</td>\n",
       "      <td>0.00</td>\n",
       "      <td>0.00</td>\n",
       "      <td>0.00</td>\n",
       "    </tr>\n",
       "    <tr>\n",
       "      <th>25%</th>\n",
       "      <td>12.00</td>\n",
       "      <td>1364.00</td>\n",
       "      <td>2.00</td>\n",
       "      <td>2.00</td>\n",
       "      <td>27.00</td>\n",
       "      <td>1.00</td>\n",
       "      <td>1.00</td>\n",
       "      <td>0.00</td>\n",
       "      <td>1.00</td>\n",
       "      <td>0.00</td>\n",
       "    </tr>\n",
       "    <tr>\n",
       "      <th>50%</th>\n",
       "      <td>18.00</td>\n",
       "      <td>2339.50</td>\n",
       "      <td>3.00</td>\n",
       "      <td>3.00</td>\n",
       "      <td>33.00</td>\n",
       "      <td>1.00</td>\n",
       "      <td>1.00</td>\n",
       "      <td>0.00</td>\n",
       "      <td>1.00</td>\n",
       "      <td>0.00</td>\n",
       "    </tr>\n",
       "    <tr>\n",
       "      <th>75%</th>\n",
       "      <td>24.00</td>\n",
       "      <td>4151.50</td>\n",
       "      <td>4.00</td>\n",
       "      <td>4.00</td>\n",
       "      <td>42.00</td>\n",
       "      <td>2.00</td>\n",
       "      <td>1.00</td>\n",
       "      <td>1.00</td>\n",
       "      <td>1.00</td>\n",
       "      <td>1.00</td>\n",
       "    </tr>\n",
       "    <tr>\n",
       "      <th>max</th>\n",
       "      <td>60.00</td>\n",
       "      <td>15945.00</td>\n",
       "      <td>4.00</td>\n",
       "      <td>4.00</td>\n",
       "      <td>75.00</td>\n",
       "      <td>4.00</td>\n",
       "      <td>2.00</td>\n",
       "      <td>1.00</td>\n",
       "      <td>1.00</td>\n",
       "      <td>1.00</td>\n",
       "    </tr>\n",
       "  </tbody>\n",
       "</table>\n",
       "</div>"
      ],
      "text/plain": [
       "       duration    amount  installment_rate  residence     age  \\\n",
       "count    700.00    700.00            700.00     700.00  700.00   \n",
       "mean      21.12   3346.50              2.97       2.84   35.67   \n",
       "std       12.26   2870.26              1.13       1.11   11.60   \n",
       "min        4.00    250.00              1.00       1.00   20.00   \n",
       "25%       12.00   1364.00              2.00       2.00   27.00   \n",
       "50%       18.00   2339.50              3.00       3.00   33.00   \n",
       "75%       24.00   4151.50              4.00       4.00   42.00   \n",
       "max       60.00  15945.00              4.00       4.00   75.00   \n",
       "\n",
       "       existing_credits  people_under_maintenance  telephone  foreign_worker  \\\n",
       "count            700.00                    700.00     700.00          700.00   \n",
       "mean               1.43                      1.16       0.41            0.97   \n",
       "std                0.59                      0.37       0.49            0.18   \n",
       "min                1.00                      1.00       0.00            0.00   \n",
       "25%                1.00                      1.00       0.00            1.00   \n",
       "50%                1.00                      1.00       0.00            1.00   \n",
       "75%                2.00                      1.00       1.00            1.00   \n",
       "max                4.00                      2.00       1.00            1.00   \n",
       "\n",
       "       default  \n",
       "count   700.00  \n",
       "mean      0.30  \n",
       "std       0.46  \n",
       "min       0.00  \n",
       "25%       0.00  \n",
       "50%       0.00  \n",
       "75%       1.00  \n",
       "max       1.00  "
      ]
     },
     "execution_count": 8,
     "metadata": {},
     "output_type": "execute_result"
    }
   ],
   "source": [
    "train.describe().round(2)"
   ]
  },
  {
   "cell_type": "markdown",
   "metadata": {},
   "source": [
    "### 3.2 Response variable\n",
    "\n",
    "Defaults occur in 30% of the loans in the training data. \n"
   ]
  },
  {
   "cell_type": "code",
   "execution_count": 9,
   "metadata": {},
   "outputs": [
    {
     "data": {
      "text/plain": [
       "0    0.7\n",
       "1    0.3\n",
       "Name: default, dtype: float64"
      ]
     },
     "execution_count": 9,
     "metadata": {},
     "output_type": "execute_result"
    }
   ],
   "source": [
    "train['default'].value_counts(normalize=True)"
   ]
  },
  {
   "cell_type": "markdown",
   "metadata": {},
   "source": [
    "### 3.3 Continuous predictors \n",
    "\n",
    "As common in this type of data, some of the continuous variables are skewed. "
   ]
  },
  {
   "cell_type": "code",
   "execution_count": 10,
   "metadata": {},
   "outputs": [
    {
     "data": {
      "image/png": "[encoded data removed]",
      "text/plain": [
       "<Figure size 864x216 with 3 Axes>"
      ]
     },
     "metadata": {
      "needs_background": "light"
     },
     "output_type": "display_data"
    }
   ],
   "source": [
    "from statlearning import plot_dists\n",
    "plot_dists(train[continuous]) \n",
    "plt.show()"
   ]
  },
  {
   "cell_type": "markdown",
   "metadata": {},
   "source": [
    "## 3.4 Bivariate relationships\n",
    "\n",
    "The duration and amount of the loan seem to have a relevant positive association with the default rates."
   ]
  },
  {
   "cell_type": "code",
   "execution_count": 11,
   "metadata": {},
   "outputs": [
    {
     "data": {
      "image/png": "[encoded data removed]",
      "text/plain": [
       "<Figure size 864x198 with 3 Axes>"
      ]
     },
     "metadata": {},
     "output_type": "display_data"
    }
   ],
   "source": [
    "from statlearning import plot_logistic_regressions\n",
    "fig, ax = plot_logistic_regressions(train[continuous], train['default'])\n",
    "plt.show()"
   ]
  },
  {
   "cell_type": "markdown",
   "metadata": {},
   "source": [
    "As we discussed in an earlier tutorial, it's often useful to estimate the strength of association between the response and the predictors. Because the response is binary, we should ideally use a measure of dependence that is more informative for this type of relationship (unlike for example a correlation, which limited to measuring linear dependence). \n",
    "\n",
    "Below, we estimate the [mutual information](https://en.wikipedia.org/wiki/Mutual_information). The details of this method are beyond the scope of this unit, but a mutual information of zero suggests no dependence, and higher values mean stronger dependence. Unfortunately, the estimator can have high variance. "
   ]
  },
  {
   "cell_type": "code",
   "execution_count": 12,
   "metadata": {},
   "outputs": [
    {
     "data": {
      "text/html": [
       "<div>\n",
       "<style scoped>\n",
       "    .dataframe tbody tr th:only-of-type {\n",
       "        vertical-align: middle;\n",
       "    }\n",
       "\n",
       "    .dataframe tbody tr th {\n",
       "        vertical-align: top;\n",
       "    }\n",
       "\n",
       "    .dataframe thead th {\n",
       "        text-align: right;\n",
       "    }\n",
       "</style>\n",
       "<table border=\"1\" class=\"dataframe\">\n",
       "  <thead>\n",
       "    <tr style=\"text-align: right;\">\n",
       "      <th></th>\n",
       "      <th>MI</th>\n",
       "    </tr>\n",
       "  </thead>\n",
       "  <tbody>\n",
       "    <tr>\n",
       "      <th>duration</th>\n",
       "      <td>0.0296</td>\n",
       "    </tr>\n",
       "    <tr>\n",
       "      <th>amount</th>\n",
       "      <td>0.0204</td>\n",
       "    </tr>\n",
       "    <tr>\n",
       "      <th>age</th>\n",
       "      <td>0.0113</td>\n",
       "    </tr>\n",
       "  </tbody>\n",
       "</table>\n",
       "</div>"
      ],
      "text/plain": [
       "              MI\n",
       "duration  0.0296\n",
       "amount    0.0204\n",
       "age       0.0113"
      ]
     },
     "execution_count": 12,
     "metadata": {},
     "output_type": "execute_result"
    }
   ],
   "source": [
    "from sklearn.feature_selection import mutual_info_classif\n",
    "\n",
    "mi = mutual_info_classif(train[continuous], train['default'], random_state=1)\n",
    "pd.DataFrame(mi, index=continuous, columns=['MI']).round(4)"
   ]
  },
  {
   "cell_type": "code",
   "execution_count": 13,
   "metadata": {},
   "outputs": [
    {
     "data": {
      "text/html": [
       "<div>\n",
       "<style scoped>\n",
       "    .dataframe tbody tr th:only-of-type {\n",
       "        vertical-align: middle;\n",
       "    }\n",
       "\n",
       "    .dataframe tbody tr th {\n",
       "        vertical-align: top;\n",
       "    }\n",
       "\n",
       "    .dataframe thead th {\n",
       "        text-align: right;\n",
       "    }\n",
       "</style>\n",
       "<table border=\"1\" class=\"dataframe\">\n",
       "  <thead>\n",
       "    <tr style=\"text-align: right;\">\n",
       "      <th></th>\n",
       "      <th>MI</th>\n",
       "    </tr>\n",
       "  </thead>\n",
       "  <tbody>\n",
       "    <tr>\n",
       "      <th>installment_rate</th>\n",
       "      <td>0.0045</td>\n",
       "    </tr>\n",
       "    <tr>\n",
       "      <th>residence</th>\n",
       "      <td>0.0010</td>\n",
       "    </tr>\n",
       "    <tr>\n",
       "      <th>existing_credits</th>\n",
       "      <td>0.0008</td>\n",
       "    </tr>\n",
       "    <tr>\n",
       "      <th>people_under_maintenance</th>\n",
       "      <td>0.0005</td>\n",
       "    </tr>\n",
       "    <tr>\n",
       "      <th>telephone</th>\n",
       "      <td>0.0004</td>\n",
       "    </tr>\n",
       "    <tr>\n",
       "      <th>foreign_worker</th>\n",
       "      <td>0.0077</td>\n",
       "    </tr>\n",
       "  </tbody>\n",
       "</table>\n",
       "</div>"
      ],
      "text/plain": [
       "                              MI\n",
       "installment_rate          0.0045\n",
       "residence                 0.0010\n",
       "existing_credits          0.0008\n",
       "people_under_maintenance  0.0005\n",
       "telephone                 0.0004\n",
       "foreign_worker            0.0077"
      ]
     },
     "execution_count": 13,
     "metadata": {},
     "output_type": "execute_result"
    }
   ],
   "source": [
    "mi = mutual_info_classif(train[discrete +binary], train['default'], n_neighbors=5, random_state=10, discrete_features=True)\n",
    "pd.DataFrame(mi, index=discrete+binary, columns=['MI']).round(4)"
   ]
  },
  {
   "cell_type": "markdown",
   "metadata": {},
   "source": [
    "The following  plots allow us to visualise the relationship between `default` and the remaining variables. Certain variables, such as the status of existing checking account, saving, credit history, and whether the client is a foreign worker, seem to have an important association with the default rates."
   ]
  },
  {
   "cell_type": "code",
   "execution_count": 14,
   "metadata": {},
   "outputs": [
    {
     "name": "stdout",
     "output_type": "stream",
     "text": [
      "1 0.25\n",
      "2 0.25316455696202533\n",
      "3 0.2777777777777778\n",
      "4 0.344311377245509\n"
     ]
    }
   ],
   "source": [
    "predictor = 'installment_rate'\n",
    "\n",
    "predictor_n_out = train.loc[:, [predictor, 'default']]\n",
    "\n",
    "for p in sorted(predictor_n_out[predictor].unique()):\n",
    "    split = predictor_n_out[predictor_n_out[predictor] == p]\n",
    "    print(p, split['default'].mean())"
   ]
  },
  {
   "cell_type": "code",
   "execution_count": 15,
   "metadata": {},
   "outputs": [
    {
     "data": {
      "image/png": "[encoded data removed]",
      "text/plain": [
       "<Figure size 864x1296 with 17 Axes>"
      ]
     },
     "metadata": {
      "needs_background": "light"
     },
     "output_type": "display_data"
    }
   ],
   "source": [
    "from statlearning import crosstabplots\n",
    "crosstabplots(train[discrete + categorical + binary], train['default'])\n",
    "plt.show()"
   ]
  },
  {
   "cell_type": "markdown",
   "metadata": {},
   "source": [
    "# Aside - ML and Morality\n",
    "\n",
    "Phrenology, a quick-science or pseudo-science, where people used to believed the measurement of bumps on the skull can be used to predict mental intellegence. Phrenology is no-longer studied, and in fact is more used as an insult to someones work.\n",
    "\n",
    "It is for this reason that if you are an acturary and want to predict the life expectency of an individual you can't use traits such as gender and ethnicity.\n",
    "\n",
    "Unfortunately a form of phrenology is comming back in machine learning. \n",
    "\n",
    "### Facial Recognition and Criminals\n",
    "There was a research, about 5 years ago, where the researchers used deep learning to see if they can predict someone has commited a crime based on their face. Interetingly they were able to get pretty good results. When the researchers published the results they got A LOT of push back from social media, and the researchers published a follow up paper to defend their work. They defended their work by saying that we are simply trying to see the limits of machine learning techniques.\n",
    "\n",
    "While they can defend their work by claiming ignorance, the effect of this paper is that there are certain facial features, as detected by the algorithm, that can be used to determine if you will commit a crime or not. Meaning that you don't need to commit a crime, but so long as you possess features that the algorithm determines to be important, then you are just as guilty as a person who did commit the crime.\n",
    "\n",
    "### Lecun\n",
    "About 3 months ago, famous ML researcher Lecun made a comment on twitter:\n",
    "\n",
    "    ML systems are biased when data is biased. This face upsampling system makes everyone look white because the network was pretrained on FlickFaceHQ, which mainly contains white people pics. Train the exact same system on a dataset from Senegal, and everyone will look African. - Lecun\n",
    "    \n",
    "Lecun got a lot of back lash from this comment. Essentially saying that our models aren't bias, it is simply the dataset that is bias. But, really, it is the role of us, the modelers, to ensure that our dataset is sampled fairly. With out any bias. As such, any resulting bias that comes into our model is really our fault. In fact Lecun even says this, why not combine the Senegal and LickFaceHQ dataset. The combination would be a fairer representation of reality, so why not do that?\n",
    "\n",
    "### Why Am I Talking About This\n",
    "Because it is important.\n",
    "\n",
    "But, more to the point, we can actually make our models better if we recognise this. It should be obvious, the features of a person (age, income, education, do they have criminal contacts, etc.) are going to be far better predictors of criminality rather than their face.\n",
    "\n",
    "We even did this in our tutorials. When we predict the credit card balance of an individual, if you look at the result of the regression you see that \n",
    "\n",
    "| Predictor | Regression Coeff |\n",
    "|--------------|--------------|\n",
    "| African American | -8.145 |\n",
    "| Asian | 6.476 |\n",
    "\n",
    "Our model is saying that by virtue of being asian you have +6, and by virtue of being African American you have = -8. But I'd argue that your race (or your gender) has nothing to do with your credit card balance. It is probably other socio-economic factors.\n",
    "\n",
    "Take a look at median ages\n",
    "\n",
    "| Country | Median Age (Years) |\n",
    "|--------------|--------------|\n",
    "| Japan | 48.4 |\n",
    "| America | 37.8 |\n",
    "\n",
    "It seems, then, by virtue of being Japanese you have a longer life expectancy. But, in reality, it probably has more to do with socio-economic factors. For example food deserts\n",
    "\n",
    "    A food desert is an area that has limited access to affordable and nutritious food, in contrast with an area with higher access to supermarkets or vegetable shops with fresh foods, which is called a food oasis.\n",
    "Japan has great access to fresh and nutrious food, but in America\n",
    "    \n",
    "    In 2010, the United States Department of Agriculture reported that 23.5 million people in the U.S. live in \"food deserts\", meaning that they live more than one mile [(1.6 km or 15-20 min walk)] from a supermarket in urban or suburban areas and more than 10 miles [(about 2 hour walk)] from a supermarket in rural areas\n",
    "\n",
    "More to the point, rather than using these generic attributes like race, gender, and facial structure, if you did a bit more studying on the topic you can come up with far better predictors.\n",
    "\n",
    "### Moral\n",
    "The moral of this story is that one can get into trouble really quickly when blindly making models. So if you do go into the real world, be careful."
   ]
  },
  {
   "cell_type": "markdown",
   "metadata": {},
   "source": [
    "## 4. Feature Engineering\n",
    "\n",
    "We create a function that implements the feature engineering process below. Here are the key details: \n",
    "\n",
    "1. Yeo-Johnson transformation for the credit amount and age. The code allows you to verify that these transformations help. \n",
    "\n",
    "2. Dummy encoding for the categorical variables, noting that they all have low cardinality. \n",
    "\n",
    "3. We treat the discrete variables in the same way as categorical variables (since they only have a few possible values).\n",
    "\n",
    "4. We standardise the predictors (not strictly necessary, but it makes the optimisation algorithm more stable). "
   ]
  },
  {
   "cell_type": "code",
   "execution_count": 16,
   "metadata": {
    "code_folding": []
   },
   "outputs": [],
   "source": [
    "from sklearn.preprocessing import PowerTransformer, StandardScaler\n",
    "\n",
    "def feat_engineering(df, variables, dummy=True, transformation=True):\n",
    "    \n",
    "    data = df.copy()\n",
    "    \n",
    "    continuous = variables[variables == 'continuous'].index.tolist()\n",
    "    discrete = variables[variables == 'discrete'].index.tolist()\n",
    "    categorical = variables[variables == 'categorical'].index.tolist()\n",
    "    binary = variables[variables == 'binary'].index.tolist()\n",
    "    response = variables[variables == 'response'].index.tolist()\n",
    "    \n",
    "    # Dummy or one-hot encoding for all discrete and categorical variables\n",
    "    labels = discrete + categorical \n",
    "    for label in labels:\n",
    "        if dummy:\n",
    "            dummies = pd.get_dummies(data[label], prefix=label, drop_first=True)\n",
    "        else:\n",
    "            dummies = pd.get_dummies(data[label], prefix=label)\n",
    "        data = data.join(dummies)\n",
    "        binary += list(dummies.columns)\n",
    "    \n",
    "    # Yeo-Johnson transformation\n",
    "    transf = ['amount', 'age']\n",
    "    if transformation: \n",
    "        yj_transf = PowerTransformer(method='yeo-johnson').fit(data.loc[index_train, transf])\n",
    "        data[transf] = yj_transf.transform(data[transf])\n",
    "    \n",
    "    predictors = continuous + binary\n",
    "    scaler = StandardScaler().fit(data.loc[index_train, predictors])\n",
    "    data[predictors] = scaler.transform(data[predictors])\n",
    "    \n",
    "    X_train = data.loc[index_train, predictors]\n",
    "    X_test = data.loc[index_test, predictors]\n",
    "\n",
    "    y_train = data.loc[index_train, response].to_numpy()\n",
    "    y_test = data.loc[index_test, response].to_numpy()\n",
    "    \n",
    "    return X_train, np.ravel(y_train), X_test, np.ravel(y_test), predictors\n",
    "\n",
    "X_train, y_train, X_test, y_test, predictors = feat_engineering(data, variables)"
   ]
  },
  {
   "cell_type": "markdown",
   "metadata": {},
   "source": [
    "## 5. Logistic Regression\n",
    "\n",
    "We consider the logistic regression algorithm for classification. "
   ]
  },
  {
   "cell_type": "code",
   "execution_count": 17,
   "metadata": {},
   "outputs": [
    {
     "data": {
      "text/plain": [
       "LogisticRegression(C=inf, class_weight=None, dual=False, fit_intercept=True,\n",
       "                   intercept_scaling=1, l1_ratio=None, max_iter=100,\n",
       "                   multi_class='auto', n_jobs=None, penalty='l2',\n",
       "                   random_state=None, solver='lbfgs', tol=0.0001, verbose=0,\n",
       "                   warm_start=False)"
      ]
     },
     "execution_count": 17,
     "metadata": {},
     "output_type": "execute_result"
    }
   ],
   "source": [
    "from sklearn.linear_model import LogisticRegression\n",
    "\n",
    "logit = LogisticRegression(C=np.inf) # the C=np.inf option avoids the default regularisation\n",
    "logit.fit(X_train, y_train)\n",
    "\n",
    "# Can instead use \n",
    "# logit = LogisticRegression(penalty = 'none')"
   ]
  },
  {
   "cell_type": "markdown",
   "metadata": {},
   "source": [
    "The next figure shows the largest estimated coefficients of the trained model. This can help us to interpret the model. "
   ]
  },
  {
   "cell_type": "code",
   "execution_count": 18,
   "metadata": {},
   "outputs": [
    {
     "data": {
      "image/png": "[encoded data removed]",
      "text/plain": [
       "<Figure size 648x432 with 1 Axes>"
      ]
     },
     "metadata": {
      "needs_background": "light"
     },
     "output_type": "display_data"
    }
   ],
   "source": [
    "from statlearning import plot_coefficients\n",
    "plot_coefficients(logit, predictors)\n",
    "plt.show()"
   ]
  },
  {
   "cell_type": "markdown",
   "metadata": {},
   "source": [
    "## 6. Feature selection\n",
    "\n",
    "We have 54 features, which is a moderate number for the size of the training data. Therefore, we consider the forward selection algorithm like last week. The next cell may take a couple of minutes to run. "
   ]
  },
  {
   "cell_type": "code",
   "execution_count": 19,
   "metadata": {},
   "outputs": [
    {
     "name": "stdout",
     "output_type": "stream",
     "text": [
      "Wall time: 1min 1s\n"
     ]
    }
   ],
   "source": [
    "%%time \n",
    "\n",
    "from mlxtend.feature_selection import SequentialFeatureSelector as SFS\n",
    "\n",
    "# You may want to add verbose=2 to track the progress\n",
    "fwd = SFS(LogisticRegression(C=np.inf), k_features='best', forward=True, cv=10, scoring='neg_log_loss')\n",
    "fwd.fit(X_train, y_train)\n",
    "subset = fwd.k_feature_idx_ # we need the numerical indexes for later"
   ]
  },
  {
   "cell_type": "markdown",
   "metadata": {},
   "source": [
    "The algorithm selects 21 out of 54 original features."
   ]
  },
  {
   "cell_type": "code",
   "execution_count": 20,
   "metadata": {},
   "outputs": [
    {
     "data": {
      "text/plain": [
       "21"
      ]
     },
     "execution_count": 20,
     "metadata": {},
     "output_type": "execute_result"
    }
   ],
   "source": [
    "len(subset)"
   ]
  },
  {
   "cell_type": "markdown",
   "metadata": {},
   "source": [
    "Like last week, it's instructive to plot the cross-validation performance as a function of the number of predictors. Note that the package plots minus the cross-validation error, therefore the familiar bowl shape is inverted. "
   ]
  },
  {
   "cell_type": "code",
   "execution_count": 21,
   "metadata": {},
   "outputs": [
    {
     "data": {
      "image/png": "[encoded data removed]",
      "text/plain": [
       "<Figure size 648x432 with 1 Axes>"
      ]
     },
     "metadata": {
      "needs_background": "light"
     },
     "output_type": "display_data"
    }
   ],
   "source": [
    "from mlxtend.plotting import plot_sequential_feature_selection as plot_sfs\n",
    "\n",
    "fig, ax = plot_sfs(fwd.get_metric_dict(), kind='std_dev') \n",
    "ax.set_xticks([1,10,20,30,40,50])\n",
    "sns.despine()\n",
    "plt.show()"
   ]
  },
  {
   "cell_type": "markdown",
   "metadata": {},
   "source": [
    "Based on these results, we choose this version of the logistic regression model with selected features as the final model for this tutorial. In a full project, we should analyse validation set or cross-validation results in more detail as we do below in evaluation. "
   ]
  },
  {
   "cell_type": "code",
   "execution_count": 22,
   "metadata": {},
   "outputs": [
    {
     "data": {
      "text/plain": [
       "Pipeline(memory=None,\n",
       "         steps=[('columnselector',\n",
       "                 ColumnSelector(cols=[0, 2, 7, 11, 15, 16, 17, 21, 22, 24, 25,\n",
       "                                      30, 31, 33, 34, 37, 39, 43, 46, 48, 49],\n",
       "                                drop_axis=False)),\n",
       "                ('logisticregression',\n",
       "                 LogisticRegression(C=inf, class_weight=None, dual=False,\n",
       "                                    fit_intercept=True, intercept_scaling=1,\n",
       "                                    l1_ratio=None, max_iter=100,\n",
       "                                    multi_class='auto', n_jobs=None,\n",
       "                                    penalty='l2', random_state=None,\n",
       "                                    solver='lbfgs', tol=0.0001, verbose=0,\n",
       "                                    warm_start=False))],\n",
       "         verbose=False)"
      ]
     },
     "execution_count": 22,
     "metadata": {},
     "output_type": "execute_result"
    }
   ],
   "source": [
    "from sklearn.pipeline import make_pipeline\n",
    "from mlxtend.feature_selection import ColumnSelector\n",
    "\n",
    "logit_ss = make_pipeline(ColumnSelector(cols=subset), LogisticRegression(C=np.inf))\n",
    "logit_ss.fit(X_train, y_train)"
   ]
  },
  {
   "cell_type": "markdown",
   "metadata": {},
   "source": [
    "## 7. Evaluation\n",
    "\n",
    "As usual, our main objective in evaluation is to estimate the risk of the final classifier. This should be a direct measure of the business value of the learned model. \n",
    "\n",
    "Here's the interpretation of the other metrics: \n",
    "\n",
    "**Sensitivity:** the model correctly predicted 85.6% of defaults in the test set.\n",
    "\n",
    "**Specificity:** the model correctly predicted 46.7% of repayments in the test set.\n",
    "\n",
    "**Precision:** out of the loans that we were classified as high risk on the test set, 40.7% were actual defaults. \n",
    "\n",
    "**AUC:** the AUC is a measure (between 0 and 1, with 0.5 corresponding to an uninformative classifier) of how well the model can balance sensitivity and specificity. The better the model predicts the condititional probability of default, the higher the AUC is.\n",
    "\n",
    "**NLL** (negative log-likelihood): we'll discuss this in Lecture 8, but lower values are better.  "
   ]
  },
  {
   "cell_type": "code",
   "execution_count": 23,
   "metadata": {},
   "outputs": [
    {
     "data": {
      "text/plain": [
       "array([0, 0, 0, 0, 0, 0, 0, 0, 0, 0, 0, 0, 0, 0, 0, 0, 0, 1, 0, 1],\n",
       "      dtype=int64)"
      ]
     },
     "execution_count": 23,
     "metadata": {},
     "output_type": "execute_result"
    }
   ],
   "source": [
    "logit_ss.predict(X_train)[:20]"
   ]
  },
  {
   "cell_type": "code",
   "execution_count": 24,
   "metadata": {},
   "outputs": [
    {
     "data": {
      "text/plain": [
       "array([[0.89304618, 0.10695382],\n",
       "       [0.70047736, 0.29952264],\n",
       "       [0.6151596 , 0.3848404 ],\n",
       "       ...,\n",
       "       [0.52825885, 0.47174115],\n",
       "       [0.65961473, 0.34038527],\n",
       "       [0.87496815, 0.12503185]])"
      ]
     },
     "execution_count": 24,
     "metadata": {},
     "output_type": "execute_result"
    }
   ],
   "source": [
    "# First column is the probability that the label is 0\n",
    "# Second column is the probability that the label is 1\n",
    "logit_ss.predict_proba(X_train)"
   ]
  },
  {
   "cell_type": "code",
   "execution_count": 25,
   "metadata": {},
   "outputs": [
    {
     "name": "stdout",
     "output_type": "stream",
     "text": [
      "0.16666666666666666\n"
     ]
    }
   ],
   "source": [
    "print(tau)"
   ]
  },
  {
   "cell_type": "code",
   "execution_count": 26,
   "metadata": {
    "scrolled": true
   },
   "outputs": [
    {
     "data": {
      "text/plain": [
       "array([False,  True,  True,  True,  True])"
      ]
     },
     "execution_count": 26,
     "metadata": {},
     "output_type": "execute_result"
    }
   ],
   "source": [
    "(logit_ss.predict_proba(X_train)[:, 1] > tau)[:5]"
   ]
  },
  {
   "cell_type": "code",
   "execution_count": 27,
   "metadata": {},
   "outputs": [
    {
     "data": {
      "text/html": [
       "<div>\n",
       "<style scoped>\n",
       "    .dataframe tbody tr th:only-of-type {\n",
       "        vertical-align: middle;\n",
       "    }\n",
       "\n",
       "    .dataframe tbody tr th {\n",
       "        vertical-align: top;\n",
       "    }\n",
       "\n",
       "    .dataframe thead th {\n",
       "        text-align: right;\n",
       "    }\n",
       "</style>\n",
       "<table border=\"1\" class=\"dataframe\">\n",
       "  <thead>\n",
       "    <tr style=\"text-align: right;\">\n",
       "      <th></th>\n",
       "      <th>Estimated risk</th>\n",
       "      <th>SE</th>\n",
       "      <th>Sensitivity</th>\n",
       "      <th>Specificity</th>\n",
       "      <th>Precision</th>\n",
       "      <th>AUC</th>\n",
       "      <th>NLL</th>\n",
       "    </tr>\n",
       "  </thead>\n",
       "  <tbody>\n",
       "    <tr>\n",
       "      <th>Logistic Regression</th>\n",
       "      <td>0.67</td>\n",
       "      <td>0.072</td>\n",
       "      <td>0.778</td>\n",
       "      <td>0.519</td>\n",
       "      <td>0.409</td>\n",
       "      <td>0.737</td>\n",
       "      <td>0.555</td>\n",
       "    </tr>\n",
       "    <tr>\n",
       "      <th>Logistic Regression (feature selection)</th>\n",
       "      <td>0.59</td>\n",
       "      <td>0.061</td>\n",
       "      <td>0.856</td>\n",
       "      <td>0.467</td>\n",
       "      <td>0.407</td>\n",
       "      <td>0.761</td>\n",
       "      <td>0.521</td>\n",
       "    </tr>\n",
       "  </tbody>\n",
       "</table>\n",
       "</div>"
      ],
      "text/plain": [
       "                                         Estimated risk     SE  Sensitivity  \\\n",
       "Logistic Regression                                0.67  0.072        0.778   \n",
       "Logistic Regression (feature selection)            0.59  0.061        0.856   \n",
       "\n",
       "                                         Specificity  Precision    AUC    NLL  \n",
       "Logistic Regression                            0.519      0.409  0.737  0.555  \n",
       "Logistic Regression (feature selection)        0.467      0.407  0.761  0.521  "
      ]
     },
     "execution_count": 27,
     "metadata": {},
     "output_type": "execute_result"
    }
   ],
   "source": [
    "columns=['Estimated risk', 'SE', 'Sensitivity', 'Specificity', 'Precision', 'AUC', 'NLL']\n",
    "rows=['Logistic Regression', 'Logistic Regression (feature selection)']\n",
    "results=pd.DataFrame(0.0, columns=columns, index=rows) \n",
    "\n",
    "methods=[logit, logit_ss]\n",
    "\n",
    "y_test = np.ravel(y_test)\n",
    "y_prob = np.zeros((len(y_test), len(rows)))\n",
    "\n",
    "for i, method in enumerate(methods):    \n",
    "    \n",
    "    y_prob[:,i] = method.predict_proba(X_test)[:,1]\n",
    "    y_pred = (y_prob[:,i] > tau).astype(int)\n",
    "\n",
    "    loss =  5*((y_pred!=y_test) & (y_pred==0)) + 1*((y_pred!=y_test) & (y_pred==1))\n",
    "\n",
    "    tn, fp, fn, tp = confusion_matrix(y_test, y_pred).ravel() \n",
    "\n",
    "    results.iloc[i,0] =  np.mean(loss) # or (fp*1+fn*5)/len(y_test)\n",
    "    results.iloc[i,1] =  np.std(loss)/np.sqrt(len(y_test))\n",
    "    results.iloc[i,2] =  tp/(tp+fn)\n",
    "    results.iloc[i,3] =  tn/(tn+fp)\n",
    "    results.iloc[i,4] =  precision_score(y_test, y_pred)\n",
    "    results.iloc[i,5] =  roc_auc_score(y_test, y_prob[:,i])\n",
    "    results.iloc[i,6] =  log_loss(y_test, y_prob[:,i])\n",
    "\n",
    "results.round(3)"
   ]
  },
  {
   "cell_type": "markdown",
   "metadata": {},
   "source": [
    "\n",
    "|            | $Y_{pred} = 0$ | $Y_{pred} = 1$ |\n",
    "|------------|--------------|--------------|\n",
    "|$Y_{true} = 0$|        True Negatives     |     False Positives      | \n",
    "|$Y_{true} = 1$|  False Negatives         |      True Positives       |\n",
    "\n",
    "$$\\textrm{Sensitivity} = \\frac{\\textrm{True Positives}}{\\textrm{Actual Positives}} = \\frac{\\textrm{TP}}{\\textrm{TP + FN}}$$\n",
    "\n",
    "$$\\textrm{Specificty} = \\frac{\\textrm{True Negatives}}{\\textrm{Actual Negatives}} = \\frac{\\textrm{TN}}{\\textrm{TN + FP}}$$\n",
    "\n",
    "- Sensitivity: Of the data points with label 1, how many did you get CORRECT\n",
    "- Specificty:  Of the data points with label 0, how many did you get CORRECT"
   ]
  },
  {
   "cell_type": "code",
   "execution_count": 28,
   "metadata": {},
   "outputs": [
    {
     "data": {
      "image/png": "[encoded data removed]",
      "text/plain": [
       "<Figure size 648x432 with 1 Axes>"
      ]
     },
     "metadata": {
      "needs_background": "light"
     },
     "output_type": "display_data"
    }
   ],
   "source": [
    "from statlearning import plot_roc_curves\n",
    "\n",
    "fig, ax = plot_roc_curves(y_test, y_prob, labels=pd.Series(rows))\n",
    "plt.show()"
   ]
  },
  {
   "cell_type": "code",
   "execution_count": 29,
   "metadata": {},
   "outputs": [],
   "source": [
    "from sklearn.metrics import roc_curve"
   ]
  },
  {
   "cell_type": "code",
   "execution_count": 30,
   "metadata": {},
   "outputs": [
    {
     "data": {
      "image/png": "[encoded data removed]",
      "text/plain": [
       "<Figure size 648x432 with 1 Axes>"
      ]
     },
     "metadata": {
      "needs_background": "light"
     },
     "output_type": "display_data"
    }
   ],
   "source": [
    "fpr, tpr, thresholds = roc_curve(y_test, y_prob[:,0])\n",
    "plt.plot(1-fpr, tpr, label = 'Logistic Regression')\n",
    "plt.plot(1-fpr, thresholds, label = 'Thresholds')\n",
    "plt.plot([0.519, 0.519], [0.778, tau], 'o--')\n",
    "plt.legend();\n",
    "plt.ylim(0, 1.05);\n",
    "plt.ylabel('Sensitivity')\n",
    "plt.xlabel('Specificity');"
   ]
  },
  {
   "cell_type": "code",
   "execution_count": 31,
   "metadata": {},
   "outputs": [
    {
     "data": {
      "image/png": "[encoded data removed]",
      "text/plain": [
       "<Figure size 648x432 with 1 Axes>"
      ]
     },
     "metadata": {
      "needs_background": "light"
     },
     "output_type": "display_data"
    }
   ],
   "source": [
    "fpr, tpr, thresholds = roc_curve(y_test, y_prob[:,1])\n",
    "plt.plot(1-fpr, tpr, label = 'Logistic Regression (Feature Selection)')\n",
    "plt.plot(1-fpr, thresholds, label = 'Thresholds')\n",
    "plt.plot([0.467, 0.467], [0.856, tau], 'o--')\n",
    "plt.legend();\n",
    "plt.ylim(0, 1.05);\n",
    "plt.ylabel('Sensitivity')\n",
    "plt.xlabel('Specificity');"
   ]
  },
  {
   "cell_type": "code",
   "execution_count": null,
   "metadata": {},
   "outputs": [],
   "source": []
  },
  {
   "cell_type": "markdown",
   "metadata": {},
   "source": [
    "### Formatting\n",
    "\n",
    "These two cells below format the notebook for display online. Please omit them from your work."
   ]
  },
  {
   "cell_type": "code",
   "execution_count": 32,
   "metadata": {},
   "outputs": [
    {
     "data": {
      "text/html": [
       "<style>\n",
       "@import url('https://fonts.googleapis.com/css?family=Source+Sans+Pro|Open+Sans:800&display=swap');\n",
       "</style>\n"
      ],
      "text/plain": [
       "<IPython.core.display.HTML object>"
      ]
     },
     "metadata": {},
     "output_type": "display_data"
    }
   ],
   "source": [
    "%%html\n",
    "<style>\n",
    "@import url('https://fonts.googleapis.com/css?family=Source+Sans+Pro|Open+Sans:800&display=swap');\n",
    "</style>"
   ]
  },
  {
   "cell_type": "code",
   "execution_count": 33,
   "metadata": {},
   "outputs": [
    {
     "ename": "FileNotFoundError",
     "evalue": "[Errno 2] No such file or directory: 'css\\\\jupyter.css'",
     "output_type": "error",
     "traceback": [
      "\u001b[1;31m---------------------------------------------------------------------------\u001b[0m",
      "\u001b[1;31mFileNotFoundError\u001b[0m                         Traceback (most recent call last)",
      "\u001b[1;32m<ipython-input-33-88e8ad26c3cf>\u001b[0m in \u001b[0;36m<module>\u001b[1;34m\u001b[0m\n\u001b[0;32m      1\u001b[0m \u001b[1;32mfrom\u001b[0m \u001b[0mIPython\u001b[0m\u001b[1;33m.\u001b[0m\u001b[0mcore\u001b[0m\u001b[1;33m.\u001b[0m\u001b[0mdisplay\u001b[0m \u001b[1;32mimport\u001b[0m \u001b[0mHTML\u001b[0m\u001b[1;33m\u001b[0m\u001b[1;33m\u001b[0m\u001b[0m\n\u001b[1;32m----> 2\u001b[1;33m \u001b[0mstyle\u001b[0m \u001b[1;33m=\u001b[0m \u001b[0mopen\u001b[0m\u001b[1;33m(\u001b[0m\u001b[1;34m'css\\jupyter.css'\u001b[0m\u001b[1;33m,\u001b[0m \u001b[1;34m\"r\"\u001b[0m\u001b[1;33m)\u001b[0m\u001b[1;33m.\u001b[0m\u001b[0mread\u001b[0m\u001b[1;33m(\u001b[0m\u001b[1;33m)\u001b[0m\u001b[1;33m\u001b[0m\u001b[1;33m\u001b[0m\u001b[0m\n\u001b[0m\u001b[0;32m      3\u001b[0m \u001b[0mHTML\u001b[0m\u001b[1;33m(\u001b[0m\u001b[1;34m'<style>'\u001b[0m\u001b[1;33m+\u001b[0m \u001b[0mstyle\u001b[0m \u001b[1;33m+\u001b[0m\u001b[1;34m'</style>'\u001b[0m\u001b[1;33m)\u001b[0m\u001b[1;33m\u001b[0m\u001b[1;33m\u001b[0m\u001b[0m\n",
      "\u001b[1;31mFileNotFoundError\u001b[0m: [Errno 2] No such file or directory: 'css\\\\jupyter.css'"
     ]
    }
   ],
   "source": [
    "from IPython.core.display import HTML\n",
    "style = open('css\\jupyter.css', \"r\").read()\n",
    "HTML('<style>'+ style +'</style>')"
   ]
  },
  {
   "cell_type": "markdown",
   "metadata": {},
   "source": [
    "Hi Chok, in feature selection,the algorithm selects 21 out of 54 original features, but I think is still too many features ,so is this the situation we can  apply PCA?\n"
   ]
  },
  {
   "cell_type": "code",
   "execution_count": null,
   "metadata": {},
   "outputs": [],
   "source": [
    "len(X_train)"
   ]
  },
  {
   "cell_type": "code",
   "execution_count": null,
   "metadata": {},
   "outputs": [],
   "source": [
    "0.9*700"
   ]
  },
  {
   "cell_type": "code",
   "execution_count": null,
   "metadata": {},
   "outputs": [],
   "source": []
  }
 ],
 "metadata": {
  "kernelspec": {
   "display_name": "Python 3",
   "language": "python",
   "name": "python3"
  },
  "language_info": {
   "codemirror_mode": {
    "name": "ipython",
    "version": 3
   },
   "file_extension": ".py",
   "mimetype": "text/x-python",
   "name": "python",
   "nbconvert_exporter": "python",
   "pygments_lexer": "ipython3",
   "version": "3.7.6"
  }
 },
 "nbformat": 4,
 "nbformat_minor": 2
}
